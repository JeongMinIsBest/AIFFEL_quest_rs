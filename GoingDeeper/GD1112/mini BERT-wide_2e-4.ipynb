{
 "cells": [
  {
   "cell_type": "markdown",
   "id": "5610a48b-e92e-4da6-a364-87f2505dc60d",
   "metadata": {},
   "source": [
    "# 프로젝트 : mini BERT 만들기\n",
    "\n",
    "[하이퍼파라미터 조정 전략]\n",
    "현재 모델은 과소적합(Underfitting) 상태, 즉 아직 데이터로부터 충분한 패턴을 배우지 못한 상태에 가깝습니다. 이를 해결하기 위한 주요 조정 방향은 다음과 같습니다.\n",
    "\n",
    "1. 학습률(Learning Rate) 높이기 (가장 중요):\n",
    "- 문제: 현재 설정된 1e-4의 학습률은 모델이 너무 조심스럽게 학습하게 만들어, 10 Epoch라는 짧은 기간 동안 최적점에 도달하기 어려웠을 수 있습니다.\n",
    "- 해결책: 학습률을 약간 높여 모델이 더 과감하게 가중치를 업데이트하도록 합니다. 일반적으로 BERT와 같은 모델의 사전 학습에는 1e-4에서 5e-4 사이의 값이 자주 사용됩니다. 3e-4 정도로 상향 조정하여 실험해 보겠습니다.\n",
    "\n",
    "2. 학습 기간(Epochs) 늘리기:\n",
    "- 문제: BERT 사전 학습은 매우 많은 계산을 요구하며, 10 Epoch는 언어의 복잡성을 배우기에 절대적으로 부족한 시간입니다.\n",
    "- 해결책: 학습 기간을 최소 30 Epoch 이상으로 대폭 늘려 모델이 데이터 패턴을 충분히 학습할 시간을 줍니다. Loss가 수렴하는 추세를 보며 더 늘릴 수도 있습니다.\n",
    "\n",
    "3. 모델 구조(Architecture) 최적화:\n",
    "- 문제: 파라미터 수가 비슷한 모델이라도 구조(깊이 vs 너비)에 따라 성능이 달라질 수 있습니다.\n",
    "- 해결책: 이전 비교에서 성능이 가장 좋았던 '얕고 넓은 모델(Shallow & Wide)' 구조 (d_model=112, n_layer=2)를 채택하여 학습 효율을 높입니다."
   ]
  },
  {
   "cell_type": "code",
   "execution_count": 2,
   "id": "f662fc8e-c0cd-4474-a2f8-1b22553bf712",
   "metadata": {},
   "outputs": [
    {
     "name": "stdout",
     "output_type": "stream",
     "text": [
      "Collecting sentencepiece\n",
      "  Downloading sentencepiece-0.2.1-cp312-cp312-manylinux_2_27_x86_64.manylinux_2_28_x86_64.whl.metadata (10 kB)\n",
      "Downloading sentencepiece-0.2.1-cp312-cp312-manylinux_2_27_x86_64.manylinux_2_28_x86_64.whl (1.4 MB)\n",
      "\u001b[2K   \u001b[90m━━━━━━━━━━━━━━━━━━━━━━━━━━━━━━━━━━━━━━━━\u001b[0m \u001b[32m1.4/1.4 MB\u001b[0m \u001b[31m16.2 MB/s\u001b[0m eta \u001b[36m0:00:00\u001b[0m\n",
      "\u001b[?25hInstalling collected packages: sentencepiece\n",
      "Successfully installed sentencepiece-0.2.1\n"
     ]
    }
   ],
   "source": [
    "!pip install sentencepiece"
   ]
  },
  {
   "cell_type": "code",
   "execution_count": 3,
   "id": "3c15f321-8027-40ea-be78-66b49154dc33",
   "metadata": {},
   "outputs": [
    {
     "name": "stdout",
     "output_type": "stream",
     "text": [
      "Using device: cuda\n"
     ]
    }
   ],
   "source": [
    "from __future__ import absolute_import, division, print_function, unicode_literals\n",
    "\n",
    "import torch\n",
    "import torch.nn as nn\n",
    "import torch.nn.functional as F\n",
    "import torch.optim as optim\n",
    "from torch.utils.data import DataLoader, TensorDataset\n",
    "\n",
    "import os\n",
    "import re\n",
    "import math\n",
    "import numpy as np\n",
    "import pandas as pd\n",
    "import random\n",
    "import collections\n",
    "import json\n",
    "import shutil\n",
    "import zipfile\n",
    "import copy\n",
    "from datetime import datetime\n",
    "\n",
    "import matplotlib.pyplot as plt\n",
    "import seaborn as sns\n",
    "import matplotlib.font_manager as fm\n",
    "import sentencepiece as spm\n",
    "from tqdm.notebook import tqdm\n",
    "\n",
    "device = torch.device(\"cuda\" if torch.cuda.is_available() else \"cpu\")\n",
    "print(f\"Using device: {device}\")"
   ]
  },
  {
   "cell_type": "code",
   "execution_count": 4,
   "id": "a596f8e2-ba17-4fff-b0bb-c09d88b1bf3c",
   "metadata": {},
   "outputs": [
    {
     "name": "stdout",
     "output_type": "stream",
     "text": [
      "Torch 버전: 2.7.1+cu118\n"
     ]
    }
   ],
   "source": [
    "# 재현성을 위한 Random seed 설정\n",
    "random_seed = 1234\n",
    "random.seed(random_seed)\n",
    "np.random.seed(random_seed)\n",
    "torch.manual_seed(random_seed)\n",
    "if torch.cuda.is_available():\n",
    "    torch.cuda.manual_seed_all(random_seed)\n",
    "\n",
    "print(\"Torch 버전:\", torch.__version__)"
   ]
  },
  {
   "cell_type": "markdown",
   "id": "615a1ad5-0abd-45da-a2a5-dc1b0b7ee842",
   "metadata": {},
   "source": [
    "## 1. 토크나이저(Tokenizer) 준비\n",
    "- SentencePiece 모델을 이용해 BERT의 MLM 학습용 데이터를 만듭니다.\n",
    "- 한글 나무 위키 코퍼스(`kowiki.txt`)로부터 8000의 vocab_size를 갖는 sentencepiece 모델을 만듭니다.\n",
    "- BERT에 사용되는 주요 특수문자가 vocab에 포함되도록 합니다: `[PAD], [UNK], [BOS], [EOS], [SEP], [CLS], [MASK]`"
   ]
  },
  {
   "cell_type": "code",
   "execution_count": 5,
   "id": "26a6591f-6a6e-4cbe-8021-a32dd8f874d1",
   "metadata": {},
   "outputs": [
    {
     "data": {
      "text/plain": [
       "'/home/jovyan/work/bert_pretrain'"
      ]
     },
     "execution_count": 5,
     "metadata": {},
     "output_type": "execute_result"
    }
   ],
   "source": [
    "pwd"
   ]
  },
  {
   "cell_type": "code",
   "execution_count": 6,
   "id": "0a0106af-4797-455a-a0be-ac40bee05b4c",
   "metadata": {
    "scrolled": true
   },
   "outputs": [],
   "source": [
    "corpus_file = 'data/kowiki.txt'\n",
    "prefix = 'ko_8000'\n",
    "vocab_size = 8000\n",
    "\n",
    "if not os.path.exists(f'{prefix}.model'):\n",
    "    spm.SentencePieceTrainer.train(\n",
    "        f\"--input={corpus_file} --model_prefix={prefix} --vocab_size={vocab_size + 7}\"\n",
    "        f\" --model_type=bpe --max_sentence_length=999999 --pad_id=0 --pad_piece=[PAD]\"\n",
    "        f\" --unk_id=1 --unk_piece=[UNK] --bos_id=2 --bos_piece=[BOS] --eos_id=3\"\n",
    "        f\" --eos_piece=[EOS] --user_defined_symbols=[SEP],[CLS],[MASK]\"\n",
    "    )\n",
    "\n",
    "vocab = spm.SentencePieceProcessor()\n",
    "vocab.load(f\"{prefix}.model\")\n",
    "\n",
    "vocab_list = []\n",
    "for i in range(7, len(vocab)):\n",
    "    if not vocab.is_unknown(i):\n",
    "        vocab_list.append(vocab.id_to_piece(i))"
   ]
  },
  {
   "cell_type": "markdown",
   "id": "f8a9193d-4024-44ff-84ba-b863a25c0be2",
   "metadata": {},
   "source": [
    "## 2. 데이터 전처리 (1) MASK 생성\n",
    "- BERT의 MLM(Masked Language Model)에 필요한 빈칸(mask)을 생성하는 함수를 정의합니다.\n",
    "- 학습 데이터 전체 토큰의 15%를 마스킹합니다.\n",
    "- 마스킹 전략: 80%는 `[MASK]` 토큰으로, 10%는 랜덤 토큰으로, 10%는 원래 토큰을 그대로 사용합니다."
   ]
  },
  {
   "cell_type": "code",
   "execution_count": 7,
   "id": "1691eb0a-d8c5-42e7-be99-a3b94c7469d0",
   "metadata": {},
   "outputs": [],
   "source": [
    "def create_pretrain_mask(tokens, mask_cnt, vocab_list):\n",
    "    cand_idx = []\n",
    "    for (i, token) in enumerate(tokens):\n",
    "        if token in [\"[CLS]\", \"[SEP]\"]:\n",
    "            continue\n",
    "        if token.startswith(u\" \"):\n",
    "            cand_idx.append([i])\n",
    "        else:\n",
    "            if cand_idx:\n",
    "                cand_idx[-1].append(i)\n",
    "    random.shuffle(cand_idx)\n",
    "\n",
    "    mask_lms = []\n",
    "    for index_set in cand_idx:\n",
    "        if len(mask_lms) >= mask_cnt:\n",
    "            break\n",
    "        if len(mask_lms) + len(index_set) > mask_cnt:\n",
    "            continue\n",
    "        \n",
    "        dice = random.random()\n",
    "        for index in index_set:\n",
    "            masked_token = None\n",
    "            if dice < 0.8:\n",
    "                masked_token = \"[MASK]\"\n",
    "            elif dice < 0.9:\n",
    "                masked_token = tokens[index]\n",
    "            else:\n",
    "                masked_token = random.choice(vocab_list)\n",
    "            \n",
    "            mask_lms.append({\"index\": index, \"label\": tokens[index]})\n",
    "            tokens[index] = masked_token\n",
    "\n",
    "    mask_lms = sorted(mask_lms, key=lambda x: x[\"index\"])\n",
    "    mask_idx = [p[\"index\"] for p in mask_lms]\n",
    "    mask_label = [p[\"label\"] for p in mask_lms]\n",
    "\n",
    "    return tokens, mask_idx, mask_label"
   ]
  },
  {
   "cell_type": "markdown",
   "id": "f563c609-2659-4a0d-a7e9-715c46c372da",
   "metadata": {},
   "source": [
    "## 3. 데이터 전처리 (2) NSP pair 생성\n",
    "- BERT의 pretrain 과제인 NSP(Next Sentence Prediction)를 위한 데이터 쌍을 생성하는 함수를 정의합니다.\n",
    "- 50%의 확률로 실제 이어지는 문장(is_next=1)과 랜덤으로 추출된 문장(is_next=0)을 쌍으로 만듭니다.\n",
    "- 문장 구분을 위해 세그먼트 임베딩 값(0 또는 1)을 부여합니다."
   ]
  },
  {
   "cell_type": "code",
   "execution_count": 8,
   "id": "c8fbf6fe-acfe-4d00-b642-bec4c5d5b71e",
   "metadata": {},
   "outputs": [],
   "source": [
    "def trim_tokens(tokens_a, tokens_b, max_seq):\n",
    "    while True:\n",
    "        total_length = len(tokens_a) + len(tokens_b)\n",
    "        if total_length <= max_seq:\n",
    "            break\n",
    "        if len(tokens_a) > len(tokens_b):\n",
    "            tokens_a.pop()\n",
    "        else:\n",
    "            tokens_b.pop()\n",
    "\n",
    "def create_pretrain_instances(vocab, doc, n_seq, mask_prob, vocab_list):\n",
    "    max_seq = n_seq - 3\n",
    "    instances = []\n",
    "    current_chunk = []\n",
    "    current_length = 0\n",
    "    for i in range(len(doc)):\n",
    "        current_chunk.append(doc[i])\n",
    "        current_length += len(doc[i])\n",
    "        \n",
    "        if i == len(doc) - 1 or current_length >= max_seq:\n",
    "            if current_chunk:\n",
    "                a_end = 1\n",
    "                if len(current_chunk) > 1:\n",
    "                    a_end = random.randrange(1, len(current_chunk))\n",
    "                \n",
    "                tokens_a = []\n",
    "                for j in range(a_end):\n",
    "                    tokens_a.extend(current_chunk[j])\n",
    "                \n",
    "                tokens_b = []\n",
    "                is_next = 1 \n",
    "                if len(current_chunk) > 1 and random.random() < 0.5:\n",
    "                    is_next = 0 \n",
    "                    temp = tokens_a\n",
    "                    tokens_a = tokens_b\n",
    "                    tokens_b = temp\n",
    "                \n",
    "                for j in range(a_end, len(current_chunk)):\n",
    "                    tokens_b.extend(current_chunk[j])\n",
    "                \n",
    "                trim_tokens(tokens_a, tokens_b, max_seq)\n",
    "                if not tokens_a or not tokens_b:\n",
    "                    continue\n",
    "\n",
    "                tokens = [\"[CLS]\"] + tokens_a + [\"[SEP]\"] + tokens_b + [\"[SEP]\"]\n",
    "                segment = [0] * (len(tokens_a) + 2) + [1] * (len(tokens_b) + 1)\n",
    "                \n",
    "                mask_cnt = int((len(tokens) - 3) * mask_prob)\n",
    "                tokens, mask_idx, mask_label = create_pretrain_mask(tokens, mask_cnt, vocab_list)\n",
    "\n",
    "                instance = {\n",
    "                    \"tokens\": tokens,\n",
    "                    \"segment\": segment,\n",
    "                    \"is_next\": is_next,\n",
    "                    \"mask_idx\": mask_idx,\n",
    "                    \"mask_label\": mask_label\n",
    "                }\n",
    "                instances.append(instance)\n",
    "\n",
    "            current_chunk = []\n",
    "            current_length = 0\n",
    "            \n",
    "    return instances"
   ]
  },
  {
   "cell_type": "markdown",
   "id": "33e20202-0651-45ce-86ec-edc468a43952",
   "metadata": {},
   "source": [
    "## 4. 데이터 전처리 (3) 데이터셋 완성\n",
    "- 위에서 정의한 함수들을 사용해 전체 `kowiki.txt` 코퍼스를 BERT pretrain 데이터셋으로 변환합니다.\n",
    "- 생성된 데이터는 json 포맷으로 저장합니다.\n",
    "- 대용량 데이터를 효율적으로 다루기 위해 `np.memmap`을 사용하여 데이터를 로드하는 함수를 정의합니다."
   ]
  },
  {
   "cell_type": "code",
   "execution_count": 9,
   "id": "d7360b87-5e2b-4bc8-a9ce-8e544ca57942",
   "metadata": {},
   "outputs": [],
   "source": [
    "def make_pretrain_data(vocab, in_file, out_file, n_seq, mask_prob=0.15):\n",
    "    \"\"\" Pre-training 데이터를 생성하여 파일로 저장하는 함수 \"\"\"\n",
    "    \n",
    "    vocab_list = [vocab.id_to_piece(i) for i in range(7, len(vocab)) if not vocab.is_unknown(i)]\n",
    "    \n",
    "    line_cnt = 0\n",
    "    with open(in_file, \"r\") as f:\n",
    "        for _ in f:\n",
    "            line_cnt += 1\n",
    "\n",
    "    with open(in_file, \"r\") as in_f, open(out_file, \"w\") as out_f:\n",
    "        doc = []\n",
    "        for line in tqdm(in_f, total=line_cnt, desc=\"데이터 생성 중\"):\n",
    "            line = line.strip()\n",
    "            if not line: # 빈 줄이면 문단(doc) 처리\n",
    "                if doc:\n",
    "                    instances = create_pretrain_instances(vocab, doc, n_seq, mask_prob, vocab_list)\n",
    "                    for instance in instances:\n",
    "                        out_f.write(json.dumps(instance, ensure_ascii=False))\n",
    "                        out_f.write(\"\\n\")\n",
    "                    doc = []\n",
    "            else:\n",
    "                pieces = vocab.encode_as_pieces(line)\n",
    "                if pieces:\n",
    "                    doc.append(pieces)\n",
    "        \n",
    "        if doc: # 파일 끝에 남은 doc 처리\n",
    "            instances = create_pretrain_instances(vocab, doc, n_seq, mask_prob, vocab_list)\n",
    "            for instance in instances:\n",
    "                out_f.write(json.dumps(instance, ensure_ascii=False))\n",
    "                out_f.write(\"\\n\")\n"
   ]
  },
  {
   "cell_type": "code",
   "execution_count": 10,
   "id": "42ec635a-ba85-49b8-a0ae-7d7c32f0669c",
   "metadata": {},
   "outputs": [
    {
     "name": "stdout",
     "output_type": "stream",
     "text": [
      "Pre-training data already exists. Skipping generation.\n"
     ]
    },
    {
     "data": {
      "application/vnd.jupyter.widget-view+json": {
       "model_id": "7fdbeb9dd3384ab0b532871138f597dd",
       "version_major": 2,
       "version_minor": 0
      },
      "text/plain": [
       "Loading data:   0%|          | 0/128000 [00:00<?, ?it/s]"
      ]
     },
     "metadata": {},
     "output_type": "display_data"
    }
   ],
   "source": [
    "pretrain_json_path = 'bert_pre_train.json'\n",
    "n_seq = 128\n",
    "\n",
    "if not os.path.exists(pretrain_json_path):\n",
    "    print(\"Pre-training data not found. Creating new data...\")\n",
    "    make_pretrain_data(vocab, corpus_file, pretrain_json_path, n_seq)\n",
    "    print(\"Data generation complete.\")\n",
    "else:\n",
    "    print(\"Pre-training data already exists. Skipping generation.\")\n",
    "\n",
    "def load_pre_train_data(vocab, filename, n_seq, count=None):\n",
    "    line_total = 0\n",
    "    with open(filename, \"r\") as f:\n",
    "        for _ in f:\n",
    "            line_total += 1\n",
    "\n",
    "    total = count if count is not None and count < line_total else line_total\n",
    "    \n",
    "    enc_tokens = np.memmap(filename='enc_tokens.memmap', mode='w+', dtype=np.int32, shape=(total, n_seq))\n",
    "    segments = np.memmap(filename='segments.memmap', mode='w+', dtype=np.int32, shape=(total, n_seq))\n",
    "    labels_nsp = np.memmap(filename='labels_nsp.memmap', mode='w+', dtype=np.int32, shape=(total,))\n",
    "    labels_mlm = np.memmap(filename='labels_mlm.memmap', mode='w+', dtype=np.int32, shape=(total, n_seq))\n",
    "\n",
    "    with open(filename, \"r\") as f:\n",
    "        for i, line in enumerate(tqdm(f, total=total, desc=\"Loading data\")):\n",
    "            if i >= total:\n",
    "                break\n",
    "            data = json.loads(line)\n",
    "            \n",
    "            enc_token = [vocab.piece_to_id(p) for p in data[\"tokens\"]]\n",
    "            enc_token += [0] * (n_seq - len(enc_token))\n",
    "            \n",
    "            segment = data[\"segment\"]\n",
    "            segment += [0] * (n_seq - len(segment))\n",
    "\n",
    "            label_nsp = data[\"is_next\"]\n",
    "\n",
    "            mask_idx = np.array(data[\"mask_idx\"], dtype=np.int32)\n",
    "            mask_label = np.array([vocab.piece_to_id(p) for p in data[\"mask_label\"]], dtype=np.int32)\n",
    "            label_mlm = np.full(n_seq, dtype=np.int32, fill_value=0)\n",
    "            if mask_idx.size > 0:\n",
    "                label_mlm[mask_idx] = mask_label\n",
    "\n",
    "            enc_tokens[i] = enc_token\n",
    "            segments[i] = segment\n",
    "            labels_nsp[i] = label_nsp\n",
    "            labels_mlm[i] = label_mlm\n",
    "\n",
    "    return (enc_tokens, segments), (labels_nsp, labels_mlm)\n",
    "\n",
    "# Load data for training\n",
    "pre_train_inputs, pre_train_labels = load_pre_train_data(vocab, pretrain_json_path, n_seq, count=128000)"
   ]
  },
  {
   "cell_type": "code",
   "execution_count": 11,
   "id": "4b62db87-60b2-4222-84a0-ba6b413625aa",
   "metadata": {},
   "outputs": [
    {
     "data": {
      "application/vnd.jupyter.widget-view+json": {
       "model_id": "6197c048a37740fe87fc97b910f2f062",
       "version_major": 2,
       "version_minor": 0
      },
      "text/plain": [
       "Loading data:   0%|          | 0/128000 [00:00<?, ?it/s]"
      ]
     },
     "metadata": {},
     "output_type": "display_data"
    }
   ],
   "source": [
    "pre_train_inputs, pre_train_labels = load_pre_train_data(vocab, pretrain_json_path, n_seq, count=128000)"
   ]
  },
  {
   "cell_type": "code",
   "execution_count": 12,
   "id": "60fe2930-7b20-4927-a0e2-6aa0aa9903ad",
   "metadata": {},
   "outputs": [
    {
     "data": {
      "text/plain": [
       "(memmap([   5,    1,    1, 3324, 1042,  104, 3610, 3686, 3718,    1,    1,\n",
       "          416,    1, 3625,  160, 3662,    7, 3629,  203,  241, 3602,    1,\n",
       "          788,  243,    1,  796,  663, 1648,    1, 3625,    6,    6,    6,\n",
       "            6,    6,    6,    4,    1,  207,    1,    1, 3646,  630, 3714,\n",
       "            1,  429,    1, 3626,    1,    6,    6,    1,    1,    1,    1,\n",
       "         3599,   13,   81,    1, 2247,    1, 3873,    1, 3813, 3873, 4196,\n",
       "         3636,    1,    1, 1233,    1, 3599,    1, 3625,  243, 2780,   14,\n",
       "         1510,    1,  414,  166,    6,    6,    6,    6,    6,  593,   21,\n",
       "         5007,    6,    1,  813,   17, 3599,  307,    1,  104, 4313, 4290,\n",
       "            1, 3718,   99, 3878,    1, 2543,  309,  337,    1, 3616, 3603,\n",
       "            1, 3599,    6,    6,    1,    6,    1, 2378,    1,    1, 3293,\n",
       "           13,    1, 2386, 2163, 3596, 3671,    4], dtype=int32),\n",
       " memmap([   5, 2191, 3599,    1,   81, 3604,  342, 2674, 3625,  294,    1,\n",
       "            6,    1, 2540, 3600,  488,    1, 2524,    1,  171, 3599,  330,\n",
       "         3604,    1,    6,    1, 3682, 3625, 2131,    1,    1,  761, 4254,\n",
       "          658,  171, 3599,   13,    6,    1,    1,  496,    1, 1911, 3633,\n",
       "            1,  664,  925,    1, 1053,    1, 3614, 2419, 2470, 3604,    1,\n",
       "         3602,  838,    1, 3760,  824, 3526,    1,    1, 3599,    4,  371,\n",
       "         3604,   29, 4018, 3793, 1327, 3787,   66,  412,    1,   28, 3599,\n",
       "         1327,    1,    6, 2573,   66, 1600, 3653,  639,    1,  353, 3599,\n",
       "            1,    1, 1327,    1,   19,  402,    6,    6,    6,    6,    6,\n",
       "         2743,   31, 3599,    6,    1,    6,    6,    6,    6,    6,    6,\n",
       "            6,    6,    1, 3616,    9,    1, 1600, 3653,  639,  254,  238,\n",
       "          787, 2654,  784, 3604, 1926,  259,    4], dtype=int32),\n",
       " memmap([0, 0, 0, 0, 0, 0, 0, 0, 0, 0, 0, 0, 0, 0, 0, 0, 0, 0, 0, 0, 0, 0,\n",
       "         0, 0, 0, 0, 0, 0, 0, 0, 0, 0, 0, 0, 0, 0, 0, 1, 1, 1, 1, 1, 1, 1,\n",
       "         1, 1, 1, 1, 1, 1, 1, 1, 1, 1, 1, 1, 1, 1, 1, 1, 1, 1, 1, 1, 1, 1,\n",
       "         1, 1, 1, 1, 1, 1, 1, 1, 1, 1, 1, 1, 1, 1, 1, 1, 1, 1, 1, 1, 1, 1,\n",
       "         1, 1, 1, 1, 1, 1, 1, 1, 1, 1, 1, 1, 1, 1, 1, 1, 1, 1, 1, 1, 1, 1,\n",
       "         1, 1, 1, 1, 1, 1, 1, 1, 1, 1, 1, 1, 1, 1, 1, 1, 1, 1], dtype=int32),\n",
       " memmap([0, 0, 0, 0, 0, 0, 0, 0, 0, 0, 0, 0, 0, 0, 0, 0, 0, 0, 0, 0, 0, 0,\n",
       "         0, 0, 0, 0, 0, 0, 0, 0, 0, 0, 0, 0, 0, 0, 0, 0, 0, 0, 0, 0, 0, 0,\n",
       "         0, 0, 0, 0, 0, 0, 0, 0, 0, 0, 0, 0, 0, 0, 0, 0, 0, 0, 0, 0, 0, 1,\n",
       "         1, 1, 1, 1, 1, 1, 1, 1, 1, 1, 1, 1, 1, 1, 1, 1, 1, 1, 1, 1, 1, 1,\n",
       "         1, 1, 1, 1, 1, 1, 1, 1, 1, 1, 1, 1, 1, 1, 1, 1, 1, 1, 1, 1, 1, 1,\n",
       "         1, 1, 1, 1, 1, 1, 1, 1, 1, 1, 1, 1, 1, 1, 1, 1, 1, 1], dtype=int32),\n",
       " np.int32(1),\n",
       " np.int32(0),\n",
       " memmap([   0,    0,    0,    0,    0,    0,    0,    0,    0,    0,    0,\n",
       "            0,    0,    0,    0,    0,    0,    0,    0,    0,    0,    0,\n",
       "            0,    0,    0,    0,    0,    0,    0,    0,  203, 3009, 3625,\n",
       "         3616,   16, 3599,    0,    0,    0,    0,    0,    0,    0,    0,\n",
       "            0,    0,    0,    0,    0, 1607, 3599,    0,    0,    0,    0,\n",
       "            0,    0,    0,    0,    0,    0,    0,    0,    0,    0,    0,\n",
       "            0,    0,    0,    0,    0,    0,    0,    0,    0,    0,    0,\n",
       "            0,    0,    0,    0, 1697, 4290, 3873, 3703, 3683,    0,    0,\n",
       "            0,  399,    0,    0,    0,    0,    0,    0,    0,    0,    0,\n",
       "            0,    0,    0,    0,    0,    0,    0,    0,    0,    0,    0,\n",
       "            0,    0,    1, 3625,    0,   37,    0, 2378,    0,    0,    0,\n",
       "            0,    0,    0,    0,    0,    0,    0], dtype=int32),\n",
       " memmap([   0,    0,    0,    0,    0,    0,    0,    0,    0,    0,    0,\n",
       "           89,    0,    0,    0,    0,    0,    0,    0,    0,    0,    0,\n",
       "            0,    0,    1,    0,    0,    0,    0,    0,    0,    0,    0,\n",
       "            0,    0,    0,    0,    1,    0,    0,    0,    0,    0,    0,\n",
       "            0,    0,    0,    0,    0,    0,    0,    0,    0,    0,    0,\n",
       "            0,    0,    0,    0,    0,    0,    0,    0,    0,    0,    0,\n",
       "            0,    0,    0,    0,    0,    0,    0,    0,    0,    0,    0,\n",
       "            0,    0,    1,    0,    0,    0,    0,    0,    0,    0,    0,\n",
       "            0,    0,    0,    0,    0,    0,  231,    1,    1, 3607, 2042,\n",
       "            0,    0,    0,    1,    0, 1912, 3604,   68, 3650, 3617, 3067,\n",
       "         4116, 3601,    0,    0,    0,    0,    0,    0,    0,    0,    0,\n",
       "            0,    0,    0,    0,    0,    0,    0], dtype=int32))"
      ]
     },
     "execution_count": 12,
     "metadata": {},
     "output_type": "execute_result"
    }
   ],
   "source": [
    "# 처음과 마지막 확인\n",
    "pre_train_inputs[0][0], pre_train_inputs[0][-1], pre_train_inputs[1][0], pre_train_inputs[1][-1], pre_train_labels[0][0], pre_train_labels[0][-1], pre_train_labels[1][0], pre_train_labels[1][-1]"
   ]
  },
  {
   "cell_type": "markdown",
   "id": "ca3cfc46-cb1d-4c51-b0d1-cf501678a247",
   "metadata": {},
   "source": [
    "## 5. BERT 모델 구현\n",
    "- `pad mask`, `GELU` 활성화 함수 등 BERT 모델에 필요한 구성 요소들을 정의합니다.\n",
    "- `SharedEmbedding`, `MultiHeadAttention`, `PositionWiseFeedForward`, `EncoderLayer` 등 Transformer의 핵심 레이어를 클래스로 구현합니다.\n",
    "- 최종적으로 이들을 조합하여 pretrain을 위한 BERT 모델을 완성합니다."
   ]
  },
  {
   "cell_type": "code",
   "execution_count": 13,
   "id": "26746e8a-d105-424a-b2bd-6917ee3b2d08",
   "metadata": {},
   "outputs": [],
   "source": [
    "# Model implementation (Utility functions and classes)\n",
    "def get_pad_mask(tokens, i_pad=0):\n",
    "    mask = (tokens == i_pad).float()\n",
    "    return mask.unsqueeze(1).expand(-1, tokens.size(1), -1)\n",
    "\n",
    "class Config(dict):\n",
    "    __getattr__ = dict.__getitem__\n",
    "    __setattr__ = dict.__setitem__\n",
    "\n",
    "class SharedEmbedding(nn.Module):\n",
    "    def __init__(self, config):\n",
    "        super().__init__()\n",
    "        self.shared_weights = nn.Parameter(torch.Tensor(config.n_vocab, config.d_model))\n",
    "        nn.init.trunc_normal_(self.shared_weights, std=0.02)\n",
    "\n",
    "    def forward(self, inputs, mode=\"embedding\"):\n",
    "        if mode == \"embedding\":\n",
    "            return F.embedding(inputs, self.shared_weights)\n",
    "        elif mode == \"linear\":\n",
    "            return F.linear(inputs, self.shared_weights)\n",
    "        else:\n",
    "            raise ValueError(f\"Invalid mode: {mode}\")\n",
    "\n",
    "class PositionEmbedding(nn.Module):\n",
    "    def __init__(self, config):\n",
    "        super().__init__()\n",
    "        self.embedding = nn.Embedding(config.n_seq, config.d_model)\n",
    "        nn.init.trunc_normal_(self.embedding.weight, std=0.02)\n",
    "\n",
    "    def forward(self, inputs):\n",
    "        position = torch.arange(inputs.size(1), device=inputs.device).unsqueeze(0)\n",
    "        return self.embedding(position)\n",
    "\n",
    "class MultiHeadAttention(nn.Module):\n",
    "    def __init__(self, config):\n",
    "        super().__init__()\n",
    "        self.config = config\n",
    "        self.W_Q = nn.Linear(config.d_model, config.n_head * config.d_head)\n",
    "        self.W_K = nn.Linear(config.d_model, config.n_head * config.d_head)\n",
    "        self.W_V = nn.Linear(config.d_model, config.n_head * config.d_head)\n",
    "        self.W_O = nn.Linear(config.n_head * config.d_head, config.d_model)\n",
    "\n",
    "    def forward(self, Q, K, V, attn_mask):\n",
    "        batch_size = Q.size(0)\n",
    "        q_s = self.W_Q(Q).view(batch_size, -1, self.config.n_head, self.config.d_head).transpose(1, 2)\n",
    "        k_s = self.W_K(K).view(batch_size, -1, self.config.n_head, self.config.d_head).transpose(1, 2)\n",
    "        v_s = self.W_V(V).view(batch_size, -1, self.config.n_head, self.config.d_head).transpose(1, 2)\n",
    "\n",
    "        attn_mask = attn_mask.unsqueeze(1).repeat(1, self.config.n_head, 1, 1)\n",
    "        \n",
    "        scores = torch.matmul(q_s, k_s.transpose(-1, -2)) / np.sqrt(self.config.d_head)\n",
    "        scores.masked_fill_(attn_mask.bool(), -1e9)\n",
    "        attn_prob = nn.Softmax(dim=-1)(scores)\n",
    "        \n",
    "        context = torch.matmul(attn_prob, v_s)\n",
    "        context = context.transpose(1, 2).contiguous().view(batch_size, -1, self.config.n_head * self.config.d_head)\n",
    "        output = self.W_O(context)\n",
    "        \n",
    "        return output, attn_prob\n",
    "\n",
    "class PositionWiseFeedForward(nn.Module):\n",
    "    def __init__(self, config):\n",
    "        super().__init__()\n",
    "        self.W_1 = nn.Linear(config.d_model, config.d_ff)\n",
    "        self.W_2 = nn.Linear(config.d_ff, config.d_model)\n",
    "        self.activation = nn.GELU()\n",
    "\n",
    "    def forward(self, inputs):\n",
    "        return self.W_2(self.activation(self.W_1(inputs)))\n",
    "\n",
    "class EncoderLayer(nn.Module):\n",
    "    def __init__(self, config):\n",
    "        super().__init__()\n",
    "        self.self_attention = MultiHeadAttention(config)\n",
    "        self.norm1 = nn.LayerNorm(config.d_model, eps=config.layernorm_epsilon)\n",
    "        self.ffn = PositionWiseFeedForward(config)\n",
    "        self.norm2 = nn.LayerNorm(config.d_model, eps=config.layernorm_epsilon)\n",
    "        self.dropout = nn.Dropout(config.dropout)\n",
    "\n",
    "    def forward(self, enc_embed, self_mask):\n",
    "        attn_out, attn_prob = self.self_attention(enc_embed, enc_embed, enc_embed, self_mask)\n",
    "        norm1_out = self.norm1(enc_embed + self.dropout(attn_out))\n",
    "        \n",
    "        ffn_out = self.ffn(norm1_out)\n",
    "        enc_out = self.norm2(norm1_out + self.dropout(ffn_out))\n",
    "        \n",
    "        return enc_out, attn_prob\n",
    "\n",
    "class BERT(nn.Module):\n",
    "    def __init__(self, config):\n",
    "        super().__init__()\n",
    "        self.config = config\n",
    "        self.embedding = SharedEmbedding(config)\n",
    "        self.position = PositionEmbedding(config)\n",
    "        self.segment = nn.Embedding(2, config.d_model)\n",
    "        self.norm = nn.LayerNorm(config.d_model, eps=config.layernorm_epsilon)\n",
    "        self.dropout = nn.Dropout(config.dropout)\n",
    "        self.encoder_layers = nn.ModuleList([EncoderLayer(config) for _ in range(config.n_layer)])\n",
    "\n",
    "    def forward(self, enc_tokens, segments):\n",
    "        enc_self_mask = get_pad_mask(enc_tokens, self.config.i_pad)\n",
    "        \n",
    "        embed = self.embedding(enc_tokens) + self.position(enc_tokens) + self.segment(segments)\n",
    "        embed = self.norm(embed)\n",
    "        enc_out = self.dropout(embed)\n",
    "\n",
    "        attn_probs = []\n",
    "        for layer in self.encoder_layers:\n",
    "            enc_out, attn_prob = layer(enc_out, enc_self_mask)\n",
    "            attn_probs.append(attn_prob)\n",
    "            \n",
    "        return enc_out, attn_probs\n",
    "\n",
    "class PreTrainModel(nn.Module):\n",
    "    def __init__(self, config):\n",
    "        super().__init__()\n",
    "        self.bert = BERT(config)\n",
    "        self.nsp_classifier = nn.Linear(config.d_model, 2)\n",
    "        self.mlm_output = self.bert.embedding\n",
    "        \n",
    "    def forward(self, enc_tokens, segments):\n",
    "        enc_tokens = enc_tokens.long()\n",
    "        segments = segments.long()\n",
    "        \n",
    "        bert_out, attn_probs = self.bert(enc_tokens, segments)\n",
    "        \n",
    "        logits_cls = self.nsp_classifier(bert_out[:, 0, :])\n",
    "        logits_lm = self.mlm_output(bert_out, mode=\"linear\")\n",
    "        \n",
    "        return logits_cls, logits_lm, attn_probs"
   ]
  },
  {
   "cell_type": "markdown",
   "id": "bc2d249a-74a6-4613-914e-ee479c542be6",
   "metadata": {},
   "source": [
    "### Mini BERT 모델 하이퍼파라미터 설정\n",
    "- 프로젝트 요구사항에 맞춰 `vocab_size=8000`, 전체 파라미터 약 1M가 되도록 `Config`를 설정합니다.\n",
    "- `d_model=256`, `n_layer=2`, `d_ff=1024` 등으로 설정하여 약 120만 개의 파라미터를 갖는 모델을 구성했습니다."
   ]
  },
  {
   "cell_type": "code",
   "execution_count": 14,
   "id": "711b9f03-9810-4949-b15e-5332a5f96ac6",
   "metadata": {},
   "outputs": [
    {
     "name": "stdout",
     "output_type": "stream",
     "text": [
      "실제 어휘 수: 8007\n"
     ]
    }
   ],
   "source": [
    "# 훈련된 토크나이저의 실제 어휘 수를 가져옵니다.\n",
    "actual_vocab_size = vocab.get_piece_size() \n",
    "print(f\"실제 어휘 수: {actual_vocab_size}\") # 8007이 출력되어야 합니다."
   ]
  },
  {
   "cell_type": "code",
   "execution_count": 15,
   "id": "d4720ac1-5891-4f60-9d4a-4772f4f2c1c6",
   "metadata": {},
   "outputs": [
    {
     "name": "stdout",
     "output_type": "stream",
     "text": [
      "모델의 학습 가능한 파라미터 수: 1,215,762\n"
     ]
    }
   ],
   "source": [
    "# 모델 설정 (Config)\n",
    "config = Config({\n",
    "    \"d_model\": 112,\n",
    "    \"n_layer\": 2,\n",
    "    \"n_head\": 4,\n",
    "    \"d_head\": 28,\n",
    "    \"dropout\": 0.1,\n",
    "    \"d_ff\": 448,\n",
    "    \"layernorm_epsilon\": 1e-12,\n",
    "    \"n_seq\": n_seq,\n",
    "    \"n_vocab\": actual_vocab_size,\n",
    "    \"i_pad\": 0\n",
    "})\n",
    "\n",
    "# Create model instance\n",
    "model = PreTrainModel(config)\n",
    "\n",
    "print(f\"모델의 학습 가능한 파라미터 수: {sum(p.numel() for p in model.parameters() if p.requires_grad):,}\")"
   ]
  },
  {
   "cell_type": "markdown",
   "id": "b4fc9cb6-e524-467e-af8c-1f2a91292f9c",
   "metadata": {},
   "source": [
    "## 6. pretrain 진행\n",
    "- 코사인 러닝레이트 스케줄러(`CosineSchedule`)를 구현합니다.\n",
    "- 10 Epoch 동안 모델 학습을 진행하고, 매 에포크마다 NSP와 MLM의 loss 및 accuracy를 기록합니다.\n",
    "- 학습이 완료된 모델은 epoch별로 저장됩니다."
   ]
  },
  {
   "cell_type": "code",
   "execution_count": 16,
   "id": "2a465c2a-3b5b-4f8c-bee7-e8b3d1774547",
   "metadata": {},
   "outputs": [],
   "source": [
    "epochs = 30 # Increased epochs\n",
    "batch_size = 64\n",
    "\n",
    "model.to(device)\n",
    "\n",
    "# Prepare DataLoader\n",
    "train_dataset = TensorDataset(\n",
    "    torch.from_numpy(pre_train_inputs[0]),\n",
    "    torch.from_numpy(pre_train_inputs[1]),\n",
    "    torch.from_numpy(pre_train_labels[0]),\n",
    "    torch.from_numpy(pre_train_labels[1])\n",
    ")\n",
    "train_dataloader = DataLoader(train_dataset, batch_size=batch_size, shuffle=True)\n",
    "\n",
    "# Optimizer, Loss functions, Scheduler\n",
    "optimizer = optim.Adam(model.parameters(), lr=2e-4) # Initial lr is adjusted by scheduler\n",
    "loss_fn_nsp = nn.CrossEntropyLoss()\n",
    "loss_fn_mlm = nn.CrossEntropyLoss(ignore_index=config.i_pad)\n",
    "\n",
    "class CosineSchedule:\n",
    "    def __init__(self, optimizer, train_steps, warmup_steps, max_lr):\n",
    "        self.optimizer, self.train_steps, self.warmup_steps, self.max_lr = optimizer, train_steps, warmup_steps, max_lr\n",
    "        self.step_num = 0\n",
    "    def get_lr(self):\n",
    "        if self.step_num < self.warmup_steps: return self.max_lr * self.step_num / self.warmup_steps\n",
    "        else:\n",
    "            progress = (self.step_num - self.warmup_steps) / (self.train_steps - self.warmup_steps)\n",
    "            return self.max_lr * 0.5 * (1 + math.cos(math.pi * progress))\n",
    "    def step(self):\n",
    "        self.step_num += 1\n",
    "        lr = self.get_lr()\n",
    "        for param_group in self.optimizer.param_groups: param_group['lr'] = lr\n",
    "            \n",
    "train_steps = len(train_dataloader) * epochs\n",
    "warmup_steps = train_steps // 10\n",
    "scheduler = CosineSchedule(optimizer, train_steps, warmup_steps, max_lr=2e-4) # Increased max_lr"
   ]
  },
  {
   "cell_type": "code",
   "execution_count": 17,
   "id": "9d54ab7b-320e-4956-87af-af455fbfa41f",
   "metadata": {},
   "outputs": [
    {
     "data": {
      "application/vnd.jupyter.widget-view+json": {
       "model_id": "7c18e6351c7c4ba5bb48d8a01a2baaea",
       "version_major": 2,
       "version_minor": 0
      },
      "text/plain": [
       "Epoch 1/30:   0%|          | 0/2000 [00:00<?, ?it/s]"
      ]
     },
     "metadata": {},
     "output_type": "display_data"
    },
    {
     "name": "stdout",
     "output_type": "stream",
     "text": [
      "\n",
      "Epoch 1 Results | NSP Loss: 0.6398, MLM Loss: 7.0543 | NSP Acc: 0.5917, MLM Acc: 0.2614\n"
     ]
    },
    {
     "data": {
      "application/vnd.jupyter.widget-view+json": {
       "model_id": "32a39d8fcc1d46a9bc8a909c5868bd63",
       "version_major": 2,
       "version_minor": 0
      },
      "text/plain": [
       "Epoch 2/30:   0%|          | 0/2000 [00:00<?, ?it/s]"
      ]
     },
     "metadata": {},
     "output_type": "display_data"
    },
    {
     "name": "stdout",
     "output_type": "stream",
     "text": [
      "\n",
      "Epoch 2 Results | NSP Loss: 0.6085, MLM Loss: 5.7586 | NSP Acc: 0.5999, MLM Acc: 0.2989\n"
     ]
    },
    {
     "data": {
      "application/vnd.jupyter.widget-view+json": {
       "model_id": "656ea6dc4711491a8db16286a60a8f3b",
       "version_major": 2,
       "version_minor": 0
      },
      "text/plain": [
       "Epoch 3/30:   0%|          | 0/2000 [00:00<?, ?it/s]"
      ]
     },
     "metadata": {},
     "output_type": "display_data"
    },
    {
     "name": "stdout",
     "output_type": "stream",
     "text": [
      "\n",
      "Epoch 3 Results | NSP Loss: 0.5928, MLM Loss: 5.7522 | NSP Acc: 0.5962, MLM Acc: 0.2992\n"
     ]
    },
    {
     "data": {
      "application/vnd.jupyter.widget-view+json": {
       "model_id": "c214eb6cf51748688f82b3911ddb8b34",
       "version_major": 2,
       "version_minor": 0
      },
      "text/plain": [
       "Epoch 4/30:   0%|          | 0/2000 [00:00<?, ?it/s]"
      ]
     },
     "metadata": {},
     "output_type": "display_data"
    },
    {
     "name": "stdout",
     "output_type": "stream",
     "text": [
      "\n",
      "Epoch 4 Results | NSP Loss: 0.5902, MLM Loss: 5.7255 | NSP Acc: 0.5965, MLM Acc: 0.3022\n"
     ]
    },
    {
     "data": {
      "application/vnd.jupyter.widget-view+json": {
       "model_id": "a94bd765d93146af8b2709ae0d11d481",
       "version_major": 2,
       "version_minor": 0
      },
      "text/plain": [
       "Epoch 5/30:   0%|          | 0/2000 [00:00<?, ?it/s]"
      ]
     },
     "metadata": {},
     "output_type": "display_data"
    },
    {
     "name": "stdout",
     "output_type": "stream",
     "text": [
      "\n",
      "Epoch 5 Results | NSP Loss: 0.5866, MLM Loss: 5.6873 | NSP Acc: 0.5986, MLM Acc: 0.3054\n"
     ]
    },
    {
     "data": {
      "application/vnd.jupyter.widget-view+json": {
       "model_id": "646030430aae483493d50097631388e7",
       "version_major": 2,
       "version_minor": 0
      },
      "text/plain": [
       "Epoch 6/30:   0%|          | 0/2000 [00:00<?, ?it/s]"
      ]
     },
     "metadata": {},
     "output_type": "display_data"
    },
    {
     "name": "stdout",
     "output_type": "stream",
     "text": [
      "\n",
      "Epoch 6 Results | NSP Loss: 0.5848, MLM Loss: 5.6220 | NSP Acc: 0.6032, MLM Acc: 0.3101\n"
     ]
    },
    {
     "data": {
      "application/vnd.jupyter.widget-view+json": {
       "model_id": "54750f0b1cd849e78d24e6114108a1c9",
       "version_major": 2,
       "version_minor": 0
      },
      "text/plain": [
       "Epoch 7/30:   0%|          | 0/2000 [00:00<?, ?it/s]"
      ]
     },
     "metadata": {},
     "output_type": "display_data"
    },
    {
     "name": "stdout",
     "output_type": "stream",
     "text": [
      "\n",
      "Epoch 7 Results | NSP Loss: 0.5753, MLM Loss: 5.5100 | NSP Acc: 0.6188, MLM Acc: 0.3164\n"
     ]
    },
    {
     "data": {
      "application/vnd.jupyter.widget-view+json": {
       "model_id": "75ce6020b51440f6a290ff68e9d9051c",
       "version_major": 2,
       "version_minor": 0
      },
      "text/plain": [
       "Epoch 8/30:   0%|          | 0/2000 [00:00<?, ?it/s]"
      ]
     },
     "metadata": {},
     "output_type": "display_data"
    },
    {
     "name": "stdout",
     "output_type": "stream",
     "text": [
      "\n",
      "Epoch 8 Results | NSP Loss: 0.5573, MLM Loss: 5.3706 | NSP Acc: 0.6343, MLM Acc: 0.3255\n"
     ]
    },
    {
     "data": {
      "application/vnd.jupyter.widget-view+json": {
       "model_id": "4f100fbfa9d24a2e89ba01b19c83e189",
       "version_major": 2,
       "version_minor": 0
      },
      "text/plain": [
       "Epoch 9/30:   0%|          | 0/2000 [00:00<?, ?it/s]"
      ]
     },
     "metadata": {},
     "output_type": "display_data"
    },
    {
     "name": "stdout",
     "output_type": "stream",
     "text": [
      "\n",
      "Epoch 9 Results | NSP Loss: 0.5527, MLM Loss: 5.2460 | NSP Acc: 0.6385, MLM Acc: 0.3362\n"
     ]
    },
    {
     "data": {
      "application/vnd.jupyter.widget-view+json": {
       "model_id": "adcb6ec7c2d1439f84ae7687eb53977b",
       "version_major": 2,
       "version_minor": 0
      },
      "text/plain": [
       "Epoch 10/30:   0%|          | 0/2000 [00:00<?, ?it/s]"
      ]
     },
     "metadata": {},
     "output_type": "display_data"
    },
    {
     "name": "stdout",
     "output_type": "stream",
     "text": [
      "\n",
      "Epoch 10 Results | NSP Loss: 0.5483, MLM Loss: 5.1420 | NSP Acc: 0.6418, MLM Acc: 0.3458\n"
     ]
    },
    {
     "data": {
      "application/vnd.jupyter.widget-view+json": {
       "model_id": "59755d4836cd489981b81617a554ff8f",
       "version_major": 2,
       "version_minor": 0
      },
      "text/plain": [
       "Epoch 11/30:   0%|          | 0/2000 [00:00<?, ?it/s]"
      ]
     },
     "metadata": {},
     "output_type": "display_data"
    },
    {
     "name": "stdout",
     "output_type": "stream",
     "text": [
      "\n",
      "Epoch 11 Results | NSP Loss: 0.5436, MLM Loss: 5.0540 | NSP Acc: 0.6460, MLM Acc: 0.3532\n"
     ]
    },
    {
     "data": {
      "application/vnd.jupyter.widget-view+json": {
       "model_id": "88027db8c2aa45b293371e2fdc10ba3e",
       "version_major": 2,
       "version_minor": 0
      },
      "text/plain": [
       "Epoch 12/30:   0%|          | 0/2000 [00:00<?, ?it/s]"
      ]
     },
     "metadata": {},
     "output_type": "display_data"
    },
    {
     "name": "stdout",
     "output_type": "stream",
     "text": [
      "\n",
      "Epoch 12 Results | NSP Loss: 0.5400, MLM Loss: 4.9740 | NSP Acc: 0.6486, MLM Acc: 0.3586\n"
     ]
    },
    {
     "data": {
      "application/vnd.jupyter.widget-view+json": {
       "model_id": "202e522323014735b0f3b09e49c8be3e",
       "version_major": 2,
       "version_minor": 0
      },
      "text/plain": [
       "Epoch 13/30:   0%|          | 0/2000 [00:00<?, ?it/s]"
      ]
     },
     "metadata": {},
     "output_type": "display_data"
    },
    {
     "name": "stdout",
     "output_type": "stream",
     "text": [
      "\n",
      "Epoch 13 Results | NSP Loss: 0.5368, MLM Loss: 4.8983 | NSP Acc: 0.6521, MLM Acc: 0.3626\n"
     ]
    },
    {
     "data": {
      "application/vnd.jupyter.widget-view+json": {
       "model_id": "7fb23ad29c824583a30a8588808bc64d",
       "version_major": 2,
       "version_minor": 0
      },
      "text/plain": [
       "Epoch 14/30:   0%|          | 0/2000 [00:00<?, ?it/s]"
      ]
     },
     "metadata": {},
     "output_type": "display_data"
    },
    {
     "name": "stdout",
     "output_type": "stream",
     "text": [
      "\n",
      "Epoch 14 Results | NSP Loss: 0.5340, MLM Loss: 4.8359 | NSP Acc: 0.6534, MLM Acc: 0.3653\n"
     ]
    },
    {
     "data": {
      "application/vnd.jupyter.widget-view+json": {
       "model_id": "320fb669419a4f31b332d05e894cbc0c",
       "version_major": 2,
       "version_minor": 0
      },
      "text/plain": [
       "Epoch 15/30:   0%|          | 0/2000 [00:00<?, ?it/s]"
      ]
     },
     "metadata": {},
     "output_type": "display_data"
    },
    {
     "name": "stdout",
     "output_type": "stream",
     "text": [
      "\n",
      "Epoch 15 Results | NSP Loss: 0.5300, MLM Loss: 4.7837 | NSP Acc: 0.6601, MLM Acc: 0.3678\n"
     ]
    },
    {
     "data": {
      "application/vnd.jupyter.widget-view+json": {
       "model_id": "3302126b167544e4b08a1aabdb9a54b3",
       "version_major": 2,
       "version_minor": 0
      },
      "text/plain": [
       "Epoch 16/30:   0%|          | 0/2000 [00:00<?, ?it/s]"
      ]
     },
     "metadata": {},
     "output_type": "display_data"
    },
    {
     "name": "stdout",
     "output_type": "stream",
     "text": [
      "\n",
      "Epoch 16 Results | NSP Loss: 0.5256, MLM Loss: 4.7384 | NSP Acc: 0.6634, MLM Acc: 0.3694\n"
     ]
    },
    {
     "data": {
      "application/vnd.jupyter.widget-view+json": {
       "model_id": "a5cf9474b1c24dfeabc79bf07c26d10e",
       "version_major": 2,
       "version_minor": 0
      },
      "text/plain": [
       "Epoch 17/30:   0%|          | 0/2000 [00:00<?, ?it/s]"
      ]
     },
     "metadata": {},
     "output_type": "display_data"
    },
    {
     "name": "stdout",
     "output_type": "stream",
     "text": [
      "\n",
      "Epoch 17 Results | NSP Loss: 0.5224, MLM Loss: 4.6972 | NSP Acc: 0.6696, MLM Acc: 0.3712\n"
     ]
    },
    {
     "data": {
      "application/vnd.jupyter.widget-view+json": {
       "model_id": "00d8e088b77743b086384397651f5b9b",
       "version_major": 2,
       "version_minor": 0
      },
      "text/plain": [
       "Epoch 18/30:   0%|          | 0/2000 [00:00<?, ?it/s]"
      ]
     },
     "metadata": {},
     "output_type": "display_data"
    },
    {
     "name": "stdout",
     "output_type": "stream",
     "text": [
      "\n",
      "Epoch 18 Results | NSP Loss: 0.5189, MLM Loss: 4.6563 | NSP Acc: 0.6739, MLM Acc: 0.3730\n"
     ]
    },
    {
     "data": {
      "application/vnd.jupyter.widget-view+json": {
       "model_id": "53d19d9c6b0e459d9bbce18ba7c939c6",
       "version_major": 2,
       "version_minor": 0
      },
      "text/plain": [
       "Epoch 19/30:   0%|          | 0/2000 [00:00<?, ?it/s]"
      ]
     },
     "metadata": {},
     "output_type": "display_data"
    },
    {
     "name": "stdout",
     "output_type": "stream",
     "text": [
      "\n",
      "Epoch 19 Results | NSP Loss: 0.5156, MLM Loss: 4.6063 | NSP Acc: 0.6772, MLM Acc: 0.3755\n"
     ]
    },
    {
     "data": {
      "application/vnd.jupyter.widget-view+json": {
       "model_id": "5f49cde1810f41f6ac03de392f8488cd",
       "version_major": 2,
       "version_minor": 0
      },
      "text/plain": [
       "Epoch 20/30:   0%|          | 0/2000 [00:00<?, ?it/s]"
      ]
     },
     "metadata": {},
     "output_type": "display_data"
    },
    {
     "name": "stdout",
     "output_type": "stream",
     "text": [
      "\n",
      "Epoch 20 Results | NSP Loss: 0.5134, MLM Loss: 4.5545 | NSP Acc: 0.6792, MLM Acc: 0.3779\n"
     ]
    },
    {
     "data": {
      "application/vnd.jupyter.widget-view+json": {
       "model_id": "207a4b24318c45cfa1541f1f307d7bda",
       "version_major": 2,
       "version_minor": 0
      },
      "text/plain": [
       "Epoch 21/30:   0%|          | 0/2000 [00:00<?, ?it/s]"
      ]
     },
     "metadata": {},
     "output_type": "display_data"
    },
    {
     "name": "stdout",
     "output_type": "stream",
     "text": [
      "\n",
      "Epoch 21 Results | NSP Loss: 0.5112, MLM Loss: 4.5111 | NSP Acc: 0.6818, MLM Acc: 0.3794\n"
     ]
    },
    {
     "data": {
      "application/vnd.jupyter.widget-view+json": {
       "model_id": "7f919cd10523452bb8a3d279221fbe15",
       "version_major": 2,
       "version_minor": 0
      },
      "text/plain": [
       "Epoch 22/30:   0%|          | 0/2000 [00:00<?, ?it/s]"
      ]
     },
     "metadata": {},
     "output_type": "display_data"
    },
    {
     "name": "stdout",
     "output_type": "stream",
     "text": [
      "\n",
      "Epoch 22 Results | NSP Loss: 0.5081, MLM Loss: 4.4780 | NSP Acc: 0.6862, MLM Acc: 0.3808\n"
     ]
    },
    {
     "data": {
      "application/vnd.jupyter.widget-view+json": {
       "model_id": "bd771dabcd024d9f893fd483c905e1b3",
       "version_major": 2,
       "version_minor": 0
      },
      "text/plain": [
       "Epoch 23/30:   0%|          | 0/2000 [00:00<?, ?it/s]"
      ]
     },
     "metadata": {},
     "output_type": "display_data"
    },
    {
     "name": "stdout",
     "output_type": "stream",
     "text": [
      "\n",
      "Epoch 23 Results | NSP Loss: 0.5067, MLM Loss: 4.4529 | NSP Acc: 0.6863, MLM Acc: 0.3816\n"
     ]
    },
    {
     "data": {
      "application/vnd.jupyter.widget-view+json": {
       "model_id": "549353a317ad4265944d12a93d7aacdf",
       "version_major": 2,
       "version_minor": 0
      },
      "text/plain": [
       "Epoch 24/30:   0%|          | 0/2000 [00:00<?, ?it/s]"
      ]
     },
     "metadata": {},
     "output_type": "display_data"
    },
    {
     "name": "stdout",
     "output_type": "stream",
     "text": [
      "\n",
      "Epoch 24 Results | NSP Loss: 0.5041, MLM Loss: 4.4345 | NSP Acc: 0.6903, MLM Acc: 0.3824\n"
     ]
    },
    {
     "data": {
      "application/vnd.jupyter.widget-view+json": {
       "model_id": "424714e2338649e78b74348f699e0980",
       "version_major": 2,
       "version_minor": 0
      },
      "text/plain": [
       "Epoch 25/30:   0%|          | 0/2000 [00:00<?, ?it/s]"
      ]
     },
     "metadata": {},
     "output_type": "display_data"
    },
    {
     "name": "stdout",
     "output_type": "stream",
     "text": [
      "\n",
      "Epoch 25 Results | NSP Loss: 0.5029, MLM Loss: 4.4198 | NSP Acc: 0.6922, MLM Acc: 0.3831\n"
     ]
    },
    {
     "data": {
      "application/vnd.jupyter.widget-view+json": {
       "model_id": "9f1f8ede54d140689cdc5af8c2cfc8c9",
       "version_major": 2,
       "version_minor": 0
      },
      "text/plain": [
       "Epoch 26/30:   0%|          | 0/2000 [00:00<?, ?it/s]"
      ]
     },
     "metadata": {},
     "output_type": "display_data"
    },
    {
     "name": "stdout",
     "output_type": "stream",
     "text": [
      "\n",
      "Epoch 26 Results | NSP Loss: 0.5015, MLM Loss: 4.4108 | NSP Acc: 0.6932, MLM Acc: 0.3832\n"
     ]
    },
    {
     "data": {
      "application/vnd.jupyter.widget-view+json": {
       "model_id": "043b229ecc0742128fc182d2006d643f",
       "version_major": 2,
       "version_minor": 0
      },
      "text/plain": [
       "Epoch 27/30:   0%|          | 0/2000 [00:00<?, ?it/s]"
      ]
     },
     "metadata": {},
     "output_type": "display_data"
    },
    {
     "name": "stdout",
     "output_type": "stream",
     "text": [
      "\n",
      "Epoch 27 Results | NSP Loss: 0.5006, MLM Loss: 4.4053 | NSP Acc: 0.6937, MLM Acc: 0.3836\n"
     ]
    },
    {
     "data": {
      "application/vnd.jupyter.widget-view+json": {
       "model_id": "ac367554f7424180bde82a7f569da7a1",
       "version_major": 2,
       "version_minor": 0
      },
      "text/plain": [
       "Epoch 28/30:   0%|          | 0/2000 [00:00<?, ?it/s]"
      ]
     },
     "metadata": {},
     "output_type": "display_data"
    },
    {
     "name": "stdout",
     "output_type": "stream",
     "text": [
      "\n",
      "Epoch 28 Results | NSP Loss: 0.4997, MLM Loss: 4.4012 | NSP Acc: 0.6955, MLM Acc: 0.3837\n"
     ]
    },
    {
     "data": {
      "application/vnd.jupyter.widget-view+json": {
       "model_id": "553f41c930794509a0153d52bc1d311f",
       "version_major": 2,
       "version_minor": 0
      },
      "text/plain": [
       "Epoch 29/30:   0%|          | 0/2000 [00:00<?, ?it/s]"
      ]
     },
     "metadata": {},
     "output_type": "display_data"
    },
    {
     "name": "stdout",
     "output_type": "stream",
     "text": [
      "\n",
      "Epoch 29 Results | NSP Loss: 0.4991, MLM Loss: 4.3989 | NSP Acc: 0.6952, MLM Acc: 0.3838\n"
     ]
    },
    {
     "data": {
      "application/vnd.jupyter.widget-view+json": {
       "model_id": "72c8254c2fad4099bf973256efb2f2e9",
       "version_major": 2,
       "version_minor": 0
      },
      "text/plain": [
       "Epoch 30/30:   0%|          | 0/2000 [00:00<?, ?it/s]"
      ]
     },
     "metadata": {},
     "output_type": "display_data"
    },
    {
     "name": "stdout",
     "output_type": "stream",
     "text": [
      "\n",
      "Epoch 30 Results | NSP Loss: 0.4994, MLM Loss: 4.3985 | NSP Acc: 0.6953, MLM Acc: 0.3839\n"
     ]
    }
   ],
   "source": [
    "history = collections.defaultdict(list)\n",
    "for epoch in range(epochs):\n",
    "    model.train()\n",
    "    \n",
    "    total_nsp_loss, total_mlm_loss = 0, 0\n",
    "    total_nsp_correct, total_mlm_correct = 0, 0\n",
    "    total_nsp_count, total_mlm_count = 0, 0\n",
    "    \n",
    "    progress_bar = tqdm(train_dataloader, desc=f\"Epoch {epoch+1}/{epochs}\")\n",
    "    for batch in progress_bar:\n",
    "        enc_tokens_b, segments_b, labels_nsp_b, labels_mlm_b = [b.to(device) for b in batch]\n",
    "        \n",
    "        optimizer.zero_grad()\n",
    "        scheduler.step()\n",
    "        \n",
    "        logits_nsp, logits_mlm, _ = model(enc_tokens_b, segments_b)\n",
    "\n",
    "        loss_nsp = loss_fn_nsp(logits_nsp, labels_nsp_b.long())\n",
    "        loss_mlm = loss_fn_mlm(logits_mlm.view(-1, config.n_vocab), labels_mlm_b.view(-1).long())\n",
    "        total_loss = loss_nsp + loss_mlm\n",
    "        \n",
    "        total_loss.backward()\n",
    "        optimizer.step()\n",
    "        \n",
    "        total_nsp_loss += loss_nsp.item()\n",
    "        total_mlm_loss += loss_mlm.item()\n",
    "        \n",
    "        nsp_preds = logits_nsp.argmax(dim=-1)\n",
    "        total_nsp_correct += (nsp_preds == labels_nsp_b).sum().item()\n",
    "        total_nsp_count += labels_nsp_b.size(0)\n",
    "        \n",
    "        mlm_preds = logits_mlm.argmax(dim=-1)\n",
    "        mlm_mask = (labels_mlm_b != config.i_pad)\n",
    "        total_mlm_correct += ((mlm_preds == labels_mlm_b) & mlm_mask).sum().item()\n",
    "        total_mlm_count += mlm_mask.sum().item()\n",
    "        \n",
    "        progress_bar.set_postfix({\n",
    "            'lr': f'{optimizer.param_groups[0][\"lr\"]:.2e}',\n",
    "            'nsp_loss': f'{total_nsp_loss / (progress_bar.n + 1):.4f}',\n",
    "            'mlm_loss': f'{total_mlm_loss / (progress_bar.n + 1):.4f}'\n",
    "        })\n",
    "\n",
    "    avg_nsp_loss = total_nsp_loss / len(train_dataloader)\n",
    "    avg_mlm_loss = total_mlm_loss / len(train_dataloader)\n",
    "    nsp_acc = total_nsp_correct / total_nsp_count\n",
    "    mlm_acc = total_mlm_correct / total_mlm_count\n",
    "    \n",
    "    history['nsp_loss'].append(avg_nsp_loss)\n",
    "    history['mlm_loss'].append(avg_mlm_loss)\n",
    "    history['nsp_acc'].append(nsp_acc)\n",
    "    history['mlm_acc'].append(mlm_acc)\n",
    "    \n",
    "    print(\n",
    "        f\"\\nEpoch {epoch+1} Results | \"\n",
    "        f\"NSP Loss: {avg_nsp_loss:.4f}, MLM Loss: {avg_mlm_loss:.4f} | \"\n",
    "        f\"NSP Acc: {nsp_acc:.4f}, MLM Acc: {mlm_acc:.4f}\"\n",
    "    )\n",
    "    \n",
    "    if not os.path.exists('work'):\n",
    "        os.makedirs('work')\n",
    "    torch.save(model.state_dict(), f\"work/bert_pre_train_tuned_epoch_{epoch+1}.pt\")"
   ]
  },
  {
   "cell_type": "markdown",
   "id": "1dde519f-8903-4f2d-85bd-ea20953c079c",
   "metadata": {},
   "source": [
    "## 7. 프로젝트 결과\n",
    "- 10 Epoch 동안의 학습 결과를 시각화합니다.\n",
    "- NSP(Next Sentence Prediction)와 MLM(Masked Language Modeling) 각각의 Loss와 Accuracy가 어떻게 변화하는지 그래프로 확인합니다.\n",
    "- 모델이 작기 때문에 Loss가 불안정할 수 있지만, 전반적으로 수렴하는 경향을 보이는지 확인합니다."
   ]
  },
  {
   "cell_type": "code",
   "execution_count": 18,
   "id": "9145dede-59c0-4c19-b27e-667bb2803bd9",
   "metadata": {
    "scrolled": true
   },
   "outputs": [
    {
     "name": "stdout",
     "output_type": "stream",
     "text": [
      "Get:1 http://security.ubuntu.com/ubuntu noble-security InRelease [126 kB]\n",
      "Get:2 http://archive.ubuntu.com/ubuntu noble InRelease [256 kB]\n",
      "Get:3 http://security.ubuntu.com/ubuntu noble-security/multiverse amd64 Packages [23.0 kB]\n",
      "Get:4 http://archive.ubuntu.com/ubuntu noble-updates InRelease [126 kB]0m\u001b[33m\n",
      "Get:5 http://security.ubuntu.com/ubuntu noble-security/universe amd64 Packages [1135 kB]\n",
      "Get:6 http://archive.ubuntu.com/ubuntu noble-backports InRelease [126 kB]3m\n",
      "Get:7 http://archive.ubuntu.com/ubuntu noble/multiverse amd64 Packages [331 kB]\n",
      "Get:8 http://security.ubuntu.com/ubuntu noble-security/restricted amd64 Packages [2159 kB]\n",
      "Get:9 http://archive.ubuntu.com/ubuntu noble/restricted amd64 Packages [117 kB]\u001b[0m\u001b[33m\n",
      "Get:10 http://archive.ubuntu.com/ubuntu noble/main amd64 Packages [1808 kB]3m  \u001b[0m\u001b[33m\n",
      "Get:11 http://security.ubuntu.com/ubuntu noble-security/main amd64 Packages [1408 kB]33m\n",
      "Get:12 http://archive.ubuntu.com/ubuntu noble/universe amd64 Packages [19.3 MB]\u001b[0m\u001b[33m\n",
      "Get:13 http://archive.ubuntu.com/ubuntu noble-updates/multiverse amd64 Packages [58.1 kB]\n",
      "Get:14 http://archive.ubuntu.com/ubuntu noble-updates/main amd64 Packages [1761 kB]\n",
      "Get:15 http://archive.ubuntu.com/ubuntu noble-updates/restricted amd64 Packages [2331 kB]\n",
      "Get:16 http://archive.ubuntu.com/ubuntu noble-updates/universe amd64 Packages [1920 kB]\n",
      "Get:17 http://archive.ubuntu.com/ubuntu noble-backports/universe amd64 Packages [35.6 kB]\n",
      "Get:18 http://archive.ubuntu.com/ubuntu noble-backports/main amd64 Packages [48.8 kB]\n",
      "Fetched 33.1 MB in 6s (5772 kB/s)33m \u001b[0m\u001b[33m               \u001b[0m\u001b[33m\n",
      "Reading package lists... Done\n",
      "Building dependency tree... Done\n",
      "Reading state information... Done\n",
      "56 packages can be upgraded. Run 'apt list --upgradable' to see them.\n",
      "Reading package lists... Done\n",
      "Building dependency tree... Done\n",
      "Reading state information... Done\n",
      "The following NEW packages will be installed:\n",
      "  fonts-nanum\n",
      "0 upgraded, 1 newly installed, 0 to remove and 56 not upgraded.\n",
      "Need to get 10.3 MB of archives.\n",
      "After this operation, 34.1 MB of additional disk space will be used.\n",
      "Get:1 http://archive.ubuntu.com/ubuntu noble/universe amd64 fonts-nanum all 20200506-1 [10.3 MB]\n",
      "Fetched 10.3 MB in 3s (3516 kB/s)      \u001b[0m\u001b[33m\n",
      "debconf: delaying package configuration, since apt-utils is not installed\n",
      "\n",
      "\u001b7\u001b[0;23r\u001b8\u001b[1ASelecting previously unselected package fonts-nanum.\n",
      "(Reading database ... 52749 files and directories currently installed.)\n",
      "Preparing to unpack .../fonts-nanum_20200506-1_all.deb ...\n",
      "\u001b7\u001b[24;0f\u001b[42m\u001b[30mProgress: [  0%]\u001b[49m\u001b[39m [..........................................................] \u001b8\u001b7\u001b[24;0f\u001b[42m\u001b[30mProgress: [ 20%]\u001b[49m\u001b[39m [###########...............................................] \u001b8Unpacking fonts-nanum (20200506-1) ...\n",
      "\u001b7\u001b[24;0f\u001b[42m\u001b[30mProgress: [ 40%]\u001b[49m\u001b[39m [#######################...................................] \u001b8Setting up fonts-nanum (20200506-1) ...\n",
      "\u001b7\u001b[24;0f\u001b[42m\u001b[30mProgress: [ 60%]\u001b[49m\u001b[39m [##################################........................] \u001b8\u001b7\u001b[24;0f\u001b[42m\u001b[30mProgress: [ 80%]\u001b[49m\u001b[39m [##############################################............] \u001b8Processing triggers for fontconfig (2.15.0-1.1ubuntu2) ...\n",
      "\n",
      "\u001b7\u001b[0;24r\u001b8\u001b[1A\u001b[J설정된 폰트: NanumBarunGothic\n"
     ]
    }
   ],
   "source": [
    "!sudo apt update\n",
    "!sudo apt install fonts-nanum -y\n",
    "\n",
    "import matplotlib as mpl\n",
    "import matplotlib.pyplot as plt\n",
    "import matplotlib.font_manager as fm\n",
    "import matplotlib.ticker as ticker\n",
    "import logging\n",
    "\n",
    "logging.getLogger(\"matplotlib.font_manager\").setLevel(logging.ERROR)\n",
    "\n",
    "fontpath = \"/usr/share/fonts/truetype/nanum/NanumBarunGothic.ttf\"\n",
    "fontprop = fm.FontProperties(fname=fontpath, size=12)\n",
    "plt.rcParams[\"font.family\"] = fontprop.get_name()\n",
    "\n",
    "print(f\"설정된 폰트: {fontprop.get_name()}\")"
   ]
  },
  {
   "cell_type": "code",
   "execution_count": 19,
   "id": "804748b6-bae1-4c68-bf9e-7805327dbff4",
   "metadata": {},
   "outputs": [
    {
     "data": {
      "image/png": "[encoded data removed]",
      "text/plain": [
       "<Figure size 1800x600 with 4 Axes>"
      ]
     },
     "metadata": {},
     "output_type": "display_data"
    }
   ],
   "source": [
    "# Visualize results\n",
    "sns.set_style('darkgrid')\n",
    "\n",
    "fig, axes = plt.subplots(1, 2, figsize=(18, 6))\n",
    "fig.suptitle('Mini BERT (Tuned) Pre-training Progress', fontsize=16)\n",
    "\n",
    "# NSP Loss and Accuracy\n",
    "color_loss = 'tab:red'\n",
    "axes[0].set_xlabel('Epoch')\n",
    "axes[0].set_ylabel('Loss', color=color_loss)\n",
    "axes[0].plot(history['nsp_loss'], color=color_loss, marker='o', label='NSP Loss')\n",
    "axes[0].tick_params(axis='y', labelcolor=color_loss)\n",
    "\n",
    "ax2 = axes[0].twinx()\n",
    "color_acc = 'tab:blue'\n",
    "ax2.set_ylabel('Accuracy', color=color_acc)\n",
    "ax2.plot(history['nsp_acc'], color=color_acc, marker='s', linestyle='--', label='NSP Accuracy')\n",
    "ax2.tick_params(axis='y', labelcolor=color_acc)\n",
    "\n",
    "axes[0].set_title('NSP (Next Sentence Prediction) Training Result')\n",
    "axes[0].legend(loc='upper left')\n",
    "ax2.legend(loc='upper right')\n",
    "axes[0].grid(True, axis='y', linestyle=':')\n",
    "\n",
    "# MLM Loss and Accuracy\n",
    "color_loss = 'tab:red'\n",
    "axes[1].set_xlabel('Epoch')\n",
    "axes[1].set_ylabel('Loss', color=color_loss)\n",
    "axes[1].plot(history['mlm_loss'], color=color_loss, marker='o', label='MLM Loss')\n",
    "axes[1].tick_params(axis='y', labelcolor=color_loss)\n",
    "\n",
    "ax3 = axes[1].twinx()\n",
    "color_acc = 'tab:blue'\n",
    "ax3.set_ylabel('Accuracy', color=color_acc)\n",
    "ax3.plot(history['mlm_acc'], color=color_acc, marker='s', linestyle='--', label='MLM Accuracy')\n",
    "ax3.tick_params(axis='y', labelcolor=color_acc)\n",
    "\n",
    "axes[1].set_title('MLM (Masked Language Model) Training Result')\n",
    "axes[1].legend(loc='upper left')\n",
    "ax3.legend(loc='upper right')\n",
    "axes[1].grid(True, axis='y', linestyle=':')\n",
    "\n",
    "plt.tight_layout(rect=[0, 0, 1, 0.96])\n",
    "plt.show()"
   ]
  },
  {
   "cell_type": "code",
   "execution_count": 20,
   "id": "8868d7a8-323f-4e2e-85b8-3557e08dfcac",
   "metadata": {},
   "outputs": [],
   "source": [
    "# Performance Test Functions\n",
    "def test_mlm(model, vocab, sentence):\n",
    "    model.eval()\n",
    "    tokens = vocab.encode_as_pieces(sentence)\n",
    "    tokens = [\"[CLS]\"] + tokens + [\"[SEP]\"]\n",
    "\n",
    "    try:\n",
    "        mask_index = tokens.index(\"[MASK]\")\n",
    "    except ValueError:\n",
    "        print(\"Error: '[MASK]' token not found.\")\n",
    "        return\n",
    "\n",
    "    enc_tokens = [vocab.piece_to_id(p) for p in tokens]\n",
    "    segments = [0] * len(enc_tokens)\n",
    "\n",
    "    input_tokens = torch.tensor([enc_tokens], dtype=torch.long).to(device)\n",
    "    input_segments = torch.tensor([segments], dtype=torch.long).to(device)\n",
    "\n",
    "    with torch.no_grad():\n",
    "        _, logits_mlm, _ = model(input_tokens, input_segments)\n",
    "\n",
    "    mask_logits = logits_mlm[0, mask_index, :]\n",
    "    probs = F.softmax(mask_logits, dim=-1)\n",
    "    top_5_probs, top_5_indices = torch.topk(probs, 5)\n",
    "    top_5_tokens = [vocab.id_to_piece(idx.item()) for idx in top_5_indices]\n",
    "\n",
    "    print(f\"\\nInput: {sentence}\")\n",
    "    print(\"-\" * 30)\n",
    "    for i in range(5):\n",
    "        token = top_5_tokens[i].replace(' ', ' ')\n",
    "        print(f\"Top {i+1}: {token} (prob: {top_5_probs[i]:.4f})\")\n",
    "    print(\"-\" * 30)\n",
    "    predicted_word = top_5_tokens[0].replace(' ', '')\n",
    "    print(f\"Prediction: {sentence.replace('[MASK]', predicted_word)}\")"
   ]
  },
  {
   "cell_type": "code",
   "execution_count": 21,
   "id": "f313f15c-6d8f-4c06-80b8-b1339fa12a63",
   "metadata": {},
   "outputs": [],
   "source": [
    "def test_nsp(model, vocab, sent_a, sent_b):\n",
    "    model.eval()\n",
    "    tokens_a = vocab.encode_as_pieces(sent_a)\n",
    "    tokens_b = vocab.encode_as_pieces(sent_b)\n",
    "\n",
    "    tokens = [\"[CLS]\"] + tokens_a + [\"[SEP]\"] + tokens_b + [\"[SEP]\"]\n",
    "    enc_tokens = [vocab.piece_to_id(p) for p in tokens]\n",
    "    segments = [0] * (len(tokens_a) + 2) + [1] * (len(tokens_b) + 1)\n",
    "\n",
    "    padding_needed = n_seq - len(enc_tokens)\n",
    "    if padding_needed > 0:\n",
    "        enc_tokens.extend([0] * padding_needed)\n",
    "        segments.extend([0] * padding_needed)\n",
    "\n",
    "    input_tokens = torch.tensor([enc_tokens], dtype=torch.long).to(device)\n",
    "    input_segments = torch.tensor([segments], dtype=torch.long).to(device)\n",
    "\n",
    "    with torch.no_grad():\n",
    "        logits_nsp, _, _ = model(input_tokens, input_segments)\n",
    "\n",
    "    probs = F.softmax(logits_nsp, dim=-1)\n",
    "    is_next_prob = probs[0, 1].item()\n",
    "\n",
    "    print(f\"\\nSentence A: {sent_a}\")\n",
    "    print(f\"Sentence B: {sent_b}\")\n",
    "    print(\"-\" * 30)\n",
    "    print(f\"Probability that B is the next sentence of A: {is_next_prob:.2%}\")\n",
    "    if is_next_prob > 0.5:\n",
    "        print(\"Prediction: YES, it is the next sentence.\")\n",
    "    else:\n",
    "        print(\"Prediction: NO, it is not the next sentence.\")"
   ]
  },
  {
   "cell_type": "code",
   "execution_count": 22,
   "id": "fe39200c-5dd6-4047-8691-ce1b5f4de066",
   "metadata": {},
   "outputs": [],
   "source": [
    "import matplotlib.font_manager as fm\n",
    "\n",
    "# Attention visualization function\n",
    "def visualize_attention(model, vocab, sentence, layer_idx=-1):\n",
    "    model.eval()\n",
    "\n",
    "    tokens = vocab.encode_as_pieces(sentence)\n",
    "    tokens = [\"[CLS]\"] + tokens + [\"[SEP]\"]\n",
    "\n",
    "    enc_tokens = [vocab.piece_to_id(p) for p in tokens]\n",
    "    segments = [0] * len(enc_tokens)\n",
    "\n",
    "    input_tokens = torch.tensor([enc_tokens], dtype=torch.long).to(device)\n",
    "    input_segments = torch.tensor([segments], dtype=torch.long).to(device)\n",
    "\n",
    "    with torch.no_grad():\n",
    "        _, _, attn_probs = model(input_tokens, input_segments)\n",
    "\n",
    "    attention = attn_probs[layer_idx][0]\n",
    "    attention_matrix = attention.mean(dim=0).cpu().numpy()\n",
    "\n",
    "    font_path = '/usr/share/fonts/truetype/nanum/NanumBarunGothic.ttf'\n",
    "    fontprop = fm.FontProperties(fname=font_path, size=12)\n",
    "\n",
    "    fig, ax = plt.subplots(figsize=(10, 8))\n",
    "    sns.heatmap(attention_matrix, xticklabels=tokens, yticklabels=tokens, \n",
    "                annot=True, fmt=\".2f\", cmap='viridis', ax=ax)\n",
    "    \n",
    "    ax.set_title(f'Layer {layer_idx+len(attn_probs) if layer_idx < 0 else layer_idx+1} Attention Heatmap', \n",
    "                 fontproperties=fontprop, fontsize=15)\n",
    "    plt.xticks(fontproperties=fontprop, rotation=45)\n",
    "    plt.yticks(fontproperties=fontprop)\n",
    "    \n",
    "    plt.show()"
   ]
  },
  {
   "cell_type": "code",
   "execution_count": 23,
   "id": "3c4efcc7-11b6-49af-aad8-a35b0976c30c",
   "metadata": {},
   "outputs": [
    {
     "name": "stdout",
     "output_type": "stream",
     "text": [
      "\n",
      "==================================================\n",
      "========== MLM (Fill-in-the-blank) Test ==========\n",
      "==================================================\n",
      "\n",
      "Input: 대한민국의 수도는 [MASK]이다.\n",
      "------------------------------\n",
      "Top 1: ▁다음을 (prob: 0.6643)\n",
      "Top 2: ▁가리키는 (prob: 0.1166)\n",
      "Top 3: ▁다음 (prob: 0.0678)\n",
      "Top 4: [UNK] (prob: 0.0272)\n",
      "Top 5: ▁사람을 (prob: 0.0264)\n",
      "------------------------------\n",
      "Prediction: 대한민국의 수도는 ▁다음을이다.\n",
      "\n",
      "Input: 오늘 점심으로 [MASK]을 먹고 싶다.\n",
      "------------------------------\n",
      "Top 1: [UNK] (prob: 0.5122)\n",
      "Top 2: ▁사람을 (prob: 0.0250)\n",
      "Top 3: ▁다음과 (prob: 0.0163)\n",
      "Top 4: ▁것을 (prob: 0.0154)\n",
      "Top 5: ▁있는 (prob: 0.0123)\n",
      "------------------------------\n",
      "Prediction: 오늘 점심으로 [UNK]을 먹고 싶다.\n",
      "\n",
      "==================================================\n",
      "====== NSP (Next Sentence Prediction) Test =======\n",
      "==================================================\n",
      "\n",
      "Sentence A: 오늘 날씨가 정말 좋네요.\n",
      "Sentence B: 공원에 산책하러 가야겠어요.\n",
      "------------------------------\n",
      "Probability that B is the next sentence of A: 51.63%\n",
      "Prediction: YES, it is the next sentence.\n",
      "\n",
      "Sentence A: 오늘 날씨가 정말 좋네요.\n",
      "Sentence B: 저녁에는 짜장면을 먹어야지.\n",
      "------------------------------\n",
      "Probability that B is the next sentence of A: 48.83%\n",
      "Prediction: NO, it is not the next sentence.\n"
     ]
    },
    {
     "name": "stderr",
     "output_type": "stream",
     "text": [
      "/opt/conda/lib/python3.12/site-packages/seaborn/utils.py:61: UserWarning: Glyph 45824 (\\N{HANGUL SYLLABLE DAE}) missing from font(s) DejaVu Sans.\n",
      "  fig.canvas.draw()\n",
      "/opt/conda/lib/python3.12/site-packages/seaborn/utils.py:61: UserWarning: Glyph 54620 (\\N{HANGUL SYLLABLE HAN}) missing from font(s) DejaVu Sans.\n",
      "  fig.canvas.draw()\n",
      "/opt/conda/lib/python3.12/site-packages/seaborn/utils.py:61: UserWarning: Glyph 48124 (\\N{HANGUL SYLLABLE MIN}) missing from font(s) DejaVu Sans.\n",
      "  fig.canvas.draw()\n",
      "/opt/conda/lib/python3.12/site-packages/seaborn/utils.py:61: UserWarning: Glyph 44397 (\\N{HANGUL SYLLABLE GUG}) missing from font(s) DejaVu Sans.\n",
      "  fig.canvas.draw()\n",
      "/opt/conda/lib/python3.12/site-packages/seaborn/utils.py:61: UserWarning: Glyph 51032 (\\N{HANGUL SYLLABLE YI}) missing from font(s) DejaVu Sans.\n",
      "  fig.canvas.draw()\n",
      "/opt/conda/lib/python3.12/site-packages/seaborn/utils.py:61: UserWarning: Glyph 49688 (\\N{HANGUL SYLLABLE SU}) missing from font(s) DejaVu Sans.\n",
      "  fig.canvas.draw()\n",
      "/opt/conda/lib/python3.12/site-packages/seaborn/utils.py:61: UserWarning: Glyph 46020 (\\N{HANGUL SYLLABLE DO}) missing from font(s) DejaVu Sans.\n",
      "  fig.canvas.draw()\n",
      "/opt/conda/lib/python3.12/site-packages/seaborn/utils.py:61: UserWarning: Glyph 45716 (\\N{HANGUL SYLLABLE NEUN}) missing from font(s) DejaVu Sans.\n",
      "  fig.canvas.draw()\n",
      "/opt/conda/lib/python3.12/site-packages/seaborn/utils.py:61: UserWarning: Glyph 49436 (\\N{HANGUL SYLLABLE SEO}) missing from font(s) DejaVu Sans.\n",
      "  fig.canvas.draw()\n",
      "/opt/conda/lib/python3.12/site-packages/seaborn/utils.py:61: UserWarning: Glyph 50872 (\\N{HANGUL SYLLABLE UL}) missing from font(s) DejaVu Sans.\n",
      "  fig.canvas.draw()\n",
      "/opt/conda/lib/python3.12/site-packages/seaborn/utils.py:61: UserWarning: Glyph 51060 (\\N{HANGUL SYLLABLE I}) missing from font(s) DejaVu Sans.\n",
      "  fig.canvas.draw()\n",
      "/opt/conda/lib/python3.12/site-packages/seaborn/utils.py:61: UserWarning: Glyph 45796 (\\N{HANGUL SYLLABLE DA}) missing from font(s) DejaVu Sans.\n",
      "  fig.canvas.draw()\n",
      "/opt/conda/lib/python3.12/site-packages/IPython/core/pylabtools.py:170: UserWarning: Glyph 9601 (\\N{LOWER ONE EIGHTH BLOCK}) missing from font(s) NanumBarunGothic.\n",
      "  fig.canvas.print_figure(bytes_io, **kw)\n"
     ]
    },
    {
     "data": {
      "image/png": "[encoded data removed]",
      "text/plain": [
       "<Figure size 1000x800 with 2 Axes>"
      ]
     },
     "metadata": {},
     "output_type": "display_data"
    }
   ],
   "source": [
    "# --- Run tests after training ---\n",
    "print(\"\\n\" + \"=\"*50)\n",
    "print(\" MLM (Fill-in-the-blank) Test \".center(50, \"=\"))\n",
    "print(\"=\"*50)\n",
    "test_mlm(model, vocab, \"대한민국의 수도는 [MASK]이다.\")\n",
    "test_mlm(model, vocab, \"오늘 점심으로 [MASK]을 먹고 싶다.\")\n",
    "\n",
    "print(\"\\n\" + \"=\"*50)\n",
    "print(\" NSP (Next Sentence Prediction) Test \".center(50, \"=\"))\n",
    "print(\"=\"*50)\n",
    "test_nsp(model, vocab, \"오늘 날씨가 정말 좋네요.\", \"공원에 산책하러 가야겠어요.\")\n",
    "test_nsp(model, vocab, \"오늘 날씨가 정말 좋네요.\", \"저녁에는 짜장면을 먹어야지.\")\n",
    "\n",
    "# Test attention visualization\n",
    "test_sentence = \"대한민국의 수도는 서울이다\"\n",
    "visualize_attention(model, vocab, test_sentence)"
   ]
  },
  {
   "cell_type": "code",
   "execution_count": null,
   "id": "44be0a2a-8cc4-43a1-9536-0cbbcb5e0a75",
   "metadata": {},
   "outputs": [],
   "source": []
  }
 ],
 "metadata": {
  "kernelspec": {
   "display_name": "Python 3 (ipykernel)",
   "language": "python",
   "name": "python3"
  },
  "language_info": {
   "codemirror_mode": {
    "name": "ipython",
    "version": 3
   },
   "file_extension": ".py",
   "mimetype": "text/x-python",
   "name": "python",
   "nbconvert_exporter": "python",
   "pygments_lexer": "ipython3",
   "version": "3.12.11"
  }
 },
 "nbformat": 4,
 "nbformat_minor": 5
}
