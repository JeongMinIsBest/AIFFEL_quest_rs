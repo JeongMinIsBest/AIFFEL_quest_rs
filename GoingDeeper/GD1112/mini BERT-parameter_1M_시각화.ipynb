{
 "cells": [
  {
   "cell_type": "markdown",
   "id": "5610a48b-e92e-4da6-a364-87f2505dc60d",
   "metadata": {},
   "source": [
    "# 프로젝트 : mini BERT 만들기\n",
    "- vocab size: 8000\n",
    "- 전체 파라미터 : 1M\n",
    "- epoch : 10"
   ]
  },
  {
   "cell_type": "code",
   "execution_count": 1,
   "id": "3c15f321-8027-40ea-be78-66b49154dc33",
   "metadata": {},
   "outputs": [],
   "source": [
    "from __future__ import absolute_import, division, print_function, unicode_literals\n",
    "\n",
    "import torch\n",
    "import torch.nn as nn\n",
    "import torch.nn.functional as F\n",
    "import torch.optim as optim\n",
    "from torch.utils.data import DataLoader, TensorDataset\n",
    "\n",
    "import os\n",
    "import re\n",
    "import math\n",
    "import numpy as np\n",
    "import pandas as pd\n",
    "import random\n",
    "import collections\n",
    "import json\n",
    "import shutil\n",
    "import zipfile\n",
    "import copy\n",
    "from datetime import datetime\n",
    "\n",
    "import matplotlib.pyplot as plt\n",
    "import seaborn as sns\n",
    "import matplotlib.font_manager as fm\n",
    "import sentencepiece as spm\n",
    "from tqdm.notebook import tqdm"
   ]
  },
  {
   "cell_type": "code",
   "execution_count": 2,
   "id": "a596f8e2-ba17-4fff-b0bb-c09d88b1bf3c",
   "metadata": {},
   "outputs": [
    {
     "name": "stdout",
     "output_type": "stream",
     "text": [
      "Torch 버전: 2.7.1+cu118\n"
     ]
    }
   ],
   "source": [
    "# 재현성을 위한 Random seed 설정\n",
    "random_seed = 1234\n",
    "random.seed(random_seed)\n",
    "np.random.seed(random_seed)\n",
    "torch.manual_seed(random_seed)\n",
    "if torch.cuda.is_available():\n",
    "    torch.cuda.manual_seed_all(random_seed)\n",
    "\n",
    "print(\"Torch 버전:\", torch.__version__)"
   ]
  },
  {
   "cell_type": "markdown",
   "id": "615a1ad5-0abd-45da-a2a5-dc1b0b7ee842",
   "metadata": {},
   "source": [
    "## 1. 토크나이저(Tokenizer) 준비\n",
    "- SentencePiece 모델을 이용해 BERT의 MLM 학습용 데이터를 만듭니다.\n",
    "- 한글 나무 위키 코퍼스(`kowiki.txt`)로부터 8000의 vocab_size를 갖는 sentencepiece 모델을 만듭니다.\n",
    "- BERT에 사용되는 주요 특수문자가 vocab에 포함되도록 합니다: `[PAD], [UNK], [BOS], [EOS], [SEP], [CLS], [MASK]`"
   ]
  },
  {
   "cell_type": "code",
   "execution_count": 3,
   "id": "26a6591f-6a6e-4cbe-8021-a32dd8f874d1",
   "metadata": {},
   "outputs": [
    {
     "data": {
      "text/plain": [
       "'/home/jovyan/work/bert_pretrain'"
      ]
     },
     "execution_count": 3,
     "metadata": {},
     "output_type": "execute_result"
    }
   ],
   "source": [
    "pwd"
   ]
  },
  {
   "cell_type": "code",
   "execution_count": 4,
   "id": "0a0106af-4797-455a-a0be-ac40bee05b4c",
   "metadata": {
    "scrolled": true
   },
   "outputs": [],
   "source": [
    "corpus_file = 'data/kowiki.txt'\n",
    "prefix = 'ko_8000'\n",
    "vocab_size = 8000\n",
    "\n",
    "if not os.path.exists(f'{prefix}.model'):\n",
    "    spm.SentencePieceTrainer.train(\n",
    "        f\"--input={corpus_file} --model_prefix={prefix} --vocab_size={vocab_size + 7}\"\n",
    "        f\" --model_type=bpe --max_sentence_length=999999 --pad_id=0 --pad_piece=[PAD]\"\n",
    "        f\" --unk_id=1 --unk_piece=[UNK] --bos_id=2 --bos_piece=[BOS] --eos_id=3\"\n",
    "        f\" --eos_piece=[EOS] --user_defined_symbols=[SEP],[CLS],[MASK]\"\n",
    "    )\n",
    "\n",
    "vocab = spm.SentencePieceProcessor()\n",
    "vocab.load(f\"{prefix}.model\")\n",
    "\n",
    "vocab_list = []\n",
    "for i in range(7, len(vocab)):\n",
    "    if not vocab.is_unknown(i):\n",
    "        vocab_list.append(vocab.id_to_piece(i))"
   ]
  },
  {
   "cell_type": "markdown",
   "id": "f8a9193d-4024-44ff-84ba-b863a25c0be2",
   "metadata": {},
   "source": [
    "## 2. 데이터 전처리 (1) MASK 생성\n",
    "- BERT의 MLM(Masked Language Model)에 필요한 빈칸(mask)을 생성하는 함수를 정의합니다.\n",
    "- 학습 데이터 전체 토큰의 15%를 마스킹합니다.\n",
    "- 마스킹 전략: 80%는 `[MASK]` 토큰으로, 10%는 랜덤 토큰으로, 10%는 원래 토큰을 그대로 사용합니다."
   ]
  },
  {
   "cell_type": "code",
   "execution_count": 5,
   "id": "25309edc-1f66-4bc4-b79e-6fe4971f2c07",
   "metadata": {},
   "outputs": [],
   "source": [
    "def create_pretrain_mask(tokens, mask_cnt, vocab_list):\n",
    "    \"\"\"\n",
    "    Pre-training을 위한 마스크를 생성하는 함수\n",
    "    :param tokens: 토큰 리스트\n",
    "    :param mask_cnt: 마스킹할 토큰 개수 (전체의 15%)\n",
    "    :param vocab_list: 랜덤 토큰 대체를 위한 어휘 리스트\n",
    "    :return tokens: 마스크가 적용된 토큰\n",
    "    :return mask_idx: 마스킹된 토큰의 인덱스\n",
    "    :return mask_label: 마스킹된 토큰의 원래 값\n",
    "    \"\"\"\n",
    "    # 1. Whole-word-masking을 위해 토큰을 단어 단위로 분할\n",
    "    cand_idx = []\n",
    "    for (i, token) in enumerate(tokens):\n",
    "        if token in [\"[CLS]\", \"[SEP]\"]:\n",
    "            continue\n",
    "        # u\"\\u2581\"는 단어의 시작을 의미\n",
    "        if token.startswith(u\"\\u2581\"):\n",
    "            cand_idx.append([i])\n",
    "        else:\n",
    "            if cand_idx:\n",
    "                cand_idx[-1].append(i)\n",
    "\n",
    "    # 2. 랜덤 마스킹을 위해 단어 순서를 섞음\n",
    "    random.shuffle(cand_idx)\n",
    "\n",
    "    mask_lms = []\n",
    "    for index_set in cand_idx:\n",
    "        if len(mask_lms) >= mask_cnt:\n",
    "            break\n",
    "        # 현재 단어를 추가하면 mask_cnt를 초과할 경우 건너뜀\n",
    "        if len(mask_lms) + len(index_set) > mask_cnt:\n",
    "            continue\n",
    "        \n",
    "        # 80%는 [MASK], 10%는 랜덤 단어, 10%는 원본 유지\n",
    "        dice = random.random()\n",
    "        for index in index_set:\n",
    "            masked_token = None\n",
    "            if dice < 0.8:\n",
    "                masked_token = \"[MASK]\"\n",
    "            elif dice < 0.9:\n",
    "                masked_token = tokens[index]\n",
    "            else:\n",
    "                masked_token = random.choice(vocab_list)\n",
    "            \n",
    "            mask_lms.append({\"index\": index, \"label\": tokens[index]})\n",
    "            tokens[index] = masked_token\n",
    "\n",
    "    # 3. 인덱스 순으로 정렬 후 mask_idx와 mask_label 추출\n",
    "    mask_lms = sorted(mask_lms, key=lambda x: x[\"index\"])\n",
    "    mask_idx = [p[\"index\"] for p in mask_lms]\n",
    "    mask_label = [p[\"label\"] for p in mask_lms]\n",
    "\n",
    "    return tokens, mask_idx, mask_label"
   ]
  },
  {
   "cell_type": "markdown",
   "id": "f563c609-2659-4a0d-a7e9-715c46c372da",
   "metadata": {},
   "source": [
    "## 3. 데이터 전처리 (2) NSP pair 생성\n",
    "- BERT의 pretrain 과제인 NSP(Next Sentence Prediction)를 위한 데이터 쌍을 생성하는 함수를 정의합니다.\n",
    "- 50%의 확률로 실제 이어지는 문장(is_next=1)과 랜덤으로 추출된 문장(is_next=0)을 쌍으로 만듭니다.\n",
    "- 문장 구분을 위해 세그먼트 임베딩 값(0 또는 1)을 부여합니다."
   ]
  },
  {
   "cell_type": "code",
   "execution_count": 6,
   "id": "c8fbf6fe-acfe-4d00-b642-bec4c5d5b71e",
   "metadata": {},
   "outputs": [],
   "source": [
    "def trim_tokens(tokens_a, tokens_b, max_seq):\n",
    "    \"\"\" 두 시퀀스의 길이가 최대 길이를 넘지 않도록 자르는 함수 \"\"\"\n",
    "    while True:\n",
    "        total_length = len(tokens_a) + len(tokens_b)\n",
    "        if total_length <= max_seq:\n",
    "            break\n",
    "        if len(tokens_a) > len(tokens_b):\n",
    "            tokens_a.pop()\n",
    "        else:\n",
    "            tokens_b.pop()\n",
    "\n",
    "def create_pretrain_instances(vocab, doc, n_seq, mask_prob, vocab_list):\n",
    "    \"\"\" 한 문서(document)에서 pre-training 인스턴스를 생성하는 함수 \"\"\"\n",
    "    # [CLS], [SEP], [SEP] 토큰 3개를 고려하여 최대 길이를 n_seq - 3으로 설정\n",
    "    max_seq = n_seq - 3\n",
    "\n",
    "    instances = []\n",
    "    current_chunk = []\n",
    "    current_length = 0\n",
    "    for i in range(len(doc)):\n",
    "        current_chunk.append(doc[i])\n",
    "        current_length += len(doc[i])\n",
    "        \n",
    "        if i == len(doc) - 1 or current_length >= max_seq:\n",
    "            if current_chunk:\n",
    "                a_end = 1\n",
    "                if len(current_chunk) > 1:\n",
    "                    a_end = random.randrange(1, len(current_chunk))\n",
    "                \n",
    "                tokens_a = []\n",
    "                for j in range(a_end):\n",
    "                    tokens_a.extend(current_chunk[j])\n",
    "                \n",
    "                tokens_b = []\n",
    "                is_next = 1 # 기본값: 실제 이어지는 문장 (IsNext)\n",
    "                if len(current_chunk) > 1 and random.random() < 0.5:\n",
    "                    is_next = 0 # 50% 확률로 이어지지 않는 문장 (NotNext)\n",
    "                    # 이 경우, 다른 문서에서 tokens_b를 가져와야 하지만, \n",
    "                    # 이 코드에서는 간단하게 A와 B를 바꾸는 방식으로 구현\n",
    "                    temp = tokens_a\n",
    "                    tokens_a = tokens_b\n",
    "                    tokens_b = temp\n",
    "                \n",
    "                for j in range(a_end, len(current_chunk)):\n",
    "                    tokens_b.extend(current_chunk[j])\n",
    "                \n",
    "                trim_tokens(tokens_a, tokens_b, max_seq)\n",
    "                if not tokens_a or not tokens_b:\n",
    "                    continue\n",
    "\n",
    "                # 최종 토큰 및 세그먼트 ID 구성\n",
    "                tokens = [\"[CLS]\"] + tokens_a + [\"[SEP]\"] + tokens_b + [\"[SEP]\"]\n",
    "                segment = [0] * (len(tokens_a) + 2) + [1] * (len(tokens_b) + 1)\n",
    "                \n",
    "                # 마스킹 적용\n",
    "                mask_cnt = int((len(tokens) - 3) * mask_prob)\n",
    "                tokens, mask_idx, mask_label = create_pretrain_mask(tokens, mask_cnt, vocab_list)\n",
    "\n",
    "                instance = {\n",
    "                    \"tokens\": tokens,\n",
    "                    \"segment\": segment,\n",
    "                    \"is_next\": is_next,\n",
    "                    \"mask_idx\": mask_idx,\n",
    "                    \"mask_label\": mask_label\n",
    "                }\n",
    "                instances.append(instance)\n",
    "\n",
    "            current_chunk = []\n",
    "            current_length = 0\n",
    "            \n",
    "    return instances"
   ]
  },
  {
   "cell_type": "markdown",
   "id": "33e20202-0651-45ce-86ec-edc468a43952",
   "metadata": {},
   "source": [
    "## 4. 데이터 전처리 (3) 데이터셋 완성\n",
    "- 위에서 정의한 함수들을 사용해 전체 `kowiki.txt` 코퍼스를 BERT pretrain 데이터셋으로 변환합니다.\n",
    "- 생성된 데이터는 json 포맷으로 저장합니다.\n",
    "- 대용량 데이터를 효율적으로 다루기 위해 `np.memmap`을 사용하여 데이터를 로드하는 함수를 정의합니다."
   ]
  },
  {
   "cell_type": "code",
   "execution_count": 7,
   "id": "d7360b87-5e2b-4bc8-a9ce-8e544ca57942",
   "metadata": {},
   "outputs": [],
   "source": [
    "def make_pretrain_data(vocab, in_file, out_file, n_seq, mask_prob=0.15):\n",
    "    \"\"\" Pre-training 데이터를 생성하여 파일로 저장하는 함수 \"\"\"\n",
    "    \n",
    "    vocab_list = [vocab.id_to_piece(i) for i in range(7, len(vocab)) if not vocab.is_unknown(i)]\n",
    "    \n",
    "    line_cnt = 0\n",
    "    with open(in_file, \"r\") as f:\n",
    "        for _ in f:\n",
    "            line_cnt += 1\n",
    "\n",
    "    with open(in_file, \"r\") as in_f, open(out_file, \"w\") as out_f:\n",
    "        doc = []\n",
    "        for line in tqdm(in_f, total=line_cnt, desc=\"데이터 생성 중\"):\n",
    "            line = line.strip()\n",
    "            if not line: # 빈 줄이면 문단(doc) 처리\n",
    "                if doc:\n",
    "                    instances = create_pretrain_instances(vocab, doc, n_seq, mask_prob, vocab_list)\n",
    "                    for instance in instances:\n",
    "                        out_f.write(json.dumps(instance, ensure_ascii=False))\n",
    "                        out_f.write(\"\\n\")\n",
    "                    doc = []\n",
    "            else:\n",
    "                pieces = vocab.encode_as_pieces(line)\n",
    "                if pieces:\n",
    "                    doc.append(pieces)\n",
    "        \n",
    "        if doc: # 파일 끝에 남은 doc 처리\n",
    "            instances = create_pretrain_instances(vocab, doc, n_seq, mask_prob, vocab_list)\n",
    "            for instance in instances:\n",
    "                out_f.write(json.dumps(instance, ensure_ascii=False))\n",
    "                out_f.write(\"\\n\")"
   ]
  },
  {
   "cell_type": "code",
   "execution_count": 8,
   "id": "42ec635a-ba85-49b8-a0ae-7d7c32f0669c",
   "metadata": {},
   "outputs": [
    {
     "name": "stdout",
     "output_type": "stream",
     "text": [
      "Pre-training 데이터가 이미 존재하여 생성을 건너뜁니다.\n"
     ]
    }
   ],
   "source": [
    "pretrain_json_path = 'bert_pre_train.json'\n",
    "n_seq = 128 # 시퀀스 길이\n",
    "\n",
    "if not os.path.exists(pretrain_json_path):\n",
    "    print(\"Pre-training 데이터가 없습니다. 새로 생성합니다...\")\n",
    "    make_pretrain_data(vocab, corpus_file, pretrain_json_path, n_seq)\n",
    "    print(\"데이터 생성이 완료되었습니다.\")\n",
    "else:\n",
    "    print(\"Pre-training 데이터가 이미 존재하여 생성을 건너뜁니다.\")\n",
    "\n",
    "def load_pre_train_data(vocab, filename, n_seq, count=None):\n",
    "    \"\"\"\n",
    "    메모리 매핑(memory-mapped) numpy 배열로 pre-training 데이터를 로드하는 함수\n",
    "    \"\"\"\n",
    "    line_total = 0\n",
    "    with open(filename, \"r\") as f:\n",
    "        for _ in f:\n",
    "            line_total += 1\n",
    "\n",
    "    total = count if count is not None and count < line_total else line_total\n",
    "    \n",
    "    # np.memmap을 사용하여 메모리를 효율적으로 사용\n",
    "    enc_tokens = np.memmap(filename='enc_tokens.memmap', mode='w+', dtype=np.int32, shape=(total, n_seq))\n",
    "    segments = np.memmap(filename='segments.memmap', mode='w+', dtype=np.int32, shape=(total, n_seq))\n",
    "    labels_nsp = np.memmap(filename='labels_nsp.memmap', mode='w+', dtype=np.int32, shape=(total,))\n",
    "    labels_mlm = np.memmap(filename='labels_mlm.memmap', mode='w+', dtype=np.int32, shape=(total, n_seq))\n",
    "\n",
    "    with open(filename, \"r\") as f:\n",
    "        for i, line in enumerate(tqdm(f, total=total, desc=\"데이터 로딩 중\")):\n",
    "            if i >= total:\n",
    "                break\n",
    "            data = json.loads(line)\n",
    "            \n",
    "            # 인코더 입력\n",
    "            enc_token = [vocab.piece_to_id(p) for p in data[\"tokens\"]]\n",
    "            enc_token += [0] * (n_seq - len(enc_token))\n",
    "            \n",
    "            # 세그먼트 입력\n",
    "            segment = data[\"segment\"]\n",
    "            segment += [0] * (n_seq - len(segment))\n",
    "\n",
    "            # NSP 레이블\n",
    "            label_nsp = data[\"is_next\"]\n",
    "\n",
    "            # MLM 레이블\n",
    "            mask_idx = np.array(data[\"mask_idx\"], dtype=np.int32)\n",
    "            mask_label = np.array([vocab.piece_to_id(p) for p in data[\"mask_label\"]], dtype=np.int32)\n",
    "            label_mlm = np.full(n_seq, dtype=np.int32, fill_value=0)\n",
    "            if mask_idx.size > 0:\n",
    "                label_mlm[mask_idx] = mask_label\n",
    "\n",
    "            enc_tokens[i] = enc_token\n",
    "            segments[i] = segment\n",
    "            labels_nsp[i] = label_nsp\n",
    "            labels_mlm[i] = label_mlm\n",
    "\n",
    "    return (enc_tokens, segments), (labels_nsp, labels_mlm)"
   ]
  },
  {
   "cell_type": "code",
   "execution_count": 9,
   "id": "4b62db87-60b2-4222-84a0-ba6b413625aa",
   "metadata": {},
   "outputs": [
    {
     "data": {
      "application/vnd.jupyter.widget-view+json": {
       "model_id": "65133ba7f25e43f69109c95668afd3c8",
       "version_major": 2,
       "version_minor": 0
      },
      "text/plain": [
       "데이터 로딩 중:   0%|          | 0/128000 [00:00<?, ?it/s]"
      ]
     },
     "metadata": {},
     "output_type": "display_data"
    }
   ],
   "source": [
    "pre_train_inputs, pre_train_labels = load_pre_train_data(vocab, pretrain_json_path, n_seq, count=128000)"
   ]
  },
  {
   "cell_type": "code",
   "execution_count": 10,
   "id": "60fe2930-7b20-4927-a0e2-6aa0aa9903ad",
   "metadata": {},
   "outputs": [
    {
     "data": {
      "text/plain": [
       "(memmap([   5,    1,    1, 3324, 1042,  104, 3610, 3686, 3718,    1,    1,\n",
       "          416,    1, 3625,  160, 3662,    7, 3629,  203,  241, 3602,    1,\n",
       "          788,  243,    1,  796,  663, 1648,    1, 3625,    6,    6,    6,\n",
       "            6,    6,    6,    4,    1,  207,    1,    1, 3646,  630, 3714,\n",
       "            1,  429,    1, 3626,    1,    6,    6,    1,    1,    1,    1,\n",
       "         3599,   13,   81,    1, 2247,    1, 3873,    1, 3813, 3873, 4196,\n",
       "         3636,    1,    1, 1233,    1, 3599,    1, 3625,  243, 2780,   14,\n",
       "         1510,    1,  414,  166,    6,    6,    6,    6,    6,  593,   21,\n",
       "         5007,    6,    1,  813,   17, 3599,  307,    1,  104, 4313, 4290,\n",
       "            1, 3718,   99, 3878,    1, 2543,  309,  337,    1, 3616, 3603,\n",
       "            1, 3599,    6,    6,    1,    6,    1, 2378,    1,    1, 3293,\n",
       "           13,    1, 2386, 2163, 3596, 3671,    4], dtype=int32),\n",
       " memmap([   5, 2191, 3599,    1,   81, 3604,  342, 2674, 3625,  294,    1,\n",
       "            6,    1, 2540, 3600,  488,    1, 2524,    1,  171, 3599,  330,\n",
       "         3604,    1,    6,    1, 3682, 3625, 2131,    1,    1,  761, 4254,\n",
       "          658,  171, 3599,   13,    6,    1,    1,  496,    1, 1911, 3633,\n",
       "            1,  664,  925,    1, 1053,    1, 3614, 2419, 2470, 3604,    1,\n",
       "         3602,  838,    1, 3760,  824, 3526,    1,    1, 3599,    4,  371,\n",
       "         3604,   29, 4018, 3793, 1327, 3787,   66,  412,    1,   28, 3599,\n",
       "         1327,    1,    6, 2573,   66, 1600, 3653,  639,    1,  353, 3599,\n",
       "            1,    1, 1327,    1,   19,  402,    6,    6,    6,    6,    6,\n",
       "         2743,   31, 3599,    6,    1,    6,    6,    6,    6,    6,    6,\n",
       "            6,    6,    1, 3616,    9,    1, 1600, 3653,  639,  254,  238,\n",
       "          787, 2654,  784, 3604, 1926,  259,    4], dtype=int32),\n",
       " memmap([0, 0, 0, 0, 0, 0, 0, 0, 0, 0, 0, 0, 0, 0, 0, 0, 0, 0, 0, 0, 0, 0,\n",
       "         0, 0, 0, 0, 0, 0, 0, 0, 0, 0, 0, 0, 0, 0, 0, 1, 1, 1, 1, 1, 1, 1,\n",
       "         1, 1, 1, 1, 1, 1, 1, 1, 1, 1, 1, 1, 1, 1, 1, 1, 1, 1, 1, 1, 1, 1,\n",
       "         1, 1, 1, 1, 1, 1, 1, 1, 1, 1, 1, 1, 1, 1, 1, 1, 1, 1, 1, 1, 1, 1,\n",
       "         1, 1, 1, 1, 1, 1, 1, 1, 1, 1, 1, 1, 1, 1, 1, 1, 1, 1, 1, 1, 1, 1,\n",
       "         1, 1, 1, 1, 1, 1, 1, 1, 1, 1, 1, 1, 1, 1, 1, 1, 1, 1], dtype=int32),\n",
       " memmap([0, 0, 0, 0, 0, 0, 0, 0, 0, 0, 0, 0, 0, 0, 0, 0, 0, 0, 0, 0, 0, 0,\n",
       "         0, 0, 0, 0, 0, 0, 0, 0, 0, 0, 0, 0, 0, 0, 0, 0, 0, 0, 0, 0, 0, 0,\n",
       "         0, 0, 0, 0, 0, 0, 0, 0, 0, 0, 0, 0, 0, 0, 0, 0, 0, 0, 0, 0, 0, 1,\n",
       "         1, 1, 1, 1, 1, 1, 1, 1, 1, 1, 1, 1, 1, 1, 1, 1, 1, 1, 1, 1, 1, 1,\n",
       "         1, 1, 1, 1, 1, 1, 1, 1, 1, 1, 1, 1, 1, 1, 1, 1, 1, 1, 1, 1, 1, 1,\n",
       "         1, 1, 1, 1, 1, 1, 1, 1, 1, 1, 1, 1, 1, 1, 1, 1, 1, 1], dtype=int32),\n",
       " np.int32(1),\n",
       " np.int32(0),\n",
       " memmap([   0,    0,    0,    0,    0,    0,    0,    0,    0,    0,    0,\n",
       "            0,    0,    0,    0,    0,    0,    0,    0,    0,    0,    0,\n",
       "            0,    0,    0,    0,    0,    0,    0,    0,  203, 3009, 3625,\n",
       "         3616,   16, 3599,    0,    0,    0,    0,    0,    0,    0,    0,\n",
       "            0,    0,    0,    0,    0, 1607, 3599,    0,    0,    0,    0,\n",
       "            0,    0,    0,    0,    0,    0,    0,    0,    0,    0,    0,\n",
       "            0,    0,    0,    0,    0,    0,    0,    0,    0,    0,    0,\n",
       "            0,    0,    0,    0, 1697, 4290, 3873, 3703, 3683,    0,    0,\n",
       "            0,  399,    0,    0,    0,    0,    0,    0,    0,    0,    0,\n",
       "            0,    0,    0,    0,    0,    0,    0,    0,    0,    0,    0,\n",
       "            0,    0,    1, 3625,    0,   37,    0, 2378,    0,    0,    0,\n",
       "            0,    0,    0,    0,    0,    0,    0], dtype=int32),\n",
       " memmap([   0,    0,    0,    0,    0,    0,    0,    0,    0,    0,    0,\n",
       "           89,    0,    0,    0,    0,    0,    0,    0,    0,    0,    0,\n",
       "            0,    0,    1,    0,    0,    0,    0,    0,    0,    0,    0,\n",
       "            0,    0,    0,    0,    1,    0,    0,    0,    0,    0,    0,\n",
       "            0,    0,    0,    0,    0,    0,    0,    0,    0,    0,    0,\n",
       "            0,    0,    0,    0,    0,    0,    0,    0,    0,    0,    0,\n",
       "            0,    0,    0,    0,    0,    0,    0,    0,    0,    0,    0,\n",
       "            0,    0,    1,    0,    0,    0,    0,    0,    0,    0,    0,\n",
       "            0,    0,    0,    0,    0,    0,  231,    1,    1, 3607, 2042,\n",
       "            0,    0,    0,    1,    0, 1912, 3604,   68, 3650, 3617, 3067,\n",
       "         4116, 3601,    0,    0,    0,    0,    0,    0,    0,    0,    0,\n",
       "            0,    0,    0,    0,    0,    0,    0], dtype=int32))"
      ]
     },
     "execution_count": 10,
     "metadata": {},
     "output_type": "execute_result"
    }
   ],
   "source": [
    "# 처음과 마지막 확인\n",
    "pre_train_inputs[0][0], pre_train_inputs[0][-1], pre_train_inputs[1][0], pre_train_inputs[1][-1], pre_train_labels[0][0], pre_train_labels[0][-1], pre_train_labels[1][0], pre_train_labels[1][-1]"
   ]
  },
  {
   "cell_type": "markdown",
   "id": "ca3cfc46-cb1d-4c51-b0d1-cf501678a247",
   "metadata": {},
   "source": [
    "## 5. BERT 모델 구현\n",
    "- `pad mask`, `GELU` 활성화 함수 등 BERT 모델에 필요한 구성 요소들을 정의합니다.\n",
    "- `SharedEmbedding`, `MultiHeadAttention`, `PositionWiseFeedForward`, `EncoderLayer` 등 Transformer의 핵심 레이어를 클래스로 구현합니다.\n",
    "- 최종적으로 이들을 조합하여 pretrain을 위한 BERT 모델을 완성합니다."
   ]
  },
  {
   "cell_type": "code",
   "execution_count": 11,
   "id": "26746e8a-d105-424a-b2bd-6917ee3b2d08",
   "metadata": {},
   "outputs": [],
   "source": [
    "def get_pad_mask(tokens, i_pad=0):\n",
    "    mask = (tokens == i_pad).float()\n",
    "    return mask.unsqueeze(1).expand(-1, tokens.size(1), -1)\n",
    "\n",
    "# GELU 함수 직접 정의\n",
    "def gelu(x):\n",
    "    return 0.5 * x * (1 + torch.tanh(math.sqrt(2 / math.pi) * (x + 0.044715 * torch.pow(x, 3))))\n",
    "\n",
    "class Config(dict):\n",
    "    __getattr__ = dict.__getitem__\n",
    "    __setattr__ = dict.__setitem__\n",
    "\n",
    "class SharedEmbedding(nn.Module):\n",
    "    def __init__(self, config):\n",
    "        super().__init__()\n",
    "        self.shared_weights = nn.Parameter(torch.Tensor(config.n_vocab, config.d_model))\n",
    "        nn.init.trunc_normal_(self.shared_weights, std=0.02)\n",
    "    def forward(self, inputs, mode=\"embedding\"):\n",
    "        if mode == \"embedding\": return F.embedding(inputs, self.shared_weights)\n",
    "        elif mode == \"linear\": return F.linear(inputs, self.shared_weights)\n",
    "\n",
    "class PositionEmbedding(nn.Module):\n",
    "    def __init__(self, config):\n",
    "        super().__init__()\n",
    "        self.embedding = nn.Embedding(config.n_seq, config.d_model)\n",
    "        nn.init.trunc_normal_(self.embedding.weight, std=0.02)\n",
    "    def forward(self, inputs):\n",
    "        position = torch.arange(inputs.size(1), device=inputs.device).unsqueeze(0)\n",
    "        return self.embedding(position)\n",
    "\n",
    "class MultiHeadAttention(nn.Module):\n",
    "    def __init__(self, config):\n",
    "        super().__init__()\n",
    "        self.config = config\n",
    "        self.W_Q = nn.Linear(config.d_model, config.n_head * config.d_head)\n",
    "        self.W_K = nn.Linear(config.d_model, config.n_head * config.d_head)\n",
    "        self.W_V = nn.Linear(config.d_model, config.n_head * config.d_head)\n",
    "        self.W_O = nn.Linear(config.n_head * config.d_head, config.d_model)\n",
    "    def forward(self, Q, K, V, attn_mask):\n",
    "        batch_size = Q.size(0)\n",
    "        q_s = self.W_Q(Q).view(batch_size, -1, self.config.n_head, self.config.d_head).transpose(1, 2)\n",
    "        k_s = self.W_K(K).view(batch_size, -1, self.config.n_head, self.config.d_head).transpose(1, 2)\n",
    "        v_s = self.W_V(V).view(batch_size, -1, self.config.n_head, self.config.d_head).transpose(1, 2)\n",
    "        attn_mask = attn_mask.unsqueeze(1).repeat(1, self.config.n_head, 1, 1)\n",
    "        scores = torch.matmul(q_s, k_s.transpose(-1, -2)) / np.sqrt(self.config.d_head)\n",
    "        scores.masked_fill_(attn_mask.bool(), -1e9)\n",
    "        attn_prob = nn.Softmax(dim=-1)(scores)\n",
    "        context = torch.matmul(attn_prob, v_s)\n",
    "        context = context.transpose(1, 2).contiguous().view(batch_size, -1, self.config.n_head * self.config.d_head)\n",
    "        output = self.W_O(context)\n",
    "        return output, attn_prob\n",
    "\n",
    "class PositionWiseFeedForward(nn.Module):\n",
    "    def __init__(self, config):\n",
    "        super().__init__()\n",
    "        self.W_1 = nn.Linear(config.d_model, config.d_ff)\n",
    "        self.W_2 = nn.Linear(config.d_ff, config.d_model)\n",
    "    def forward(self, inputs):\n",
    "        return self.W_2(gelu(self.W_1(inputs)))\n",
    "\n",
    "class EncoderLayer(nn.Module):\n",
    "    def __init__(self, config):\n",
    "        super().__init__()\n",
    "        self.self_attention = MultiHeadAttention(config)\n",
    "        self.norm1 = nn.LayerNorm(config.d_model, eps=config.layernorm_epsilon)\n",
    "        self.ffn = PositionWiseFeedForward(config)\n",
    "        self.norm2 = nn.LayerNorm(config.d_model, eps=config.layernorm_epsilon)\n",
    "        self.dropout = nn.Dropout(config.dropout)\n",
    "    def forward(self, enc_embed, self_mask):\n",
    "        attn_out, attn_prob = self.self_attention(enc_embed, enc_embed, enc_embed, self_mask)\n",
    "        norm1_out = self.norm1(enc_embed + self.dropout(attn_out))\n",
    "        ffn_out = self.ffn(norm1_out)\n",
    "        enc_out = self.norm2(norm1_out + self.dropout(ffn_out))\n",
    "        return enc_out, attn_prob\n",
    "\n",
    "class BERT(nn.Module):\n",
    "    def __init__(self, config):\n",
    "        super().__init__()\n",
    "        self.config = config\n",
    "        self.embedding = SharedEmbedding(config)\n",
    "        self.position = PositionEmbedding(config)\n",
    "        self.segment = nn.Embedding(2, config.d_model)\n",
    "        self.norm = nn.LayerNorm(config.d_model, eps=config.layernorm_epsilon)\n",
    "        self.dropout = nn.Dropout(config.dropout)\n",
    "        self.encoder_layers = nn.ModuleList([EncoderLayer(config) for _ in range(config.n_layer)])\n",
    "    def forward(self, enc_tokens, segments):\n",
    "        enc_self_mask = get_pad_mask(enc_tokens, self.config.i_pad)\n",
    "        embed = self.embedding(enc_tokens) + self.position(enc_tokens) + self.segment(segments)\n",
    "        embed = self.norm(embed)\n",
    "        enc_out = self.dropout(embed)\n",
    "        attn_probs = []\n",
    "        for layer in self.encoder_layers:\n",
    "            enc_out, attn_prob = layer(enc_out, enc_self_mask)\n",
    "            attn_probs.append(attn_prob)\n",
    "        return enc_out, attn_probs\n",
    "\n",
    "class PreTrainModel(nn.Module):\n",
    "    def __init__(self, config):\n",
    "        super().__init__()\n",
    "        self.bert = BERT(config)\n",
    "        self.nsp_classifier = nn.Linear(config.d_model, 2)\n",
    "        self.mlm_output = self.bert.embedding\n",
    "    def forward(self, enc_tokens, segments):\n",
    "        enc_tokens = enc_tokens.long()\n",
    "        segments = segments.long()\n",
    "        bert_out, attn_probs = self.bert(enc_tokens, segments)\n",
    "        logits_cls = self.nsp_classifier(bert_out[:, 0, :])\n",
    "        logits_lm = self.mlm_output(bert_out, mode=\"linear\")\n",
    "        return logits_cls, logits_lm, attn_probs"
   ]
  },
  {
   "cell_type": "markdown",
   "id": "bc2d249a-74a6-4613-914e-ee479c542be6",
   "metadata": {},
   "source": [
    "### Mini BERT 모델 하이퍼파라미터 설정\n",
    "- 프로젝트 요구사항에 맞춰 `vocab_size=8000`, 전체 파라미터 약 1M가 되도록 `Config`를 설정합니다.\n",
    "- `d_model=256`, `n_layer=2`, `d_ff=1024` 등으로 설정하여 약 120만 개의 파라미터를 갖는 모델을 구성했습니다."
   ]
  },
  {
   "cell_type": "code",
   "execution_count": 12,
   "id": "711b9f03-9810-4949-b15e-5332a5f96ac6",
   "metadata": {},
   "outputs": [
    {
     "name": "stdout",
     "output_type": "stream",
     "text": [
      "실제 어휘 수: 8007\n"
     ]
    }
   ],
   "source": [
    "# 훈련된 토크나이저의 실제 어휘 수를 가져옵니다.\n",
    "actual_vocab_size = vocab.get_piece_size() \n",
    "print(f\"실제 어휘 수: {actual_vocab_size}\") # 8007이 출력되어야 합니다."
   ]
  },
  {
   "cell_type": "code",
   "execution_count": 13,
   "id": "d4720ac1-5891-4f60-9d4a-4772f4f2c1c6",
   "metadata": {},
   "outputs": [
    {
     "name": "stdout",
     "output_type": "stream",
     "text": [
      "모델의 학습 가능한 파라미터 수: 1,005,218\n"
     ]
    }
   ],
   "source": [
    "# 모델 설정 (Config)\n",
    "actual_vocab_size = vocab.get_piece_size()\n",
    "config = Config({\n",
    "    \"d_model\": 96,\n",
    "    \"n_layer\": 2,\n",
    "    \"n_head\": 4,\n",
    "    \"d_head\": 24,\n",
    "    \"dropout\": 0.1,\n",
    "    \"d_ff\": 384,\n",
    "    \"layernorm_epsilon\": 1e-12,\n",
    "    \"n_seq\": n_seq,\n",
    "    \"n_vocab\": actual_vocab_size,\n",
    "    \"i_pad\": 0\n",
    "})\n",
    "model = PreTrainModel(config)\n",
    "print(f\"모델의 학습 가능한 파라미터 수: {sum(p.numel() for p in model.parameters() if p.requires_grad):,}\")"
   ]
  },
  {
   "cell_type": "markdown",
   "id": "b4fc9cb6-e524-467e-af8c-1f2a91292f9c",
   "metadata": {},
   "source": [
    "## 6. pretrain 진행\n",
    "- 코사인 러닝레이트 스케줄러(`CosineSchedule`)를 구현합니다.\n",
    "- 10 Epoch 동안 모델 학습을 진행하고, 매 에포크마다 NSP와 MLM의 loss 및 accuracy를 기록합니다.\n",
    "- 학습이 완료된 모델은 epoch별로 저장됩니다."
   ]
  },
  {
   "cell_type": "code",
   "execution_count": 19,
   "id": "2a465c2a-3b5b-4f8c-bee7-e8b3d1774547",
   "metadata": {},
   "outputs": [
    {
     "name": "stdout",
     "output_type": "stream",
     "text": [
      "사용 장치: cuda\n"
     ]
    }
   ],
   "source": [
    "epochs = 10\n",
    "batch_size = 64\n",
    "\n",
    "# 장치 설정 (GPU 우선 사용)\n",
    "device = torch.device(\"cuda\" if torch.cuda.is_available() else \"cpu\")\n",
    "print(f\"사용 장치: {device}\")\n",
    "model.to(device)\n",
    "\n",
    "# DataLoader 준비\n",
    "train_dataset = TensorDataset(\n",
    "    torch.from_numpy(pre_train_inputs[0]),\n",
    "    torch.from_numpy(pre_train_inputs[1]),\n",
    "    torch.from_numpy(pre_train_labels[0]),\n",
    "    torch.from_numpy(pre_train_labels[1])\n",
    ")\n",
    "train_dataloader = DataLoader(train_dataset, batch_size=batch_size, shuffle=True)\n",
    "\n",
    "# 옵티마이저, 손실 함수, 스케줄러 설정\n",
    "optimizer = optim.Adam(model.parameters(), lr=1e-4)\n",
    "loss_fn_nsp = nn.CrossEntropyLoss()\n",
    "loss_fn_mlm = nn.CrossEntropyLoss(ignore_index=config.i_pad)"
   ]
  },
  {
   "cell_type": "code",
   "execution_count": 22,
   "id": "9d54ab7b-320e-4956-87af-af455fbfa41f",
   "metadata": {},
   "outputs": [],
   "source": [
    "# CosineSchedule 클래스 정의\n",
    "class CosineSchedule:\n",
    "    def __init__(self, optimizer, train_steps, warmup_steps, max_lr):\n",
    "        self.optimizer, self.train_steps, self.warmup_steps, self.max_lr = optimizer, train_steps, warmup_steps, max_lr\n",
    "        self.step_num = 0\n",
    "    def get_lr(self):\n",
    "        if self.step_num < self.warmup_steps: return self.max_lr * self.step_num / self.warmup_steps\n",
    "        else:\n",
    "            progress = (self.step_num - self.warmup_steps) / (self.train_steps - self.warmup_steps)\n",
    "            return self.max_lr * 0.5 * (1 + math.cos(math.pi * progress))\n",
    "    def step(self):\n",
    "        self.step_num += 1\n",
    "        lr = self.get_lr()\n",
    "        for param_group in self.optimizer.param_groups: param_group['lr'] = lr\n",
    "\n",
    "train_steps = len(train_dataloader) * epochs\n",
    "warmup_steps = train_steps // 10\n",
    "scheduler = CosineSchedule(optimizer, train_steps, warmup_steps, max_lr=1e-4)"
   ]
  },
  {
   "cell_type": "code",
   "execution_count": 21,
   "id": "bda71c78-a48c-4002-bc43-0e70ab464ad9",
   "metadata": {},
   "outputs": [
    {
     "data": {
      "application/vnd.jupyter.widget-view+json": {
       "model_id": "e5c37aa1d33b421f9de3fd07dcb9cf12",
       "version_major": 2,
       "version_minor": 0
      },
      "text/plain": [
       "Epoch 1/10:   0%|          | 0/2000 [00:00<?, ?it/s]"
      ]
     },
     "metadata": {},
     "output_type": "display_data"
    },
    {
     "name": "stdout",
     "output_type": "stream",
     "text": [
      "\n",
      "Epoch 1 결과 | NSP Loss: 0.6435, MLM Loss: 6.9756 | NSP Acc: 0.5882, MLM Acc: 0.2546\n"
     ]
    },
    {
     "data": {
      "application/vnd.jupyter.widget-view+json": {
       "model_id": "4f0674c09db1497681a1762a95a50084",
       "version_major": 2,
       "version_minor": 0
      },
      "text/plain": [
       "Epoch 2/10:   0%|          | 0/2000 [00:00<?, ?it/s]"
      ]
     },
     "metadata": {},
     "output_type": "display_data"
    },
    {
     "name": "stdout",
     "output_type": "stream",
     "text": [
      "\n",
      "Epoch 2 결과 | NSP Loss: 0.6051, MLM Loss: 5.7569 | NSP Acc: 0.5969, MLM Acc: 0.2989\n"
     ]
    },
    {
     "data": {
      "application/vnd.jupyter.widget-view+json": {
       "model_id": "14169c5a7e3849ca89f3c8d115152aa1",
       "version_major": 2,
       "version_minor": 0
      },
      "text/plain": [
       "Epoch 3/10:   0%|          | 0/2000 [00:00<?, ?it/s]"
      ]
     },
     "metadata": {},
     "output_type": "display_data"
    },
    {
     "name": "stdout",
     "output_type": "stream",
     "text": [
      "\n",
      "Epoch 3 결과 | NSP Loss: 0.5916, MLM Loss: 5.7523 | NSP Acc: 0.5969, MLM Acc: 0.2989\n"
     ]
    },
    {
     "data": {
      "application/vnd.jupyter.widget-view+json": {
       "model_id": "097b6940844c4b0097e85ca41151fc37",
       "version_major": 2,
       "version_minor": 0
      },
      "text/plain": [
       "Epoch 4/10:   0%|          | 0/2000 [00:00<?, ?it/s]"
      ]
     },
     "metadata": {},
     "output_type": "display_data"
    },
    {
     "name": "stdout",
     "output_type": "stream",
     "text": [
      "\n",
      "Epoch 4 결과 | NSP Loss: 0.5899, MLM Loss: 5.7433 | NSP Acc: 0.5985, MLM Acc: 0.2999\n"
     ]
    },
    {
     "data": {
      "application/vnd.jupyter.widget-view+json": {
       "model_id": "d6a70db4c71c4eefb68af143e07ea5b2",
       "version_major": 2,
       "version_minor": 0
      },
      "text/plain": [
       "Epoch 5/10:   0%|          | 0/2000 [00:00<?, ?it/s]"
      ]
     },
     "metadata": {},
     "output_type": "display_data"
    },
    {
     "name": "stdout",
     "output_type": "stream",
     "text": [
      "\n",
      "Epoch 5 결과 | NSP Loss: 0.5884, MLM Loss: 5.7280 | NSP Acc: 0.6006, MLM Acc: 0.3016\n"
     ]
    },
    {
     "data": {
      "application/vnd.jupyter.widget-view+json": {
       "model_id": "21e79fa555294e38ac9e675dfe4340d1",
       "version_major": 2,
       "version_minor": 0
      },
      "text/plain": [
       "Epoch 6/10:   0%|          | 0/2000 [00:00<?, ?it/s]"
      ]
     },
     "metadata": {},
     "output_type": "display_data"
    },
    {
     "name": "stdout",
     "output_type": "stream",
     "text": [
      "\n",
      "Epoch 6 결과 | NSP Loss: 0.5868, MLM Loss: 5.7150 | NSP Acc: 0.6021, MLM Acc: 0.3023\n"
     ]
    },
    {
     "data": {
      "application/vnd.jupyter.widget-view+json": {
       "model_id": "253951bf1f704aaaa02b448f31c4ac13",
       "version_major": 2,
       "version_minor": 0
      },
      "text/plain": [
       "Epoch 7/10:   0%|          | 0/2000 [00:00<?, ?it/s]"
      ]
     },
     "metadata": {},
     "output_type": "display_data"
    },
    {
     "name": "stdout",
     "output_type": "stream",
     "text": [
      "\n",
      "Epoch 7 결과 | NSP Loss: 0.5861, MLM Loss: 5.7043 | NSP Acc: 0.6039, MLM Acc: 0.3041\n"
     ]
    },
    {
     "data": {
      "application/vnd.jupyter.widget-view+json": {
       "model_id": "e96021dff84b4059a73e7398fc6b923d",
       "version_major": 2,
       "version_minor": 0
      },
      "text/plain": [
       "Epoch 8/10:   0%|          | 0/2000 [00:00<?, ?it/s]"
      ]
     },
     "metadata": {},
     "output_type": "display_data"
    },
    {
     "name": "stdout",
     "output_type": "stream",
     "text": [
      "\n",
      "Epoch 8 결과 | NSP Loss: 0.5852, MLM Loss: 5.6981 | NSP Acc: 0.6044, MLM Acc: 0.3047\n"
     ]
    },
    {
     "data": {
      "application/vnd.jupyter.widget-view+json": {
       "model_id": "4f6da70254e44fdc98346e74a31a15a0",
       "version_major": 2,
       "version_minor": 0
      },
      "text/plain": [
       "Epoch 9/10:   0%|          | 0/2000 [00:00<?, ?it/s]"
      ]
     },
     "metadata": {},
     "output_type": "display_data"
    },
    {
     "name": "stdout",
     "output_type": "stream",
     "text": [
      "\n",
      "Epoch 9 결과 | NSP Loss: 0.5845, MLM Loss: 5.6949 | NSP Acc: 0.6044, MLM Acc: 0.3049\n"
     ]
    },
    {
     "data": {
      "application/vnd.jupyter.widget-view+json": {
       "model_id": "2a35f3130d0c429d87b9041962beee87",
       "version_major": 2,
       "version_minor": 0
      },
      "text/plain": [
       "Epoch 10/10:   0%|          | 0/2000 [00:00<?, ?it/s]"
      ]
     },
     "metadata": {},
     "output_type": "display_data"
    },
    {
     "name": "stdout",
     "output_type": "stream",
     "text": [
      "\n",
      "Epoch 10 결과 | NSP Loss: 0.5847, MLM Loss: 5.6937 | NSP Acc: 0.6045, MLM Acc: 0.3049\n"
     ]
    }
   ],
   "source": [
    "history = collections.defaultdict(list)\n",
    "for epoch in range(epochs):\n",
    "    model.train()\n",
    "    \n",
    "    total_nsp_loss, total_mlm_loss = 0, 0\n",
    "    total_nsp_correct, total_mlm_correct = 0, 0\n",
    "    total_nsp_count, total_mlm_count = 0, 0\n",
    "    \n",
    "    progress_bar = tqdm(train_dataloader, desc=f\"Epoch {epoch+1}/{epochs}\")\n",
    "    for batch in progress_bar:\n",
    "        enc_tokens_b, segments_b, labels_nsp_b, labels_mlm_b = [b.to(device) for b in batch]\n",
    "        \n",
    "        optimizer.zero_grad()\n",
    "        scheduler.step()\n",
    "        \n",
    "        # 모델 forward pass 수정: 반환값을 3개로 받음\n",
    "        logits_nsp, logits_mlm, _ = model(enc_tokens_b, segments_b)\n",
    "\n",
    "        # 손실 계산\n",
    "        loss_nsp = loss_fn_nsp(logits_nsp, labels_nsp_b.long())\n",
    "        loss_mlm = loss_fn_mlm(logits_mlm.view(-1, config.n_vocab), labels_mlm_b.view(-1).long())\n",
    "        total_loss = loss_nsp + loss_mlm\n",
    "        \n",
    "        total_loss.backward()\n",
    "        optimizer.step()\n",
    "        \n",
    "        # 통계 업데이트\n",
    "        total_nsp_loss += loss_nsp.item()\n",
    "        total_mlm_loss += loss_mlm.item()\n",
    "        \n",
    "        # 정확도 계산\n",
    "        nsp_preds = logits_nsp.argmax(dim=-1)\n",
    "        total_nsp_correct += (nsp_preds == labels_nsp_b).sum().item()\n",
    "        total_nsp_count += labels_nsp_b.size(0)\n",
    "        \n",
    "        mlm_preds = logits_mlm.argmax(dim=-1)\n",
    "        mlm_mask = (labels_mlm_b != config.i_pad)\n",
    "        total_mlm_correct += ((mlm_preds == labels_mlm_b) & mlm_mask).sum().item()\n",
    "        total_mlm_count += mlm_mask.sum().item()\n",
    "        \n",
    "        progress_bar.set_postfix({\n",
    "            'lr': f'{optimizer.param_groups[0][\"lr\"]:.2e}',\n",
    "            'nsp_loss': f'{total_nsp_loss / (progress_bar.n + 1):.4f}',\n",
    "            'mlm_loss': f'{total_mlm_loss / (progress_bar.n + 1):.4f}'\n",
    "        })\n",
    "\n",
    "    # 에포크 결과 기록\n",
    "    avg_nsp_loss = total_nsp_loss / len(train_dataloader)\n",
    "    avg_mlm_loss = total_mlm_loss / len(train_dataloader)\n",
    "    nsp_acc = total_nsp_correct / total_nsp_count\n",
    "    mlm_acc = total_mlm_correct / total_mlm_count\n",
    "    \n",
    "    history['nsp_loss'].append(avg_nsp_loss)\n",
    "    history['mlm_loss'].append(avg_mlm_loss)\n",
    "    history['nsp_acc'].append(nsp_acc)\n",
    "    history['mlm_acc'].append(mlm_acc)\n",
    "    \n",
    "    print(\n",
    "        f\"\\nEpoch {epoch+1} 결과 | \"\n",
    "        f\"NSP Loss: {avg_nsp_loss:.4f}, MLM Loss: {avg_mlm_loss:.4f} | \"\n",
    "        f\"NSP Acc: {nsp_acc:.4f}, MLM Acc: {mlm_acc:.4f}\"\n",
    "    )\n",
    "    \n",
    "    # 모델 체크포인트 저장\n",
    "    if not os.path.exists('work'):\n",
    "        os.makedirs('work')\n",
    "    torch.save(model.state_dict(), f\"work/bert_pre_train_epoch_{epoch+1}.pt\")"
   ]
  },
  {
   "cell_type": "markdown",
   "id": "1dde519f-8903-4f2d-85bd-ea20953c079c",
   "metadata": {},
   "source": [
    "## 7. 프로젝트 결과\n",
    "- 10 Epoch 동안의 학습 결과를 시각화합니다.\n",
    "- NSP(Next Sentence Prediction)와 MLM(Masked Language Modeling) 각각의 Loss와 Accuracy가 어떻게 변화하는지 그래프로 확인합니다.\n",
    "- 모델이 작기 때문에 Loss가 불안정할 수 있지만, 전반적으로 수렴하는 경향을 보이는지 확인합니다."
   ]
  },
  {
   "cell_type": "code",
   "execution_count": 23,
   "id": "8868d7a8-323f-4e2e-85b8-3557e08dfcac",
   "metadata": {},
   "outputs": [],
   "source": [
    "model.eval()  # 모델을 평가 모드로 설정\n",
    "device = torch.device(\"cuda\" if torch.cuda.is_available() else \"cpu\")\n",
    "\n",
    "# 1. 빈칸 채우기 (MLM) 테스트 함수\n",
    "def test_mlm(model, vocab, sentence):\n",
    "    tokens = vocab.encode_as_pieces(sentence)\n",
    "    tokens = [\"[CLS]\"] + tokens + [\"[SEP]\"]\n",
    "    try:\n",
    "        mask_index = tokens.index(\"[MASK]\")\n",
    "    except ValueError:\n",
    "        print(\"Error: '[MASK]' token not found.\")\n",
    "        return\n",
    "\n",
    "    enc_tokens = [vocab.piece_to_id(p) for p in tokens]\n",
    "    segments = [0] * len(enc_tokens)\n",
    "    input_tokens = torch.tensor([enc_tokens], dtype=torch.long).to(device)\n",
    "    input_segments = torch.tensor([segments], dtype=torch.long).to(device)\n",
    "\n",
    "    with torch.no_grad():\n",
    "        _, logits_mlm, _ = model(input_tokens, input_segments)\n",
    "\n",
    "    mask_logits = logits_mlm[0, mask_index, :]\n",
    "    probs = F.softmax(mask_logits, dim=-1)\n",
    "    top_5_probs, top_5_indices = torch.topk(probs, 5)\n",
    "    top_5_tokens = [vocab.id_to_piece(idx.item()) for idx in top_5_indices]\n",
    "\n",
    "    print(f\"\\nInput: {sentence}\")\n",
    "    print(\"-\" * 30)\n",
    "    for i in range(5):\n",
    "        token = top_5_tokens[i].replace(' ', ' ')\n",
    "        print(f\"Top {i+1}: {token} (prob: {top_5_probs[i]:.4f})\")\n",
    "    print(\"-\" * 30)\n",
    "    predicted_word = top_5_tokens[0].replace(' ', '')\n",
    "    print(f\"Prediction: {sentence.replace('[MASK]', predicted_word)}\")"
   ]
  },
  {
   "cell_type": "code",
   "execution_count": 24,
   "id": "f313f15c-6d8f-4c06-80b8-b1339fa12a63",
   "metadata": {},
   "outputs": [],
   "source": [
    "# 2. 이어지는 문장 맞추기 (NSP) 테스트 함수\n",
    "def test_nsp(model, vocab, sent_a, sent_b):\n",
    "    tokens_a = vocab.encode_as_pieces(sent_a)\n",
    "    tokens_b = vocab.encode_as_pieces(sent_b)\n",
    "    tokens = [\"[CLS]\"] + tokens_a + [\"[SEP]\"] + tokens_b + [\"[SEP]\"]\n",
    "    enc_tokens = [vocab.piece_to_id(p) for p in tokens]\n",
    "    segments = [0] * (len(tokens_a) + 2) + [1] * (len(tokens_b) + 1)\n",
    "    \n",
    "    padding_needed = config.n_seq - len(enc_tokens)\n",
    "    if padding_needed > 0:\n",
    "        enc_tokens.extend([0] * padding_needed)\n",
    "        segments.extend([0] * padding_needed)\n",
    "    \n",
    "    input_tokens = torch.tensor([enc_tokens], dtype=torch.long).to(device)\n",
    "    input_segments = torch.tensor([segments], dtype=torch.long).to(device)\n",
    "    \n",
    "    with torch.no_grad():\n",
    "        logits_nsp, _, _ = model(input_tokens, input_segments)\n",
    "    \n",
    "    probs = F.softmax(logits_nsp, dim=-1)\n",
    "    is_next_prob = probs[0, 1].item()\n",
    "    \n",
    "    print(f\"\\nSentence A: {sent_a}\")\n",
    "    print(f\"Sentence B: {sent_b}\")\n",
    "    print(\"-\" * 30)\n",
    "    print(f\"Probability that B is the next sentence of A: {is_next_prob:.2%}\")\n",
    "    if is_next_prob > 0.5:\n",
    "        print(\"Prediction: YES, it is the next sentence.\")\n",
    "    else:\n",
    "        print(\"Prediction: NO, it is not the next sentence.\")"
   ]
  },
  {
   "cell_type": "code",
   "execution_count": 27,
   "id": "9145dede-59c0-4c19-b27e-667bb2803bd9",
   "metadata": {
    "scrolled": true
   },
   "outputs": [
    {
     "name": "stdout",
     "output_type": "stream",
     "text": [
      "Get:1 http://security.ubuntu.com/ubuntu noble-security InRelease [126 kB]\n",
      "Get:2 http://archive.ubuntu.com/ubuntu noble InRelease [256 kB]\n",
      "Get:3 http://security.ubuntu.com/ubuntu noble-security/restricted amd64 Packages [2159 kB]\n",
      "Get:4 http://archive.ubuntu.com/ubuntu noble-updates InRelease [126 kB]\n",
      "Get:5 http://archive.ubuntu.com/ubuntu noble-backports InRelease [126 kB]\n",
      "Get:6 http://archive.ubuntu.com/ubuntu noble/restricted amd64 Packages [117 kB]\n",
      "Get:7 http://archive.ubuntu.com/ubuntu noble/multiverse amd64 Packages [331 kB]\n",
      "Get:8 http://security.ubuntu.com/ubuntu noble-security/universe amd64 Packages [1135 kB]\n",
      "Get:9 http://security.ubuntu.com/ubuntu noble-security/main amd64 Packages [1408 kB]\n",
      "Get:10 http://archive.ubuntu.com/ubuntu noble/universe amd64 Packages [19.3 MB]\u001b[0m\u001b[33m\n",
      "Get:11 http://security.ubuntu.com/ubuntu noble-security/multiverse amd64 Packages [23.0 kB]\n",
      "Get:12 http://archive.ubuntu.com/ubuntu noble/main amd64 Packages [1808 kB][33m\n",
      "Get:13 http://archive.ubuntu.com/ubuntu noble-updates/universe amd64 Packages [1920 kB]\n",
      "Get:14 http://archive.ubuntu.com/ubuntu noble-updates/restricted amd64 Packages [2331 kB]\n",
      "Get:15 http://archive.ubuntu.com/ubuntu noble-updates/multiverse amd64 Packages [58.1 kB]\n",
      "Get:16 http://archive.ubuntu.com/ubuntu noble-updates/main amd64 Packages [1761 kB]\n",
      "Get:17 http://archive.ubuntu.com/ubuntu noble-backports/universe amd64 Packages [35.6 kB]\n",
      "Get:18 http://archive.ubuntu.com/ubuntu noble-backports/main amd64 Packages [48.8 kB]\n",
      "Fetched 33.1 MB in 6s (5600 kB/s)33m[0m\u001b[33m\n",
      "Reading package lists... Done\n",
      "Building dependency tree... Done\n",
      "Reading state information... Done\n",
      "56 packages can be upgraded. Run 'apt list --upgradable' to see them.\n",
      "Reading package lists... Done\n",
      "Building dependency tree... Done\n",
      "Reading state information... Done\n",
      "The following NEW packages will be installed:\n",
      "  fonts-nanum\n",
      "0 upgraded, 1 newly installed, 0 to remove and 56 not upgraded.\n",
      "Need to get 10.3 MB of archives.\n",
      "After this operation, 34.1 MB of additional disk space will be used.\n",
      "Get:1 http://archive.ubuntu.com/ubuntu noble/universe amd64 fonts-nanum all 20200506-1 [10.3 MB]\n",
      "Fetched 10.3 MB in 3s (3694 kB/s)      \u001b[0m\u001b[33m\n",
      "debconf: delaying package configuration, since apt-utils is not installed\n",
      "\n",
      "\u001b7\u001b[0;23r\u001b8\u001b[1ASelecting previously unselected package fonts-nanum.\n",
      "(Reading database ... 52749 files and directories currently installed.)\n",
      "Preparing to unpack .../fonts-nanum_20200506-1_all.deb ...\n",
      "\u001b7\u001b[24;0f\u001b[42m\u001b[30mProgress: [  0%]\u001b[49m\u001b[39m [..........................................................] \u001b8\u001b7\u001b[24;0f\u001b[42m\u001b[30mProgress: [ 20%]\u001b[49m\u001b[39m [###########...............................................] \u001b8Unpacking fonts-nanum (20200506-1) ...\n",
      "\u001b7\u001b[24;0f\u001b[42m\u001b[30mProgress: [ 40%]\u001b[49m\u001b[39m [#######################...................................] \u001b8Setting up fonts-nanum (20200506-1) ...\n",
      "\u001b7\u001b[24;0f\u001b[42m\u001b[30mProgress: [ 60%]\u001b[49m\u001b[39m [##################################........................] \u001b8\u001b7\u001b[24;0f\u001b[42m\u001b[30mProgress: [ 80%]\u001b[49m\u001b[39m [##############################################............] \u001b8Processing triggers for fontconfig (2.15.0-1.1ubuntu2) ...\n",
      "\n",
      "\u001b7\u001b[0;24r\u001b8\u001b[1A\u001b[J설정된 폰트: NanumBarunGothic\n"
     ]
    }
   ],
   "source": [
    "!sudo apt update\n",
    "!sudo apt install fonts-nanum -y\n",
    "\n",
    "import matplotlib as mpl\n",
    "import matplotlib.pyplot as plt\n",
    "import matplotlib.font_manager as fm\n",
    "import matplotlib.ticker as ticker\n",
    "import logging\n",
    "\n",
    "logging.getLogger(\"matplotlib.font_manager\").setLevel(logging.ERROR)\n",
    "\n",
    "fontpath = \"/usr/share/fonts/truetype/nanum/NanumBarunGothic.ttf\"\n",
    "fontprop = fm.FontProperties(fname=fontpath, size=12)\n",
    "plt.rcParams[\"font.family\"] = fontprop.get_name()\n",
    "\n",
    "print(f\"설정된 폰트: {fontprop.get_name()}\")"
   ]
  },
  {
   "cell_type": "code",
   "execution_count": 29,
   "id": "fe39200c-5dd6-4047-8691-ce1b5f4de066",
   "metadata": {},
   "outputs": [],
   "source": [
    "# 3. 어텐션 시각화 함수\n",
    "def visualize_attention(model, vocab, sentence):\n",
    "    font_path = '/usr/share/fonts/truetype/nanum/NanumBarunGothic.ttf'\n",
    "    fontprop = fm.FontProperties(fname=font_path, size=12)\n",
    "    \n",
    "    model.eval()\n",
    "    tokens = vocab.encode_as_pieces(sentence)\n",
    "    tokens = [\"[CLS]\"] + tokens + [\"[SEP]\"]\n",
    "    enc_tokens = [vocab.piece_to_id(p) for p in tokens]\n",
    "    segments = [0] * len(enc_tokens)\n",
    "    \n",
    "    input_tokens = torch.tensor([enc_tokens], dtype=torch.long).to(device)\n",
    "    input_segments = torch.tensor([segments], dtype=torch.long).to(device)\n",
    "    \n",
    "    with torch.no_grad():\n",
    "        _, _, attn_probs = model(input_tokens, input_segments)\n",
    "        \n",
    "    last_layer_attention = attn_probs[-1][0]\n",
    "    attention_matrix = last_layer_attention.mean(dim=0).cpu().numpy()\n",
    "    \n",
    "    fig, ax = plt.subplots(figsize=(10, 8))\n",
    "    sns.heatmap(attention_matrix, xticklabels=tokens, yticklabels=tokens, annot=True, fmt=\".2f\", cmap='viridis', ax=ax)\n",
    "    ax.set_title(f'Layer {len(attn_probs)} Attention Heatmap', fontproperties=fontprop, fontsize=15)\n",
    "    plt.xticks(fontproperties=fontprop, rotation=45)\n",
    "    plt.yticks(fontproperties=fontprop)\n",
    "    plt.show()"
   ]
  },
  {
   "cell_type": "code",
   "execution_count": 30,
   "id": "3c4efcc7-11b6-49af-aad8-a35b0976c30c",
   "metadata": {},
   "outputs": [
    {
     "name": "stdout",
     "output_type": "stream",
     "text": [
      "\n",
      "==================================================\n",
      "========== MLM (Fill-in-the-blank) Test ==========\n",
      "==================================================\n",
      "\n",
      "Input: 대한민국의 수도는 [MASK]이다.\n",
      "------------------------------\n",
      "Top 1: [UNK] (prob: 0.3244)\n",
      "Top 2: . (prob: 0.0273)\n",
      "Top 3: , (prob: 0.0270)\n",
      "Top 4: 년 (prob: 0.0084)\n",
      "Top 5: ( (prob: 0.0068)\n",
      "------------------------------\n",
      "Prediction: 대한민국의 수도는 [UNK]이다.\n",
      "\n",
      "Input: 오늘 점심으로 [MASK]을 먹고 싶다.\n",
      "------------------------------\n",
      "Top 1: [UNK] (prob: 0.2966)\n",
      "Top 2: . (prob: 0.0293)\n",
      "Top 3: , (prob: 0.0273)\n",
      "Top 4: 년 (prob: 0.0085)\n",
      "Top 5: ( (prob: 0.0070)\n",
      "------------------------------\n",
      "Prediction: 오늘 점심으로 [UNK]을 먹고 싶다.\n",
      "\n",
      "==================================================\n",
      "====== NSP (Next Sentence Prediction) Test =======\n",
      "==================================================\n",
      "\n",
      "Sentence A: 오늘 날씨가 정말 좋네요.\n",
      "Sentence B: 공원에 산책하러 가야겠어요.\n",
      "------------------------------\n",
      "Probability that B is the next sentence of A: 42.68%\n",
      "Prediction: NO, it is not the next sentence.\n",
      "\n",
      "Sentence A: 오늘 날씨가 정말 좋네요.\n",
      "Sentence B: 저녁에는 짜장면을 먹어야지.\n",
      "------------------------------\n",
      "Probability that B is the next sentence of A: 42.38%\n",
      "Prediction: NO, it is not the next sentence.\n",
      "\n",
      "==================================================\n",
      "============ Attention Visualization =============\n",
      "==================================================\n"
     ]
    },
    {
     "name": "stderr",
     "output_type": "stream",
     "text": [
      "/opt/conda/lib/python3.12/site-packages/seaborn/utils.py:61: UserWarning: Glyph 45824 (\\N{HANGUL SYLLABLE DAE}) missing from font(s) DejaVu Sans.\n",
      "  fig.canvas.draw()\n",
      "/opt/conda/lib/python3.12/site-packages/seaborn/utils.py:61: UserWarning: Glyph 54620 (\\N{HANGUL SYLLABLE HAN}) missing from font(s) DejaVu Sans.\n",
      "  fig.canvas.draw()\n",
      "/opt/conda/lib/python3.12/site-packages/seaborn/utils.py:61: UserWarning: Glyph 48124 (\\N{HANGUL SYLLABLE MIN}) missing from font(s) DejaVu Sans.\n",
      "  fig.canvas.draw()\n",
      "/opt/conda/lib/python3.12/site-packages/seaborn/utils.py:61: UserWarning: Glyph 44397 (\\N{HANGUL SYLLABLE GUG}) missing from font(s) DejaVu Sans.\n",
      "  fig.canvas.draw()\n",
      "/opt/conda/lib/python3.12/site-packages/seaborn/utils.py:61: UserWarning: Glyph 51032 (\\N{HANGUL SYLLABLE YI}) missing from font(s) DejaVu Sans.\n",
      "  fig.canvas.draw()\n",
      "/opt/conda/lib/python3.12/site-packages/seaborn/utils.py:61: UserWarning: Glyph 49688 (\\N{HANGUL SYLLABLE SU}) missing from font(s) DejaVu Sans.\n",
      "  fig.canvas.draw()\n",
      "/opt/conda/lib/python3.12/site-packages/seaborn/utils.py:61: UserWarning: Glyph 46020 (\\N{HANGUL SYLLABLE DO}) missing from font(s) DejaVu Sans.\n",
      "  fig.canvas.draw()\n",
      "/opt/conda/lib/python3.12/site-packages/seaborn/utils.py:61: UserWarning: Glyph 45716 (\\N{HANGUL SYLLABLE NEUN}) missing from font(s) DejaVu Sans.\n",
      "  fig.canvas.draw()\n",
      "/opt/conda/lib/python3.12/site-packages/seaborn/utils.py:61: UserWarning: Glyph 49436 (\\N{HANGUL SYLLABLE SEO}) missing from font(s) DejaVu Sans.\n",
      "  fig.canvas.draw()\n",
      "/opt/conda/lib/python3.12/site-packages/seaborn/utils.py:61: UserWarning: Glyph 50872 (\\N{HANGUL SYLLABLE UL}) missing from font(s) DejaVu Sans.\n",
      "  fig.canvas.draw()\n",
      "/opt/conda/lib/python3.12/site-packages/seaborn/utils.py:61: UserWarning: Glyph 51060 (\\N{HANGUL SYLLABLE I}) missing from font(s) DejaVu Sans.\n",
      "  fig.canvas.draw()\n",
      "/opt/conda/lib/python3.12/site-packages/seaborn/utils.py:61: UserWarning: Glyph 45796 (\\N{HANGUL SYLLABLE DA}) missing from font(s) DejaVu Sans.\n",
      "  fig.canvas.draw()\n",
      "/opt/conda/lib/python3.12/site-packages/IPython/core/pylabtools.py:170: UserWarning: Glyph 9601 (\\N{LOWER ONE EIGHTH BLOCK}) missing from font(s) NanumBarunGothic.\n",
      "  fig.canvas.print_figure(bytes_io, **kw)\n"
     ]
    },
    {
     "data": {
      "image/png": "[encoded data removed]",
      "text/plain": [
       "<Figure size 1000x800 with 2 Axes>"
      ]
     },
     "metadata": {},
     "output_type": "display_data"
    }
   ],
   "source": [
    "# --- 테스트 실행 ---\n",
    "print(\"\\n\" + \"=\"*50)\n",
    "print(\" MLM (Fill-in-the-blank) Test \".center(50, \"=\"))\n",
    "print(\"=\"*50)\n",
    "test_mlm(model, vocab, \"대한민국의 수도는 [MASK]이다.\")\n",
    "test_mlm(model, vocab, \"오늘 점심으로 [MASK]을 먹고 싶다.\")\n",
    "\n",
    "print(\"\\n\" + \"=\"*50)\n",
    "print(\" NSP (Next Sentence Prediction) Test \".center(50, \"=\"))\n",
    "print(\"=\"*50)\n",
    "test_nsp(model, vocab, \"오늘 날씨가 정말 좋네요.\", \"공원에 산책하러 가야겠어요.\")\n",
    "test_nsp(model, vocab, \"오늘 날씨가 정말 좋네요.\", \"저녁에는 짜장면을 먹어야지.\")\n",
    "\n",
    "print(\"\\n\" + \"=\"*50)\n",
    "print(\" Attention Visualization \".center(50, \"=\"))\n",
    "print(\"=\"*50)\n",
    "visualize_attention(model, vocab, \"대한민국의 수도는 서울이다.\")"
   ]
  },
  {
   "cell_type": "code",
   "execution_count": null,
   "id": "44be0a2a-8cc4-43a1-9536-0cbbcb5e0a75",
   "metadata": {},
   "outputs": [],
   "source": []
  }
 ],
 "metadata": {
  "kernelspec": {
   "display_name": "Python 3 (ipykernel)",
   "language": "python",
   "name": "python3"
  },
  "language_info": {
   "codemirror_mode": {
    "name": "ipython",
    "version": 3
   },
   "file_extension": ".py",
   "mimetype": "text/x-python",
   "name": "python",
   "nbconvert_exporter": "python",
   "pygments_lexer": "ipython3",
   "version": "3.12.11"
  }
 },
 "nbformat": 4,
 "nbformat_minor": 5
}
