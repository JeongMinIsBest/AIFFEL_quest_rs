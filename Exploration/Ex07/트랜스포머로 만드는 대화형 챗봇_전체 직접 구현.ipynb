{
 "cells": [
  {
   "cell_type": "markdown",
   "id": "5ee279c3-375c-457f-9d6c-dfb0a37af60f",
   "metadata": {},
   "source": [
    "# 트랜스포머로 만드는 대화형 챗봇 프로젝트 🌠"
   ]
  },
  {
   "cell_type": "markdown",
   "id": "51f00eb7-1661-4673-b4c2-f43176549f99",
   "metadata": {},
   "source": [
    "#### 전처리 전략\n",
    "- 전처리 함수 ```normalize_ko``` 정의\n",
    "- 특수 문자 제거 / 영어 대문자 소문자 변환 / 반복 구두점, ㅋㅋ, ㅎㅎ 줄이기\n",
    "- SentencePiece 학습을 위해 정제된 Q/A 쌍을 따로 저장하고 나서 토크나이저 학습\n",
    "\n",
    "#### 데이터셋 구성\n",
    "- ChatDataset에서 Q/A 쌍을 불러와 ```torch.tensor```로 변환\n",
    "- 길이 정보까지 반환하여 Collate 함수에서 총 4개의 값이 반환\n",
    "\n",
    "#### 모델 구조\n",
    "- Attention / Positional Encoding / MultiHead Attention 직접 구현\n",
    "\n",
    "#### 학습 및 평가\n",
    "- 학습 루프에서 CorssEntropyLoss, Gradient Clipping 적용\n",
    "- 학습 이후 Validation Loss 계산\n",
    "\n",
    "#### 추론\n",
    "- greedy_decode(msg) 함수 이용 (입력 문장 토크나이징 - 트렌스포머 - 토큰 생성 반복 - 디코딩)"
   ]
  },
  {
   "cell_type": "markdown",
   "id": "4ca601ea-1827-4f15-8168-722000337741",
   "metadata": {},
   "source": [
    "### 1. 라이브러리 불러오기"
   ]
  },
  {
   "cell_type": "markdown",
   "id": "35529d33-2c74-4d3e-9bb4-7e9c42f42bde",
   "metadata": {},
   "source": [
    "- ```SentencePiece``` : 텍스트 토큰화 라이브러리로, 특히 한국어와 일본어 같이 띄어쓰기 구분이 애매한 언어에서 자주 사용됩니다."
   ]
  },
  {
   "cell_type": "code",
   "execution_count": 1,
   "id": "8e16eefe-dd9e-421f-a6c5-4edf07f58c6b",
   "metadata": {},
   "outputs": [],
   "source": [
    "!pip install -q torch sentencepiece pandas tqdm scikit-learn"
   ]
  },
  {
   "cell_type": "code",
   "execution_count": 2,
   "id": "b102366c-9f45-46a2-bd0e-eaaa86b1fd6a",
   "metadata": {},
   "outputs": [],
   "source": [
    "# 패키지 임포트\n",
    "\n",
    "import os, re, unicodedata, random\n",
    "import pandas as pd\n",
    "import sentencepiece as spm\n",
    "\n",
    "import math, time, random\n",
    "import torch\n",
    "import torch.nn as nn\n",
    "import torch.optim as optim\n",
    "from torch.utils.data import Dataset, DataLoader\n",
    "\n",
    "from sklearn.model_selection import train_test_split"
   ]
  },
  {
   "cell_type": "markdown",
   "id": "45d62ef2-e95e-47da-a8c4-0b688fed4d27",
   "metadata": {},
   "source": [
    "### 2. 데이터 전처리"
   ]
  },
  {
   "cell_type": "code",
   "execution_count": 3,
   "id": "5c94e9f9-2c91-4a10-a8fc-da86531d81e0",
   "metadata": {},
   "outputs": [
    {
     "data": {
      "text/plain": [
       "'/home/jovyan/work/0818'"
      ]
     },
     "execution_count": 3,
     "metadata": {},
     "output_type": "execute_result"
    }
   ],
   "source": [
    "pwd"
   ]
  },
  {
   "cell_type": "code",
   "execution_count": 4,
   "id": "8035b399-c132-4eab-99f7-04ca88aacd21",
   "metadata": {},
   "outputs": [
    {
     "data": {
      "text/html": [
       "<div>\n",
       "<style scoped>\n",
       "    .dataframe tbody tr th:only-of-type {\n",
       "        vertical-align: middle;\n",
       "    }\n",
       "\n",
       "    .dataframe tbody tr th {\n",
       "        vertical-align: top;\n",
       "    }\n",
       "\n",
       "    .dataframe thead th {\n",
       "        text-align: right;\n",
       "    }\n",
       "</style>\n",
       "<table border=\"1\" class=\"dataframe\">\n",
       "  <thead>\n",
       "    <tr style=\"text-align: right;\">\n",
       "      <th></th>\n",
       "      <th>Q</th>\n",
       "      <th>A</th>\n",
       "      <th>label</th>\n",
       "    </tr>\n",
       "  </thead>\n",
       "  <tbody>\n",
       "    <tr>\n",
       "      <th>0</th>\n",
       "      <td>12시 땡!</td>\n",
       "      <td>하루가 또 가네요.</td>\n",
       "      <td>0</td>\n",
       "    </tr>\n",
       "    <tr>\n",
       "      <th>1</th>\n",
       "      <td>1지망 학교 떨어졌어</td>\n",
       "      <td>위로해 드립니다.</td>\n",
       "      <td>0</td>\n",
       "    </tr>\n",
       "    <tr>\n",
       "      <th>2</th>\n",
       "      <td>3박4일 놀러가고 싶다</td>\n",
       "      <td>여행은 언제나 좋죠.</td>\n",
       "      <td>0</td>\n",
       "    </tr>\n",
       "    <tr>\n",
       "      <th>3</th>\n",
       "      <td>3박4일 정도 놀러가고 싶다</td>\n",
       "      <td>여행은 언제나 좋죠.</td>\n",
       "      <td>0</td>\n",
       "    </tr>\n",
       "    <tr>\n",
       "      <th>4</th>\n",
       "      <td>PPL 심하네</td>\n",
       "      <td>눈살이 찌푸려지죠.</td>\n",
       "      <td>0</td>\n",
       "    </tr>\n",
       "  </tbody>\n",
       "</table>\n",
       "</div>"
      ],
      "text/plain": [
       "                 Q            A  label\n",
       "0           12시 땡!   하루가 또 가네요.      0\n",
       "1      1지망 학교 떨어졌어    위로해 드립니다.      0\n",
       "2     3박4일 놀러가고 싶다  여행은 언제나 좋죠.      0\n",
       "3  3박4일 정도 놀러가고 싶다  여행은 언제나 좋죠.      0\n",
       "4          PPL 심하네   눈살이 찌푸려지죠.      0"
      ]
     },
     "execution_count": 4,
     "metadata": {},
     "output_type": "execute_result"
    }
   ],
   "source": [
    "# 데이터셋 경로 지정\n",
    "CSV_PATH = \"./transformer_chatbot/data/ChatbotData.csv\"\n",
    "\n",
    "# 데이터셋 불러오기\n",
    "df = pd.read_csv(CSV_PATH)\n",
    "\n",
    "# 데이터 프레임에 Q/A가 들어와 확인해주는 용도\n",
    "assert \"Q\" in df.columns and \"A\" in df.columns\n",
    "\n",
    "df.head()"
   ]
  },
  {
   "cell_type": "markdown",
   "id": "bf50335c-209a-4f27-bc3b-666a8e6760a7",
   "metadata": {},
   "source": [
    "- ```ALLOWED``` : 허용된 문자(영어, 숫자, 한글, 기본 특수문자)만 남기고 나머지는 제거합니다.\n",
    "- ```_re_mult_punct``` : !!, ??, ~~~ 같이 같은 문장부호가 여러 번 반복될 때 하나만 남깁니다.\n",
    "- ```_re_kor_repeat``` : 같은 한글 문자가 3번 이상 반복되면 줄입니다. (예: \"ㅋㅋㅋㅋ\" → \"ㅋㅋ\")\n",
    "- ```_re_lol``` : 웃음 표현(ㅋㅋㅋ, ㅎㅎㅎ)도 줄입니다.\n",
    "- ```_re_ws``` : 공백 여러 개를 하나로 줄입니다."
   ]
  },
  {
   "cell_type": "code",
   "execution_count": 5,
   "id": "8599372e-b929-4a41-b833-c6655da80cdb",
   "metadata": {},
   "outputs": [],
   "source": [
    "# 전처리 함수 정의\n",
    "\n",
    "ALLOWED = r\"[^0-9a-zA-Z가-힣ㄱ-ㅎㅏ-ㅣ\\s\\.\\,\\?\\!\\~…\\:\\;\\/\\-\\’\\'\\\"\\(\\)\\[\\]]\"\n",
    "_re_mult_punct = re.compile(r\"([\\.?!~…])\\1{1,}\")\n",
    "_re_kor_repeat  = re.compile(r\"([가-힣ㄱ-ㅎㅏ-ㅣ])\\1{2,}\")\n",
    "_re_lol         = re.compile(r\"(ㅋ|ㅎ)\\1{2,}\")\n",
    "_re_ws          = re.compile(r\"\\s+\")"
   ]
  },
  {
   "cell_type": "code",
   "execution_count": 6,
   "id": "e788d7f2-9cd0-438c-8a28-f7acfcef0ebd",
   "metadata": {},
   "outputs": [],
   "source": [
    "# 한국어 문장을 정제하는 함수\n",
    "\n",
    "def normalize_ko(s):\n",
    "    s = unicodedata.normalize(\"NFKC\", s) # 유니코드 표준화 (같은 글자지만 다른 코드값을 통일)\n",
    "    s = re.sub(r\"[A-Z]\", lambda m: m.group(0).lower(), s) # 영어 대문자를 소문자로 변환하기\n",
    "    s = re.sub(ALLOWED, \" \", s) # 허용되지 않은 문자는 제거합니다.\n",
    "    s = _re_mult_punct.sub(r\"\\1\", s) # 반복 문장 부호도 제거합니다.\n",
    "    s = _re_lol.sub(lambda m: m.group(1)*2, s) # 웃음 표현도 줄입니다.\n",
    "    s = _re_kor_repeat.sub(lambda m: m.group(1)*2, s) # 한글 글자가 3번 이상 반복되면 줄입니다.\n",
    "    s = _re_ws.sub(\" \", s).strip() # 공백이 여러 개일 때도 하나로 줄이고 양쪽 공백을 제거합니다.\n",
    "    return s"
   ]
  },
  {
   "cell_type": "code",
   "execution_count": 7,
   "id": "f9412885-0cc5-4dba-ac0d-7336572250ee",
   "metadata": {},
   "outputs": [
    {
     "data": {
      "text/html": [
       "<div>\n",
       "<style scoped>\n",
       "    .dataframe tbody tr th:only-of-type {\n",
       "        vertical-align: middle;\n",
       "    }\n",
       "\n",
       "    .dataframe tbody tr th {\n",
       "        vertical-align: top;\n",
       "    }\n",
       "\n",
       "    .dataframe thead th {\n",
       "        text-align: right;\n",
       "    }\n",
       "</style>\n",
       "<table border=\"1\" class=\"dataframe\">\n",
       "  <thead>\n",
       "    <tr style=\"text-align: right;\">\n",
       "      <th></th>\n",
       "      <th>Q_norm</th>\n",
       "      <th>A_norm</th>\n",
       "    </tr>\n",
       "  </thead>\n",
       "  <tbody>\n",
       "    <tr>\n",
       "      <th>6578</th>\n",
       "      <td>사랑이란 뭘까?</td>\n",
       "      <td>사랑에는 답이 없어요.</td>\n",
       "    </tr>\n",
       "    <tr>\n",
       "      <th>4597</th>\n",
       "      <td>친구가 나 귀엽대</td>\n",
       "      <td>친구가 보는 눈이 있네요.</td>\n",
       "    </tr>\n",
       "    <tr>\n",
       "      <th>5748</th>\n",
       "      <td>끝이네</td>\n",
       "      <td>수고했어요.</td>\n",
       "    </tr>\n",
       "    <tr>\n",
       "      <th>5627</th>\n",
       "      <td>그녀는 무슨 생각일까?</td>\n",
       "      <td>그녀밖에 알 수가 없죠.</td>\n",
       "    </tr>\n",
       "    <tr>\n",
       "      <th>8390</th>\n",
       "      <td>한번의 기회쯤 있겠지 라고 생각했던 내생각이 어리석었습니다</td>\n",
       "      <td>현실을 받아들이는 것도 중요합니다.</td>\n",
       "    </tr>\n",
       "  </tbody>\n",
       "</table>\n",
       "</div>"
      ],
      "text/plain": [
       "                                Q_norm               A_norm\n",
       "6578                          사랑이란 뭘까?         사랑에는 답이 없어요.\n",
       "4597                         친구가 나 귀엽대       친구가 보는 눈이 있네요.\n",
       "5748                               끝이네               수고했어요.\n",
       "5627                      그녀는 무슨 생각일까?        그녀밖에 알 수가 없죠.\n",
       "8390  한번의 기회쯤 있겠지 라고 생각했던 내생각이 어리석었습니다  현실을 받아들이는 것도 중요합니다."
      ]
     },
     "execution_count": 7,
     "metadata": {},
     "output_type": "execute_result"
    }
   ],
   "source": [
    "# Q/A를 normalize_ko를 이용해서 정제합니다.\n",
    "df[\"Q_norm\"] = df[\"Q\"].astype(str).map(normalize_ko)\n",
    "df[\"A_norm\"] = df[\"A\"].astype(str).map(normalize_ko)\n",
    "\n",
    "# 너무 짧거나 긴 문장 제거 (1~80 단어 범위 밖)\n",
    "df = df[(df[\"Q_norm\"].str.split().str.len().between(1, 80)) &\n",
    "        (df[\"A_norm\"].str.split().str.len().between(1, 80))]\n",
    "\n",
    "# 중복된 Q/A는 제거합니다.\n",
    "df = df.drop_duplicates(subset=[\"Q_norm\", \"A_norm\"]).reset_index(drop=True)\n",
    "\n",
    "# 결과 미리보기\n",
    "df[[\"Q_norm\", \"A_norm\"]].sample(5, random_state=42)"
   ]
  },
  {
   "cell_type": "markdown",
   "id": "fec43929-bcde-4227-94b1-33315318e3c0",
   "metadata": {},
   "source": [
    "### 3. SentencePiece 사용하기"
   ]
  },
  {
   "cell_type": "markdown",
   "id": "7757e00d-cc9a-4ad2-bfe3-74d8dd78983e",
   "metadata": {},
   "source": [
    "- 토크나이저 학습 단계로, Q/A를 모두 모아 ```spm_corpus.txt```에 저장합니다.\n",
    "- 정제된 병렬 데이터도 ```parallel_ko_clean.csv```로 저장합니다.\n",
    "\n",
    "- ```vocab_size=4000``` : 어휘 개수 4000개\n",
    "- ```model_type=unigram``` : 유니그램 언어모델 기반 토크나이저\n",
    "- ```character_coverage=0.9995``` : 거의 모든 한글/영문 글자 커버\n",
    "- 특수 토큰 ID 지정 (PAD=0, UNK=1, BOS=2, EOS=3)"
   ]
  },
  {
   "cell_type": "code",
   "execution_count": 8,
   "id": "0ed08548-9b77-4f0f-aa67-3f320adb738c",
   "metadata": {},
   "outputs": [
    {
     "name": "stderr",
     "output_type": "stream",
     "text": [
      "sentencepiece_trainer.cc(178) LOG(INFO) Running command: --input=spm_corpus.txt --model_prefix=spm_ko --vocab_size=4000 --character_coverage=0.9995 --model_type=unigram --pad_id=0 --unk_id=1 --bos_id=2 --eos_id=3\n",
      "sentencepiece_trainer.cc(78) LOG(INFO) Starts training with : \n",
      "trainer_spec {\n",
      "  input: spm_corpus.txt\n",
      "  input_format: \n",
      "  model_prefix: spm_ko\n",
      "  model_type: UNIGRAM\n",
      "  vocab_size: 4000\n",
      "  self_test_sample_size: 0\n",
      "  character_coverage: 0.9995\n",
      "  input_sentence_size: 0\n",
      "  shuffle_input_sentence: 1\n",
      "  seed_sentencepiece_size: 1000000\n",
      "  shrinking_factor: 0.75\n",
      "  max_sentence_length: 4192\n",
      "  num_threads: 16\n",
      "  num_sub_iterations: 2\n",
      "  max_sentencepiece_length: 16\n",
      "  split_by_unicode_script: 1\n",
      "  split_by_number: 1\n",
      "  split_by_whitespace: 1\n",
      "  split_digits: 0\n",
      "  pretokenization_delimiter: \n",
      "  treat_whitespace_as_suffix: 0\n",
      "  allow_whitespace_only_pieces: 0\n",
      "  required_chars: \n",
      "  byte_fallback: 0\n",
      "  vocabulary_output_piece_score: 1\n",
      "  train_extremely_large_corpus: 0\n",
      "  seed_sentencepieces_file: \n",
      "  hard_vocab_limit: 1\n",
      "  use_all_vocab: 0\n",
      "  unk_id: 1\n",
      "  bos_id: 2\n",
      "  eos_id: 3\n",
      "  pad_id: 0\n",
      "  unk_piece: <unk>\n",
      "  bos_piece: <s>\n",
      "  eos_piece: </s>\n",
      "  pad_piece: <pad>\n",
      "  unk_surface:  ⁇ \n",
      "  enable_differential_privacy: 0\n",
      "  differential_privacy_noise_level: 0\n",
      "  differential_privacy_clipping_threshold: 0\n",
      "}\n",
      "normalizer_spec {\n",
      "  name: nmt_nfkc\n",
      "  add_dummy_prefix: 1\n",
      "  remove_extra_whitespaces: 1\n",
      "  escape_whitespaces: 1\n",
      "  normalization_rule_tsv: \n",
      "}\n",
      "denormalizer_spec {}\n",
      "trainer_interface.cc(355) LOG(INFO) SentenceIterator is not specified. Using MultiFileSentenceIterator.\n",
      "trainer_interface.cc(186) LOG(INFO) Loading corpus: spm_corpus.txt\n",
      "trainer_interface.cc(411) LOG(INFO) Loaded all 23500 sentences\n",
      "trainer_interface.cc(427) LOG(INFO) Adding meta_piece: <pad>\n",
      "trainer_interface.cc(427) LOG(INFO) Adding meta_piece: <unk>\n",
      "trainer_interface.cc(427) LOG(INFO) Adding meta_piece: <s>\n",
      "trainer_interface.cc(427) LOG(INFO) Adding meta_piece: </s>\n",
      "trainer_interface.cc(432) LOG(INFO) Normalizing sentences...\n",
      "trainer_interface.cc(541) LOG(INFO) all chars count=351154\n",
      "trainer_interface.cc(552) LOG(INFO) Done: 99.9505% characters are covered.\n",
      "trainer_interface.cc(562) LOG(INFO) Alphabet size=1075\n",
      "trainer_interface.cc(563) LOG(INFO) Final character coverage=0.999504\n",
      "trainer_interface.cc(594) LOG(INFO) Done! preprocessed 23500 sentences.\n",
      "unigram_model_trainer.cc(265) LOG(INFO) Making suffix array...\n",
      "unigram_model_trainer.cc(269) LOG(INFO) Extracting frequent sub strings... node_num=161551\n",
      "unigram_model_trainer.cc(312) LOG(INFO) Initialized 18827 seed sentencepieces\n",
      "trainer_interface.cc(600) LOG(INFO) Tokenizing input sentences with whitespace: 23500\n",
      "trainer_interface.cc(611) LOG(INFO) Done! 21730\n",
      "unigram_model_trainer.cc(602) LOG(INFO) Using 21730 sentences for EM training\n",
      "unigram_model_trainer.cc(618) LOG(INFO) EM sub_iter=0 size=10879 obj=13.2146 num_tokens=46128 num_tokens/piece=4.2401\n",
      "unigram_model_trainer.cc(618) LOG(INFO) EM sub_iter=1 size=9580 obj=12.1087 num_tokens=46228 num_tokens/piece=4.82547\n",
      "unigram_model_trainer.cc(618) LOG(INFO) EM sub_iter=0 size=7185 obj=12.4581 num_tokens=49240 num_tokens/piece=6.85317\n",
      "unigram_model_trainer.cc(618) LOG(INFO) EM sub_iter=1 size=7184 obj=12.4012 num_tokens=49280 num_tokens/piece=6.85969\n",
      "unigram_model_trainer.cc(618) LOG(INFO) EM sub_iter=0 size=5388 obj=12.8964 num_tokens=53363 num_tokens/piece=9.90405\n",
      "unigram_model_trainer.cc(618) LOG(INFO) EM sub_iter=1 size=5388 obj=12.8151 num_tokens=53363 num_tokens/piece=9.90405\n",
      "unigram_model_trainer.cc(618) LOG(INFO) EM sub_iter=0 size=4400 obj=13.3519 num_tokens=56367 num_tokens/piece=12.8107\n",
      "unigram_model_trainer.cc(618) LOG(INFO) EM sub_iter=1 size=4400 obj=13.288 num_tokens=56387 num_tokens/piece=12.8152\n",
      "trainer_interface.cc(689) LOG(INFO) Saving model: spm_ko.model\n",
      "trainer_interface.cc(701) LOG(INFO) Saving vocabs: spm_ko.vocab\n"
     ]
    }
   ],
   "source": [
    "# SentencePiece 학습용 말뭉치 저장 (질문+답변) -> 모든 문장이 한 줄씩 들어간 큰 코퍼스 생성\n",
    "with open(\"spm_corpus.txt\", \"w\", encoding=\"utf-8\") as f:\n",
    "    for s in df[\"Q_norm\"].tolist() + df[\"A_norm\"].tolist():\n",
    "        f.write(s + \"\\n\")\n",
    "\n",
    "# 병렬 CSV도 저장 (질문과 답변이 나란히 있는 병렬 데이터셋)\n",
    "# 나중에 모델 학습 단계에서 입력과 정답 출력이 필요합니다.\n",
    "df[[\"Q_norm\", \"A_norm\"]].to_csv(\"parallel_ko_clean.csv\", index=False, encoding=\"utf-8\")\n",
    "\n",
    "# SentencePiece 학습\n",
    "spm.SentencePieceTrainer.Train(\n",
    "    \"--input=spm_corpus.txt --model_prefix=spm_ko --vocab_size=4000 \"\n",
    "    \"--character_coverage=0.9995 --model_type=unigram \"\n",
    "    \"--pad_id=0 --unk_id=1 --bos_id=2 --eos_id=3\"\n",
    ")"
   ]
  },
  {
   "cell_type": "markdown",
   "id": "410b3676-0232-4ca3-99c8-23757e3f6976",
   "metadata": {},
   "source": [
    "- ```--input=spm_corpus.txt``` : 방금 만든 말뭉치 파일을 입력으로 사용\n",
    "- ```--model_prefix=spm_ko``` : 결과물 파일 이름 앞에 붙을 접두사 (spm_ko.model, spm_ko.vocab 생성됨)\n",
    "- ```--vocab_size=4000``` : 어휘 사전 크기 (4000개의 토큰 학습)\n",
    "- ```--character_coverage=0.9995``` : 전체 문자 중 99.95%를 커버하도록 (희귀 문자 제외)\n",
    "- ```--model_type=unigram``` : 토큰화를 유니그램 언어모델 기반으로 학습 (BPE, WordPiece도 선택 가능)\n",
    "- ```--pad_id=0 --unk_id=1 --bos_id=2 --eos_id=3``` : 특수 토큰 ID를 직접 지정"
   ]
  },
  {
   "cell_type": "code",
   "execution_count": 9,
   "id": "96b894ab-2160-4e0f-aae2-388816ba4f89",
   "metadata": {},
   "outputs": [
    {
     "name": "stdout",
     "output_type": "stream",
     "text": [
      "Vocabulary size: 4000\n"
     ]
    }
   ],
   "source": [
    "# 학습된 tokenizer 로드\n",
    "sp = spm.SentencePieceProcessor()\n",
    "sp.load(\"spm_ko.model\")\n",
    "\n",
    "# 어휘 크기 확인\n",
    "VOCAB_SIZE = sp.get_piece_size()\n",
    "print(f\"Vocabulary size: {VOCAB_SIZE}\")"
   ]
  },
  {
   "cell_type": "code",
   "execution_count": 10,
   "id": "4ebcf04c-7c2e-4046-9bc2-33892f779d9d",
   "metadata": {},
   "outputs": [],
   "source": [
    "# 어휘 크기 확인 (토크나이저 사전 크기)\n",
    "VOCAB_SIZE = sp.get_piece_size()\n",
    "\n",
    "# 특수 토큰 ID 설정하기\n",
    "PAD, UNK, BOS, EOS = 0, 1, 2, 3\n",
    "\n",
    "MAX_LEN = 64"
   ]
  },
  {
   "cell_type": "markdown",
   "id": "55f096f8-8136-4c9d-bc45-0f5ef786ddeb",
   "metadata": {},
   "source": [
    "- ```PAD = 0``` : 문장 길이를 맞추려고 빈 부분에 넣는 토큰\n",
    "\n",
    "- ```UNK = 1``` : 사전에 없는 단어가 들어왔을 때 대체하는 토큰\n",
    "\n",
    "- ```BOS = 2``` : 문장의 시작을 알리는 토큰 (Begin of Sentence)\n",
    "\n",
    "- ```EOS = 3``` : 문장의 끝을 알리는 토큰 (End of Sentence)"
   ]
  },
  {
   "cell_type": "markdown",
   "id": "9f93d33c-ede8-4f02-b3a8-eea6f9f9321c",
   "metadata": {},
   "source": [
    "### 4. Transformer 모델 구성하기"
   ]
  },
  {
   "cell_type": "code",
   "execution_count": 11,
   "id": "a88b6cba-f648-4b3f-854d-e869310d8246",
   "metadata": {},
   "outputs": [],
   "source": [
    "class ChatDataset(Dataset):\n",
    "\n",
    "    # 정제된 병렬 데이터를 Q/A 쌍을오 묶어 리스트에 저장 [(Q, A)] 형태\n",
    "    def __init__(self, csv_path):\n",
    "        df = pd.read_csv(csv_path)\n",
    "        self.pairs = list(zip(df[\"Q_norm\"].tolist(), df[\"A_norm\"].tolist()))\n",
    "\n",
    "    # 전체 데이터 샘플 개수 반환\n",
    "    def __len__(self):\n",
    "        return len(self.pairs)\n",
    "\n",
    "    # 특정 인덱스의 Q/A 쌍 가져오기\n",
    "    def __getitem__(self, idx):\n",
    "        q, a = self.pairs[idx]\n",
    "        q_ids = sp.encode(q, out_type=int)[:MAX_LEN-1] + [EOS]\n",
    "        a_ids = sp.encode(a, out_type=int)[:MAX_LEN-1] + [EOS]\n",
    "        return torch.tensor(q_ids), torch.tensor(a_ids)\n",
    "\n",
    "# 데이터 로더가 여러 샘플을 모아올 때 실행하는 함수\n",
    "def collate_fn(batch):\n",
    "    qs, ans = zip(*batch) # 질문과 답변 시퀀스를 각각 모아서 리스트로 분리\n",
    "    q_lens = [len(x) for x in qs]\n",
    "    a_lens = [len(x) for x in ans]\n",
    "\n",
    "    # 각 시퀀스를 가장 긴 문장 길이에 맞춰 패딩 처리\n",
    "    q_pad = nn.utils.rnn.pad_sequence(qs, padding_value=PAD, batch_first=True)\n",
    "    a_pad = nn.utils.rnn.pad_sequence(ans, padding_value=PAD, batch_first=True)\n",
    "    return q_pad, a_pad, torch.tensor(q_lens), torch.tensor(a_lens)"
   ]
  },
  {
   "cell_type": "code",
   "execution_count": 12,
   "id": "8eab15b2-3400-4802-86fd-be7108dfb126",
   "metadata": {},
   "outputs": [],
   "source": [
    "# Transformer - Positional Encoding\n",
    "\n",
    "class PositionalEncoding(nn.Module):\n",
    "    def __init__(self, d_model, max_len=5000):\n",
    "        super().__init__()\n",
    "        pe = torch.zeros(max_len, d_model) # 위치 인코딩 값을 담을 2D 텐서\n",
    "        pos = torch.arange(0, max_len).unsqueeze(1) # 위치 인덱스\n",
    "\n",
    "        # 주기 계산 - 위치마다 고유한 주기 패턴을 가질 수 있음 sin, cos 값\n",
    "        # 10000^(2i/d_model) 꼴의 분모를 만든 것\n",
    "        div = torch.exp(torch.arange(0, d_model, 2) * -(math.log(10000.0)/d_model))\n",
    "\n",
    "        # sin, cos 값 채우기\n",
    "        pe[:, 0::2] = torch.sin(pos*div)\n",
    "        pe[:, 1::2] = torch.cos(pos*div)\n",
    "        pe = pe.unsqueeze(0)\n",
    "        self.register_buffer(\"pe\", pe)\n",
    "\n",
    "    # 임베딩 벡터와 위치 정보가 결합됩니다.\n",
    "    def forward(self, x):\n",
    "        return x + self.pe[:, :x.size(1)]\n"
   ]
  },
  {
   "cell_type": "code",
   "execution_count": 13,
   "id": "b3fab6a7-1435-44ac-9c0e-25aa64402afe",
   "metadata": {},
   "outputs": [],
   "source": [
    "# Scaled Dot-Product Attention\n",
    "\n",
    "def scaled_dot_product_attention(q, k, v, mask=None):\n",
    "    d_k = q.size(-1) # 쿼리의 마지막 차원 크기로 스케일링 하기 위해 저장\n",
    "\n",
    "    # 유사도 계산\n",
    "    scores = torch.matmul(q, k.transpose(-2, -1)) / math.sqrt(d_k)\n",
    "\n",
    "    # Decoder의 경우 Look-ahead 마스킹 적용\n",
    "    if mask is not None:\n",
    "        scores = scores.masked_fill(mask==0, -1e9)\n",
    "\n",
    "    # Attention 확률 분포 - SoftMax\n",
    "    attn = torch.softmax(scores, dim=-1)\n",
    "\n",
    "    # Attention * value = 가중합\n",
    "    return torch.matmul(attn, v), attn"
   ]
  },
  {
   "cell_type": "code",
   "execution_count": 14,
   "id": "ba983011-491a-4ef4-860f-ae144c3e7a40",
   "metadata": {},
   "outputs": [],
   "source": [
    "# MultiHead Attention\n",
    "\n",
    "class MultiHeadAttention(nn.Module):\n",
    "    def __init__(self, d_model, num_heads):\n",
    "        super().__init__()\n",
    "        assert d_model % num_heads == 0\n",
    "        self.d_k = d_model // num_heads\n",
    "        self.num_heads = num_heads\n",
    "        self.q_linear = nn.Linear(d_model, d_model)\n",
    "        self.k_linear = nn.Linear(d_model, d_model)\n",
    "        self.v_linear = nn.Linear(d_model, d_model)\n",
    "        self.fc = nn.Linear(d_model, d_model)\n",
    "\n",
    "    # 각 Attention Head가 자기의 차원에서 독립적으로 계산 가능\n",
    "    def forward(self, q, k, v, mask=None):\n",
    "        B = q.size(0)\n",
    "        q = self.q_linear(q).view(B, -1, self.num_heads, self.d_k).transpose(1,2)\n",
    "        k = self.k_linear(k).view(B, -1, self.num_heads, self.d_k).transpose(1,2)\n",
    "        v = self.v_linear(v).view(B, -1, self.num_heads, self.d_k).transpose(1,2)\n",
    "\n",
    "        # 여기서 본격적으로 Scaled Dot-Product Attention을 수행합니다.\n",
    "        scores, attn = scaled_dot_product_attention(q,k,v,mask)\n",
    "\n",
    "        # Head의 결과들을 concat으로 합친 다음에 원래 차원으로 복원합니다.\n",
    "        concat = scores.transpose(1,2).contiguous().view(B,-1,self.num_heads*self.d_k)\n",
    "        return self.fc(concat)\n",
    "\n",
    "# FFN - 각 토큰 위치마다 독립적으로 FFN을 적용합니다.\n",
    "class PositionwiseFF(nn.Module):\n",
    "    def __init__(self, d_model, d_ff=2048, dropout=0.1):\n",
    "        super().__init__()\n",
    "        self.linear1 = nn.Linear(d_model, d_ff)\n",
    "        self.linear2 = nn.Linear(d_ff, d_model)\n",
    "        self.dropout = nn.Dropout(dropout)\n",
    "\n",
    "    # 비선형 변환을 통해 모델의 표현력을 키우기\n",
    "    def forward(self, x):\n",
    "        return self.linear2(self.dropout(torch.relu(self.linear1(x))))"
   ]
  },
  {
   "cell_type": "markdown",
   "id": "9cd9b02f-1745-47f8-b5fd-4743c60c3c4d",
   "metadata": {},
   "source": [
    "[흐름]\n",
    "\n",
    "**1. Self-Attention**\n",
    "- 입력 ```x```를 Query/Key/Value로 넣어 자기 자신과의 관계를 학습\n",
    "- 결과 ```attn_out```\n",
    "\n",
    "**2. Residual Connection + Norm**\n",
    "- ```x + attn_out``` : 잔차 연결(residual)\n",
    "- LayerNorm으로 정규화\n",
    "\n",
    "**3. Feed Forward**\n",
    "- 위치별 FFN 적용\n",
    "\n",
    "**4. Residual Connection + Norm**\n",
    "- ```x + ff_out``` : 다시 LayerNorm\n",
    "\n",
    "※ 즉, “Self-Attention → FFN” 구조가 하나의 Encoder Layer입니다."
   ]
  },
  {
   "cell_type": "markdown",
   "id": "dba0e7e5-320f-439b-a770-73aabab34132",
   "metadata": {},
   "source": [
    "- ReLU를 사용해서 입력 공간을 꺾어 선형 변환만으로 표현이 어려운 복잡한 함수 및 패턴을 모델링할 수 있게 합니다."
   ]
  },
  {
   "cell_type": "code",
   "execution_count": 15,
   "id": "e8b92b88-2d2e-441d-9056-60053fba12e6",
   "metadata": {},
   "outputs": [],
   "source": [
    "# Encoder Layer\n",
    "\n",
    "class EncoderLayer(nn.Module):\n",
    "    def __init__(self, d_model, num_heads, d_ff, dropout=0.1):\n",
    "        super().__init__()\n",
    "        self.attn = MultiHeadAttention(d_model, num_heads) # MultiHeadAttention\n",
    "        self.ff = PositionwiseFF(d_model, d_ff, dropout) # PositionWiseFF - 표현력 증가\n",
    "        self.norm1 = nn.LayerNorm(d_model) # LayerNrom - 출력값 분포 정규화\n",
    "        self.norm2 = nn.LayerNorm(d_model)\n",
    "        self.dropout = nn.Dropout(dropout) # 과적합 방지\n",
    "    def forward(self, x, mask=None):\n",
    "        attn_out = self.attn(x,x,x,mask)\n",
    "        x = self.norm1(x+self.dropout(attn_out))\n",
    "        ff_out = self.ff(x)\n",
    "        return self.norm2(x+self.dropout(ff_out))\n",
    "\n",
    "# DecoderLayer\n",
    "class DecoderLayer(nn.Module):\n",
    "    def __init__(self, d_model, num_heads, d_ff, dropout=0.1):\n",
    "        super().__init__()\n",
    "        self.self_attn = MultiHeadAttention(d_model,num_heads) # 미래 단어 마스킹\n",
    "        self.enc_attn = MultiHeadAttention(d_model,num_heads) # 인코더 출력과 디코더 입력 연결\n",
    "        self.ff = PositionwiseFF(d_model,d_ff,dropout)\n",
    "        self.norm1 = nn.LayerNorm(d_model) # 단계별로 정규화\n",
    "        self.norm2 = nn.LayerNorm(d_model)\n",
    "        self.norm3 = nn.LayerNorm(d_model)\n",
    "        self.dropout = nn.Dropout(dropout)\n",
    "    def forward(self, x, enc_out, src_mask=None, tgt_mask=None):\n",
    "        x2 = self.self_attn(x,x,x,tgt_mask)\n",
    "        x = self.norm1(x+self.dropout(x2))\n",
    "        x2 = self.enc_attn(x,enc_out,enc_out,src_mask)\n",
    "        x = self.norm2(x+self.dropout(x2))\n",
    "        x2 = self.ff(x)\n",
    "        return self.norm3(x+self.dropout(x2))"
   ]
  },
  {
   "cell_type": "markdown",
   "id": "2773e0f9-0457-4646-a69e-95c1d1544ad4",
   "metadata": {},
   "source": [
    "[흐름]\n",
    "\n",
    "**1. Masked Self-Attention (디코더 자기 자신)**\n",
    "- 디코더 입력끼리 어텐션 (단, 미래 단어는 가림 ```tgt_mask```)\n",
    "- 결과 ```x2```\n",
    "\n",
    "**2. Residual + Norm**\n",
    "  \n",
    "**3. Encoder-Decoder Attention**\n",
    "- Query = 디코더 출력, Key/Value = 인코더 출력(```enc_out```) :입력 문장과 출력 문장을 연결해줌\n",
    "\n",
    "**4. Residual + Norm**\n",
    "\n",
    "**5. Feed Forward + Residual + Norm**\n",
    "- 최종 결과 반환\n",
    "\n",
    "※ 즉, “Masked Self-Attention → Encoder-Decoder Attention → FFN” 구조가 하나의 Decoder Layer입니다."
   ]
  },
  {
   "cell_type": "code",
   "execution_count": 16,
   "id": "42dd4fcf-b448-4adb-aee6-152b0ce78b30",
   "metadata": {},
   "outputs": [],
   "source": [
    "# Encoder : 입력 문장을 풍부한 의미 표현으로 바뀌줍니다.\n",
    "\n",
    "class Encoder(nn.Module):\n",
    "    def __init__(self, vocab_size, d_model, N, num_heads, d_ff, dropout=0.1):\n",
    "        super().__init__()\n",
    "        self.embed = nn.Embedding(vocab_size,d_model)\n",
    "        self.pe = PositionalEncoding(d_model)\n",
    "        \n",
    "        # Self-Attention + FFN을 N번 반복합니다.\n",
    "        self.layers = nn.ModuleList([EncoderLayer(d_model,num_heads,d_ff,dropout) for _ in range(N)])\n",
    "    def forward(self, src, mask=None):\n",
    "        x = self.embed(src)*math.sqrt(self.embed.embedding_dim)\n",
    "        x = self.pe(x)\n",
    "        for layer in self.layers:\n",
    "            x = layer(x,mask)\n",
    "        return x\n",
    "\n",
    "# Decoder : 인코더 정보를 참고하면서, 단어를 하나씩 생성합니다.\n",
    "\n",
    "class Decoder(nn.Module):\n",
    "    def __init__(self, vocab_size, d_model, N, num_heads, d_ff, dropout=0.1):\n",
    "        super().__init__()\n",
    "        self.embed = nn.Embedding(vocab_size,d_model)\n",
    "        self.pe = PositionalEncoding(d_model)\n",
    "        self.layers = nn.ModuleList([DecoderLayer(d_model,num_heads,d_ff,dropout) for _ in range(N)])\n",
    "        self.fc = nn.Linear(d_model,vocab_size)\n",
    "    def forward(self, tgt, enc_out, src_mask=None, tgt_mask=None):\n",
    "        x = self.embed(tgt)*math.sqrt(self.embed.embedding_dim)\n",
    "        x = self.pe(x)\n",
    "        for layer in self.layers:\n",
    "            x = layer(x,enc_out,src_mask,tgt_mask)\n",
    "        return self.fc(x)"
   ]
  },
  {
   "cell_type": "code",
   "execution_count": 17,
   "id": "9a3a5e12-0c24-4d40-8462-35feb2ebddc9",
   "metadata": {},
   "outputs": [],
   "source": [
    "# Transformer 전체 (최종)\n",
    "\n",
    "class Transformer(nn.Module):\n",
    "    def __init__(self, vocab_size, d_model=256, N=2, num_heads=4, d_ff=512, dropout=0.1):\n",
    "        super().__init__()\n",
    "        self.encoder = Encoder(vocab_size,d_model,N,num_heads,d_ff,dropout)\n",
    "        self.decoder = Decoder(vocab_size,d_model,N,num_heads,d_ff,dropout)\n",
    "    def forward(self, src, tgt, src_mask=None, tgt_mask=None):\n",
    "        enc_out = self.encoder(src,src_mask)\n",
    "        out = self.decoder(tgt,enc_out,src_mask,tgt_mask)\n",
    "        return out"
   ]
  },
  {
   "cell_type": "code",
   "execution_count": 18,
   "id": "f4896638-113f-441e-bf4f-f62fb9cbfab5",
   "metadata": {},
   "outputs": [],
   "source": [
    "# Masked Self Attention\n",
    "\n",
    "def generate_square_subsequent_mask(sz):\n",
    "    mask = torch.triu(torch.ones(sz, sz), diagonal=1)\n",
    "    return mask==0"
   ]
  },
  {
   "cell_type": "code",
   "execution_count": 19,
   "id": "3757a5de-3010-4f5b-ace4-208e4245658a",
   "metadata": {},
   "outputs": [],
   "source": [
    "# Transformer 학습 루프 함수\n",
    "def train_model(model, train_loader, val_loader=None, n_epochs=20, lr=1e-4, patience=3):\n",
    "    \n",
    "    # 손실 함수와 옵티마이저\n",
    "    criterion = nn.CrossEntropyLoss(ignore_index=PAD)\n",
    "    optimizer = optim.Adam(model.parameters(), lr=lr)\n",
    "\n",
    "    loss_history = []   # 학습 손실 기록\n",
    "    val_history = []    # 검증 손실 기록\n",
    "\n",
    "    best_val = float(\"inf\")     # 지금까지 최소 검증 손실\n",
    "    patience_cnt = 0            # 개선되지 않은 횟수\n",
    "    best_model_state = None     # 최적 모델 저장용\n",
    "\n",
    "    # 에포크 반복\n",
    "    for epoch in range(1, n_epochs+1):\n",
    "       \n",
    "        model.train()\n",
    "        total_loss = 0\n",
    "        for q, a, q_len, a_len in train_loader:\n",
    "            q, a = q.to(DEVICE), a.to(DEVICE)\n",
    "\n",
    "            # Teacher Foring - 한 칸씩 밀어서 모델이 다음 단어를 맞추도록 합니다.\n",
    "            tgt_inp, tgt_out = a[:, :-1], a[:, 1:] \n",
    "            \n",
    "            # 마스크 생성하기 (문장 길이만큼)\n",
    "            tgt_mask = generate_square_subsequent_mask(tgt_inp.size(1)).to(DEVICE)\n",
    "            logits = model(q, tgt_inp, tgt_mask=tgt_mask)\n",
    "            loss = criterion(logits.reshape(-1, logits.size(-1)), tgt_out.reshape(-1))\n",
    "\n",
    "            optimizer.zero_grad()\n",
    "            loss.backward()\n",
    "            torch.nn.utils.clip_grad_norm_(model.parameters(), 1.0)\n",
    "\n",
    "            # 역전파 및 최적화\n",
    "            optimizer.step()\n",
    "            total_loss += loss.item()\n",
    "        avg_loss = total_loss / len(train_loader)\n",
    "        loss_history.append(avg_loss)\n",
    "\n",
    "        # Validation 실행\n",
    "        if val_loader is not None:\n",
    "            model.eval()\n",
    "            val_loss = 0\n",
    "            with torch.no_grad():\n",
    "                for q, a, q_len, a_len in val_loader:\n",
    "                    q, a = q.to(DEVICE), a.to(DEVICE)\n",
    "                    tgt_inp, tgt_out = a[:, :-1], a[:, 1:]\n",
    "                    tgt_mask = generate_square_subsequent_mask(tgt_inp.size(1)).to(DEVICE)\n",
    "\n",
    "                    logits = model(q, tgt_inp, tgt_mask=tgt_mask)\n",
    "                    loss = criterion(logits.reshape(-1, logits.size(-1)), tgt_out.reshape(-1))\n",
    "                    val_loss += loss.item()\n",
    "            avg_val_loss = val_loss / len(val_loader)\n",
    "            val_history.append(avg_val_loss)\n",
    "\n",
    "            print(f\"Epoch {epoch}: Train Loss {avg_loss:.4f}, Val Loss {avg_val_loss:.4f}\")\n",
    "\n",
    "            # 얼리 스탑 체크\n",
    "            if avg_val_loss < best_val:\n",
    "                best_val = avg_val_loss\n",
    "                best_model_state = model.state_dict()\n",
    "                patience_cnt = 0\n",
    "            else:\n",
    "                patience_cnt += 1\n",
    "                if patience_cnt >= patience:\n",
    "                    print(f\"Early stopping at epoch {epoch} (best Val Loss {best_val:.4f})\")\n",
    "                    break\n",
    "        else:\n",
    "            print(f\"Epoch {epoch}: Loss {avg_loss:.4f}\")\n",
    "\n",
    "    # 학습 끝나면 최적 모델 로드\n",
    "    if best_model_state is not None:\n",
    "        model.load_state_dict(best_model_state)\n",
    "\n",
    "    return loss_history, val_history"
   ]
  },
  {
   "cell_type": "code",
   "execution_count": 20,
   "id": "31ab47ef-610a-4cf9-898a-d62043a874f3",
   "metadata": {},
   "outputs": [],
   "source": [
    "# Inference - 문장 생성(추론)\n",
    "\n",
    "def greedy_decode(model, sentence, max_len=20):\n",
    "    model.eval()\n",
    "    q_ids = sp.encode(sentence, out_type=int)[:MAX_LEN-1]+[EOS]\n",
    "    src = torch.tensor(q_ids).unsqueeze(0).to(DEVICE)\n",
    "    enc_out = model.encoder(src)\n",
    "    ys = torch.tensor([[BOS]]).to(DEVICE)\n",
    "\n",
    "    # 반복적 단어 생성\n",
    "    for i in range(max_len):\n",
    "        tgt_mask = generate_square_subsequent_mask(ys.size(1)).to(DEVICE)\n",
    "        out = model.decoder(ys,enc_out,tgt_mask=tgt_mask)\n",
    "        prob = out[:,-1,:]\n",
    "        _, next_word = torch.max(prob,dim=1)\n",
    "        next_word = next_word.item()\n",
    "\n",
    "        # 종료 조건 및 이어 붙이기\n",
    "        if next_word==EOS: break\n",
    "        ys = torch.cat([ys, torch.tensor([[next_word]]).to(DEVICE)], dim=1)\n",
    "\n",
    "    # 최종 답변 반환\n",
    "    return sp.decode(ys.squeeze().tolist())"
   ]
  },
  {
   "cell_type": "code",
   "execution_count": 21,
   "id": "d971923d-1d3e-4b52-b791-30fce7380979",
   "metadata": {},
   "outputs": [
    {
     "name": "stdout",
     "output_type": "stream",
     "text": [
      "Device: cuda\n"
     ]
    }
   ],
   "source": [
    "# GPU 사용이...가능하네요...?\n",
    "\n",
    "DEVICE = torch.device(\"cuda\" if torch.cuda.is_available() else \"cpu\")\n",
    "print(\"Device:\", DEVICE)"
   ]
  },
  {
   "cell_type": "code",
   "execution_count": 22,
   "id": "faf7fd2e-093a-4d71-a874-ae6dc57e5a73",
   "metadata": {},
   "outputs": [],
   "source": [
    "# 데이터 분리\n",
    "from sklearn.model_selection import train_test_split\n",
    "\n",
    "df = pd.read_csv(\"parallel_ko_clean.csv\")\n",
    "train_df, val_df = train_test_split(df, test_size=0.05, random_state=42)\n",
    "\n",
    "train_df.to_csv(\"train.csv\", index=False)\n",
    "val_df.to_csv(\"val.csv\", index=False)"
   ]
  },
  {
   "cell_type": "code",
   "execution_count": 23,
   "id": "e3c90767-cb3f-49bf-9c38-1aa026a8a9a4",
   "metadata": {},
   "outputs": [],
   "source": [
    "# Dataset & DataLoader 준비\n",
    "train_dataset = ChatDataset(\"train.csv\")\n",
    "val_dataset   = ChatDataset(\"val.csv\")\n",
    "\n",
    "train_loader = DataLoader(train_dataset, batch_size=32, shuffle=True, collate_fn=collate_fn)\n",
    "val_loader   = DataLoader(val_dataset, batch_size=32, shuffle=False, collate_fn=collate_fn)"
   ]
  },
  {
   "cell_type": "markdown",
   "id": "73a92a44-cfe5-43b5-a56b-9c5d107abe8a",
   "metadata": {},
   "source": [
    "### 5. 모델 평가하기"
   ]
  },
  {
   "cell_type": "code",
   "execution_count": 24,
   "id": "6437ef50-4d20-44e0-bbb5-7a64de605ca0",
   "metadata": {},
   "outputs": [
    {
     "name": "stdout",
     "output_type": "stream",
     "text": [
      "Epoch 1: Train Loss 5.3687, Val Loss 4.7651\n",
      "Epoch 2: Train Loss 4.5709, Val Loss 4.4073\n",
      "Epoch 3: Train Loss 4.2125, Val Loss 4.1642\n",
      "Epoch 4: Train Loss 3.9262, Val Loss 3.9765\n",
      "Epoch 5: Train Loss 3.6834, Val Loss 3.8266\n",
      "Epoch 6: Train Loss 3.4693, Val Loss 3.7080\n",
      "Epoch 7: Train Loss 3.2727, Val Loss 3.6068\n",
      "Epoch 8: Train Loss 3.0904, Val Loss 3.5090\n",
      "Epoch 9: Train Loss 2.9152, Val Loss 3.4383\n",
      "Epoch 10: Train Loss 2.7552, Val Loss 3.3757\n",
      "Epoch 11: Train Loss 2.6014, Val Loss 3.3176\n",
      "Epoch 12: Train Loss 2.4446, Val Loss 3.2594\n",
      "Epoch 13: Train Loss 2.3016, Val Loss 3.2118\n",
      "Epoch 14: Train Loss 2.1596, Val Loss 3.1875\n",
      "Epoch 15: Train Loss 2.0252, Val Loss 3.1429\n",
      "Epoch 16: Train Loss 1.8963, Val Loss 3.1229\n",
      "Epoch 17: Train Loss 1.7676, Val Loss 3.0931\n",
      "Epoch 18: Train Loss 1.6481, Val Loss 3.0569\n",
      "Epoch 19: Train Loss 1.5297, Val Loss 3.0515\n",
      "Epoch 20: Train Loss 1.4157, Val Loss 3.0437\n",
      "Epoch 21: Train Loss 1.3046, Val Loss 3.0311\n",
      "Epoch 22: Train Loss 1.1988, Val Loss 3.0162\n",
      "Epoch 23: Train Loss 1.1073, Val Loss 3.0217\n",
      "Epoch 24: Train Loss 1.0161, Val Loss 3.0036\n",
      "Epoch 25: Train Loss 0.9261, Val Loss 3.0086\n",
      "Q: 일본 여행을 다녀오기로 했어.\n",
      "A: 많이 먹거나 병원에 가보세요. \n",
      "\n",
      "Q: 오늘 비가 많이 오더라.\n",
      "A: 많이 했나봐요. \n",
      "\n",
      "Q: 집에 갈 생각하니 신난다!\n",
      "A: 많이 좋아지요. \n",
      "\n"
     ]
    }
   ],
   "source": [
    "# 모델 준비\n",
    "model = Transformer(VOCAB_SIZE).to(DEVICE)\n",
    "\n",
    "# 학습\n",
    "train_loss, val_loss = train_model(model, train_loader, val_loader, n_epochs=25)\n",
    "\n",
    "# 샘플 추론\n",
    "for q in [\"일본 여행을 다녀오기로 했어.\", \"오늘 비가 많이 오더라.\", \"집에 갈 생각하니 신난다!\"]:\n",
    "    print(\"Q:\",q)\n",
    "    print(\"A:\",greedy_decode(model,q), \"\\n\")"
   ]
  },
  {
   "cell_type": "code",
   "execution_count": 25,
   "id": "1532c6ca-4b20-41f8-8c66-b6d3fb917ade",
   "metadata": {},
   "outputs": [
    {
     "data": {
      "image/png": "[encoded data removed]",
      "text/plain": [
       "<Figure size 800x500 with 1 Axes>"
      ]
     },
     "metadata": {},
     "output_type": "display_data"
    }
   ],
   "source": [
    "# 학습 곡선 그리기\n",
    "import matplotlib.pyplot as plt\n",
    "\n",
    "epochs = range(1, len(train_loss)+1)\n",
    "\n",
    "plt.figure(figsize=(8,5))\n",
    "plt.plot(epochs, train_loss, label=\"Train Loss\")\n",
    "if val_loss:\n",
    "    plt.plot(epochs[:len(val_loss)], val_loss, label=\"Validation Loss\")\n",
    "plt.xlabel(\"Epoch\")\n",
    "plt.ylabel(\"Loss\")\n",
    "plt.title(\"Training & Validation Loss Curve\")\n",
    "plt.legend()\n",
    "plt.grid(True)\n",
    "plt.show()"
   ]
  },
  {
   "cell_type": "code",
   "execution_count": 26,
   "id": "ec831579-3a6a-4e43-a325-4906e327986a",
   "metadata": {},
   "outputs": [
    {
     "name": "stdout",
     "output_type": "stream",
     "text": [
      "Q: 오늘도 힘든 하루였어\n",
      "A: 많이 드시면 안돼요. \n",
      "\n"
     ]
    }
   ],
   "source": [
    "print(\"Q: 오늘도 힘든 하루였어\")\n",
    "print(\"A:\",greedy_decode(model,\"오늘도 힘든 하루였어\"), \"\\n\")"
   ]
  },
  {
   "cell_type": "markdown",
   "id": "9c04b615-5aba-4992-8894-ec6c47521b8b",
   "metadata": {},
   "source": [
    "- 너무 심한 과적합이 발생했습니다.\n",
    "- 어떻게 하면 좋아질까 고민하다가, 작은 Transformer 모델을 만들어봤습니다."
   ]
  },
  {
   "cell_type": "markdown",
   "id": "f957cb46-5633-4f12-8c2a-bd5ebe72f115",
   "metadata": {},
   "source": [
    "### 6. 기타 실험 (모델 축소 + DropOut 강화 + Label Smoothing 적용)"
   ]
  },
  {
   "cell_type": "code",
   "execution_count": 27,
   "id": "137d0763-e237-4d3c-a385-2d9f082de695",
   "metadata": {},
   "outputs": [],
   "source": [
    "# 작은 Transformer 모델 정의\n",
    "small_model = Transformer(\n",
    "    vocab_size=VOCAB_SIZE, \n",
    "    d_model=128,   # 차원 축소\n",
    "    N=1,           # 레이어 수 축소\n",
    "    num_heads=4,\n",
    "    d_ff=256, \n",
    "    dropout=0.3    # Dropout 강화\n",
    ").to(DEVICE)\n",
    "\n",
    "# Label smoothing이 적용된 손실 함수 (재정의)\n",
    "# 정답 확률을 살짝 낮춰(1.0 -> 0.9) 모델이 너무 확신하지 안헤 만들어서 과적합을 줄이기\n",
    "# 작은 데이터셋에서 일반화 성능 향상 가능\n",
    "criterion = nn.CrossEntropyLoss(ignore_index=PAD, label_smoothing=0.1)"
   ]
  },
  {
   "cell_type": "code",
   "execution_count": 28,
   "id": "29b707d9-a63a-4d64-8346-3c9d99f4ddd5",
   "metadata": {},
   "outputs": [
    {
     "name": "stdout",
     "output_type": "stream",
     "text": [
      "Epoch 1: Train Loss 6.1583, Val Loss 5.2221\n",
      "Epoch 2: Train Loss 5.1269, Val Loss 4.9599\n",
      "Epoch 3: Train Loss 4.9051, Val Loss 4.8138\n",
      "Epoch 4: Train Loss 4.7525, Val Loss 4.6893\n",
      "Epoch 5: Train Loss 4.6179, Val Loss 4.5907\n",
      "Epoch 6: Train Loss 4.4877, Val Loss 4.4900\n",
      "Epoch 7: Train Loss 4.3631, Val Loss 4.4025\n",
      "Epoch 8: Train Loss 4.2475, Val Loss 4.3177\n",
      "Epoch 9: Train Loss 4.1386, Val Loss 4.2499\n",
      "Epoch 10: Train Loss 4.0363, Val Loss 4.1826\n",
      "Epoch 11: Train Loss 3.9392, Val Loss 4.1172\n",
      "Epoch 12: Train Loss 3.8475, Val Loss 4.0660\n",
      "Epoch 13: Train Loss 3.7642, Val Loss 4.0140\n",
      "Epoch 14: Train Loss 3.6861, Val Loss 3.9602\n",
      "Epoch 15: Train Loss 3.6091, Val Loss 3.9216\n",
      "Epoch 16: Train Loss 3.5337, Val Loss 3.8809\n",
      "Epoch 17: Train Loss 3.4630, Val Loss 3.8436\n",
      "Epoch 18: Train Loss 3.3991, Val Loss 3.8115\n",
      "Epoch 19: Train Loss 3.3342, Val Loss 3.7767\n",
      "Epoch 20: Train Loss 3.2715, Val Loss 3.7489\n",
      "Epoch 21: Train Loss 3.2147, Val Loss 3.7162\n",
      "Epoch 22: Train Loss 3.1565, Val Loss 3.6946\n",
      "Epoch 23: Train Loss 3.1022, Val Loss 3.6692\n",
      "Epoch 24: Train Loss 3.0476, Val Loss 3.6440\n",
      "Epoch 25: Train Loss 2.9952, Val Loss 3.6213\n"
     ]
    }
   ],
   "source": [
    "# 학습 실행\n",
    "train_loss, val_loss = train_model(\n",
    "    small_model, \n",
    "    train_loader, \n",
    "    val_loader, \n",
    "    n_epochs=25, \n",
    "    lr=1e-4\n",
    ")"
   ]
  },
  {
   "cell_type": "code",
   "execution_count": 29,
   "id": "f6666d45-9573-4f39-b7c9-007f284d7a36",
   "metadata": {},
   "outputs": [
    {
     "data": {
      "image/png": "[encoded data removed]",
      "text/plain": [
       "<Figure size 800x500 with 1 Axes>"
      ]
     },
     "metadata": {},
     "output_type": "display_data"
    }
   ],
   "source": [
    "# 학습 곡선 시각화\n",
    "import matplotlib.pyplot as plt\n",
    "\n",
    "epochs = range(1, len(train_loss)+1)\n",
    "plt.figure(figsize=(8,5))\n",
    "plt.plot(epochs, train_loss, label=\"Train Loss\")\n",
    "if val_loss:\n",
    "    plt.plot(epochs[:len(val_loss)], val_loss, label=\"Validation Loss\")\n",
    "plt.xlabel(\"Epoch\")\n",
    "plt.ylabel(\"Loss\")\n",
    "plt.title(\"Training & Validation Loss Curve (Small Model)\")\n",
    "plt.legend()\n",
    "plt.grid(True)\n",
    "plt.show()"
   ]
  },
  {
   "cell_type": "code",
   "execution_count": 31,
   "id": "232b3cbb-bfd4-4d83-9abf-28cd5bb4fc27",
   "metadata": {},
   "outputs": [
    {
     "name": "stdout",
     "output_type": "stream",
     "text": [
      "Q: 일본 여행을 다녀오기로 했어.\n",
      "A: 게 드세요. \n",
      "\n",
      "Q: 오늘 비가 많이 오더라.\n",
      "A: 게 드세요. \n",
      "\n",
      "Q: 집에 갈 생각하니 신난다!\n",
      "A: 게 드세요. \n",
      "\n"
     ]
    }
   ],
   "source": [
    "# 샘플 추론\n",
    "for q in [\"일본 여행을 다녀오기로 했어.\", \"오늘 비가 많이 오더라.\", \"집에 갈 생각하니 신난다!\"]:\n",
    "    print(\"Q:\", q)\n",
    "    print(\"A:\", greedy_decode(small_model, q), \"\\n\")"
   ]
  },
  {
   "cell_type": "markdown",
   "id": "a355ef5c-1c10-4b33-b928-ab1a50399c66",
   "metadata": {},
   "source": [
    "### 7. 회고\n",
    "\n",
    "- 짧고 단순한 문장 + 답변 패턴 제한적 + 중복/유사 문장이 다수 존재하다보니 모델이 말하기 패턴을 학습하기 어려운 데이터셋이라 생각됩니다.\n",
    "- 그래서 모델이 과적합하거나 단순한 문장만을 출력하게 되어, 자연스러운 대화가 나오지 못했던 것이었습니다.\n",
    "- 데이터의 답변을 다양화하거나 사전 학습된 언어 모델을 사용하면 해결될 것 같습니다."
   ]
  },
  {
   "cell_type": "code",
   "execution_count": 32,
   "id": "b40fe204-22b6-40f9-af2c-6739154bc9f6",
   "metadata": {},
   "outputs": [
    {
     "data": {
      "text/html": [
       "<div>\n",
       "<style scoped>\n",
       "    .dataframe tbody tr th:only-of-type {\n",
       "        vertical-align: middle;\n",
       "    }\n",
       "\n",
       "    .dataframe tbody tr th {\n",
       "        vertical-align: top;\n",
       "    }\n",
       "\n",
       "    .dataframe thead th {\n",
       "        text-align: right;\n",
       "    }\n",
       "</style>\n",
       "<table border=\"1\" class=\"dataframe\">\n",
       "  <thead>\n",
       "    <tr style=\"text-align: right;\">\n",
       "      <th></th>\n",
       "      <th>Q_norm</th>\n",
       "      <th>A_norm</th>\n",
       "    </tr>\n",
       "  </thead>\n",
       "  <tbody>\n",
       "    <tr>\n",
       "      <th>0</th>\n",
       "      <td>12시 땡!</td>\n",
       "      <td>하루가 또 가네요.</td>\n",
       "    </tr>\n",
       "    <tr>\n",
       "      <th>1</th>\n",
       "      <td>1지망 학교 떨어졌어</td>\n",
       "      <td>위로해 드립니다.</td>\n",
       "    </tr>\n",
       "    <tr>\n",
       "      <th>2</th>\n",
       "      <td>3박4일 놀러가고 싶다</td>\n",
       "      <td>여행은 언제나 좋죠.</td>\n",
       "    </tr>\n",
       "    <tr>\n",
       "      <th>3</th>\n",
       "      <td>3박4일 정도 놀러가고 싶다</td>\n",
       "      <td>여행은 언제나 좋죠.</td>\n",
       "    </tr>\n",
       "    <tr>\n",
       "      <th>4</th>\n",
       "      <td>ppl 심하네</td>\n",
       "      <td>눈살이 찌푸려지죠.</td>\n",
       "    </tr>\n",
       "    <tr>\n",
       "      <th>5</th>\n",
       "      <td>sd카드 망가졌어</td>\n",
       "      <td>다시 새로 사는 게 마음 편해요.</td>\n",
       "    </tr>\n",
       "    <tr>\n",
       "      <th>6</th>\n",
       "      <td>sd카드 안돼</td>\n",
       "      <td>다시 새로 사는 게 마음 편해요.</td>\n",
       "    </tr>\n",
       "    <tr>\n",
       "      <th>7</th>\n",
       "      <td>sns 맞팔 왜 안하지</td>\n",
       "      <td>잘 모르고 있을 수도 있어요.</td>\n",
       "    </tr>\n",
       "    <tr>\n",
       "      <th>8</th>\n",
       "      <td>sns 시간낭비인 거 아는데 매일 하는 중</td>\n",
       "      <td>시간을 정하고 해보세요.</td>\n",
       "    </tr>\n",
       "    <tr>\n",
       "      <th>9</th>\n",
       "      <td>sns 시간낭비인데 자꾸 보게됨</td>\n",
       "      <td>시간을 정하고 해보세요.</td>\n",
       "    </tr>\n",
       "  </tbody>\n",
       "</table>\n",
       "</div>"
      ],
      "text/plain": [
       "                    Q_norm              A_norm\n",
       "0                   12시 땡!          하루가 또 가네요.\n",
       "1              1지망 학교 떨어졌어           위로해 드립니다.\n",
       "2             3박4일 놀러가고 싶다         여행은 언제나 좋죠.\n",
       "3          3박4일 정도 놀러가고 싶다         여행은 언제나 좋죠.\n",
       "4                  ppl 심하네          눈살이 찌푸려지죠.\n",
       "5                sd카드 망가졌어  다시 새로 사는 게 마음 편해요.\n",
       "6                  sd카드 안돼  다시 새로 사는 게 마음 편해요.\n",
       "7             sns 맞팔 왜 안하지    잘 모르고 있을 수도 있어요.\n",
       "8  sns 시간낭비인 거 아는데 매일 하는 중       시간을 정하고 해보세요.\n",
       "9        sns 시간낭비인데 자꾸 보게됨       시간을 정하고 해보세요."
      ]
     },
     "execution_count": 32,
     "metadata": {},
     "output_type": "execute_result"
    }
   ],
   "source": [
    "df.head(10)"
   ]
  }
 ],
 "metadata": {
  "kernelspec": {
   "display_name": "Python 3 (ipykernel)",
   "language": "python",
   "name": "python3"
  },
  "language_info": {
   "codemirror_mode": {
    "name": "ipython",
    "version": 3
   },
   "file_extension": ".py",
   "mimetype": "text/x-python",
   "name": "python",
   "nbconvert_exporter": "python",
   "pygments_lexer": "ipython3",
   "version": "3.12.11"
  }
 },
 "nbformat": 4,
 "nbformat_minor": 5
}
