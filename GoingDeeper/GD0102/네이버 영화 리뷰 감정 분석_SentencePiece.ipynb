{
 "cells": [
  {
   "cell_type": "markdown",
   "id": "53997ebb-bdc9-4946-80bb-64f14669c25f",
   "metadata": {},
   "source": [
    "## 네이버 영화 리뷰 감정 분석 문제에 SentencePiece 적용해보기"
   ]
  },
  {
   "cell_type": "markdown",
   "id": "f2cdbee0-d86f-4802-9ad0-6aad7cc8b5e9",
   "metadata": {},
   "source": [
    "- 네이버 영화 리뷰 감정 분석 문제에서 Tokenizer를 SentencePiece로 교체하면 더 성능이 좋아질까?\n",
    "- KoNLPy의 Mecab, kkma, Okt 등과 비교하기"
   ]
  },
  {
   "cell_type": "markdown",
   "id": "b334c5b8-3d35-4710-920d-9fe6afc53f3f",
   "metadata": {},
   "source": [
    "### 1. 라이브러리 설치 및 데이터 다운로드"
   ]
  },
  {
   "cell_type": "code",
   "execution_count": 1,
   "id": "4b3738e3-92a6-449b-937a-36b9e0dcc923",
   "metadata": {},
   "outputs": [],
   "source": [
    "!pip -q install sentencepiece konlpy tqdm scikit-learn"
   ]
  },
  {
   "cell_type": "code",
   "execution_count": 2,
   "id": "ab6ef36d-7f62-4ba0-bb23-ee154fc40616",
   "metadata": {},
   "outputs": [
    {
     "name": "stdout",
     "output_type": "stream",
     "text": [
      "Exists: ratings_train.txt\n",
      "Exists: ratings_test.txt\n"
     ]
    }
   ],
   "source": [
    "import os, re, csv, urllib.request\n",
    "from pathlib import Path\n",
    "from typing import List, Tuple\n",
    "\n",
    "ROOT = Path('.')\n",
    "DATA_DIR = ROOT/'data_nsmc'\n",
    "DATA_DIR.mkdir(exist_ok=True, parents=True)\n",
    "\n",
    "def download(url, dest):\n",
    "    if not dest.exists():\n",
    "        urllib.request.urlretrieve(url, dest)\n",
    "        print(f\"Downloaded: {dest.name}\")\n",
    "    else:\n",
    "        print(f\"Exists: {dest.name}\")\n",
    "\n",
    "base = \"https://raw.githubusercontent.com/e9t/nsmc/master\"\n",
    "download(f\"{base}/ratings_train.txt\", DATA_DIR/'ratings_train.txt')\n",
    "download(f\"{base}/ratings_test.txt\",  DATA_DIR/'ratings_test.txt')"
   ]
  },
  {
   "cell_type": "markdown",
   "id": "908e14fc-65e4-4ae1-b91b-4fa8bd0a5e83",
   "metadata": {},
   "source": [
    "### 2. 데이터 불러오기 및 정규화"
   ]
  },
  {
   "cell_type": "code",
   "execution_count": 3,
   "id": "ce472c46-efb1-4971-afa4-74f3c1938bb8",
   "metadata": {},
   "outputs": [],
   "source": [
    "def load_nsmc(path: Path):\n",
    "    texts, labels = [], []                                       # 리뷰 문장과 라벨을 저장할 리스트 준비\n",
    "    with open(path, encoding='utf-8') as f:\n",
    "        reader = csv.DictReader(f, delimiter='\\t')\n",
    "        for row in reader:\n",
    "            t, y = row['document'], row['label']                 # document = 리뷰 문장, label = 감정 레이블\n",
    "            if t and y in ('0','1'):                             # 감정 레이블이 존재할 때만\n",
    "                texts.append(t)                                  # 리뷰 문장을 추가합니다\n",
    "                labels.append(int(y))\n",
    "    return texts, labels\n",
    "\n",
    "train_texts, train_labels = load_nsmc(DATA_DIR/'ratings_train.txt')                 # ~ texts = 영화 리뷰 문장 리스트\n",
    "test_texts,  test_labels  = load_nsmc(DATA_DIR/'ratings_test.txt')                  # ~ labels = 긍정 부정 정답 라벨 리스트"
   ]
  },
  {
   "cell_type": "code",
   "execution_count": 4,
   "id": "afaf4271-0196-44c5-8b4f-5b88f3a19055",
   "metadata": {},
   "outputs": [
    {
     "data": {
      "text/plain": [
       "['아 더빙.. 진짜 짜증나네요 목소리',\n",
       " '흠...포스터보고 초딩영화줄....오버연기조차 가볍지 않구나',\n",
       " '너무재밓었다그래서보는것을추천한다',\n",
       " '교도소 이야기구먼 ..솔직히 재미는 없다..평점 조정',\n",
       " '사이몬페그의 익살스런 연기가 돋보였던 영화!스파이더맨에서 늙어보이기만 했던 커스틴 던스트가 너무나도 이뻐보였다']"
      ]
     },
     "execution_count": 4,
     "metadata": {},
     "output_type": "execute_result"
    }
   ],
   "source": [
    "train_texts[:5]"
   ]
  },
  {
   "cell_type": "code",
   "execution_count": 5,
   "id": "a50fe444-fc7b-4340-a11d-dd637ed949c9",
   "metadata": {},
   "outputs": [
    {
     "data": {
      "text/plain": [
       "[0, 1, 0, 0, 1]"
      ]
     },
     "execution_count": 5,
     "metadata": {},
     "output_type": "execute_result"
    }
   ],
   "source": [
    "train_labels[:5]"
   ]
  },
  {
   "cell_type": "markdown",
   "id": "bd6d95cd-80bf-487d-ad54-b1e3a6cc86e2",
   "metadata": {},
   "source": [
    "- 텍스트 정규화 과정"
   ]
  },
  {
   "cell_type": "code",
   "execution_count": 6,
   "id": "db048949-5a55-4989-8660-385de696056d",
   "metadata": {},
   "outputs": [
    {
     "data": {
      "text/plain": [
       "(149995, 49997)"
      ]
     },
     "execution_count": 6,
     "metadata": {},
     "output_type": "execute_result"
    }
   ],
   "source": [
    "# 정규 표현식 패턴 정의\n",
    "# 여기에 속하지 않는 문자들을 찾아낸다\n",
    "NORMALIZE_RE = re.compile(r\"[^0-9A-Za-z가-힣ㄱ-ㅎㅏ-ㅣ\\s\\.\\,\\!\\?\\:\\;\\'\\\"\\(\\)\\[\\]\\-]+\")\n",
    "                          \n",
    "def clean_text(s: str) -> str:                \n",
    "    s = (s or \"\").strip()                     # 문자열이 None이면 \"\"로 처리, 앞뒤 공백 제거    \n",
    "    s = NORMALIZE_RE.sub(\" \", s)              # 허용되지 않은 문자 → 공백으로 치환\n",
    "    s = re.sub(r\"\\s+\", \" \", s)                # 연속된 공백(2칸 이상) → 한 칸으로 축소\n",
    "    return s\n",
    "\n",
    "train_texts = [clean_text(t) for t in train_texts]\n",
    "test_texts  = [clean_text(t) for t in test_texts]\n",
    "len(train_texts), len(test_texts)"
   ]
  },
  {
   "cell_type": "markdown",
   "id": "6c85d57e-acd2-482e-b135-e75dc5b453bb",
   "metadata": {},
   "source": [
    "### 3. SentencePiece 학습 및 적용하기 + sp_tokenize() 구현"
   ]
  },
  {
   "cell_type": "code",
   "execution_count": 7,
   "id": "3874281e-5477-47d5-984a-1eeb481d8c89",
   "metadata": {
    "scrolled": true
   },
   "outputs": [],
   "source": [
    "import sentencepiece as spm\n",
    "\n",
    "# SentencePiece 모델 파일과 임시 코퍼스 파일 저장용 디렉토리\n",
    "SP_DIR = ROOT/'sp_models'\n",
    "SP_DIR.mkdir(exist_ok=True)"
   ]
  },
  {
   "cell_type": "code",
   "execution_count": 8,
   "id": "e38bc806-7aae-45aa-8309-bc70ec053f0e",
   "metadata": {},
   "outputs": [],
   "source": [
    "# SentencePiece 학습 함수\n",
    "\n",
    "def train_sentencepiece(corpus: list,                                   # 학습할 NSMC 리뷰 텍스트 리스트\n",
    "                        model_prefix: str,                              \n",
    "                        vocab_size: int = 8000,                         # 어휘집 크기 = 기본 8000\n",
    "                        model_type: str = \"unigram\",                    # 토큰화 방식 = unigram이 한국어에 가장 잘 맞음\n",
    "                        character_coverage: float = 0.9995):            # 0.9998 만큼 커버한다 = 데이터 안의 거의 모든 문자를 포함한다\n",
    "\n",
    "    # 학습 데이터 준비\n",
    "    tmp_corpus = SP_DIR / f\"{model_prefix}.txt\"\n",
    "    with open(tmp_corpus, \"w\", encoding=\"utf-8\") as f:\n",
    "        for line in corpus:\n",
    "            f.write(line+\"\\n\")\n",
    "    \n",
    "    # SentencePiece 학습 실행\n",
    "    spm.SentencePieceTrainer.train(\n",
    "        input=str(tmp_corpus),\n",
    "        model_prefix=str(SP_DIR/model_prefix),\n",
    "        vocab_size=vocab_size,\n",
    "        model_type=model_type,\n",
    "        character_coverage=character_coverage,\n",
    "        pad_id=0, unk_id=1, bos_id=2, eos_id=3                           # 특수 토큰 ID 지정하기\n",
    "    )\n",
    "    return str(SP_DIR/f\"{model_prefix}.model\")"
   ]
  },
  {
   "cell_type": "code",
   "execution_count": 9,
   "id": "7c8d096e-475f-4640-b887-b6103ec9033d",
   "metadata": {
    "scrolled": true
   },
   "outputs": [
    {
     "name": "stderr",
     "output_type": "stream",
     "text": [
      "sentencepiece_trainer.cc(78) LOG(INFO) Starts training with : \n",
      "trainer_spec {\n",
      "  input: sp_models/sp_uni8k.txt\n",
      "  input_format: \n",
      "  model_prefix: sp_models/sp_uni8k\n",
      "  model_type: UNIGRAM\n",
      "  vocab_size: 8000\n",
      "  self_test_sample_size: 0\n",
      "  character_coverage: 0.9995\n",
      "  input_sentence_size: 0\n",
      "  shuffle_input_sentence: 1\n",
      "  seed_sentencepiece_size: 1000000\n",
      "  shrinking_factor: 0.75\n",
      "  max_sentence_length: 4192\n",
      "  num_threads: 16\n",
      "  num_sub_iterations: 2\n",
      "  max_sentencepiece_length: 16\n",
      "  split_by_unicode_script: 1\n",
      "  split_by_number: 1\n",
      "  split_by_whitespace: 1\n",
      "  split_digits: 0\n",
      "  pretokenization_delimiter: \n",
      "  treat_whitespace_as_suffix: 0\n",
      "  allow_whitespace_only_pieces: 0\n",
      "  required_chars: \n",
      "  byte_fallback: 0\n",
      "  vocabulary_output_piece_score: 1\n",
      "  train_extremely_large_corpus: 0\n",
      "  seed_sentencepieces_file: \n",
      "  hard_vocab_limit: 1\n",
      "  use_all_vocab: 0\n",
      "  unk_id: 1\n",
      "  bos_id: 2\n",
      "  eos_id: 3\n",
      "  pad_id: 0\n",
      "  unk_piece: <unk>\n",
      "  bos_piece: <s>\n",
      "  eos_piece: </s>\n",
      "  pad_piece: <pad>\n",
      "  unk_surface:  ⁇ \n",
      "  enable_differential_privacy: 0\n",
      "  differential_privacy_noise_level: 0\n",
      "  differential_privacy_clipping_threshold: 0\n",
      "}\n",
      "normalizer_spec {\n",
      "  name: nmt_nfkc\n",
      "  add_dummy_prefix: 1\n",
      "  remove_extra_whitespaces: 1\n",
      "  escape_whitespaces: 1\n",
      "  normalization_rule_tsv: \n",
      "}\n",
      "denormalizer_spec {}\n",
      "trainer_interface.cc(355) LOG(INFO) SentenceIterator is not specified. Using MultiFileSentenceIterator.\n",
      "trainer_interface.cc(186) LOG(INFO) Loading corpus: sp_models/sp_uni8k.txt\n",
      "trainer_interface.cc(411) LOG(INFO) Loaded all 149995 sentences\n",
      "trainer_interface.cc(427) LOG(INFO) Adding meta_piece: <pad>\n",
      "trainer_interface.cc(427) LOG(INFO) Adding meta_piece: <unk>\n",
      "trainer_interface.cc(427) LOG(INFO) Adding meta_piece: <s>\n",
      "trainer_interface.cc(427) LOG(INFO) Adding meta_piece: </s>\n",
      "trainer_interface.cc(432) LOG(INFO) Normalizing sentences...\n",
      "trainer_interface.cc(541) LOG(INFO) all chars count=5405475\n",
      "trainer_interface.cc(552) LOG(INFO) Done: 99.9501% characters are covered.\n",
      "trainer_interface.cc(562) LOG(INFO) Alphabet size=1601\n",
      "trainer_interface.cc(563) LOG(INFO) Final character coverage=0.999501\n",
      "trainer_interface.cc(594) LOG(INFO) Done! preprocessed 149953 sentences.\n",
      "unigram_model_trainer.cc(265) LOG(INFO) Making suffix array...\n",
      "unigram_model_trainer.cc(269) LOG(INFO) Extracting frequent sub strings... node_num=1905732\n",
      "unigram_model_trainer.cc(312) LOG(INFO) Initialized 306918 seed sentencepieces\n",
      "trainer_interface.cc(600) LOG(INFO) Tokenizing input sentences with whitespace: 149953\n",
      "trainer_interface.cc(611) LOG(INFO) Done! 351363\n",
      "unigram_model_trainer.cc(602) LOG(INFO) Using 351363 sentences for EM training\n",
      "unigram_model_trainer.cc(618) LOG(INFO) EM sub_iter=0 size=156146 obj=15.2191 num_tokens=817308 num_tokens/piece=5.23426\n",
      "unigram_model_trainer.cc(618) LOG(INFO) EM sub_iter=1 size=144425 obj=14.164 num_tokens=822452 num_tokens/piece=5.69467\n",
      "unigram_model_trainer.cc(618) LOG(INFO) EM sub_iter=0 size=108238 obj=14.2644 num_tokens=859255 num_tokens/piece=7.93857\n",
      "unigram_model_trainer.cc(618) LOG(INFO) EM sub_iter=1 size=108033 obj=14.2065 num_tokens=859482 num_tokens/piece=7.95574\n",
      "unigram_model_trainer.cc(618) LOG(INFO) EM sub_iter=0 size=81021 obj=14.4399 num_tokens=903537 num_tokens/piece=11.1519\n",
      "unigram_model_trainer.cc(618) LOG(INFO) EM sub_iter=1 size=81009 obj=14.3789 num_tokens=903675 num_tokens/piece=11.1552\n",
      "unigram_model_trainer.cc(618) LOG(INFO) EM sub_iter=0 size=60756 obj=14.6392 num_tokens=946114 num_tokens/piece=15.5724\n",
      "unigram_model_trainer.cc(618) LOG(INFO) EM sub_iter=1 size=60756 obj=14.5774 num_tokens=946110 num_tokens/piece=15.5723\n",
      "unigram_model_trainer.cc(618) LOG(INFO) EM sub_iter=0 size=45567 obj=14.8657 num_tokens=990438 num_tokens/piece=21.7359\n",
      "unigram_model_trainer.cc(618) LOG(INFO) EM sub_iter=1 size=45567 obj=14.8008 num_tokens=990435 num_tokens/piece=21.7358\n",
      "unigram_model_trainer.cc(618) LOG(INFO) EM sub_iter=0 size=34175 obj=15.1186 num_tokens=1036224 num_tokens/piece=30.3211\n",
      "unigram_model_trainer.cc(618) LOG(INFO) EM sub_iter=1 size=34175 obj=15.0522 num_tokens=1036202 num_tokens/piece=30.3205\n",
      "unigram_model_trainer.cc(618) LOG(INFO) EM sub_iter=0 size=25631 obj=15.4009 num_tokens=1083018 num_tokens/piece=42.2542\n",
      "unigram_model_trainer.cc(618) LOG(INFO) EM sub_iter=1 size=25631 obj=15.33 num_tokens=1083031 num_tokens/piece=42.2547\n",
      "unigram_model_trainer.cc(618) LOG(INFO) EM sub_iter=0 size=19223 obj=15.7075 num_tokens=1132722 num_tokens/piece=58.9253\n",
      "unigram_model_trainer.cc(618) LOG(INFO) EM sub_iter=1 size=19223 obj=15.6276 num_tokens=1132727 num_tokens/piece=58.9256\n",
      "unigram_model_trainer.cc(618) LOG(INFO) EM sub_iter=0 size=14417 obj=16.0542 num_tokens=1185271 num_tokens/piece=82.2134\n",
      "unigram_model_trainer.cc(618) LOG(INFO) EM sub_iter=1 size=14417 obj=15.9637 num_tokens=1185305 num_tokens/piece=82.2158\n",
      "unigram_model_trainer.cc(618) LOG(INFO) EM sub_iter=0 size=10812 obj=16.4243 num_tokens=1242791 num_tokens/piece=114.946\n",
      "unigram_model_trainer.cc(618) LOG(INFO) EM sub_iter=1 size=10812 obj=16.3134 num_tokens=1243282 num_tokens/piece=114.991\n",
      "unigram_model_trainer.cc(618) LOG(INFO) EM sub_iter=0 size=8800 obj=16.6647 num_tokens=1284661 num_tokens/piece=145.984\n",
      "unigram_model_trainer.cc(618) LOG(INFO) EM sub_iter=1 size=8800 obj=16.5866 num_tokens=1284755 num_tokens/piece=145.995\n",
      "trainer_interface.cc(689) LOG(INFO) Saving model: sp_models/sp_uni8k.model\n",
      "trainer_interface.cc(701) LOG(INFO) Saving vocabs: sp_models/sp_uni8k.vocab\n"
     ]
    },
    {
     "data": {
      "text/plain": [
       "8000"
      ]
     },
     "execution_count": 9,
     "metadata": {},
     "output_type": "execute_result"
    }
   ],
   "source": [
    "# SentencePiece 모델 불러오기\n",
    "def load_sp(model_path: str):\n",
    "    sp = spm.SentencePieceProcessor()\n",
    "    sp.load(model_path)\n",
    "    return sp                            # .model 파일을 통해 토크나이저 객체 생성\n",
    "\n",
    "# 토큰화 함수\n",
    "def sp_tokenize(text: str, sp):\n",
    "    return sp.encode(text, out_type=int)\n",
    "\n",
    "# Unigram-8k\n",
    "sp_model_path = train_sentencepiece(train_texts, model_prefix=\"sp_uni8k\", vocab_size=8000, model_type=\"unigram\")\n",
    "sp = load_sp(sp_model_path)\n",
    "sp.vocab_size()"
   ]
  },
  {
   "cell_type": "code",
   "execution_count": 10,
   "id": "d2698360-381a-44e9-861f-c1beccd37ca2",
   "metadata": {},
   "outputs": [
    {
     "name": "stdout",
     "output_type": "stream",
     "text": [
      "토큰 ID: [2389, 2381, 2247, 165, 11, 4, 1436, 317, 2373, 499, 2665, 1789, 8, 26, 4, 5704, 46, 6317, 2509, 1228, 2863, 2392, 6286, 4, 115, 677, 10, 2225, 4, 4804, 6938, 26]\n",
      "복원: 사이몬페그의 익살스런 연기가 돋보였던 영화! 스파이더맨에서 늙어보이기만 했던 커스틴 던스트가 너무나도 이뻐보였다!\n"
     ]
    }
   ],
   "source": [
    "# ID 시퀀스 변환 및 복원 결과 확인\n",
    "\n",
    "text = \"사이몬페그의 익살스런 연기가 돋보였던 영화! 스파이더맨에서 늙어보이기만 했던 커스틴 던스트가 너무나도 이뻐보였다!\"\n",
    "ids = sp_tokenize(text, sp)\n",
    "print(\"토큰 ID:\", ids)\n",
    "print(\"복원:\", sp.decode(ids))"
   ]
  },
  {
   "cell_type": "markdown",
   "id": "958d18ed-b88c-4921-bb6e-3807fa2d2e8b",
   "metadata": {},
   "source": [
    "### 4. SentencePiece와 Konlpy - Mecab 비교하기 전 환경 셋팅\n",
    "\n",
    "- 두 가지 토크나이즈 방식을 같은 분류 모델로 비교\n",
    "    - SentencePiece : ```experiment_sp()``` 함수에서 SP 모델 학습 → 토큰화 → 학습/평가\n",
    "    - MeCab(형태소) : 직접 ```morphs()```로 토큰화 → 보카빌드 → 학습/평가\n",
    "- 모델 : BiLSTMMaxPoolClassifier (임베딩 → 양방향 LSTM → 맥스풀 → 선형)\n",
    "- 데이터 : 이미 준비된 train_texts/test_texts와 레이블에서 train/valid/test로 분할\n",
    "- 평가: Accuracy/F1 출력 · 반환"
   ]
  },
  {
   "cell_type": "code",
   "execution_count": 19,
   "id": "7a7a2f59-9afe-4431-a0ac-46d869a48f29",
   "metadata": {},
   "outputs": [],
   "source": [
    "# Mecab 토크나이저 정의\n",
    "\n",
    "from konlpy.tag import Mecab\n",
    "MECAB = Mecab()\n",
    "\n",
    "def tokenize_mecab(text: str):       # 입력 문장을 형태소 단위 리스트로 자르는 함수\n",
    "    return MECAB.morphs(text)"
   ]
  },
  {
   "cell_type": "markdown",
   "id": "5607c678-7538-4b20-93e4-960cfa30ef15",
   "metadata": {},
   "source": [
    "- 라이브러리 불러오기"
   ]
  },
  {
   "cell_type": "code",
   "execution_count": 18,
   "id": "c2f6fc3e-966f-4d08-8922-7b5735207794",
   "metadata": {},
   "outputs": [
    {
     "name": "stdout",
     "output_type": "stream",
     "text": [
      "Device: cuda\n"
     ]
    }
   ],
   "source": [
    "import torch, numpy as np\n",
    "from torch import nn\n",
    "from torch.utils.data import Dataset, DataLoader\n",
    "from collections import Counter\n",
    "from sklearn.model_selection import train_test_split\n",
    "from sklearn.metrics import accuracy_score, f1_score\n",
    "from tqdm.auto import tqdm\n",
    "\n",
    "DEVICE = torch.device('cuda' if torch.cuda.is_available() else 'cpu')\n",
    "print(\"Device:\", DEVICE)"
   ]
  },
  {
   "cell_type": "code",
   "execution_count": 20,
   "id": "6bce66bd-0ef2-4fb0-b5aa-0a1cd8d94938",
   "metadata": {},
   "outputs": [],
   "source": [
    "# 데이터 분할 (train_texts/labels = 90/10)\n",
    "# 테스트는 그대로 사용합니다\n",
    "\n",
    "X_tr, X_va, y_tr, y_va = train_test_split(\n",
    "    train_texts, train_labels, test_size=0.1,\n",
    "    random_state=42, stratify=train_labels\n",
    ")\n",
    "X_te, y_te = test_texts, test_labels"
   ]
  },
  {
   "cell_type": "markdown",
   "id": "652eb60c-524b-41e4-b02d-d09bac5d01ae",
   "metadata": {},
   "source": [
    "- 최대 시퀀스 길이 128 토큰으로 자르고/패딩\n",
    "- 배치 256, 학습 6 epoch, AdamW 학습률 0.002\n",
    "- 임베딩 차원 200, LSTM hidden 256(양방향이라 최종 512), 드롭아웃 0.2, num_workers 2"
   ]
  },
  {
   "cell_type": "code",
   "execution_count": 37,
   "id": "5adac3bd-23c9-4739-bf8a-c15b45f94995",
   "metadata": {},
   "outputs": [],
   "source": [
    "MAX_LEN   = 128\n",
    "BATCH     = 256\n",
    "EPOCHS    = 6\n",
    "LR        = 2e-3\n",
    "EMBED_DIM = 200\n",
    "HIDDEN    = 256\n",
    "DROPOUT   = 0.2\n",
    "NUM_WORKERS = 2"
   ]
  },
  {
   "cell_type": "code",
   "execution_count": 38,
   "id": "5b68271e-6d83-4ea3-abe4-fdcda80a49e2",
   "metadata": {},
   "outputs": [],
   "source": [
    "# 형태소 토큰용 Vocab 사전 빌드 + 인코딩/패딩\n",
    "\n",
    "def build_vocab(tokenized_corpus, min_freq=2, specials=None):\n",
    "    specials = specials or [\"<PAD>\", \"<UNK>\"]\n",
    "    cnt = Counter()\n",
    "    for toks in tokenized_corpus:\n",
    "        cnt.update(toks)\n",
    "    itos = list(specials)\n",
    "    for w, c in cnt.most_common():\n",
    "        if c >= min_freq:\n",
    "            itos.append(w)\n",
    "    return {w:i for i,w in enumerate(itos)}"
   ]
  },
  {
   "cell_type": "code",
   "execution_count": 39,
   "id": "d8246161-37b5-4381-a716-45b0391c2767",
   "metadata": {},
   "outputs": [],
   "source": [
    "# 형태소 단위 토큰을 정수 ID 시퀀스로 바꿉니다\n",
    "\n",
    "def encode_tokens(tokens, stoi, max_len=128):\n",
    "    unk = stoi.get(\"<UNK>\", 1)                                # '<UNK>' 토큰의 ID. 없으면 1번으로 기본 설정\n",
    "    ids = [stoi.get(t, unk) for t in tokens]\n",
    "\n",
    "    # 주어진 tokens 리스트(예: [\"영화\", \"재밌다\"])에서\n",
    "    # 각 토큰을 stoi 딕셔너리에서 찾아서 숫자로 바꿉니다\n",
    "    # 만약 없는 토큰이면 unk(=1)으로 대체\n",
    "    \n",
    "    if len(ids) < max_len:\n",
    "        ids += [0]*(max_len-len(ids))\n",
    "        # max_len보다 짧으면 PAD(0)으로 뒤를 채워줍니다\n",
    "        \n",
    "    return ids[:max_len]\n",
    "    # max_len보다 길면 잘라냅니다 (문장의 길이를 일정하게 맞추기)"
   ]
  },
  {
   "cell_type": "code",
   "execution_count": 40,
   "id": "315dccde-b9b3-42b3-a935-c1a3648175ab",
   "metadata": {},
   "outputs": [],
   "source": [
    "# 패딩, 잘라내기 함수\n",
    "# SentencePiece는 자체적으로 ID를 주기 때문에 pad_ids만 필요합니다\n",
    "# 하지만 Mecab은 토큰을 뽑기만 하니까 encode_tokens (위의 함수) 함수가 필요합니다.\n",
    "\n",
    "def pad_ids(ids, max_len=128):\n",
    "    if len(ids) < max_len:\n",
    "        ids += [0]*(max_len-len(ids))\n",
    "    return ids[:max_len]"
   ]
  },
  {
   "cell_type": "markdown",
   "id": "d4b89aad-86da-473c-a4c8-4e5a3683a569",
   "metadata": {},
   "source": [
    "- 영화 리뷰 하나를 (숫자 시퀀스 레이블)로 변환하는 함수 구성\n",
    "- Pytorch의 DataLodaer가 이 클래스를 감싸면 자동으로 batch 단위로 (X_batch, y_batch)를 뽑아줍니다.\n",
    "- SentencePiece와 형태소 분석기를 같은 코드 구조 안에서 비교할 수 있습니다."
   ]
  },
  {
   "cell_type": "code",
   "execution_count": 41,
   "id": "a86197c5-f603-4d73-9d4f-574effe78371",
   "metadata": {},
   "outputs": [],
   "source": [
    "class NSMCDataset(Dataset):\n",
    "    def __init__(self, texts, labels, kind=\"sp\", sp=None, tok_func=None, stoi=None, max_len=128):\n",
    "        self.texts, self.labels = texts, labels\n",
    "        self.kind, self.sp, self.tok_func, self.stoi = kind, sp, tok_func, stoi\n",
    "        self.max_len = max_len\n",
    "    def __len__(self): return len(self.texts)\n",
    "    def __getitem__(self, i):\n",
    "        t, y = self.texts[i], self.labels[i]\n",
    "        if self.kind == \"sp\":\n",
    "            ids = sp_tokenize(t, self.sp)\n",
    "            x = torch.tensor(pad_ids(ids, self.max_len), dtype=torch.long)\n",
    "        else:\n",
    "            toks = self.tok_func(t)\n",
    "            x = torch.tensor(encode_tokens(toks, self.stoi, self.max_len), dtype=torch.long)\n",
    "        return x, torch.tensor(y, dtype=torch.float32)"
   ]
  },
  {
   "cell_type": "markdown",
   "id": "e493e681-346c-47de-8b6d-4c967da31ee2",
   "metadata": {},
   "source": [
    "#### ***감정 분석을 수행할 모델 BiLSTMMaxPoolClassifier***\n",
    "- LSTM 순환 신경망 → 입력 : (배치 크기, 시퀀스 길이, 임베딩 차원) → 출력 (B, L, 2H)\n",
    "- ```bidrectional = True```라서 정방향 + 역방향 총 2개의 LSTM을 사용합니다.\n",
    "\n",
    "- BiLSTM : 앞뒤 문맥을 모두 반영합니다.\n",
    "- MaxPooling : 문장 전체에서 가장 중요한 특징만 추출합니다.\n",
    "- FC Layer : 긍정/부정 확률 출력합니다."
   ]
  },
  {
   "cell_type": "code",
   "execution_count": 42,
   "id": "522672d6-e486-411a-92ea-4981dd200d44",
   "metadata": {},
   "outputs": [],
   "source": [
    "class BiLSTMMaxPoolClassifier(nn.Module):\n",
    "    def __init__(self, vocab_size, embed_dim=200, hidden_dim=256, dropout=0.2):\n",
    "        super().__init__()\n",
    "        self.embedding = nn.Embedding(vocab_size, embed_dim, padding_idx=0)\n",
    "        self.lstm = nn.LSTM(embed_dim, hidden_dim, batch_first=True, bidirectional=True)\n",
    "        self.dropout = nn.Dropout(dropout)\n",
    "        self.fc = nn.Linear(hidden_dim*2, 1)\n",
    "    def forward(self, x):\n",
    "        emb = self.embedding(x)          # (B, L, E)\n",
    "        out, _ = self.lstm(emb)          # (B, L, 2H) 양방향\n",
    "        pooled, _ = torch.max(out, dim=1)# (B, 2H) 시간축 맥스풀\n",
    "        return self.fc(self.dropout(pooled)).squeeze(1)  # (B,)"
   ]
  },
  {
   "cell_type": "code",
   "execution_count": 43,
   "id": "5d75ca09-974c-41fc-b767-21e7db724732",
   "metadata": {},
   "outputs": [],
   "source": [
    "# 1 epoch 당 모델 학습 함수\n",
    "\n",
    "def train_epoch(model, loader, opt, crit):\n",
    "    model.train(); losses=[]\n",
    "    for X,y in tqdm(loader, leave=False):\n",
    "        X,y = X.to(DEVICE), y.to(DEVICE)\n",
    "        opt.zero_grad()\n",
    "        logits = model(X)\n",
    "        loss = crit(logits, y)\n",
    "        loss.backward(); opt.step()\n",
    "        losses.append(loss.item())\n",
    "    return float(np.mean(losses))"
   ]
  },
  {
   "cell_type": "code",
   "execution_count": 44,
   "id": "185cd64b-beb8-41c8-995f-f2d494abe282",
   "metadata": {},
   "outputs": [],
   "source": [
    "# 평가 함수\n",
    "\n",
    "@torch.no_grad()                                       # 평가 단계 - 순전파만 실행\n",
    "def evaluate(model, loader, crit):\n",
    "    model.eval(); losses=[]; all_y=[]; all_p=[]\n",
    "    for X,y in loader:\n",
    "        X,y = X.to(DEVICE), y.to(DEVICE)\n",
    "        logits = model(X); loss = crit(logits, y)\n",
    "        probs = torch.sigmoid(logits)                  # BCEWithLogitsLoss와 짝\n",
    "        preds = (probs>0.5).float()                    # 임계값 0.5 - 0.5 이상이면 긍정 / 이하면 부정\n",
    "        losses.append(loss.item())\n",
    "        all_y += y.cpu().numpy().tolist()\n",
    "        all_p += preds.cpu().numpy().tolist()\n",
    "    return float(np.mean(losses)), accuracy_score(all_y, all_p), f1_score(all_y, all_p)"
   ]
  },
  {
   "cell_type": "code",
   "execution_count": 45,
   "id": "83aab7f3-8656-46d9-bce8-1466ca36c0e8",
   "metadata": {},
   "outputs": [],
   "source": [
    "# 학습, 검증, 체크포인트 복원\n",
    "\n",
    "def run_training(train_ds, valid_ds, vocab_size):\n",
    "    model = BiLSTMMaxPoolClassifier(vocab_size, EMBED_DIM, HIDDEN, DROPOUT).to(DEVICE)\n",
    "    \n",
    "    NUM_WORKERS = 0\n",
    "    tr = DataLoader(train_ds, batch_size=BATCH, shuffle=True, num_workers=NUM_WORKERS, pin_memory=False)\n",
    "    va = DataLoader(valid_ds, batch_size=BATCH, shuffle=False, num_workers=NUM_WORKERS, pin_memory=False)\n",
    "\n",
    "    crit = nn.BCEWithLogitsLoss()\n",
    "    opt  = torch.optim.AdamW(model.parameters(), lr=LR)\n",
    "    best = {\"acc\":0.0,\"state\":None,\"ep\":0}\n",
    "    for ep in range(1, EPOCHS+1):\n",
    "        tl = train_epoch(model, tr, opt, crit)\n",
    "        vl, va_acc, va_f1 = evaluate(model, va, crit)\n",
    "        if va_acc>best[\"acc\"]:\n",
    "            best = {\"acc\":va_acc, \"state\":{k:v.detach().cpu() for k,v in model.state_dict().items()}, \"ep\":ep}\n",
    "        print(f\"[Ep {ep:02d}] tr_loss={tl:.4f}  va_loss={vl:.4f}  va_acc={va_acc:.4f}  va_f1={va_f1:.4f}\")\n",
    "    if best[\"state\"] is not None:\n",
    "        model.load_state_dict(best[\"state\"])\n",
    "    return model"
   ]
  },
  {
   "cell_type": "code",
   "execution_count": 46,
   "id": "25215978-21a0-4afb-a287-e2b832ccc4fb",
   "metadata": {},
   "outputs": [],
   "source": [
    "def experiment_sp(model_type=\"unigram\", vocab_size=8000, tag=\"\"):\n",
    "    sp_path = train_sentencepiece(\n",
    "        X_tr, model_prefix=f\"sp_{model_type}_{vocab_size}{('_'+tag) if tag else ''}\",\n",
    "        vocab_size=vocab_size, model_type=model_type\n",
    "    )\n",
    "    sp = load_sp(sp_path)\n",
    "    vsize = sp.vocab_size()\n",
    "\n",
    "    tr_ds = NSMCDataset(X_tr, y_tr, kind=\"sp\", sp=sp, max_len=MAX_LEN)\n",
    "    va_ds = NSMCDataset(X_va, y_va, kind=\"sp\", sp=sp, max_len=MAX_LEN)\n",
    "    te_ds = NSMCDataset(X_te, y_te, kind=\"sp\", sp=sp, max_len=MAX_LEN)\n",
    "\n",
    "    model = run_training(tr_ds, va_ds, vocab_size=vsize)\n",
    "\n",
    "    te = DataLoader(te_ds, batch_size=BATCH, shuffle=False, num_workers=NUM_WORKERS, pin_memory=False)\n",
    "\n",
    "    crit = nn.BCEWithLogitsLoss()\n",
    "    te_loss, te_acc, te_f1 = evaluate(model, te, crit)\n",
    "    print(f\"[SP {model_type}-{vocab_size}] TEST: loss={te_loss:.4f} acc={te_acc:.4f} f1={te_f1:.4f}\")\n",
    "    return {\"family\":\"SP\",\"type\":model_type,\"vocab\":vsize,\"acc\":te_acc,\"f1\":te_f1}"
   ]
  },
  {
   "cell_type": "markdown",
   "id": "f256ff34-fa5d-48c3-ab5a-4f0b954c3549",
   "metadata": {},
   "source": [
    "### 5. SentencePiece 모델의 model_type, vocab_size 등을 변경해 가면서 성능 개선 여부 확인하기"
   ]
  },
  {
   "cell_type": "code",
   "execution_count": 47,
   "id": "8df2ed7c-f556-4915-bf25-8b1cef18f366",
   "metadata": {},
   "outputs": [
    {
     "data": {
      "application/vnd.jupyter.widget-view+json": {
       "model_id": "a5b1fbb0ea86470c9dc6e6c9e629a378",
       "version_major": 2,
       "version_minor": 0
      },
      "text/plain": [
       "  0%|          | 0/528 [00:00<?, ?it/s]"
      ]
     },
     "metadata": {},
     "output_type": "display_data"
    },
    {
     "name": "stdout",
     "output_type": "stream",
     "text": [
      "[Ep 01] tr_loss=0.4139  va_loss=0.3372  va_acc=0.8531  va_f1=0.8510\n"
     ]
    },
    {
     "data": {
      "application/vnd.jupyter.widget-view+json": {
       "model_id": "6cc83d0add354fe6ab725d425e05508f",
       "version_major": 2,
       "version_minor": 0
      },
      "text/plain": [
       "  0%|          | 0/528 [00:00<?, ?it/s]"
      ]
     },
     "metadata": {},
     "output_type": "display_data"
    },
    {
     "name": "stdout",
     "output_type": "stream",
     "text": [
      "[Ep 02] tr_loss=0.2916  va_loss=0.3202  va_acc=0.8634  va_f1=0.8633\n"
     ]
    },
    {
     "data": {
      "application/vnd.jupyter.widget-view+json": {
       "model_id": "130adc7b310a4eafa1b3d29b2dc25605",
       "version_major": 2,
       "version_minor": 0
      },
      "text/plain": [
       "  0%|          | 0/528 [00:00<?, ?it/s]"
      ]
     },
     "metadata": {},
     "output_type": "display_data"
    },
    {
     "name": "stdout",
     "output_type": "stream",
     "text": [
      "[Ep 03] tr_loss=0.2378  va_loss=0.3265  va_acc=0.8611  va_f1=0.8580\n"
     ]
    },
    {
     "data": {
      "application/vnd.jupyter.widget-view+json": {
       "model_id": "69bc66436cb5438889ae77c6c8b45033",
       "version_major": 2,
       "version_minor": 0
      },
      "text/plain": [
       "  0%|          | 0/528 [00:00<?, ?it/s]"
      ]
     },
     "metadata": {},
     "output_type": "display_data"
    },
    {
     "name": "stdout",
     "output_type": "stream",
     "text": [
      "[Ep 04] tr_loss=0.1814  va_loss=0.3644  va_acc=0.8571  va_f1=0.8602\n"
     ]
    },
    {
     "data": {
      "application/vnd.jupyter.widget-view+json": {
       "model_id": "f1cb7b6ba8d14550a9f12e2c9548eafa",
       "version_major": 2,
       "version_minor": 0
      },
      "text/plain": [
       "  0%|          | 0/528 [00:00<?, ?it/s]"
      ]
     },
     "metadata": {},
     "output_type": "display_data"
    },
    {
     "name": "stdout",
     "output_type": "stream",
     "text": [
      "[Ep 05] tr_loss=0.1298  va_loss=0.4103  va_acc=0.8573  va_f1=0.8532\n"
     ]
    },
    {
     "data": {
      "application/vnd.jupyter.widget-view+json": {
       "model_id": "796c02e5c3c241d4b50996a699a9306c",
       "version_major": 2,
       "version_minor": 0
      },
      "text/plain": [
       "  0%|          | 0/528 [00:00<?, ?it/s]"
      ]
     },
     "metadata": {},
     "output_type": "display_data"
    },
    {
     "name": "stdout",
     "output_type": "stream",
     "text": [
      "[Ep 06] tr_loss=0.0944  va_loss=0.4800  va_acc=0.8493  va_f1=0.8518\n",
      "[SP unigram-8000] TEST: loss=0.3236 acc=0.8595 f1=0.8599\n"
     ]
    }
   ],
   "source": [
    "# 실행 - unigram\n",
    "res_sp_uni8k  = experiment_sp(\"unigram\", 8000)"
   ]
  },
  {
   "cell_type": "code",
   "execution_count": 48,
   "id": "372f89da-96d0-47af-8616-b595896caade",
   "metadata": {
    "scrolled": true
   },
   "outputs": [
    {
     "data": {
      "application/vnd.jupyter.widget-view+json": {
       "model_id": "ac27510b75674ea8b148c3f335d929d8",
       "version_major": 2,
       "version_minor": 0
      },
      "text/plain": [
       "  0%|          | 0/528 [00:00<?, ?it/s]"
      ]
     },
     "metadata": {},
     "output_type": "display_data"
    },
    {
     "name": "stdout",
     "output_type": "stream",
     "text": [
      "[Ep 01] tr_loss=0.4273  va_loss=0.3404  va_acc=0.8511  va_f1=0.8485\n"
     ]
    },
    {
     "data": {
      "application/vnd.jupyter.widget-view+json": {
       "model_id": "becab09961ae40f8b14e2d18b7661386",
       "version_major": 2,
       "version_minor": 0
      },
      "text/plain": [
       "  0%|          | 0/528 [00:00<?, ?it/s]"
      ]
     },
     "metadata": {},
     "output_type": "display_data"
    },
    {
     "name": "stdout",
     "output_type": "stream",
     "text": [
      "[Ep 02] tr_loss=0.2854  va_loss=0.3223  va_acc=0.8612  va_f1=0.8618\n"
     ]
    },
    {
     "data": {
      "application/vnd.jupyter.widget-view+json": {
       "model_id": "859c4abe91694ee28a6241309b5c8f72",
       "version_major": 2,
       "version_minor": 0
      },
      "text/plain": [
       "  0%|          | 0/528 [00:00<?, ?it/s]"
      ]
     },
     "metadata": {},
     "output_type": "display_data"
    },
    {
     "name": "stdout",
     "output_type": "stream",
     "text": [
      "[Ep 03] tr_loss=0.2204  va_loss=0.3490  va_acc=0.8553  va_f1=0.8581\n"
     ]
    },
    {
     "data": {
      "application/vnd.jupyter.widget-view+json": {
       "model_id": "11bfed67c1c74d57a2da27fd52b206c8",
       "version_major": 2,
       "version_minor": 0
      },
      "text/plain": [
       "  0%|          | 0/528 [00:00<?, ?it/s]"
      ]
     },
     "metadata": {},
     "output_type": "display_data"
    },
    {
     "name": "stdout",
     "output_type": "stream",
     "text": [
      "[Ep 04] tr_loss=0.1640  va_loss=0.3844  va_acc=0.8569  va_f1=0.8537\n"
     ]
    },
    {
     "data": {
      "application/vnd.jupyter.widget-view+json": {
       "model_id": "94839089ee264c9aa5b3b48efe23279a",
       "version_major": 2,
       "version_minor": 0
      },
      "text/plain": [
       "  0%|          | 0/528 [00:00<?, ?it/s]"
      ]
     },
     "metadata": {},
     "output_type": "display_data"
    },
    {
     "name": "stdout",
     "output_type": "stream",
     "text": [
      "[Ep 05] tr_loss=0.1027  va_loss=0.4740  va_acc=0.8513  va_f1=0.8527\n"
     ]
    },
    {
     "data": {
      "application/vnd.jupyter.widget-view+json": {
       "model_id": "d244ca80d1b64ebc84fe4a991839d869",
       "version_major": 2,
       "version_minor": 0
      },
      "text/plain": [
       "  0%|          | 0/528 [00:00<?, ?it/s]"
      ]
     },
     "metadata": {},
     "output_type": "display_data"
    },
    {
     "name": "stdout",
     "output_type": "stream",
     "text": [
      "[Ep 06] tr_loss=0.0660  va_loss=0.5640  va_acc=0.8521  va_f1=0.8526\n",
      "[SP bpe-16000] TEST: loss=0.3273 acc=0.8586 f1=0.8592\n"
     ]
    }
   ],
   "source": [
    "# 실행 - bpe\n",
    "res_sp_bpe16k = experiment_sp(\"bpe\", 16000)"
   ]
  },
  {
   "cell_type": "code",
   "execution_count": 57,
   "id": "a93bc10e-beff-4ee2-b1e2-bc1f52d8ec04",
   "metadata": {},
   "outputs": [
    {
     "data": {
      "application/vnd.jupyter.widget-view+json": {
       "model_id": "128d2912fdba4ebb9efd286654b8b678",
       "version_major": 2,
       "version_minor": 0
      },
      "text/plain": [
       "  0%|          | 0/528 [00:00<?, ?it/s]"
      ]
     },
     "metadata": {},
     "output_type": "display_data"
    },
    {
     "name": "stdout",
     "output_type": "stream",
     "text": [
      "[Ep 01] tr_loss=0.4278  va_loss=0.3408  va_acc=0.8536  va_f1=0.8525\n"
     ]
    },
    {
     "data": {
      "application/vnd.jupyter.widget-view+json": {
       "model_id": "8301b6f0e2d9402993c6bff4a97c598a",
       "version_major": 2,
       "version_minor": 0
      },
      "text/plain": [
       "  0%|          | 0/528 [00:00<?, ?it/s]"
      ]
     },
     "metadata": {},
     "output_type": "display_data"
    },
    {
     "name": "stdout",
     "output_type": "stream",
     "text": [
      "[Ep 02] tr_loss=0.2908  va_loss=0.3233  va_acc=0.8642  va_f1=0.8647\n"
     ]
    },
    {
     "data": {
      "application/vnd.jupyter.widget-view+json": {
       "model_id": "2e5db9686d734e4b8e21c7ca86f753cd",
       "version_major": 2,
       "version_minor": 0
      },
      "text/plain": [
       "  0%|          | 0/528 [00:00<?, ?it/s]"
      ]
     },
     "metadata": {},
     "output_type": "display_data"
    },
    {
     "name": "stdout",
     "output_type": "stream",
     "text": [
      "[Ep 03] tr_loss=0.2255  va_loss=0.3369  va_acc=0.8579  va_f1=0.8531\n"
     ]
    },
    {
     "data": {
      "application/vnd.jupyter.widget-view+json": {
       "model_id": "d5c40f58d65045e2a5374493a06ccce5",
       "version_major": 2,
       "version_minor": 0
      },
      "text/plain": [
       "  0%|          | 0/528 [00:00<?, ?it/s]"
      ]
     },
     "metadata": {},
     "output_type": "display_data"
    },
    {
     "name": "stdout",
     "output_type": "stream",
     "text": [
      "[Ep 04] tr_loss=0.1693  va_loss=0.3713  va_acc=0.8569  va_f1=0.8585\n"
     ]
    },
    {
     "data": {
      "application/vnd.jupyter.widget-view+json": {
       "model_id": "c177d3d118fe497a8ea569294425c98f",
       "version_major": 2,
       "version_minor": 0
      },
      "text/plain": [
       "  0%|          | 0/528 [00:00<?, ?it/s]"
      ]
     },
     "metadata": {},
     "output_type": "display_data"
    },
    {
     "name": "stdout",
     "output_type": "stream",
     "text": [
      "[Ep 05] tr_loss=0.1100  va_loss=0.4653  va_acc=0.8538  va_f1=0.8524\n"
     ]
    },
    {
     "data": {
      "application/vnd.jupyter.widget-view+json": {
       "model_id": "39b31e0fbde04866bdc3f7ae22d13a32",
       "version_major": 2,
       "version_minor": 0
      },
      "text/plain": [
       "  0%|          | 0/528 [00:00<?, ?it/s]"
      ]
     },
     "metadata": {},
     "output_type": "display_data"
    },
    {
     "name": "stdout",
     "output_type": "stream",
     "text": [
      "[Ep 06] tr_loss=0.0768  va_loss=0.5146  va_acc=0.8511  va_f1=0.8506\n",
      "[SP unigram-16000] TEST: loss=0.3284 acc=0.8586 f1=0.8596\n"
     ]
    }
   ],
   "source": [
    "# 실행 - unigram16\n",
    "res_sp_uni16k = experiment_sp(\"unigram\", 16000)"
   ]
  },
  {
   "cell_type": "code",
   "execution_count": 58,
   "id": "51068154-ad48-4d22-8baa-5afcce7bfe51",
   "metadata": {},
   "outputs": [
    {
     "data": {
      "application/vnd.jupyter.widget-view+json": {
       "model_id": "0806cff57cf84cdfa41f836a3785cdff",
       "version_major": 2,
       "version_minor": 0
      },
      "text/plain": [
       "  0%|          | 0/528 [00:00<?, ?it/s]"
      ]
     },
     "metadata": {},
     "output_type": "display_data"
    },
    {
     "name": "stdout",
     "output_type": "stream",
     "text": [
      "[Ep 01] tr_loss=0.4165  va_loss=0.3369  va_acc=0.8498  va_f1=0.8468\n"
     ]
    },
    {
     "data": {
      "application/vnd.jupyter.widget-view+json": {
       "model_id": "88341619122640308969cef373fc325f",
       "version_major": 2,
       "version_minor": 0
      },
      "text/plain": [
       "  0%|          | 0/528 [00:00<?, ?it/s]"
      ]
     },
     "metadata": {},
     "output_type": "display_data"
    },
    {
     "name": "stdout",
     "output_type": "stream",
     "text": [
      "[Ep 02] tr_loss=0.2943  va_loss=0.3203  va_acc=0.8591  va_f1=0.8597\n"
     ]
    },
    {
     "data": {
      "application/vnd.jupyter.widget-view+json": {
       "model_id": "2541c23274584ecc9cb8e7799377b01e",
       "version_major": 2,
       "version_minor": 0
      },
      "text/plain": [
       "  0%|          | 0/528 [00:00<?, ?it/s]"
      ]
     },
     "metadata": {},
     "output_type": "display_data"
    },
    {
     "name": "stdout",
     "output_type": "stream",
     "text": [
      "[Ep 03] tr_loss=0.2414  va_loss=0.3333  va_acc=0.8585  va_f1=0.8553\n"
     ]
    },
    {
     "data": {
      "application/vnd.jupyter.widget-view+json": {
       "model_id": "80ce3868bf3d4e45b4903c8d4c3aab3d",
       "version_major": 2,
       "version_minor": 0
      },
      "text/plain": [
       "  0%|          | 0/528 [00:00<?, ?it/s]"
      ]
     },
     "metadata": {},
     "output_type": "display_data"
    },
    {
     "name": "stdout",
     "output_type": "stream",
     "text": [
      "[Ep 04] tr_loss=0.1885  va_loss=0.3648  va_acc=0.8561  va_f1=0.8602\n"
     ]
    },
    {
     "data": {
      "application/vnd.jupyter.widget-view+json": {
       "model_id": "45f465c4c54340859150e77ac683b571",
       "version_major": 2,
       "version_minor": 0
      },
      "text/plain": [
       "  0%|          | 0/528 [00:00<?, ?it/s]"
      ]
     },
     "metadata": {},
     "output_type": "display_data"
    },
    {
     "name": "stdout",
     "output_type": "stream",
     "text": [
      "[Ep 05] tr_loss=0.1304  va_loss=0.4121  va_acc=0.8568  va_f1=0.8580\n"
     ]
    },
    {
     "data": {
      "application/vnd.jupyter.widget-view+json": {
       "model_id": "ab453f0a78e343298653efeaea19011e",
       "version_major": 2,
       "version_minor": 0
      },
      "text/plain": [
       "  0%|          | 0/528 [00:00<?, ?it/s]"
      ]
     },
     "metadata": {},
     "output_type": "display_data"
    },
    {
     "name": "stdout",
     "output_type": "stream",
     "text": [
      "[Ep 06] tr_loss=0.0885  va_loss=0.4854  va_acc=0.8487  va_f1=0.8461\n",
      "[SP bpe-8000] TEST: loss=0.3229 acc=0.8582 f1=0.8591\n"
     ]
    }
   ],
   "source": [
    "# 실행 - bpe8\n",
    "res_sp_bpe8k = experiment_sp(\"bpe\", 8000)"
   ]
  },
  {
   "cell_type": "markdown",
   "id": "5811ecf8-6b47-41ef-9bde-abb2440b33c2",
   "metadata": {},
   "source": [
    "### 6. MeCab 성능 확인"
   ]
  },
  {
   "cell_type": "markdown",
   "id": "2e53d6c9-2674-4108-9c50-9616cf7d3e96",
   "metadata": {},
   "source": [
    "- MeCab 형태소 분석기로 텍스트 전처리(토큰화) - 훈련 / 검증 / 테스트"
   ]
  },
  {
   "cell_type": "code",
   "execution_count": 49,
   "id": "f3a980af-4915-4a41-b9e0-fc76df93ee63",
   "metadata": {},
   "outputs": [
    {
     "data": {
      "application/vnd.jupyter.widget-view+json": {
       "model_id": "02713ffc4e024b9d80f91c1c3cdbbbde",
       "version_major": 2,
       "version_minor": 0
      },
      "text/plain": [
       "MeCab tokenize train:   0%|          | 0/134995 [00:00<?, ?it/s]"
      ]
     },
     "metadata": {},
     "output_type": "display_data"
    },
    {
     "data": {
      "application/vnd.jupyter.widget-view+json": {
       "model_id": "5c89e73183574c9c844f0b2d866defe6",
       "version_major": 2,
       "version_minor": 0
      },
      "text/plain": [
       "MeCab tokenize valid:   0%|          | 0/15000 [00:00<?, ?it/s]"
      ]
     },
     "metadata": {},
     "output_type": "display_data"
    },
    {
     "data": {
      "application/vnd.jupyter.widget-view+json": {
       "model_id": "62637e3351d04226ab4f5fe4166aee82",
       "version_major": 2,
       "version_minor": 0
      },
      "text/plain": [
       "MeCab tokenize test:   0%|          | 0/49997 [00:00<?, ?it/s]"
      ]
     },
     "metadata": {},
     "output_type": "display_data"
    }
   ],
   "source": [
    "# 토큰화\n",
    "Xtr_tok = [tokenize_mecab(t) for t in tqdm(X_tr, desc=\"MeCab tokenize train\")]\n",
    "Xva_tok = [tokenize_mecab(t) for t in tqdm(X_va, desc=\"MeCab tokenize valid\")]\n",
    "Xte_tok = [tokenize_mecab(t) for t in tqdm(X_te, desc=\"MeCab tokenize test\")]"
   ]
  },
  {
   "cell_type": "code",
   "execution_count": 50,
   "id": "b4b34693-8ead-432f-a94e-574924c7341d",
   "metadata": {},
   "outputs": [
    {
     "name": "stdout",
     "output_type": "stream",
     "text": [
      "MeCab vocab size: 28205\n"
     ]
    }
   ],
   "source": [
    "# vocab\n",
    "stoi = build_vocab(Xtr_tok, min_freq=2)\n",
    "vsize_mecab = len(stoi)\n",
    "print(\"MeCab vocab size:\", vsize_mecab)"
   ]
  },
  {
   "cell_type": "code",
   "execution_count": 51,
   "id": "5100cfd0-740b-479b-9b89-1bf1b688e834",
   "metadata": {},
   "outputs": [],
   "source": [
    "# MeCab 토큰화 데이터를 Pytorch Dataset 형태로 감싸기\n",
    "\n",
    "tr_ds_m = NSMCDataset(X_tr, y_tr, kind=\"morph\", tok_func=tokenize_mecab, stoi=stoi, max_len=MAX_LEN)\n",
    "va_ds_m = NSMCDataset(X_va, y_va, kind=\"morph\", tok_func=tokenize_mecab, stoi=stoi, max_len=MAX_LEN)\n",
    "te_ds_m = NSMCDataset(X_te, y_te, kind=\"morph\", tok_func=tokenize_mecab, stoi=stoi, max_len=MAX_LEN)"
   ]
  },
  {
   "cell_type": "code",
   "execution_count": 52,
   "id": "91a276ce-38be-4c39-b88c-12834cced9ff",
   "metadata": {},
   "outputs": [
    {
     "data": {
      "application/vnd.jupyter.widget-view+json": {
       "model_id": "cd7ae943460447d580daf8974941e774",
       "version_major": 2,
       "version_minor": 0
      },
      "text/plain": [
       "  0%|          | 0/528 [00:00<?, ?it/s]"
      ]
     },
     "metadata": {},
     "output_type": "display_data"
    },
    {
     "name": "stdout",
     "output_type": "stream",
     "text": [
      "[Ep 01] tr_loss=0.3771  va_loss=0.3147  va_acc=0.8653  va_f1=0.8674\n"
     ]
    },
    {
     "data": {
      "application/vnd.jupyter.widget-view+json": {
       "model_id": "49d3113d87e642c2839d7acaf2c6370b",
       "version_major": 2,
       "version_minor": 0
      },
      "text/plain": [
       "  0%|          | 0/528 [00:00<?, ?it/s]"
      ]
     },
     "metadata": {},
     "output_type": "display_data"
    },
    {
     "name": "stdout",
     "output_type": "stream",
     "text": [
      "[Ep 02] tr_loss=0.2672  va_loss=0.2939  va_acc=0.8761  va_f1=0.8746\n"
     ]
    },
    {
     "data": {
      "application/vnd.jupyter.widget-view+json": {
       "model_id": "c1fcca8b14a44bd1a60cf86bae7a7aee",
       "version_major": 2,
       "version_minor": 0
      },
      "text/plain": [
       "  0%|          | 0/528 [00:00<?, ?it/s]"
      ]
     },
     "metadata": {},
     "output_type": "display_data"
    },
    {
     "name": "stdout",
     "output_type": "stream",
     "text": [
      "[Ep 03] tr_loss=0.2198  va_loss=0.3128  va_acc=0.8754  va_f1=0.8785\n"
     ]
    },
    {
     "data": {
      "application/vnd.jupyter.widget-view+json": {
       "model_id": "eea7eb2307664efc9cdc508bdc7381d6",
       "version_major": 2,
       "version_minor": 0
      },
      "text/plain": [
       "  0%|          | 0/528 [00:00<?, ?it/s]"
      ]
     },
     "metadata": {},
     "output_type": "display_data"
    },
    {
     "name": "stdout",
     "output_type": "stream",
     "text": [
      "[Ep 04] tr_loss=0.1586  va_loss=0.3340  va_acc=0.8762  va_f1=0.8749\n"
     ]
    },
    {
     "data": {
      "application/vnd.jupyter.widget-view+json": {
       "model_id": "56082e4332d34565bba2c63b153b5794",
       "version_major": 2,
       "version_minor": 0
      },
      "text/plain": [
       "  0%|          | 0/528 [00:00<?, ?it/s]"
      ]
     },
     "metadata": {},
     "output_type": "display_data"
    },
    {
     "name": "stdout",
     "output_type": "stream",
     "text": [
      "[Ep 05] tr_loss=0.1067  va_loss=0.3811  va_acc=0.8705  va_f1=0.8708\n"
     ]
    },
    {
     "data": {
      "application/vnd.jupyter.widget-view+json": {
       "model_id": "5e07a0ec59b94595ac0117b8c8e68740",
       "version_major": 2,
       "version_minor": 0
      },
      "text/plain": [
       "  0%|          | 0/528 [00:00<?, ?it/s]"
      ]
     },
     "metadata": {},
     "output_type": "display_data"
    },
    {
     "name": "stdout",
     "output_type": "stream",
     "text": [
      "[Ep 06] tr_loss=0.0734  va_loss=0.4637  va_acc=0.8671  va_f1=0.8670\n"
     ]
    }
   ],
   "source": [
    "# Train\n",
    "model_mecab = run_training(tr_ds_m, va_ds_m, vocab_size=vsize_mecab)"
   ]
  },
  {
   "cell_type": "code",
   "execution_count": 53,
   "id": "5df607db-a90c-49e5-8dc5-dc185cf9a0e1",
   "metadata": {},
   "outputs": [
    {
     "name": "stdout",
     "output_type": "stream",
     "text": [
      "[MeCab] TEST: loss=0.3431 acc=0.8704 f1=0.8696\n"
     ]
    }
   ],
   "source": [
    "# Test\n",
    "crit = nn.BCEWithLogitsLoss()\n",
    "te_m = DataLoader(te_ds_m, batch_size=BATCH, shuffle=False, num_workers=2)\n",
    "te_loss, te_acc, te_f1 = evaluate(model_mecab, te_m, crit)\n",
    "print(f\"[MeCab] TEST: loss={te_loss:.4f} acc={te_acc:.4f} f1={te_f1:.4f}\")"
   ]
  },
  {
   "cell_type": "markdown",
   "id": "41714ff6-7842-45df-a16b-38cef17c6011",
   "metadata": {},
   "source": [
    "### 7. SentencePiece vs MeCab 비교"
   ]
  },
  {
   "cell_type": "code",
   "execution_count": 54,
   "id": "ddaf1eb9-e71d-4992-8339-320661f66223",
   "metadata": {},
   "outputs": [],
   "source": [
    "res_mecab = {\"family\":\"KoNLPy\",\"type\":\"mecab\",\"vocab\":vsize_mecab,\"acc\":te_acc,\"f1\":te_f1}"
   ]
  },
  {
   "cell_type": "code",
   "execution_count": 59,
   "id": "b597dc3e-ba77-492e-943a-8116668c1250",
   "metadata": {},
   "outputs": [
    {
     "data": {
      "text/html": [
       "<div>\n",
       "<style scoped>\n",
       "    .dataframe tbody tr th:only-of-type {\n",
       "        vertical-align: middle;\n",
       "    }\n",
       "\n",
       "    .dataframe tbody tr th {\n",
       "        vertical-align: top;\n",
       "    }\n",
       "\n",
       "    .dataframe thead th {\n",
       "        text-align: right;\n",
       "    }\n",
       "</style>\n",
       "<table border=\"1\" class=\"dataframe\">\n",
       "  <thead>\n",
       "    <tr style=\"text-align: right;\">\n",
       "      <th></th>\n",
       "      <th>family</th>\n",
       "      <th>type</th>\n",
       "      <th>vocab</th>\n",
       "      <th>acc</th>\n",
       "      <th>f1</th>\n",
       "    </tr>\n",
       "  </thead>\n",
       "  <tbody>\n",
       "    <tr>\n",
       "      <th>2</th>\n",
       "      <td>KoNLPy</td>\n",
       "      <td>mecab</td>\n",
       "      <td>28205</td>\n",
       "      <td>0.870352</td>\n",
       "      <td>0.869588</td>\n",
       "    </tr>\n",
       "    <tr>\n",
       "      <th>0</th>\n",
       "      <td>SP</td>\n",
       "      <td>unigram</td>\n",
       "      <td>8000</td>\n",
       "      <td>0.859492</td>\n",
       "      <td>0.859945</td>\n",
       "    </tr>\n",
       "    <tr>\n",
       "      <th>3</th>\n",
       "      <td>SP</td>\n",
       "      <td>unigram</td>\n",
       "      <td>16000</td>\n",
       "      <td>0.858592</td>\n",
       "      <td>0.859650</td>\n",
       "    </tr>\n",
       "    <tr>\n",
       "      <th>1</th>\n",
       "      <td>SP</td>\n",
       "      <td>bpe</td>\n",
       "      <td>16000</td>\n",
       "      <td>0.858552</td>\n",
       "      <td>0.859219</td>\n",
       "    </tr>\n",
       "    <tr>\n",
       "      <th>4</th>\n",
       "      <td>SP</td>\n",
       "      <td>bpe</td>\n",
       "      <td>8000</td>\n",
       "      <td>0.858231</td>\n",
       "      <td>0.859097</td>\n",
       "    </tr>\n",
       "  </tbody>\n",
       "</table>\n",
       "</div>"
      ],
      "text/plain": [
       "   family     type  vocab       acc        f1\n",
       "2  KoNLPy    mecab  28205  0.870352  0.869588\n",
       "0      SP  unigram   8000  0.859492  0.859945\n",
       "3      SP  unigram  16000  0.858592  0.859650\n",
       "1      SP      bpe  16000  0.858552  0.859219\n",
       "4      SP      bpe   8000  0.858231  0.859097"
      ]
     },
     "execution_count": 59,
     "metadata": {},
     "output_type": "execute_result"
    }
   ],
   "source": [
    "import pandas as pd\n",
    "df = pd.DataFrame([res_sp_uni8k, res_sp_bpe16k, res_mecab, res_sp_uni16k, res_sp_bpe8k])\n",
    "df.sort_values(\"acc\", ascending=False)"
   ]
  },
  {
   "cell_type": "code",
   "execution_count": null,
   "id": "921f2d2a-4228-44b6-b00c-6c4afb33eb79",
   "metadata": {},
   "outputs": [],
   "source": []
  },
  {
   "cell_type": "code",
   "execution_count": null,
   "id": "c75b8a54-b76d-47bb-ae2a-2df2001b2c72",
   "metadata": {},
   "outputs": [],
   "source": []
  },
  {
   "cell_type": "markdown",
   "id": "97a056f5-d1f4-4fe4-a8f7-364c8f4bdbcc",
   "metadata": {},
   "source": [
    "### 8. 실험 (EDA 후에 전처리 열심히 하고 학습 및 테스트 해보기)"
   ]
  },
  {
   "cell_type": "code",
   "execution_count": 65,
   "id": "faa2a776-93ab-47da-b58c-a5039f845e46",
   "metadata": {},
   "outputs": [],
   "source": [
    "import os, re, csv, urllib.request\n",
    "from pathlib import Path\n",
    "import numpy as np\n",
    "import matplotlib.pyplot as plt\n",
    "from collections import Counter"
   ]
  },
  {
   "cell_type": "code",
   "execution_count": 60,
   "id": "cef09ddb-e42d-48ce-a361-b87113826d3d",
   "metadata": {},
   "outputs": [],
   "source": [
    "# 데이터 준비\n",
    "\n",
    "if not all(v in globals() for v in [\"train_texts\",\"train_labels\",\"test_texts\",\"test_labels\"]):\n",
    "    ROOT = Path('.'); DATA_DIR = ROOT/'data_nsmc'; DATA_DIR.mkdir(exist_ok=True)\n",
    "    base = \"https://raw.githubusercontent.com/e9t/nsmc/master\"\n",
    "    for name in [\"ratings_train.txt\",\"ratings_test.txt\"]:\n",
    "        url = f\"{base}/{name}\"; dest = DATA_DIR/name\n",
    "        if not dest.exists():\n",
    "            urllib.request.urlretrieve(url, dest)\n",
    "    def load_nsmc(p):\n",
    "        xs, ys = [], []\n",
    "        with open(p, encoding=\"utf-8\") as f:\n",
    "            rd = csv.DictReader(f, delimiter=\"\\t\")\n",
    "            for r in rd:\n",
    "                if r[\"document\"] and r[\"label\"] in (\"0\",\"1\"):\n",
    "                    xs.append(r[\"document\"]); ys.append(int(r[\"label\"]))\n",
    "        return xs, ys\n",
    "    train_texts, train_labels = load_nsmc(DATA_DIR/\"ratings_train.txt\")\n",
    "    test_texts,  test_labels  = load_nsmc(DATA_DIR/\"ratings_test.txt\")"
   ]
  },
  {
   "cell_type": "code",
   "execution_count": 61,
   "id": "6a011c2a-4ef5-4bb2-9ce8-e09737162e9e",
   "metadata": {},
   "outputs": [],
   "source": [
    "# 정규화 진행\n",
    "\n",
    "pat = re.compile(r\"[^0-9A-Za-z가-힣ㄱ-ㅎㅏ-ㅣ\\s\\.\\,\\!\\?\\:\\;\\'\\\"\\(\\)\\[\\]\\-]+\")\n",
    "def clean(s): \n",
    "    s = (s or \"\").strip()\n",
    "    s = pat.sub(\" \", s)\n",
    "    return re.sub(r\"\\s+\", \" \", s)\n",
    "train_clean = [clean(t) for t in train_texts]\n",
    "test_clean  = [clean(t)  for t in test_texts]"
   ]
  },
  {
   "cell_type": "code",
   "execution_count": 62,
   "id": "89a70deb-2170-4c3f-8eeb-31ec8fb5d96f",
   "metadata": {},
   "outputs": [
    {
     "name": "stdout",
     "output_type": "stream",
     "text": [
      "=== 기본 통계 ===\n",
      "train 개수: 149,995, test 개수: 49,997\n",
      "train 라벨 분포: {0: 75170, 1: 74825}\n",
      "test  라벨 분포: {1: 25171, 0: 24826}\n",
      "빈 문자열(train): 42\n"
     ]
    }
   ],
   "source": [
    "# 기본 통계\n",
    "\n",
    "print(\"=== 기본 통계 ===\")\n",
    "print(f\"train 개수: {len(train_clean):,}, test 개수: {len(test_clean):,}\")\n",
    "print(\"train 라벨 분포:\", dict(Counter(train_labels)))\n",
    "print(\"test  라벨 분포:\", dict(Counter(test_labels)))\n",
    "empty_train = sum(1 for t in train_clean if t.strip()==\"\")\n",
    "print(\"빈 문자열(train):\", empty_train)"
   ]
  },
  {
   "cell_type": "code",
   "execution_count": 63,
   "id": "c06ec841-d303-44cb-b5f7-ed76f37e0baa",
   "metadata": {},
   "outputs": [
    {
     "name": "stdout",
     "output_type": "stream",
     "text": [
      "[train 길이] 평균 35.0, 중앙 27.0, p90 75.0, 최대 146\n",
      "[test  길이] 평균 35.2, 중앙 26.0, p90 75.0, 최대 144\n"
     ]
    }
   ],
   "source": [
    "# 길이 분포(문자 길이)\n",
    "train_len = [len(t) for t in train_clean]\n",
    "test_len  = [len(t) for t in test_clean]\n",
    "def summ(name, arr):\n",
    "    arr = np.array(arr)\n",
    "    print(f\"[{name}] 평균 {arr.mean():.1f}, 중앙 {np.median(arr):.1f}, p90 {np.percentile(arr,90):.1f}, 최대 {arr.max()}\")\n",
    "summ(\"train 길이\", train_len)\n",
    "summ(\"test  길이\", test_len)"
   ]
  },
  {
   "cell_type": "code",
   "execution_count": 73,
   "id": "cf317702-71d0-42ba-8d7d-2af81b1f58a6",
   "metadata": {
    "scrolled": true
   },
   "outputs": [
    {
     "name": "stdout",
     "output_type": "stream",
     "text": [
      "Reading package lists... Done\n",
      "Building dependency tree... Done\n",
      "Reading state information... Done\n",
      "fonts-nanum is already the newest version (20200506-1).\n",
      "0 upgraded, 0 newly installed, 0 to remove and 54 not upgraded.\n",
      "Font directories:\n",
      "\t/root/.local/share/fonts\n",
      "\t/usr/local/share/fonts\n",
      "\t/usr/share/fonts\n",
      "\t/root/.fonts\n",
      "\t/usr/share/texmf/fonts/opentype/public/lm\n",
      "\t/usr/share/texmf/fonts/opentype/public/lm-math\n",
      "\t/usr/share/fonts/X11\n",
      "\t/usr/share/fonts/cMap\n",
      "\t/usr/share/fonts/cmap\n",
      "\t/usr/share/fonts/opentype\n",
      "\t/usr/share/fonts/truetype\n",
      "\t/usr/share/fonts/type1\n",
      "\t/usr/share/fonts/X11/Type1\n",
      "\t/usr/share/fonts/X11/encodings\n",
      "\t/usr/share/fonts/X11/util\n",
      "\t/usr/share/fonts/cmap/adobe-cns1\n",
      "\t/usr/share/fonts/cmap/adobe-gb1\n",
      "\t/usr/share/fonts/cmap/adobe-japan1\n",
      "\t/usr/share/fonts/cmap/adobe-japan2\n",
      "\t/usr/share/fonts/cmap/adobe-korea1\n",
      "\t/usr/share/fonts/opentype/urw-base35\n",
      "\t/usr/share/fonts/truetype/liberation\n",
      "\t/usr/share/fonts/truetype/nanum\n",
      "\t/usr/share/fonts/type1/texlive-fonts-recommended\n",
      "\t/usr/share/fonts/type1/urw-base35\n",
      "\t/usr/share/fonts/X11/encodings/large\n",
      "/root/.local/share/fonts: skipping, no such directory\n",
      "/usr/local/share/fonts: caching, new cache contents: 0 fonts, 0 dirs\n",
      "/usr/share/fonts: caching, new cache contents: 0 fonts, 6 dirs\n",
      "/usr/share/fonts/X11: caching, new cache contents: 0 fonts, 3 dirs\n",
      "/usr/share/fonts/X11/Type1: caching, new cache contents: 35 fonts, 0 dirs\n",
      "/usr/share/fonts/X11/encodings: caching, new cache contents: 0 fonts, 1 dirs\n",
      "/usr/share/fonts/X11/encodings/large: caching, new cache contents: 0 fonts, 0 dirs\n",
      "/usr/share/fonts/X11/util: caching, new cache contents: 0 fonts, 0 dirs\n",
      "/usr/share/fonts/cMap: caching, new cache contents: 0 fonts, 0 dirs\n",
      "/usr/share/fonts/cmap: caching, new cache contents: 0 fonts, 5 dirs\n",
      "/usr/share/fonts/cmap/adobe-cns1: caching, new cache contents: 0 fonts, 0 dirs\n",
      "/usr/share/fonts/cmap/adobe-gb1: caching, new cache contents: 0 fonts, 0 dirs\n",
      "/usr/share/fonts/cmap/adobe-japan1: caching, new cache contents: 0 fonts, 0 dirs\n",
      "/usr/share/fonts/cmap/adobe-japan2: caching, new cache contents: 0 fonts, 0 dirs\n",
      "/usr/share/fonts/cmap/adobe-korea1: caching, new cache contents: 0 fonts, 0 dirs\n",
      "/usr/share/fonts/opentype: caching, new cache contents: 0 fonts, 1 dirs\n",
      "/usr/share/fonts/opentype/urw-base35: caching, new cache contents: 35 fonts, 0 dirs\n",
      "/usr/share/fonts/truetype: caching, new cache contents: 0 fonts, 2 dirs\n",
      "/usr/share/fonts/truetype/liberation: caching, new cache contents: 12 fonts, 0 dirs\n",
      "/usr/share/fonts/truetype/nanum: caching, new cache contents: 12 fonts, 0 dirs\n",
      "/usr/share/fonts/type1: caching, new cache contents: 0 fonts, 2 dirs\n",
      "/usr/share/fonts/type1/texlive-fonts-recommended: caching, new cache contents: 12 fonts, 0 dirs\n",
      "/usr/share/fonts/type1/urw-base35: caching, new cache contents: 35 fonts, 0 dirs\n",
      "/root/.fonts: skipping, no such directory\n",
      "/usr/share/texmf/fonts/opentype/public/lm: caching, new cache contents: 72 fonts, 0 dirs\n",
      "/usr/share/texmf/fonts/opentype/public/lm-math: caching, new cache contents: 1 fonts, 0 dirs\n",
      "/usr/share/fonts/X11: skipping, looped directory detected\n",
      "/usr/share/fonts/cMap: skipping, looped directory detected\n",
      "/usr/share/fonts/cmap: skipping, looped directory detected\n",
      "/usr/share/fonts/opentype: skipping, looped directory detected\n",
      "/usr/share/fonts/truetype: skipping, looped directory detected\n",
      "/usr/share/fonts/type1: skipping, looped directory detected\n",
      "/usr/share/fonts/X11/Type1: skipping, looped directory detected\n",
      "/usr/share/fonts/X11/encodings: skipping, looped directory detected\n",
      "/usr/share/fonts/X11/util: skipping, looped directory detected\n",
      "/usr/share/fonts/cmap/adobe-cns1: skipping, looped directory detected\n",
      "/usr/share/fonts/cmap/adobe-gb1: skipping, looped directory detected\n",
      "/usr/share/fonts/cmap/adobe-japan1: skipping, looped directory detected\n",
      "/usr/share/fonts/cmap/adobe-japan2: skipping, looped directory detected\n",
      "/usr/share/fonts/cmap/adobe-korea1: skipping, looped directory detected\n",
      "/usr/share/fonts/opentype/urw-base35: skipping, looped directory detected\n",
      "/usr/share/fonts/truetype/liberation: skipping, looped directory detected\n",
      "/usr/share/fonts/truetype/nanum: skipping, looped directory detected\n",
      "/usr/share/fonts/type1/texlive-fonts-recommended: skipping, looped directory detected\n",
      "/usr/share/fonts/type1/urw-base35: skipping, looped directory detected\n",
      "/usr/share/fonts/X11/encodings/large: skipping, looped directory detected\n",
      "/var/cache/fontconfig: cleaning cache directory\n",
      "/root/.cache/fontconfig: not cleaning non-existent cache directory\n",
      "/root/.fontconfig: not cleaning non-existent cache directory\n",
      "fc-cache: succeeded\n"
     ]
    }
   ],
   "source": [
    "# 한글 폰트 깨짐 방지\n",
    "\n",
    "!sudo apt-get install -y fonts-nanum\n",
    "!sudo fc-cache -fv\n",
    "!rm ~/.cache/matplotlib -rf"
   ]
  },
  {
   "cell_type": "code",
   "execution_count": 74,
   "id": "101ed2be-c83d-46ba-95d3-fe1d1e376db2",
   "metadata": {},
   "outputs": [],
   "source": [
    "plt.rc('font', family='NanumBarunGothic') \n",
    "plt.rcParams['axes.unicode_minus'] =False"
   ]
  },
  {
   "cell_type": "code",
   "execution_count": 75,
   "id": "ed10f0eb-93fd-4243-99b4-10f1fc3ca12f",
   "metadata": {
    "scrolled": true
   },
   "outputs": [
    {
     "name": "stderr",
     "output_type": "stream",
     "text": [
      "findfont: Font family 'NanumBarunGothic' not found.\n",
      "findfont: Font family 'NanumBarunGothic' not found.\n",
      "findfont: Font family 'NanumBarunGothic' not found.\n",
      "findfont: Font family 'NanumBarunGothic' not found.\n",
      "findfont: Font family 'NanumBarunGothic' not found.\n",
      "findfont: Font family 'NanumBarunGothic' not found.\n",
      "findfont: Font family 'NanumBarunGothic' not found.\n",
      "findfont: Font family 'NanumBarunGothic' not found.\n",
      "findfont: Font family 'NanumBarunGothic' not found.\n",
      "findfont: Font family 'NanumBarunGothic' not found.\n",
      "findfont: Font family 'NanumBarunGothic' not found.\n",
      "findfont: Font family 'NanumBarunGothic' not found.\n",
      "findfont: Font family 'NanumBarunGothic' not found.\n",
      "findfont: Font family 'NanumBarunGothic' not found.\n",
      "findfont: Font family 'NanumBarunGothic' not found.\n",
      "findfont: Font family 'NanumBarunGothic' not found.\n",
      "findfont: Font family 'NanumBarunGothic' not found.\n",
      "findfont: Font family 'NanumBarunGothic' not found.\n",
      "findfont: Font family 'NanumBarunGothic' not found.\n",
      "findfont: Font family 'NanumBarunGothic' not found.\n",
      "findfont: Font family 'NanumBarunGothic' not found.\n",
      "findfont: Font family 'NanumBarunGothic' not found.\n",
      "findfont: Font family 'NanumBarunGothic' not found.\n",
      "findfont: Font family 'NanumBarunGothic' not found.\n",
      "findfont: Font family 'NanumBarunGothic' not found.\n",
      "findfont: Font family 'NanumBarunGothic' not found.\n",
      "findfont: Font family 'NanumBarunGothic' not found.\n",
      "findfont: Font family 'NanumBarunGothic' not found.\n",
      "findfont: Font family 'NanumBarunGothic' not found.\n",
      "findfont: Font family 'NanumBarunGothic' not found.\n",
      "findfont: Font family 'NanumBarunGothic' not found.\n",
      "findfont: Font family 'NanumBarunGothic' not found.\n",
      "findfont: Font family 'NanumBarunGothic' not found.\n",
      "findfont: Font family 'NanumBarunGothic' not found.\n",
      "findfont: Font family 'NanumBarunGothic' not found.\n",
      "findfont: Font family 'NanumBarunGothic' not found.\n",
      "findfont: Font family 'NanumBarunGothic' not found.\n",
      "findfont: Font family 'NanumBarunGothic' not found.\n",
      "findfont: Font family 'NanumBarunGothic' not found.\n",
      "findfont: Font family 'NanumBarunGothic' not found.\n",
      "findfont: Font family 'NanumBarunGothic' not found.\n",
      "findfont: Font family 'NanumBarunGothic' not found.\n",
      "findfont: Font family 'NanumBarunGothic' not found.\n",
      "findfont: Font family 'NanumBarunGothic' not found.\n",
      "findfont: Font family 'NanumBarunGothic' not found.\n",
      "findfont: Font family 'NanumBarunGothic' not found.\n",
      "findfont: Font family 'NanumBarunGothic' not found.\n",
      "findfont: Font family 'NanumBarunGothic' not found.\n",
      "findfont: Font family 'NanumBarunGothic' not found.\n",
      "findfont: Font family 'NanumBarunGothic' not found.\n",
      "findfont: Font family 'NanumBarunGothic' not found.\n",
      "findfont: Font family 'NanumBarunGothic' not found.\n",
      "findfont: Font family 'NanumBarunGothic' not found.\n",
      "findfont: Font family 'NanumBarunGothic' not found.\n",
      "findfont: Font family 'NanumBarunGothic' not found.\n",
      "findfont: Font family 'NanumBarunGothic' not found.\n"
     ]
    },
    {
     "data": {
      "image/png": "[encoded data removed]",
      "text/plain": [
       "<Figure size 600x400 with 1 Axes>"
      ]
     },
     "metadata": {},
     "output_type": "display_data"
    }
   ],
   "source": [
    "plt.figure(figsize=(6,4))\n",
    "plt.hist(train_len, bins=50)\n",
    "plt.title(\"NSMC Train Length\")\n",
    "plt.xlabel(\"length\"); plt.ylabel(\"count\"); plt.show()"
   ]
  },
  {
   "cell_type": "code",
   "execution_count": 78,
   "id": "67ea998d-b427-49e1-a148-8c99f240f243",
   "metadata": {
    "scrolled": true
   },
   "outputs": [
    {
     "name": "stdout",
     "output_type": "stream",
     "text": [
      "MeCab 사용: 토큰 길이만 간단히 확인\n"
     ]
    },
    {
     "name": "stderr",
     "output_type": "stream",
     "text": [
      "findfont: Font family 'NanumBarunGothic' not found.\n",
      "findfont: Font family 'NanumBarunGothic' not found.\n",
      "findfont: Font family 'NanumBarunGothic' not found.\n",
      "findfont: Font family 'NanumBarunGothic' not found.\n",
      "findfont: Font family 'NanumBarunGothic' not found.\n",
      "findfont: Font family 'NanumBarunGothic' not found.\n",
      "findfont: Font family 'NanumBarunGothic' not found.\n",
      "findfont: Font family 'NanumBarunGothic' not found.\n",
      "findfont: Font family 'NanumBarunGothic' not found.\n",
      "findfont: Font family 'NanumBarunGothic' not found.\n",
      "findfont: Font family 'NanumBarunGothic' not found.\n",
      "findfont: Font family 'NanumBarunGothic' not found.\n",
      "findfont: Font family 'NanumBarunGothic' not found.\n",
      "findfont: Font family 'NanumBarunGothic' not found.\n",
      "findfont: Font family 'NanumBarunGothic' not found.\n",
      "findfont: Font family 'NanumBarunGothic' not found.\n",
      "findfont: Font family 'NanumBarunGothic' not found.\n",
      "findfont: Font family 'NanumBarunGothic' not found.\n",
      "findfont: Font family 'NanumBarunGothic' not found.\n",
      "findfont: Font family 'NanumBarunGothic' not found.\n",
      "findfont: Font family 'NanumBarunGothic' not found.\n",
      "findfont: Font family 'NanumBarunGothic' not found.\n",
      "findfont: Font family 'NanumBarunGothic' not found.\n",
      "findfont: Font family 'NanumBarunGothic' not found.\n",
      "findfont: Font family 'NanumBarunGothic' not found.\n",
      "findfont: Font family 'NanumBarunGothic' not found.\n",
      "findfont: Font family 'NanumBarunGothic' not found.\n",
      "findfont: Font family 'NanumBarunGothic' not found.\n",
      "findfont: Font family 'NanumBarunGothic' not found.\n",
      "findfont: Font family 'NanumBarunGothic' not found.\n",
      "findfont: Font family 'NanumBarunGothic' not found.\n",
      "findfont: Font family 'NanumBarunGothic' not found.\n",
      "findfont: Font family 'NanumBarunGothic' not found.\n",
      "findfont: Font family 'NanumBarunGothic' not found.\n",
      "findfont: Font family 'NanumBarunGothic' not found.\n"
     ]
    },
    {
     "name": "stdout",
     "output_type": "stream",
     "text": [
      "[MeCab 토큰 길이] 평균 18.0, 중앙 14.0, p90 38.0, 최대 116\n"
     ]
    },
    {
     "name": "stderr",
     "output_type": "stream",
     "text": [
      "findfont: Font family 'NanumBarunGothic' not found.\n",
      "findfont: Font family 'NanumBarunGothic' not found.\n",
      "findfont: Font family 'NanumBarunGothic' not found.\n",
      "findfont: Font family 'NanumBarunGothic' not found.\n",
      "findfont: Font family 'NanumBarunGothic' not found.\n",
      "findfont: Font family 'NanumBarunGothic' not found.\n",
      "findfont: Font family 'NanumBarunGothic' not found.\n",
      "findfont: Font family 'NanumBarunGothic' not found.\n",
      "findfont: Font family 'NanumBarunGothic' not found.\n",
      "findfont: Font family 'NanumBarunGothic' not found.\n",
      "findfont: Font family 'NanumBarunGothic' not found.\n",
      "findfont: Font family 'NanumBarunGothic' not found.\n"
     ]
    },
    {
     "data": {
      "image/png": "[encoded data removed]",
      "text/plain": [
       "<Figure size 600x400 with 1 Axes>"
      ]
     },
     "metadata": {},
     "output_type": "display_data"
    }
   ],
   "source": [
    "# 6) 형태소 간단 EDA (MeCab 있으면)\n",
    "use_mecab = False\n",
    "try:\n",
    "    from konlpy.tag import Mecab\n",
    "    mecab = Mecab(); use_mecab = True\n",
    "except Exception:\n",
    "    pass\n",
    "\n",
    "if use_mecab:\n",
    "    print(\"MeCab 사용: 토큰 길이만 간단히 확인\")\n",
    "    # 샘플 일부만(속도)\n",
    "    sample_idx = np.random.choice(len(train_clean), size=min(30000, len(train_clean)), replace=False)\n",
    "    tok_lens = []\n",
    "    for i in sample_idx:\n",
    "        tok_lens.append(len(mecab.morphs(train_clean[i])))\n",
    "    arr = np.array(tok_lens)\n",
    "    print(f\"[MeCab 토큰 길이] 평균 {arr.mean():.1f}, 중앙 {np.median(arr):.1f}, p90 {np.percentile(arr,90):.1f}, 최대 {arr.max()}\")\n",
    "    plt.figure(figsize=(6,4))\n",
    "    plt.hist(tok_lens, bins=50)\n",
    "    plt.title(\"MeCab - Token Length Simple Comparison\")\n",
    "    plt.xlabel(\"#tokens\"); plt.ylabel(\"count\"); plt.show()"
   ]
  },
  {
   "cell_type": "code",
   "execution_count": 79,
   "id": "bd1cd45f-4582-46f4-9b70-3cac76c7a536",
   "metadata": {
    "scrolled": true
   },
   "outputs": [
    {
     "name": "stdout",
     "output_type": "stream",
     "text": [
      "SentencePiece(sp) 감지됨 : SP 토큰 길이 분포도 같이 출력\n"
     ]
    },
    {
     "name": "stderr",
     "output_type": "stream",
     "text": [
      "findfont: Font family 'NanumBarunGothic' not found.\n",
      "findfont: Font family 'NanumBarunGothic' not found.\n",
      "findfont: Font family 'NanumBarunGothic' not found.\n",
      "findfont: Font family 'NanumBarunGothic' not found.\n",
      "findfont: Font family 'NanumBarunGothic' not found.\n",
      "findfont: Font family 'NanumBarunGothic' not found.\n",
      "findfont: Font family 'NanumBarunGothic' not found.\n",
      "findfont: Font family 'NanumBarunGothic' not found.\n",
      "findfont: Font family 'NanumBarunGothic' not found.\n",
      "findfont: Font family 'NanumBarunGothic' not found.\n",
      "findfont: Font family 'NanumBarunGothic' not found.\n",
      "findfont: Font family 'NanumBarunGothic' not found.\n",
      "findfont: Font family 'NanumBarunGothic' not found.\n",
      "findfont: Font family 'NanumBarunGothic' not found.\n",
      "findfont: Font family 'NanumBarunGothic' not found.\n",
      "findfont: Font family 'NanumBarunGothic' not found.\n",
      "findfont: Font family 'NanumBarunGothic' not found.\n",
      "findfont: Font family 'NanumBarunGothic' not found.\n",
      "findfont: Font family 'NanumBarunGothic' not found.\n",
      "findfont: Font family 'NanumBarunGothic' not found.\n",
      "findfont: Font family 'NanumBarunGothic' not found.\n",
      "findfont: Font family 'NanumBarunGothic' not found.\n",
      "findfont: Font family 'NanumBarunGothic' not found.\n",
      "findfont: Font family 'NanumBarunGothic' not found.\n",
      "findfont: Font family 'NanumBarunGothic' not found.\n",
      "findfont: Font family 'NanumBarunGothic' not found.\n",
      "findfont: Font family 'NanumBarunGothic' not found.\n",
      "findfont: Font family 'NanumBarunGothic' not found.\n",
      "findfont: Font family 'NanumBarunGothic' not found.\n",
      "findfont: Font family 'NanumBarunGothic' not found.\n",
      "findfont: Font family 'NanumBarunGothic' not found.\n",
      "findfont: Font family 'NanumBarunGothic' not found.\n",
      "findfont: Font family 'NanumBarunGothic' not found.\n",
      "findfont: Font family 'NanumBarunGothic' not found.\n",
      "findfont: Font family 'NanumBarunGothic' not found.\n",
      "findfont: Font family 'NanumBarunGothic' not found.\n",
      "findfont: Font family 'NanumBarunGothic' not found.\n"
     ]
    },
    {
     "name": "stdout",
     "output_type": "stream",
     "text": [
      "[SP 토큰 길이] 평균 16.7, 중앙 12.0, p90 35.0, 최대 120\n"
     ]
    },
    {
     "name": "stderr",
     "output_type": "stream",
     "text": [
      "findfont: Font family 'NanumBarunGothic' not found.\n",
      "findfont: Font family 'NanumBarunGothic' not found.\n",
      "findfont: Font family 'NanumBarunGothic' not found.\n",
      "findfont: Font family 'NanumBarunGothic' not found.\n",
      "findfont: Font family 'NanumBarunGothic' not found.\n",
      "findfont: Font family 'NanumBarunGothic' not found.\n",
      "findfont: Font family 'NanumBarunGothic' not found.\n",
      "findfont: Font family 'NanumBarunGothic' not found.\n",
      "findfont: Font family 'NanumBarunGothic' not found.\n",
      "findfont: Font family 'NanumBarunGothic' not found.\n"
     ]
    },
    {
     "data": {
      "image/png": "[encoded data removed]",
      "text/plain": [
       "<Figure size 600x400 with 1 Axes>"
      ]
     },
     "metadata": {},
     "output_type": "display_data"
    }
   ],
   "source": [
    "# 7) SentencePiece 길이 (이미 sp가 로드되어 있으면)\n",
    "if \"sp\" in globals():\n",
    "    print(\"SentencePiece(sp) 감지됨 : SP 토큰 길이 분포도 같이 출력\")\n",
    "    # 샘플 일부만(속도)\n",
    "    sample_idx = np.random.choice(len(train_clean), size=min(30000, len(train_clean)), replace=False)\n",
    "    sp_lens = []\n",
    "    for i in sample_idx:\n",
    "        sp_lens.append(len(sp.encode(train_clean[i], out_type=int)))\n",
    "    arr = np.array(sp_lens)\n",
    "    print(f\"[SP 토큰 길이] 평균 {arr.mean():.1f}, 중앙 {np.median(arr):.1f}, p90 {np.percentile(arr,90):.1f}, 최대 {arr.max()}\")\n",
    "    plt.figure(figsize=(6,4))\n",
    "    plt.hist(sp_lens, bins=50)\n",
    "    plt.title(\"SentencePiece - Token Length Simple Comparison\")\n",
    "    plt.xlabel(\"#tokens\"); plt.ylabel(\"count\"); plt.show()"
   ]
  },
  {
   "cell_type": "code",
   "execution_count": 80,
   "id": "ac17bb47-8ceb-4194-b056-d482a9b6b34a",
   "metadata": {},
   "outputs": [
    {
     "name": "stdout",
     "output_type": "stream",
     "text": [
      "\n",
      "=== 자주 등장하는 단어(공백 기준, 대략적) ===\n",
      "train 상위 20: [('영화', 11290), ('너무', 8264), ('정말', 7822), ('진짜', 5977), ('이', 5090), ('영화.', 3602), ('왜', 3293), ('이런', 3267), ('더', 3265), ('그냥', 3247), ('수', 2946), ('영화를', 2762), ('잘', 2659), ('다', 2628), ('보고', 2560), ('좀', 2456), ('영화는', 2428), ('그', 2426), ('영화가', 2424), ('본', 2298)]\n"
     ]
    }
   ],
   "source": [
    "# 8) 라벨별 키워드 차이 (아주 간단)\n",
    "# 자주 나오는 단어 상위만 대충 보기 (클린된 원문에서 띄어쓰기 split)\n",
    "def top_words(texts, k=20):\n",
    "    c = Counter()\n",
    "    for s in texts:\n",
    "        c.update(s.split())\n",
    "    return c.most_common(k)\n",
    "\n",
    "print(\"\\n=== 자주 등장하는 단어(공백 기준, 대략적) ===\")\n",
    "print(\"train 상위 20:\", top_words(train_clean, 20))"
   ]
  },
  {
   "cell_type": "code",
   "execution_count": 81,
   "id": "dc447a09-6281-457b-9cb9-70b7f57b8583",
   "metadata": {},
   "outputs": [
    {
     "name": "stdout",
     "output_type": "stream",
     "text": [
      "\n",
      "=== 긍정 예시 ===\n",
      "해품달이좋으면 그냥 보면되지 악플달지마세요 평점낮아져요\n",
      "너무 좋았다. 말이 필요 없음 . 계속 보고 싶다\n",
      "인간승리 배재철! 역시 강한 의지와 용기, 그리고 사랑은 기적을 만듭니다\n",
      "\n",
      "=== 부정 예시 ===\n",
      "별안흥미진진 .\n",
      "니미...영화보고 욕하긴첨일쎄...그리고 정말 평점 높게 주며 돈벌려는 알바들이 있긴 있나보네... 하긴 알바들이 무슨 죄겠냐... 쯧쯧...가엾다!\n",
      "충격과 공포의 쓰레기영화다... 피안도라는 이름을 여기다가 붙이는거 자체가 아까움\n"
     ]
    }
   ],
   "source": [
    "# 9) 긍/부정 예시 몇 개 보기\n",
    "\n",
    "import random\n",
    "random.seed(42)\n",
    "print(\"\\n=== 긍정 예시 ===\")\n",
    "for s,l in random.sample(list(zip(train_clean, train_labels)), 5):\n",
    "    if l==1: print(s); \n",
    "print(\"\\n=== 부정 예시 ===\")\n",
    "for s,l in random.sample(list(zip(train_clean, train_labels)), 5):\n",
    "    if l==0: print(s);"
   ]
  },
  {
   "cell_type": "code",
   "execution_count": null,
   "id": "2fda80c6-3b8e-4f2e-9675-3efd7cfcd360",
   "metadata": {},
   "outputs": [],
   "source": []
  }
 ],
 "metadata": {
  "kernelspec": {
   "display_name": "Python 3 (ipykernel)",
   "language": "python",
   "name": "python3"
  },
  "language_info": {
   "codemirror_mode": {
    "name": "ipython",
    "version": 3
   },
   "file_extension": ".py",
   "mimetype": "text/x-python",
   "name": "python",
   "nbconvert_exporter": "python",
   "pygments_lexer": "ipython3",
   "version": "3.12.11"
  }
 },
 "nbformat": 4,
 "nbformat_minor": 5
}
