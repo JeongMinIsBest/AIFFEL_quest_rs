{
 "cells": [
  {
   "cell_type": "markdown",
   "id": "eddc0f63-d632-4756-be68-eb66883773bc",
   "metadata": {},
   "source": [
    "## 1. 라이브러리 불러오기"
   ]
  },
  {
   "cell_type": "code",
   "execution_count": 1,
   "id": "87352165-83f8-42dc-b04a-0142b435a0bb",
   "metadata": {
    "scrolled": true
   },
   "outputs": [
    {
     "name": "stdout",
     "output_type": "stream",
     "text": [
      "Collecting tensorflow\n",
      "  Downloading tensorflow-2.20.0-cp312-cp312-manylinux_2_17_x86_64.manylinux2014_x86_64.whl.metadata (4.5 kB)\n",
      "Collecting absl-py>=1.0.0 (from tensorflow)\n",
      "  Downloading absl_py-2.3.1-py3-none-any.whl.metadata (3.3 kB)\n",
      "Collecting astunparse>=1.6.0 (from tensorflow)\n",
      "  Downloading astunparse-1.6.3-py2.py3-none-any.whl.metadata (4.4 kB)\n",
      "Collecting flatbuffers>=24.3.25 (from tensorflow)\n",
      "  Downloading flatbuffers-25.2.10-py2.py3-none-any.whl.metadata (875 bytes)\n",
      "Collecting gast!=0.5.0,!=0.5.1,!=0.5.2,>=0.2.1 (from tensorflow)\n",
      "  Downloading gast-0.6.0-py3-none-any.whl.metadata (1.3 kB)\n",
      "Collecting google_pasta>=0.1.1 (from tensorflow)\n",
      "  Downloading google_pasta-0.2.0-py3-none-any.whl.metadata (814 bytes)\n",
      "Collecting libclang>=13.0.0 (from tensorflow)\n",
      "  Downloading libclang-18.1.1-py2.py3-none-manylinux2010_x86_64.whl.metadata (5.2 kB)\n",
      "Collecting opt_einsum>=2.3.2 (from tensorflow)\n",
      "  Downloading opt_einsum-3.4.0-py3-none-any.whl.metadata (6.3 kB)\n",
      "Requirement already satisfied: packaging in /opt/conda/lib/python3.12/site-packages (from tensorflow) (25.0)\n",
      "Requirement already satisfied: protobuf>=5.28.0 in /opt/conda/lib/python3.12/site-packages (from tensorflow) (5.29.3)\n",
      "Requirement already satisfied: requests<3,>=2.21.0 in /opt/conda/lib/python3.12/site-packages (from tensorflow) (2.32.4)\n",
      "Requirement already satisfied: setuptools in /opt/conda/lib/python3.12/site-packages (from tensorflow) (80.9.0)\n",
      "Requirement already satisfied: six>=1.12.0 in /opt/conda/lib/python3.12/site-packages (from tensorflow) (1.17.0)\n",
      "Collecting termcolor>=1.1.0 (from tensorflow)\n",
      "  Downloading termcolor-3.1.0-py3-none-any.whl.metadata (6.4 kB)\n",
      "Requirement already satisfied: typing_extensions>=3.6.6 in /opt/conda/lib/python3.12/site-packages (from tensorflow) (4.14.0)\n",
      "Collecting wrapt>=1.11.0 (from tensorflow)\n",
      "  Downloading wrapt-1.17.3-cp312-cp312-manylinux1_x86_64.manylinux_2_28_x86_64.manylinux_2_5_x86_64.whl.metadata (6.4 kB)\n",
      "Collecting grpcio<2.0,>=1.24.3 (from tensorflow)\n",
      "  Downloading grpcio-1.74.0-cp312-cp312-manylinux_2_17_x86_64.manylinux2014_x86_64.whl.metadata (3.8 kB)\n",
      "Collecting tensorboard~=2.20.0 (from tensorflow)\n",
      "  Downloading tensorboard-2.20.0-py3-none-any.whl.metadata (1.8 kB)\n",
      "Collecting keras>=3.10.0 (from tensorflow)\n",
      "  Downloading keras-3.11.3-py3-none-any.whl.metadata (5.9 kB)\n",
      "Requirement already satisfied: numpy>=1.26.0 in /opt/conda/lib/python3.12/site-packages (from tensorflow) (2.2.6)\n",
      "Requirement already satisfied: h5py>=3.11.0 in /opt/conda/lib/python3.12/site-packages (from tensorflow) (3.14.0)\n",
      "Collecting ml_dtypes<1.0.0,>=0.5.1 (from tensorflow)\n",
      "  Downloading ml_dtypes-0.5.3-cp312-cp312-manylinux_2_27_x86_64.manylinux_2_28_x86_64.whl.metadata (8.9 kB)\n",
      "Requirement already satisfied: charset_normalizer<4,>=2 in /opt/conda/lib/python3.12/site-packages (from requests<3,>=2.21.0->tensorflow) (3.4.2)\n",
      "Requirement already satisfied: idna<4,>=2.5 in /opt/conda/lib/python3.12/site-packages (from requests<3,>=2.21.0->tensorflow) (3.10)\n",
      "Requirement already satisfied: urllib3<3,>=1.21.1 in /opt/conda/lib/python3.12/site-packages (from requests<3,>=2.21.0->tensorflow) (2.4.0)\n",
      "Requirement already satisfied: certifi>=2017.4.17 in /opt/conda/lib/python3.12/site-packages (from requests<3,>=2.21.0->tensorflow) (2025.6.15)\n",
      "Collecting markdown>=2.6.8 (from tensorboard~=2.20.0->tensorflow)\n",
      "  Downloading markdown-3.8.2-py3-none-any.whl.metadata (5.1 kB)\n",
      "Requirement already satisfied: pillow in /opt/conda/lib/python3.12/site-packages (from tensorboard~=2.20.0->tensorflow) (11.2.1)\n",
      "Collecting tensorboard-data-server<0.8.0,>=0.7.0 (from tensorboard~=2.20.0->tensorflow)\n",
      "  Downloading tensorboard_data_server-0.7.2-py3-none-manylinux_2_31_x86_64.whl.metadata (1.1 kB)\n",
      "Collecting werkzeug>=1.0.1 (from tensorboard~=2.20.0->tensorflow)\n",
      "  Downloading werkzeug-3.1.3-py3-none-any.whl.metadata (3.7 kB)\n",
      "Requirement already satisfied: wheel<1.0,>=0.23.0 in /opt/conda/lib/python3.12/site-packages (from astunparse>=1.6.0->tensorflow) (0.45.1)\n",
      "Collecting rich (from keras>=3.10.0->tensorflow)\n",
      "  Downloading rich-14.1.0-py3-none-any.whl.metadata (18 kB)\n",
      "Collecting namex (from keras>=3.10.0->tensorflow)\n",
      "  Downloading namex-0.1.0-py3-none-any.whl.metadata (322 bytes)\n",
      "Collecting optree (from keras>=3.10.0->tensorflow)\n",
      "  Downloading optree-0.17.0-cp312-cp312-manylinux_2_27_x86_64.manylinux_2_28_x86_64.whl.metadata (33 kB)\n",
      "Requirement already satisfied: MarkupSafe>=2.1.1 in /opt/conda/lib/python3.12/site-packages (from werkzeug>=1.0.1->tensorboard~=2.20.0->tensorflow) (3.0.2)\n",
      "Collecting markdown-it-py>=2.2.0 (from rich->keras>=3.10.0->tensorflow)\n",
      "  Downloading markdown_it_py-4.0.0-py3-none-any.whl.metadata (7.3 kB)\n",
      "Requirement already satisfied: pygments<3.0.0,>=2.13.0 in /opt/conda/lib/python3.12/site-packages (from rich->keras>=3.10.0->tensorflow) (2.19.1)\n",
      "Collecting mdurl~=0.1 (from markdown-it-py>=2.2.0->rich->keras>=3.10.0->tensorflow)\n",
      "  Downloading mdurl-0.1.2-py3-none-any.whl.metadata (1.6 kB)\n",
      "Downloading tensorflow-2.20.0-cp312-cp312-manylinux_2_17_x86_64.manylinux2014_x86_64.whl (620.7 MB)\n",
      "\u001b[2K   \u001b[90m━━━━━━━━━━━━━━━━━━━━━━━━━━━━━━━━━━━━━━━━\u001b[0m \u001b[32m620.7/620.7 MB\u001b[0m \u001b[31m7.5 MB/s\u001b[0m eta \u001b[36m0:00:00\u001b[0m00:01\u001b[0mm00:02\u001b[0m\n",
      "\u001b[?25hDownloading grpcio-1.74.0-cp312-cp312-manylinux_2_17_x86_64.manylinux2014_x86_64.whl (6.2 MB)\n",
      "\u001b[2K   \u001b[90m━━━━━━━━━━━━━━━━━━━━━━━━━━━━━━━━━━━━━━━━\u001b[0m \u001b[32m6.2/6.2 MB\u001b[0m \u001b[31m4.8 MB/s\u001b[0m eta \u001b[36m0:00:00\u001b[0ma \u001b[36m0:00:01\u001b[0m\n",
      "\u001b[?25hDownloading ml_dtypes-0.5.3-cp312-cp312-manylinux_2_27_x86_64.manylinux_2_28_x86_64.whl (4.9 MB)\n",
      "\u001b[2K   \u001b[90m━━━━━━━━━━━━━━━━━━━━━━━━━━━━━━━━━━━━━━━━\u001b[0m \u001b[32m4.9/4.9 MB\u001b[0m \u001b[31m4.8 MB/s\u001b[0m eta \u001b[36m0:00:00\u001b[0ma \u001b[36m0:00:01\u001b[0m\n",
      "\u001b[?25hDownloading tensorboard-2.20.0-py3-none-any.whl (5.5 MB)\n",
      "\u001b[2K   \u001b[90m━━━━━━━━━━━━━━━━━━━━━━━━━━━━━━━━━━━━━━━━\u001b[0m \u001b[32m5.5/5.5 MB\u001b[0m \u001b[31m4.8 MB/s\u001b[0m eta \u001b[36m0:00:00\u001b[0ma \u001b[36m0:00:01\u001b[0m\n",
      "\u001b[?25hDownloading tensorboard_data_server-0.7.2-py3-none-manylinux_2_31_x86_64.whl (6.6 MB)\n",
      "\u001b[2K   \u001b[90m━━━━━━━━━━━━━━━━━━━━━━━━━━━━━━━━━━━━━━━━\u001b[0m \u001b[32m6.6/6.6 MB\u001b[0m \u001b[31m4.8 MB/s\u001b[0m eta \u001b[36m0:00:00\u001b[0ma \u001b[36m0:00:01\u001b[0m\n",
      "\u001b[?25hDownloading absl_py-2.3.1-py3-none-any.whl (135 kB)\n",
      "Downloading astunparse-1.6.3-py2.py3-none-any.whl (12 kB)\n",
      "Downloading flatbuffers-25.2.10-py2.py3-none-any.whl (30 kB)\n",
      "Downloading gast-0.6.0-py3-none-any.whl (21 kB)\n",
      "Downloading google_pasta-0.2.0-py3-none-any.whl (57 kB)\n",
      "Downloading keras-3.11.3-py3-none-any.whl (1.4 MB)\n",
      "\u001b[2K   \u001b[90m━━━━━━━━━━━━━━━━━━━━━━━━━━━━━━━━━━━━━━━━\u001b[0m \u001b[32m1.4/1.4 MB\u001b[0m \u001b[31m4.8 MB/s\u001b[0m eta \u001b[36m0:00:00\u001b[0ma \u001b[36m0:00:01\u001b[0m\n",
      "\u001b[?25hDownloading libclang-18.1.1-py2.py3-none-manylinux2010_x86_64.whl (24.5 MB)\n",
      "\u001b[2K   \u001b[90m━━━━━━━━━━━━━━━━━━━━━━━━━━━━━━━━━━━━━━━━\u001b[0m \u001b[32m24.5/24.5 MB\u001b[0m \u001b[31m5.8 MB/s\u001b[0m eta \u001b[36m0:00:00\u001b[0m00:01\u001b[0m00:01\u001b[0m\n",
      "\u001b[?25hDownloading markdown-3.8.2-py3-none-any.whl (106 kB)\n",
      "Downloading opt_einsum-3.4.0-py3-none-any.whl (71 kB)\n",
      "Downloading termcolor-3.1.0-py3-none-any.whl (7.7 kB)\n",
      "Downloading werkzeug-3.1.3-py3-none-any.whl (224 kB)\n",
      "Downloading wrapt-1.17.3-cp312-cp312-manylinux1_x86_64.manylinux_2_28_x86_64.manylinux_2_5_x86_64.whl (88 kB)\n",
      "Downloading namex-0.1.0-py3-none-any.whl (5.9 kB)\n",
      "Downloading optree-0.17.0-cp312-cp312-manylinux_2_27_x86_64.manylinux_2_28_x86_64.whl (408 kB)\n",
      "Downloading rich-14.1.0-py3-none-any.whl (243 kB)\n",
      "Downloading markdown_it_py-4.0.0-py3-none-any.whl (87 kB)\n",
      "Downloading mdurl-0.1.2-py3-none-any.whl (10.0 kB)\n",
      "Installing collected packages: namex, libclang, flatbuffers, wrapt, werkzeug, termcolor, tensorboard-data-server, optree, opt_einsum, ml_dtypes, mdurl, markdown, grpcio, google_pasta, gast, astunparse, absl-py, tensorboard, markdown-it-py, rich, keras, tensorflow\n",
      "\u001b[2K   \u001b[90m━━━━━━━━━━━━━━━━━━━━━━━━━━━━━━━━━━━━━━━━\u001b[0m \u001b[32m22/22\u001b[0m [tensorflow]2\u001b[0m [tensorflow]-py]a-server]\n",
      "\u001b[1A\u001b[2KSuccessfully installed absl-py-2.3.1 astunparse-1.6.3 flatbuffers-25.2.10 gast-0.6.0 google_pasta-0.2.0 grpcio-1.74.0 keras-3.11.3 libclang-18.1.1 markdown-3.8.2 markdown-it-py-4.0.0 mdurl-0.1.2 ml_dtypes-0.5.3 namex-0.1.0 opt_einsum-3.4.0 optree-0.17.0 rich-14.1.0 tensorboard-2.20.0 tensorboard-data-server-0.7.2 tensorflow-2.20.0 termcolor-3.1.0 werkzeug-3.1.3 wrapt-1.17.3\n"
     ]
    },
    {
     "name": "stderr",
     "output_type": "stream",
     "text": [
      "2025-09-02 10:00:18.455943: I external/local_xla/xla/tsl/cuda/cudart_stub.cc:31] Could not find cuda drivers on your machine, GPU will not be used.\n",
      "2025-09-02 10:00:18.532803: I tensorflow/core/platform/cpu_feature_guard.cc:210] This TensorFlow binary is optimized to use available CPU instructions in performance-critical operations.\n",
      "To enable the following instructions: AVX2 FMA, in other operations, rebuild TensorFlow with the appropriate compiler flags.\n",
      "2025-09-02 10:00:20.929027: I external/local_xla/xla/tsl/cuda/cudart_stub.cc:31] Could not find cuda drivers on your machine, GPU will not be used.\n"
     ]
    }
   ],
   "source": [
    "!pip install tensorflow\n",
    "\n",
    "import numpy as np\n",
    "import pandas as pd\n",
    "import random\n",
    "import matplotlib.pyplot as plt\n",
    "\n",
    "from tensorflow.keras.datasets import reuters\n",
    "from tensorflow.keras.preprocessing.sequence import pad_sequences\n",
    "from tensorflow.keras.utils import to_categorical\n",
    "\n",
    "from sklearn.feature_extraction.text import TfidfVectorizer\n",
    "from sklearn.metrics import accuracy_score, f1_score, classification_report, confusion_matrix\n",
    "from sklearn.naive_bayes import MultinomialNB, ComplementNB\n",
    "from sklearn.linear_model import LogisticRegression\n",
    "from sklearn.svm import LinearSVC\n",
    "from sklearn.tree import DecisionTreeClassifier\n",
    "from sklearn.ensemble import RandomForestClassifier, GradientBoostingClassifier, VotingClassifier\n",
    "\n",
    "# 재현성\n",
    "SEED = 42\n",
    "np.random.seed(SEED)\n",
    "random.seed(SEED)"
   ]
  },
  {
   "cell_type": "markdown",
   "id": "7f5e9840-6d19-46b1-91ca-a4f98345e391",
   "metadata": {},
   "source": [
    "## 2. 데이터 불러오기 & EDA"
   ]
  },
  {
   "cell_type": "code",
   "execution_count": 2,
   "id": "3f7ef106-dd3c-4acf-8b78-e06020f9cbf5",
   "metadata": {},
   "outputs": [
    {
     "name": "stdout",
     "output_type": "stream",
     "text": [
      "Downloading data from https://storage.googleapis.com/tensorflow/tf-keras-datasets/reuters.npz\n",
      "\u001b[1m2110848/2110848\u001b[0m \u001b[32m━━━━━━━━━━━━━━━━━━━━\u001b[0m\u001b[37m\u001b[0m \u001b[1m1s\u001b[0m 0us/step\n",
      "훈련 데이터 개수: 8982\n",
      "테스트 데이터 개수: 2246\n",
      "전체 클래스 개수: 46\n"
     ]
    }
   ],
   "source": [
    "import seaborn as sns\n",
    "\n",
    "(x_train_eda, y_train_eda), (x_test_eda, y_test_eda) = reuters.load_data(num_words=None, test_split=0.2)\n",
    "\n",
    "print(\"훈련 데이터 개수:\", len(x_train_eda))\n",
    "print(\"테스트 데이터 개수:\", len(x_test_eda))\n",
    "print(\"전체 클래스 개수:\", np.max(y_train_eda) + 1)"
   ]
  },
  {
   "cell_type": "markdown",
   "id": "4b226125-6bc4-402c-9b2f-ea1d232cafba",
   "metadata": {},
   "source": [
    "- 레이블 분포 확인 (훈련 데이터의 클래스 분포)"
   ]
  },
  {
   "cell_type": "code",
   "execution_count": 3,
   "id": "1c35970a-760d-4e0f-bbf6-e9cc23129c3a",
   "metadata": {},
   "outputs": [
    {
     "data": {
      "image/png": "[encoded data removed]",
      "text/plain": [
       "<Figure size 1000x500 with 1 Axes>"
      ]
     },
     "metadata": {},
     "output_type": "display_data"
    }
   ],
   "source": [
    "plt.figure(figsize=(10,5))\n",
    "sns.countplot(x=y_train_eda)\n",
    "plt.title(\"Train Dataset class distribution\")\n",
    "plt.xlabel(\"Class\")\n",
    "plt.ylabel(\"Count\")\n",
    "plt.show()"
   ]
  },
  {
   "cell_type": "markdown",
   "id": "911279eb-c083-4dc4-95d6-e64c36a31334",
   "metadata": {},
   "source": [
    "- 시퀀스 길이 분포 확인 (단어 개수 기준)"
   ]
  },
  {
   "cell_type": "code",
   "execution_count": 4,
   "id": "a26e587d-6ba3-4c5a-984b-46417a9e2ad2",
   "metadata": {},
   "outputs": [
    {
     "data": {
      "image/png": "[encoded data removed]",
      "text/plain": [
       "<Figure size 1000x500 with 1 Axes>"
      ]
     },
     "metadata": {},
     "output_type": "display_data"
    }
   ],
   "source": [
    "train_lengths = [len(seq) for seq in x_train_eda]\n",
    "test_lengths  = [len(seq) for seq in x_test_eda]\n",
    "\n",
    "plt.figure(figsize=(10,5))\n",
    "sns.histplot(train_lengths, bins=50, color=\"blue\", label=\"Train\", alpha=0.6)\n",
    "sns.histplot(test_lengths, bins=50, color=\"orange\", label=\"Test\", alpha=0.6)\n",
    "plt.legend()\n",
    "plt.title(\"Sequence Length Distribution (Word Count)\")\n",
    "plt.xlabel(\"Length (# of tokens)\")\n",
    "plt.ylabel(\"Frequency\")\n",
    "plt.show()"
   ]
  },
  {
   "cell_type": "code",
   "execution_count": 5,
   "id": "f03b4e96-97bd-4aaf-8d93-bf2549738fdb",
   "metadata": {},
   "outputs": [
    {
     "name": "stdout",
     "output_type": "stream",
     "text": [
      "훈련 시퀀스 평균 길이: 145.5398574927633\n",
      "훈련 시퀀스 중앙값 길이: 95.0\n",
      "테스트 시퀀스 평균 길이: 147.66117542297417\n",
      "테스트 시퀀스 중앙값 길이: 95.0\n"
     ]
    }
   ],
   "source": [
    "print(\"훈련 시퀀스 평균 길이:\", np.mean(train_lengths))\n",
    "print(\"훈련 시퀀스 중앙값 길이:\", np.median(train_lengths))\n",
    "print(\"테스트 시퀀스 평균 길이:\", np.mean(test_lengths))\n",
    "print(\"테스트 시퀀스 중앙값 길이:\", np.median(test_lengths))"
   ]
  },
  {
   "cell_type": "markdown",
   "id": "1efcd955-372e-4a3e-86b8-da3c1241b1c7",
   "metadata": {},
   "source": [
    "- 딥러닝에서 사용할 최적의 maxlen 계산 (90% 커버)"
   ]
  },
  {
   "cell_type": "code",
   "execution_count": 6,
   "id": "deb0810f-679c-4dbf-8e7c-67ea23181556",
   "metadata": {},
   "outputs": [
    {
     "name": "stdout",
     "output_type": "stream",
     "text": [
      "추천 maxlen (90% 시퀀스 커버): 313\n"
     ]
    }
   ],
   "source": [
    "import numpy as np\n",
    "recommended_maxlen = int(np.percentile(train_lengths, 90))\n",
    "print(\"추천 maxlen (90% 시퀀스 커버):\", recommended_maxlen)"
   ]
  },
  {
   "cell_type": "markdown",
   "id": "2dacc26f-ce80-4fa5-a530-39e2ed5a5ab4",
   "metadata": {},
   "source": [
    "- 80% 커버 : 데이터의 대부분을 포함, 학습 속도/메모리 효율 ↑\n",
    "\n",
    "- 90% 커버 : (가장 자주 쓰는 값) → 정보 보존과 효율성 균형\n",
    "\n",
    "- 95% 이상 : 긴 문장까지 거의 다 포함하지만, 패딩 낭비가 커짐"
   ]
  },
  {
   "cell_type": "markdown",
   "id": "8e7ac7cf-7c27-41a7-b07c-840ac6519f33",
   "metadata": {},
   "source": [
    "## 3. (TF-IDF용) Reuters 단어 인덱스 로드 + 시퀀스를 문장으로 복원하기"
   ]
  },
  {
   "cell_type": "code",
   "execution_count": 7,
   "id": "a0c5e109-54b9-491c-93da-190e12f65fdb",
   "metadata": {},
   "outputs": [
    {
     "name": "stdout",
     "output_type": "stream",
     "text": [
      "Downloading data from https://storage.googleapis.com/tensorflow/tf-keras-datasets/reuters_word_index.json\n",
      "\u001b[1m550378/550378\u001b[0m \u001b[32m━━━━━━━━━━━━━━━━━━━━\u001b[0m\u001b[37m\u001b[0m \u001b[1m1s\u001b[0m 1us/step\n"
     ]
    }
   ],
   "source": [
    "# 단어 인덱스 (word -> index)\n",
    "word_index = reuters.get_word_index(path=\"reuters_word_index.json\")\n",
    "index_to_word = {v+3: k for k, v in word_index.items()}                 # 원래 단어 인덱스에 특수 토큰 4개에 대한, 3개의 오프셋 추가\n",
    "index_to_word[0] = \"<PAD>\"; index_to_word[1] = \"<START>\"; index_to_word[2] = \"<UNK>\"; index_to_word[3] = \"<UNUSED>\"\n",
    "\n",
    "# 시퀀스 리스트를 공백 토큰 문자열로 복원\n",
    "def decode_texts(seqs):\n",
    "    out = []\n",
    "    for s in seqs:\n",
    "        out.append(\" \".join(index_to_word.get(i, \"<UNK>\") for i in s))\n",
    "    return out"
   ]
  },
  {
   "cell_type": "code",
   "execution_count": 8,
   "id": "557946ff-5bfd-43dd-89c9-5c97e13d3d78",
   "metadata": {},
   "outputs": [
    {
     "name": "stdout",
     "output_type": "stream",
     "text": [
      "['<START> the of']\n"
     ]
    }
   ],
   "source": [
    "print(decode_texts([[1, 4, 5]]))"
   ]
  },
  {
   "cell_type": "code",
   "execution_count": 9,
   "id": "410ce098-8fa1-4c4c-b34b-8ae2740bc9c3",
   "metadata": {},
   "outputs": [
    {
     "name": "stdout",
     "output_type": "stream",
     "text": [
      "    class  count\n",
      "3       3   3159\n",
      "4       4   1949\n",
      "19     19    549\n",
      "16     16    444\n",
      "1       1    432\n",
      "11     11    390\n",
      "20     20    269\n",
      "13     13    172\n",
      "8       8    139\n",
      "10     10    124\n"
     ]
    }
   ],
   "source": [
    "# 레이블 분포 확인\n",
    "# 데이터 프레임으로 묶어서 내림차순 정렬을 하면 가장 많은 뉴스 카테고리 TOP 10을 볼 수 있음\n",
    "unique, counts = np.unique(y_train_eda, return_counts=True)\n",
    "df_class_dist = pd.DataFrame({\"class\": unique, \"count\": counts}).sort_values(\"count\", ascending=False)\n",
    "print(df_class_dist.head(10))"
   ]
  },
  {
   "cell_type": "markdown",
   "id": "c5a36d63-5f6f-4459-9801-c846367f4ed7",
   "metadata": {},
   "source": [
    "- 클래스 3, 4, 19 ... 순으로 뉴스 카테고리가 제일 많음"
   ]
  },
  {
   "cell_type": "markdown",
   "id": "0e6cde92-878e-4fa6-8920-277f826e51b8",
   "metadata": {},
   "source": [
    "## 4. Vocab 사이즈, n-gram 설정 등을 변경하여 여러 모델에서 실험 진행하기"
   ]
  },
  {
   "cell_type": "markdown",
   "id": "42bf1b6b-b8d8-4f56-99f5-8b931452bbcd",
   "metadata": {},
   "source": [
    "- vocab_size만 바꿔보았음 (None, 5000, 10000)\n",
    "- vocab_size에서 None은 단어 개수 제한 없이 데이터셋에 있는 모든 단어를 그대로 가져옴 (Reuters 데이터셋은 약 26,000개의 단어라서 26K 단어를 사용함)\n",
    "- n-gram을 (1,2)로 바꿔보려고 했으나 시간이 너무 오래 걸려서 코드로 남기기로 함\n",
    "- n-gram을 (1,1)에서 (1,2)로 바꾸면 unigram과 bigram까지 사용하여 단어 조합 패턴까지 반영할 수 있음 (oil에서 oil prices까지 반영 가능)\n",
    "- 그러므로 문맥 포착 능력이 증가함(oil prices가 자체적인 특징이 되어서 특정 주제 식별이 더 쉬워짐)"
   ]
  },
  {
   "cell_type": "code",
   "execution_count": 10,
   "id": "6f7ec607-f4fc-4177-812f-07ac057b4420",
   "metadata": {},
   "outputs": [],
   "source": [
    "vocab_sizes = [None, 5000, 10000]  # 필요하면 2000/8000 등 더 추가\n",
    "ngram_range = (1,1)                # 바꿔보며 영향 확인 가능 (1,2), (1,3) ...\n",
    "results_table = []                 # 성능 로그를 여기에 누적\n",
    "per_setting_reports = {}           # 각 세팅별 best 모델 리포트 저장"
   ]
  },
  {
   "cell_type": "code",
   "execution_count": 11,
   "id": "81b8e350-d3a1-4989-bce2-22f0f5fe821b",
   "metadata": {},
   "outputs": [
    {
     "name": "stdout",
     "output_type": "stream",
     "text": [
      "\n",
      "================================================================================\n",
      "[실험] vocab_size (Reuters num_words) = None\n",
      "================================================================================\n",
      "TF-IDF shape: train=(8982, 26505), test=(2246, 26505)\n",
      "[MNB           ] acc=0.5997 | f1_macro=0.0677\n",
      "[CNB           ] acc=0.7645 | f1_macro=0.4619\n",
      "[LogReg        ] acc=0.7925 | f1_macro=0.4583\n",
      "[LinearSVC     ] acc=0.8295 | f1_macro=0.6887\n",
      "[DecisionTree  ] acc=0.7057 | f1_macro=0.4435\n",
      "[RandomForest  ] acc=0.7458 | f1_macro=0.4141\n",
      "[GradientBoosting] acc=0.7694 | f1_macro=0.5846\n",
      "[VotingSoft    ] acc=0.7044 | f1_macro=0.2587\n",
      "\n",
      "[세팅별 최고] vocab_size= None | model= LinearSVC | acc= 0.8295 | f1_macro= 0.6887\n",
      "              precision    recall  f1-score   support\n",
      "\n",
      "           0     0.8889    0.6667    0.7619        12\n",
      "           1     0.7304    0.8000    0.7636       105\n",
      "           2     0.8421    0.8000    0.8205        20\n",
      "           3     0.9342    0.9434    0.9388       813\n",
      "           4     0.8135    0.8924    0.8511       474\n",
      "           5     0.0000    0.0000    0.0000         5\n",
      "           6     0.9286    0.9286    0.9286        14\n",
      "           7     1.0000    0.6667    0.8000         3\n",
      "           8     0.6923    0.7105    0.7013        38\n",
      "           9     0.8077    0.8400    0.8235        25\n",
      "          10     0.9000    0.9000    0.9000        30\n",
      "          11     0.6562    0.7590    0.7039        83\n",
      "          12     0.8750    0.5385    0.6667        13\n",
      "          13     0.6857    0.6486    0.6667        37\n",
      "          14     0.6667    1.0000    0.8000         2\n",
      "          15     0.6667    0.2222    0.3333         9\n",
      "          16     0.7379    0.7677    0.7525        99\n",
      "          17     0.7500    0.5000    0.6000        12\n",
      "          18     0.8125    0.6500    0.7222        20\n",
      "          19     0.7059    0.7218    0.7138       133\n",
      "          20     0.6909    0.5429    0.6080        70\n",
      "          21     0.7059    0.8889    0.7869        27\n",
      "          22     1.0000    0.2857    0.4444         7\n",
      "          23     0.6429    0.7500    0.6923        12\n",
      "          24     0.6667    0.5263    0.5882        19\n",
      "          25     0.8966    0.8387    0.8667        31\n",
      "          26     0.8750    0.8750    0.8750         8\n",
      "          27     1.0000    0.2500    0.4000         4\n",
      "          28     0.3750    0.3000    0.3333        10\n",
      "          29     0.8000    1.0000    0.8889         4\n",
      "          30     1.0000    0.6667    0.8000        12\n",
      "          31     1.0000    0.6923    0.8182        13\n",
      "          32     1.0000    0.9000    0.9474        10\n",
      "          33     0.8000    0.8000    0.8000         5\n",
      "          34     1.0000    0.5714    0.7273         7\n",
      "          35     1.0000    0.5000    0.6667         6\n",
      "          36     0.4286    0.2727    0.3333        11\n",
      "          37     0.5000    0.5000    0.5000         2\n",
      "          38     1.0000    0.3333    0.5000         3\n",
      "          39     1.0000    0.4000    0.5714         5\n",
      "          40     1.0000    0.2000    0.3333        10\n",
      "          41     0.7500    0.3750    0.5000         8\n",
      "          42     1.0000    0.6667    0.8000         3\n",
      "          43     0.8571    1.0000    0.9231         6\n",
      "          44     0.6667    0.8000    0.7273         5\n",
      "          45     1.0000    1.0000    1.0000         1\n",
      "\n",
      "    accuracy                         0.8295      2246\n",
      "   macro avg     0.7989    0.6498    0.6887      2246\n",
      "weighted avg     0.8300    0.8295    0.8237      2246\n",
      "\n",
      "\n",
      "================================================================================\n",
      "[실험] vocab_size (Reuters num_words) = 5000\n",
      "================================================================================\n",
      "TF-IDF shape: train=(8982, 4866), test=(2246, 4866)\n",
      "[MNB           ] acc=0.6732 | f1_macro=0.1102\n",
      "[CNB           ] acc=0.7707 | f1_macro=0.4820\n",
      "[LogReg        ] acc=0.7979 | f1_macro=0.4814\n",
      "[LinearSVC     ] acc=0.8290 | f1_macro=0.6813\n",
      "[DecisionTree  ] acc=0.6995 | f1_macro=0.4550\n",
      "[RandomForest  ] acc=0.7676 | f1_macro=0.4487\n",
      "[GradientBoosting] acc=0.7631 | f1_macro=0.5636\n",
      "[VotingSoft    ] acc=0.7502 | f1_macro=0.3230\n",
      "\n",
      "[세팅별 최고] vocab_size= 5000 | model= LinearSVC | acc= 0.8290 | f1_macro= 0.6813\n",
      "              precision    recall  f1-score   support\n",
      "\n",
      "           0     0.8889    0.6667    0.7619        12\n",
      "           1     0.7568    0.8000    0.7778       105\n",
      "           2     0.7273    0.8000    0.7619        20\n",
      "           3     0.9265    0.9459    0.9361       813\n",
      "           4     0.8360    0.8924    0.8633       474\n",
      "           5     0.0000    0.0000    0.0000         5\n",
      "           6     0.8125    0.9286    0.8667        14\n",
      "           7     1.0000    0.6667    0.8000         3\n",
      "           8     0.7105    0.7105    0.7105        38\n",
      "           9     0.8148    0.8800    0.8462        25\n",
      "          10     0.9000    0.9000    0.9000        30\n",
      "          11     0.6458    0.7470    0.6927        83\n",
      "          12     0.8750    0.5385    0.6667        13\n",
      "          13     0.6216    0.6216    0.6216        37\n",
      "          14     0.6667    1.0000    0.8000         2\n",
      "          15     0.6667    0.2222    0.3333         9\n",
      "          16     0.7196    0.7778    0.7476        99\n",
      "          17     0.8750    0.5833    0.7000        12\n",
      "          18     0.7222    0.6500    0.6842        20\n",
      "          19     0.7239    0.7293    0.7266       133\n",
      "          20     0.6727    0.5286    0.5920        70\n",
      "          21     0.6857    0.8889    0.7742        27\n",
      "          22     1.0000    0.2857    0.4444         7\n",
      "          23     0.6429    0.7500    0.6923        12\n",
      "          24     0.6875    0.5789    0.6286        19\n",
      "          25     0.8889    0.7742    0.8276        31\n",
      "          26     0.8750    0.8750    0.8750         8\n",
      "          27     1.0000    0.2500    0.4000         4\n",
      "          28     0.4000    0.4000    0.4000        10\n",
      "          29     0.7500    0.7500    0.7500         4\n",
      "          30     1.0000    0.5833    0.7368        12\n",
      "          31     0.8889    0.6154    0.7273        13\n",
      "          32     1.0000    0.8000    0.8889        10\n",
      "          33     0.8000    0.8000    0.8000         5\n",
      "          34     1.0000    0.5714    0.7273         7\n",
      "          35     1.0000    0.3333    0.5000         6\n",
      "          36     0.4286    0.2727    0.3333        11\n",
      "          37     0.5000    0.5000    0.5000         2\n",
      "          38     1.0000    0.3333    0.5000         3\n",
      "          39     0.5000    0.2000    0.2857         5\n",
      "          40     1.0000    0.2000    0.3333        10\n",
      "          41     0.8000    0.5000    0.6154         8\n",
      "          42     1.0000    1.0000    1.0000         3\n",
      "          43     0.8571    1.0000    0.9231         6\n",
      "          44     1.0000    0.8000    0.8889         5\n",
      "          45     1.0000    1.0000    1.0000         1\n",
      "\n",
      "    accuracy                         0.8290      2246\n",
      "   macro avg     0.7884    0.6446    0.6813      2246\n",
      "weighted avg     0.8290    0.8290    0.8230      2246\n",
      "\n",
      "\n",
      "================================================================================\n",
      "[실험] vocab_size (Reuters num_words) = 10000\n",
      "================================================================================\n",
      "TF-IDF shape: train=(8982, 9669), test=(2246, 9669)\n",
      "[MNB           ] acc=0.6572 | f1_macro=0.0969\n",
      "[CNB           ] acc=0.7707 | f1_macro=0.4784\n",
      "[LogReg        ] acc=0.7956 | f1_macro=0.4721\n",
      "[LinearSVC     ] acc=0.8299 | f1_macro=0.6808\n",
      "[DecisionTree  ] acc=0.6888 | f1_macro=0.4365\n",
      "[RandomForest  ] acc=0.7565 | f1_macro=0.4288\n",
      "[GradientBoosting] acc=0.7640 | f1_macro=0.5677\n",
      "[VotingSoft    ] acc=0.7337 | f1_macro=0.3014\n",
      "\n",
      "[세팅별 최고] vocab_size= 10000 | model= LinearSVC | acc= 0.8299 | f1_macro= 0.6808\n",
      "              precision    recall  f1-score   support\n",
      "\n",
      "           0     0.8889    0.6667    0.7619        12\n",
      "           1     0.7411    0.7905    0.7650       105\n",
      "           2     0.8500    0.8500    0.8500        20\n",
      "           3     0.9311    0.9471    0.9390       813\n",
      "           4     0.8230    0.8924    0.8563       474\n",
      "           5     0.0000    0.0000    0.0000         5\n",
      "           6     0.8667    0.9286    0.8966        14\n",
      "           7     1.0000    0.6667    0.8000         3\n",
      "           8     0.6923    0.7105    0.7013        38\n",
      "           9     0.8077    0.8400    0.8235        25\n",
      "          10     0.9000    0.9000    0.9000        30\n",
      "          11     0.6429    0.7590    0.6961        83\n",
      "          12     0.8750    0.5385    0.6667        13\n",
      "          13     0.6765    0.6216    0.6479        37\n",
      "          14     0.6667    1.0000    0.8000         2\n",
      "          15     0.6667    0.2222    0.3333         9\n",
      "          16     0.7451    0.7677    0.7562        99\n",
      "          17     0.7778    0.5833    0.6667        12\n",
      "          18     0.8125    0.6500    0.7222        20\n",
      "          19     0.7132    0.7293    0.7212       133\n",
      "          20     0.6792    0.5143    0.5854        70\n",
      "          21     0.6857    0.8889    0.7742        27\n",
      "          22     1.0000    0.2857    0.4444         7\n",
      "          23     0.6667    0.8333    0.7407        12\n",
      "          24     0.6667    0.5263    0.5882        19\n",
      "          25     0.8966    0.8387    0.8667        31\n",
      "          26     0.8750    0.8750    0.8750         8\n",
      "          27     1.0000    0.2500    0.4000         4\n",
      "          28     0.3750    0.3000    0.3333        10\n",
      "          29     0.8000    1.0000    0.8889         4\n",
      "          30     1.0000    0.6667    0.8000        12\n",
      "          31     1.0000    0.6923    0.8182        13\n",
      "          32     1.0000    0.8000    0.8889        10\n",
      "          33     0.8000    0.8000    0.8000         5\n",
      "          34     1.0000    0.5714    0.7273         7\n",
      "          35     1.0000    0.3333    0.5000         6\n",
      "          36     0.4286    0.2727    0.3333        11\n",
      "          37     0.5000    0.5000    0.5000         2\n",
      "          38     1.0000    0.3333    0.5000         3\n",
      "          39     0.6667    0.4000    0.5000         5\n",
      "          40     1.0000    0.2000    0.3333        10\n",
      "          41     0.7500    0.3750    0.5000         8\n",
      "          42     0.6667    0.6667    0.6667         3\n",
      "          43     0.8571    1.0000    0.9231         6\n",
      "          44     0.6667    0.8000    0.7273         5\n",
      "          45     1.0000    1.0000    1.0000         1\n",
      "\n",
      "    accuracy                         0.8299      2246\n",
      "   macro avg     0.7839    0.6476    0.6808      2246\n",
      "weighted avg     0.8297    0.8299    0.8237      2246\n",
      "\n"
     ]
    }
   ],
   "source": [
    "for vs in vocab_sizes:\n",
    "    print(\"\\n\" + \"=\"*80)\n",
    "    print(f\"[실험] vocab_size (Reuters num_words) = {vs}\")\n",
    "    print(\"=\"*80)\n",
    "    \n",
    "    # 데이터 로드 (num_words=vs)\n",
    "    (x_train, y_train), (x_test, y_test) = reuters.load_data(num_words=vs, test_split=0.2)\n",
    "    \n",
    "    # 텍스트 복원 → TF-IDF 벡터화\n",
    "    train_texts = decode_texts(x_train)\n",
    "    test_texts  = decode_texts(x_test)\n",
    "    \n",
    "    # max_features를 vs로 맞춰 사실상 vocab 크기 유사 제어 (vs=None이면 제한 없음)\n",
    "    vectorizer = TfidfVectorizer(max_features=vs, ngram_range=ngram_range)\n",
    "    X_train = vectorizer.fit_transform(train_texts)\n",
    "    X_test  = vectorizer.transform(test_texts)\n",
    "    \n",
    "    print(f\"TF-IDF shape: train={X_train.shape}, test={X_test.shape}\")\n",
    "    \n",
    "    # 모델 정의 (총 8개)\n",
    "    models = {\n",
    "        \"MNB\": MultinomialNB(),\n",
    "        \"CNB\": ComplementNB(),\n",
    "        \"LogReg\": LogisticRegression(max_iter=2000),\n",
    "        \"LinearSVC\": LinearSVC(),\n",
    "        \"DecisionTree\": DecisionTreeClassifier(random_state=SEED),\n",
    "        \"RandomForest\": RandomForestClassifier(n_estimators=400, random_state=SEED, n_jobs=-1),\n",
    "        \"GradientBoosting\": GradientBoostingClassifier(random_state=SEED),\n",
    "        # Soft Voting은 확률 출력 가능한 모델로 구성\n",
    "        \"VotingSoft\": VotingClassifier(\n",
    "            estimators=[\n",
    "                (\"lr\", LogisticRegression(max_iter=2000)),\n",
    "                (\"rf\", RandomForestClassifier(n_estimators=300, random_state=SEED, n_jobs=-1)),\n",
    "                (\"mnb\", MultinomialNB())\n",
    "            ],\n",
    "            voting=\"soft\",\n",
    "            n_jobs=-1\n",
    "        )\n",
    "    }\n",
    "    \n",
    "    # 학습 및 평가\n",
    "    best_row = None\n",
    "    best_name = None\n",
    "    best_pred = None\n",
    "\n",
    "    # 각 모델을 같은 TF-IDF 피처로 학습 및 평가\n",
    "    for name, clf in models.items():\n",
    "        clf.fit(X_train, y_train)\n",
    "        pred = clf.predict(X_test)\n",
    "        acc = accuracy_score(y_test, pred)\n",
    "        f1m = f1_score(y_test, pred, average=\"macro\")\n",
    "        results_table.append({\"vocab_size\": str(vs), \"model\": name, \"accuracy\": acc, \"f1_macro\": f1m})\n",
    "        print(f\"[{name:14s}] acc={acc:.4f} | f1_macro={f1m:.4f}\")\n",
    "        \n",
    "        # 최고 모델 찾기 (F1을 적용하되, 동률이면 Acc 적용)\n",
    "        if (best_row is None) or (f1m > best_row[\"f1_macro\"]) or (np.isclose(f1m, best_row[\"f1_macro\"]) and acc > best_row[\"accuracy\"]):\n",
    "            best_row = {\"accuracy\": acc, \"f1_macro\": f1m}\n",
    "            best_name = name\n",
    "            best_pred = pred\n",
    "    \n",
    "    # 세팅별 최고 모델 리포트 저장\n",
    "    report = classification_report(y_test, best_pred, zero_division=0, digits=4)\n",
    "    per_setting_reports[str(vs)] = {\n",
    "        \"best_model\": best_name,\n",
    "        \"accuracy\": best_row[\"accuracy\"],\n",
    "        \"f1_macro\": best_row[\"f1_macro\"],\n",
    "        \"report\": report\n",
    "    }\n",
    "    \n",
    "    print(\"\\n[세팅별 최고] vocab_size=\", vs, \"| model=\", best_name, \"| acc=\", f\"{best_row['accuracy']:.4f}\", \"| f1_macro=\", f\"{best_row['f1_macro']:.4f}\")\n",
    "    print(report)"
   ]
  },
  {
   "cell_type": "markdown",
   "id": "b19cfcad-c3d9-41b9-8adc-5298ac87c861",
   "metadata": {},
   "source": [
    "[결과 해석]\n",
    "- 최고 성능 모델 : LinearSVC / 정확도는 약 0.83으로 비슷하지만 Macro-F1에서는 전체 Vocab을 사용한 것이 조금 더 높았음 (0.6887)\n",
    "  \n",
    "- Reuters 데이터셋의 클래스 불균형이 크지만, Macro-F1은 소수 클래스 성능을 균등하게 반영함\n",
    "- 다수 클래스(특히 3, 4)에서 점수가 좋아도 소수 클래스에서 잘 못 예측하면 점수가 금방 하락하게 됨\n",
    "  \n",
    "- 대부분의 모델이 다수 클래스에서는 Precision, Recall, F1 모두가 높음\n",
    "- 하지만 소수 클래스에서는 예측이 불안정함 → n-gram을 확장하거나 ```class_weight='balanced'```를 적용해서 소수 클래스 재현율을 보강하는 대안 적용"
   ]
  },
  {
   "cell_type": "markdown",
   "id": "8c27055c-caa7-4b1f-afd5-95921befdaf5",
   "metadata": {},
   "source": [
    "## 5. 결과 종합표 및 성능 시각화"
   ]
  },
  {
   "cell_type": "markdown",
   "id": "d8bbe4a1-900c-4ba0-b324-cee9e7fb3af8",
   "metadata": {},
   "source": [
    "[최고 성능 모델]\n",
    "\n",
    "- 전체 vocab_size 모두 공통적으로 LinearSVC가 가장 우수\n",
    "- Accuracy ≈ 0.83, Macro-F1 ≈ 0.68 → TF-IDF + LinearSVC 조합이 이 데이터셋의 최적 베이스라인임을 확인함\n",
    "\n",
    "[GradientBoosting]\n",
    "- Accuracy는 0.760.77대, Macro-F1은 0.560.58대\n",
    "- 소수 클래스까지 비교적 잘 잡는 편이지만 LinearSVC보다 전반적으로 낮음\n",
    "\n",
    "[LogisticRegression, CNB]\n",
    "- Accuracy는 0.770.80 수준으로 나쁘지 않으나, Macro-F1은 0.470.48로 소수 클래스 성능이 떨어짐\n",
    "\n",
    "[Tree 기반 모델 (DecisionTree, RandomForest)]\n",
    "- Accuracy 0.690.76, Macro-F1 0.430.45\n",
    "- 고차원 희소 벡터 환경에서 성능이 제한적임을 보여줌\n",
    "\n",
    "[VotingSoft]\n",
    "- Accuracy 0.730.75, Macro-F1 0.300.32\n",
    "- 오히려 단일 모델보다 성능 저하가 발생함\n",
    "\n",
    "[MNB]\n",
    "- Accuracy 0.65~0.67, Macro-F1 0.10 수준\n",
    "- 다수 클래스에는 강하지만 소수 클래스 예측은 거의 실패"
   ]
  },
  {
   "cell_type": "code",
   "execution_count": 12,
   "id": "458a31c4-3006-435d-a034-9c9be0561521",
   "metadata": {},
   "outputs": [
    {
     "data": {
      "text/html": [
       "<div>\n",
       "<style scoped>\n",
       "    .dataframe tbody tr th:only-of-type {\n",
       "        vertical-align: middle;\n",
       "    }\n",
       "\n",
       "    .dataframe tbody tr th {\n",
       "        vertical-align: top;\n",
       "    }\n",
       "\n",
       "    .dataframe thead th {\n",
       "        text-align: right;\n",
       "    }\n",
       "</style>\n",
       "<table border=\"1\" class=\"dataframe\">\n",
       "  <thead>\n",
       "    <tr style=\"text-align: right;\">\n",
       "      <th></th>\n",
       "      <th>vocab_size</th>\n",
       "      <th>model</th>\n",
       "      <th>accuracy</th>\n",
       "      <th>f1_macro</th>\n",
       "    </tr>\n",
       "  </thead>\n",
       "  <tbody>\n",
       "    <tr>\n",
       "      <th>0</th>\n",
       "      <td>10000</td>\n",
       "      <td>LinearSVC</td>\n",
       "      <td>0.829920</td>\n",
       "      <td>0.680843</td>\n",
       "    </tr>\n",
       "    <tr>\n",
       "      <th>1</th>\n",
       "      <td>10000</td>\n",
       "      <td>GradientBoosting</td>\n",
       "      <td>0.764025</td>\n",
       "      <td>0.567663</td>\n",
       "    </tr>\n",
       "    <tr>\n",
       "      <th>2</th>\n",
       "      <td>10000</td>\n",
       "      <td>CNB</td>\n",
       "      <td>0.770703</td>\n",
       "      <td>0.478358</td>\n",
       "    </tr>\n",
       "    <tr>\n",
       "      <th>3</th>\n",
       "      <td>10000</td>\n",
       "      <td>LogReg</td>\n",
       "      <td>0.795637</td>\n",
       "      <td>0.472114</td>\n",
       "    </tr>\n",
       "    <tr>\n",
       "      <th>4</th>\n",
       "      <td>10000</td>\n",
       "      <td>DecisionTree</td>\n",
       "      <td>0.688780</td>\n",
       "      <td>0.436547</td>\n",
       "    </tr>\n",
       "    <tr>\n",
       "      <th>5</th>\n",
       "      <td>10000</td>\n",
       "      <td>RandomForest</td>\n",
       "      <td>0.756456</td>\n",
       "      <td>0.428819</td>\n",
       "    </tr>\n",
       "    <tr>\n",
       "      <th>6</th>\n",
       "      <td>10000</td>\n",
       "      <td>VotingSoft</td>\n",
       "      <td>0.733749</td>\n",
       "      <td>0.301361</td>\n",
       "    </tr>\n",
       "    <tr>\n",
       "      <th>7</th>\n",
       "      <td>10000</td>\n",
       "      <td>MNB</td>\n",
       "      <td>0.657168</td>\n",
       "      <td>0.096870</td>\n",
       "    </tr>\n",
       "    <tr>\n",
       "      <th>8</th>\n",
       "      <td>5000</td>\n",
       "      <td>LinearSVC</td>\n",
       "      <td>0.829029</td>\n",
       "      <td>0.681329</td>\n",
       "    </tr>\n",
       "    <tr>\n",
       "      <th>9</th>\n",
       "      <td>5000</td>\n",
       "      <td>GradientBoosting</td>\n",
       "      <td>0.763134</td>\n",
       "      <td>0.563636</td>\n",
       "    </tr>\n",
       "    <tr>\n",
       "      <th>10</th>\n",
       "      <td>5000</td>\n",
       "      <td>CNB</td>\n",
       "      <td>0.770703</td>\n",
       "      <td>0.482035</td>\n",
       "    </tr>\n",
       "    <tr>\n",
       "      <th>11</th>\n",
       "      <td>5000</td>\n",
       "      <td>LogReg</td>\n",
       "      <td>0.797863</td>\n",
       "      <td>0.481380</td>\n",
       "    </tr>\n",
       "    <tr>\n",
       "      <th>12</th>\n",
       "      <td>5000</td>\n",
       "      <td>DecisionTree</td>\n",
       "      <td>0.699466</td>\n",
       "      <td>0.454980</td>\n",
       "    </tr>\n",
       "    <tr>\n",
       "      <th>13</th>\n",
       "      <td>5000</td>\n",
       "      <td>RandomForest</td>\n",
       "      <td>0.767587</td>\n",
       "      <td>0.448736</td>\n",
       "    </tr>\n",
       "    <tr>\n",
       "      <th>14</th>\n",
       "      <td>5000</td>\n",
       "      <td>VotingSoft</td>\n",
       "      <td>0.750223</td>\n",
       "      <td>0.323009</td>\n",
       "    </tr>\n",
       "    <tr>\n",
       "      <th>15</th>\n",
       "      <td>5000</td>\n",
       "      <td>MNB</td>\n",
       "      <td>0.673197</td>\n",
       "      <td>0.110173</td>\n",
       "    </tr>\n",
       "    <tr>\n",
       "      <th>16</th>\n",
       "      <td>None</td>\n",
       "      <td>LinearSVC</td>\n",
       "      <td>0.829475</td>\n",
       "      <td>0.688698</td>\n",
       "    </tr>\n",
       "    <tr>\n",
       "      <th>17</th>\n",
       "      <td>None</td>\n",
       "      <td>GradientBoosting</td>\n",
       "      <td>0.769368</td>\n",
       "      <td>0.584557</td>\n",
       "    </tr>\n",
       "    <tr>\n",
       "      <th>18</th>\n",
       "      <td>None</td>\n",
       "      <td>CNB</td>\n",
       "      <td>0.764470</td>\n",
       "      <td>0.461890</td>\n",
       "    </tr>\n",
       "    <tr>\n",
       "      <th>19</th>\n",
       "      <td>None</td>\n",
       "      <td>LogReg</td>\n",
       "      <td>0.792520</td>\n",
       "      <td>0.458301</td>\n",
       "    </tr>\n",
       "  </tbody>\n",
       "</table>\n",
       "</div>"
      ],
      "text/plain": [
       "   vocab_size             model  accuracy  f1_macro\n",
       "0       10000         LinearSVC  0.829920  0.680843\n",
       "1       10000  GradientBoosting  0.764025  0.567663\n",
       "2       10000               CNB  0.770703  0.478358\n",
       "3       10000            LogReg  0.795637  0.472114\n",
       "4       10000      DecisionTree  0.688780  0.436547\n",
       "5       10000      RandomForest  0.756456  0.428819\n",
       "6       10000        VotingSoft  0.733749  0.301361\n",
       "7       10000               MNB  0.657168  0.096870\n",
       "8        5000         LinearSVC  0.829029  0.681329\n",
       "9        5000  GradientBoosting  0.763134  0.563636\n",
       "10       5000               CNB  0.770703  0.482035\n",
       "11       5000            LogReg  0.797863  0.481380\n",
       "12       5000      DecisionTree  0.699466  0.454980\n",
       "13       5000      RandomForest  0.767587  0.448736\n",
       "14       5000        VotingSoft  0.750223  0.323009\n",
       "15       5000               MNB  0.673197  0.110173\n",
       "16       None         LinearSVC  0.829475  0.688698\n",
       "17       None  GradientBoosting  0.769368  0.584557\n",
       "18       None               CNB  0.764470  0.461890\n",
       "19       None            LogReg  0.792520  0.458301"
      ]
     },
     "metadata": {},
     "output_type": "display_data"
    },
    {
     "data": {
      "image/png": "[encoded data removed]",
      "text/plain": [
       "<Figure size 800x500 with 1 Axes>"
      ]
     },
     "metadata": {},
     "output_type": "display_data"
    }
   ],
   "source": [
    "all_df = pd.DataFrame(results_table).sort_values([\"vocab_size\", \"f1_macro\", \"accuracy\"], ascending=[True, False, False]).reset_index(drop=True)\n",
    "display(all_df.head(20))\n",
    "\n",
    "# 모델별 F1 추이\n",
    "plt.figure(figsize=(8,5))\n",
    "for m in all_df[\"model\"].unique():\n",
    "    sub = all_df[all_df[\"model\"]==m]\n",
    "    xs = sub[\"vocab_size\"].tolist()\n",
    "    ys = sub[\"f1_macro\"].tolist()\n",
    "    plt.plot(xs, ys, marker=\"o\", label=m)\n",
    "plt.title(\"Vocabulary Size with Model F1(macro)\")\n",
    "plt.xlabel(\"vocab_size (None=all)\")\n",
    "plt.ylabel(\"F1 (macro)\")\n",
    "plt.legend()\n",
    "plt.grid(True)\n",
    "plt.show()"
   ]
  },
  {
   "cell_type": "markdown",
   "id": "369170b7-d728-4629-bc95-79d14a5d56f0",
   "metadata": {},
   "source": [
    "## 6. 딥러닝 모델과 비교하기 (동일 데이터 및 전처리 적용)"
   ]
  },
  {
   "cell_type": "markdown",
   "id": "86315c79-4ddd-49bf-a9d9-4e96a29dd614",
   "metadata": {},
   "source": [
    "- 위에서 뽑힌 최적의 ```vocab_size=None```으로 1D CNN을 비교함\n",
    "- 사전 학습 임베딩 등 사용 X"
   ]
  },
  {
   "cell_type": "code",
   "execution_count": 27,
   "id": "67ba5fb2-15a1-4775-b32d-8fcb88f534a8",
   "metadata": {},
   "outputs": [],
   "source": [
    "import numpy as np\n",
    "from tensorflow.keras.datasets import reuters\n",
    "from tensorflow.keras.preprocessing.sequence import pad_sequences\n",
    "from tensorflow.keras import layers, models\n",
    "from sklearn.metrics import accuracy_score, f1_score, classification_report\n",
    "from sklearn.model_selection import train_test_split"
   ]
  },
  {
   "cell_type": "code",
   "execution_count": 28,
   "id": "03493a74-6c1e-4767-83c7-8d804204815a",
   "metadata": {},
   "outputs": [],
   "source": [
    "# 데이터 로드 - 단어 수 제한 없음\n",
    "(x_train_all, y_train_all), (x_test_dl, y_test_dl) = reuters.load_data(\n",
    "    num_words=None,\n",
    "    test_split=0.2\n",
    ")\n",
    "\n",
    "# train/val 분할\n",
    "Xtr, Xva, ytr, yva = train_test_split(\n",
    "    x_train_all, y_train_all,\n",
    "    test_size=0.1,\n",
    "    random_state=42,\n",
    "    stratify=y_train_all\n",
    ")"
   ]
  },
  {
   "cell_type": "code",
   "execution_count": 29,
   "id": "935f1748-6fe2-434e-994c-789043005e75",
   "metadata": {},
   "outputs": [
    {
     "name": "stdout",
     "output_type": "stream",
     "text": [
      "num_classes = 46\n",
      "vocab_size_for_embedding = 30982\n",
      "max token id seen = 30981\n"
     ]
    }
   ],
   "source": [
    "# 패딩\n",
    "maxlen = 313\n",
    "Xtr = pad_sequences(Xtr, maxlen=maxlen)\n",
    "Xva = pad_sequences(Xva, maxlen=maxlen)\n",
    "x_test_dl = pad_sequences(x_test_dl, maxlen=maxlen)\n",
    "\n",
    "# 임베딩 input_dim 계산\n",
    "vocab_size_for_embedding = int(max(Xtr.max(), Xva.max(), x_test_dl.max())) + 1\n",
    "\n",
    "# 클래스 개수\n",
    "num_classes = int(np.max(y_train_all)) + 1\n",
    "\n",
    "print(\"num_classes =\", num_classes)\n",
    "print(\"vocab_size_for_embedding =\", vocab_size_for_embedding)\n",
    "print(\"max token id seen =\", int(max(Xtr.max(), Xva.max(), x_test_dl.max())))"
   ]
  },
  {
   "cell_type": "code",
   "execution_count": 30,
   "id": "aefe1f8b-3cca-4105-801f-ba81df32933a",
   "metadata": {},
   "outputs": [
    {
     "name": "stdout",
     "output_type": "stream",
     "text": [
      "Epoch 1/6\n",
      "\u001b[1m32/32\u001b[0m \u001b[32m━━━━━━━━━━━━━━━━━━━━\u001b[0m\u001b[37m\u001b[0m \u001b[1m28s\u001b[0m 812ms/step - accuracy: 0.3784 - loss: 2.6692 - val_accuracy: 0.5028 - val_loss: 2.0158\n",
      "Epoch 2/6\n",
      "\u001b[1m32/32\u001b[0m \u001b[32m━━━━━━━━━━━━━━━━━━━━\u001b[0m\u001b[37m\u001b[0m \u001b[1m41s\u001b[0m 804ms/step - accuracy: 0.5134 - loss: 1.9562 - val_accuracy: 0.5273 - val_loss: 1.7968\n",
      "Epoch 3/6\n",
      "\u001b[1m32/32\u001b[0m \u001b[32m━━━━━━━━━━━━━━━━━━━━\u001b[0m\u001b[37m\u001b[0m \u001b[1m26s\u001b[0m 803ms/step - accuracy: 0.5602 - loss: 1.7125 - val_accuracy: 0.5873 - val_loss: 1.6371\n",
      "Epoch 4/6\n",
      "\u001b[1m32/32\u001b[0m \u001b[32m━━━━━━━━━━━━━━━━━━━━\u001b[0m\u001b[37m\u001b[0m \u001b[1m26s\u001b[0m 822ms/step - accuracy: 0.6162 - loss: 1.5058 - val_accuracy: 0.6140 - val_loss: 1.5864\n",
      "Epoch 5/6\n",
      "\u001b[1m32/32\u001b[0m \u001b[32m━━━━━━━━━━━━━━━━━━━━\u001b[0m\u001b[37m\u001b[0m \u001b[1m26s\u001b[0m 811ms/step - accuracy: 0.6725 - loss: 1.3325 - val_accuracy: 0.6418 - val_loss: 1.5377\n",
      "Epoch 6/6\n",
      "\u001b[1m32/32\u001b[0m \u001b[32m━━━━━━━━━━━━━━━━━━━━\u001b[0m\u001b[37m\u001b[0m \u001b[1m26s\u001b[0m 813ms/step - accuracy: 0.7225 - loss: 1.1624 - val_accuracy: 0.6418 - val_loss: 1.5075\n"
     ]
    }
   ],
   "source": [
    "# 1D-CNN 모델\n",
    "cnn = models.Sequential([\n",
    "    layers.Embedding(input_dim=vocab_size_for_embedding, output_dim=128),\n",
    "    layers.Conv1D(128, 5, activation=\"relu\"),\n",
    "    layers.MaxPooling1D(2),\n",
    "    layers.Conv1D(128, 5, activation=\"relu\"),\n",
    "    layers.GlobalMaxPooling1D(),\n",
    "    layers.Dense(128, activation=\"relu\"),\n",
    "    layers.Dropout(0.3),\n",
    "    layers.Dense(num_classes, activation=\"softmax\")\n",
    "])\n",
    "\n",
    "cnn.compile(optimizer=\"adam\", loss=\"sparse_categorical_crossentropy\", metrics=[\"accuracy\"])\n",
    "\n",
    "hist = cnn.fit(\n",
    "    Xtr, ytr,\n",
    "    validation_data=(Xva, yva),\n",
    "    epochs=6,\n",
    "    batch_size=256,\n",
    "    verbose=1\n",
    ")"
   ]
  },
  {
   "cell_type": "code",
   "execution_count": 31,
   "id": "0e2d977e-61c1-4137-9ed3-cab2089ae184",
   "metadata": {},
   "outputs": [
    {
     "name": "stdout",
     "output_type": "stream",
     "text": [
      "\n",
      "[딥러닝 1D-CNN | vocab=None, stratified split] acc= 0.6576  | f1_macro= 0.0928\n",
      "              precision    recall  f1-score   support\n",
      "\n",
      "           0     0.0000    0.0000    0.0000        12\n",
      "           1     0.2665    0.8095    0.4009       105\n",
      "           2     0.0000    0.0000    0.0000        20\n",
      "           3     0.8968    0.9508    0.9230       813\n",
      "           4     0.8208    0.8502    0.8352       474\n",
      "           5     0.0000    0.0000    0.0000         5\n",
      "           6     0.0000    0.0000    0.0000        14\n",
      "           7     0.0000    0.0000    0.0000         3\n",
      "           8     0.0000    0.0000    0.0000        38\n",
      "           9     0.0000    0.0000    0.0000        25\n",
      "          10     0.6154    0.2667    0.3721        30\n",
      "          11     0.2475    0.6024    0.3509        83\n",
      "          12     0.0000    0.0000    0.0000        13\n",
      "          13     0.0714    0.0270    0.0392        37\n",
      "          14     0.0000    0.0000    0.0000         2\n",
      "          15     0.0000    0.0000    0.0000         9\n",
      "          16     0.5492    0.6768    0.6063        99\n",
      "          17     0.0000    0.0000    0.0000        12\n",
      "          18     0.0000    0.0000    0.0000        20\n",
      "          19     0.5547    0.5714    0.5630       133\n",
      "          20     0.1628    0.2000    0.1795        70\n",
      "          21     0.0000    0.0000    0.0000        27\n",
      "          22     0.0000    0.0000    0.0000         7\n",
      "          23     0.0000    0.0000    0.0000        12\n",
      "          24     0.0000    0.0000    0.0000        19\n",
      "          25     0.0000    0.0000    0.0000        31\n",
      "          26     0.0000    0.0000    0.0000         8\n",
      "          27     0.0000    0.0000    0.0000         4\n",
      "          28     0.0000    0.0000    0.0000        10\n",
      "          29     0.0000    0.0000    0.0000         4\n",
      "          30     0.0000    0.0000    0.0000        12\n",
      "          31     0.0000    0.0000    0.0000        13\n",
      "          32     0.0000    0.0000    0.0000        10\n",
      "          33     0.0000    0.0000    0.0000         5\n",
      "          34     0.0000    0.0000    0.0000         7\n",
      "          35     0.0000    0.0000    0.0000         6\n",
      "          36     0.0000    0.0000    0.0000        11\n",
      "          37     0.0000    0.0000    0.0000         2\n",
      "          38     0.0000    0.0000    0.0000         3\n",
      "          39     0.0000    0.0000    0.0000         5\n",
      "          40     0.0000    0.0000    0.0000        10\n",
      "          41     0.0000    0.0000    0.0000         8\n",
      "          42     0.0000    0.0000    0.0000         3\n",
      "          43     0.0000    0.0000    0.0000         6\n",
      "          44     0.0000    0.0000    0.0000         5\n",
      "          45     0.0000    0.0000    0.0000         1\n",
      "\n",
      "    accuracy                         0.6576      2246\n",
      "   macro avg     0.0910    0.1077    0.0928      2246\n",
      "weighted avg     0.5910    0.6576    0.6134      2246\n",
      "\n"
     ]
    }
   ],
   "source": [
    "# 평가\n",
    "proba = cnn.predict(x_test_dl, verbose=0)\n",
    "pred = np.argmax(proba, axis=1)\n",
    "acc = accuracy_score(y_test_dl, pred)\n",
    "f1m = f1_score(y_test_dl, pred, average=\"macro\")\n",
    "print(\"\\n[딥러닝 1D-CNN | vocab=None, stratified split] acc=\", f\"{acc:.4f}\", \" | f1_macro=\", f\"{f1m:.4f}\")\n",
    "print(classification_report(y_test_dl, pred, zero_division=0, digits=4))"
   ]
  },
  {
   "cell_type": "markdown",
   "id": "d365c033-605f-4c7d-8959-701e2b57e910",
   "metadata": {},
   "source": [
    "- CNN 모델이 테스트셋 전체 기준으로는 약 66%의 정확도를 달성, 하지만 Macro-F1이 0.0928로 매우 낮음\n",
    "- 다수 클래스에서는 Precision과 Recall이 모두 높은데, 소수 클래스에서는 전혀 예측하지 못했음\n",
    "- ```class_weight='balanced```를 추가하여 소수 클래스에 더 큰 학습 비중을 부여한다면 성능이 개선되지 않을까 생각함\n",
    "- 혹은 데이터 증강이나 오버 샘플링을 통해 소수 클래스의 샘플 수를 늘리는 것도 좋을 것 같음"
   ]
  },
  {
   "cell_type": "markdown",
   "id": "03dacb74-23eb-4930-aa9a-c91b4126e21b",
   "metadata": {},
   "source": [
    "## 7. 회고"
   ]
  },
  {
   "cell_type": "markdown",
   "id": "e0b47f80-3179-4a8b-b765-c7dcbbc3f879",
   "metadata": {},
   "source": [
    "- LinearSVC : Accuracy 0.83, Macro-F1 ≈ 0.69 → ML 모델 중 최적의 모델이자, 소수 클래스도 일정 수준 커버함\n",
    "- Gradient Boosting : Macro-F1 0.56 ~ 0.58으로 차선책이 될 수 있음\n",
    "- 1D-CNN : Accuracy 0.66, Macro-F1 0.09으로 전통 ML보다 훨씬 낮으며, 다수 클래스만 집중적으로 잘 맞춤"
   ]
  },
  {
   "cell_type": "markdown",
   "id": "16f04d4d-b31e-421e-ad7f-29b2929f8ad3",
   "metadata": {},
   "source": [
    "- 피어 리뷰 시간에 다른 팀원들의 이야기를 들어보니 vocab_size는 일정 수준 이상이 되면 오히려 성능이 하락했음\n",
    "- 유니그램이나 바이그램을 시도해보고 싶은데 매우 오래 걸려서 실험을 하지 못해 매우 아쉬움\n",
    "- CNN 말고 RNN 계열로 실험했다면 조금 더 성능이 좋았을까 궁금해짐"
   ]
  },
  {
   "cell_type": "code",
   "execution_count": null,
   "id": "5b4e8a56-ce32-4f86-a073-8857a727b809",
   "metadata": {},
   "outputs": [],
   "source": []
  }
 ],
 "metadata": {
  "kernelspec": {
   "display_name": "Python 3 (ipykernel)",
   "language": "python",
   "name": "python3"
  },
  "language_info": {
   "codemirror_mode": {
    "name": "ipython",
    "version": 3
   },
   "file_extension": ".py",
   "mimetype": "text/x-python",
   "name": "python",
   "nbconvert_exporter": "python",
   "pygments_lexer": "ipython3",
   "version": "3.12.11"
  }
 },
 "nbformat": 4,
 "nbformat_minor": 5
}
