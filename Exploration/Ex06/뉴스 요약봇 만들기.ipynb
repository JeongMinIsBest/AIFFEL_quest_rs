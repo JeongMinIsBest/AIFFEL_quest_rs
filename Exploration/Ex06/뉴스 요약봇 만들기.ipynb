{
 "cells": [
  {
   "cell_type": "markdown",
   "id": "2b4ed961-758d-4a76-9775-444345adbf66",
   "metadata": {},
   "source": [
    "## 뉴스 요약봇 만들기"
   ]
  },
  {
   "cell_type": "markdown",
   "id": "d1f171ac-76aa-4ffb-9600-3c58460b53a0",
   "metadata": {},
   "source": [
    "### 1. 라이브러리 및 패키지 준비\n",
    "- NLTK : 영어 기호, 통계, 자연어 처리를 위한 라이브러리입니다.\n",
    "- NLTK에는 I, my, me, over, 조사, 접미사와 같이 문장에는 자주 등장하지만, 의미를 분석하고 요약하는 데는 거의 의미가 없는 100여개의 불용어가 미리 정리되어 있습니다."
   ]
  },
  {
   "cell_type": "code",
   "execution_count": 1,
   "id": "02dbe8a7-3ad9-4f53-8465-fb88f39c548f",
   "metadata": {},
   "outputs": [
    {
     "name": "stdout",
     "output_type": "stream",
     "text": [
      "Requirement already satisfied: nltk in /opt/conda/lib/python3.12/site-packages (3.9.1)\n",
      "Requirement already satisfied: click in /opt/conda/lib/python3.12/site-packages (from nltk) (8.2.1)\n",
      "Requirement already satisfied: joblib in /opt/conda/lib/python3.12/site-packages (from nltk) (1.5.1)\n",
      "Requirement already satisfied: regex>=2021.8.3 in /opt/conda/lib/python3.12/site-packages (from nltk) (2025.7.34)\n",
      "Requirement already satisfied: tqdm in /opt/conda/lib/python3.12/site-packages (from nltk) (4.67.1)\n"
     ]
    }
   ],
   "source": [
    "!pip install nltk"
   ]
  },
  {
   "cell_type": "markdown",
   "id": "1d8b7de5-3a43-4253-805a-300291324aa1",
   "metadata": {},
   "source": [
    "- BeautifulSoup : 문서를 파싱 하는데 사용하는 패키지입니다."
   ]
  },
  {
   "cell_type": "code",
   "execution_count": 2,
   "id": "4c27ecf9-7839-45f7-95de-91213be8daf9",
   "metadata": {},
   "outputs": [
    {
     "name": "stdout",
     "output_type": "stream",
     "text": [
      "Requirement already satisfied: beautifulsoup4 in /opt/conda/lib/python3.12/site-packages (4.13.4)\n",
      "Requirement already satisfied: soupsieve>1.2 in /opt/conda/lib/python3.12/site-packages (from beautifulsoup4) (2.7)\n",
      "Requirement already satisfied: typing-extensions>=4.0.0 in /opt/conda/lib/python3.12/site-packages (from beautifulsoup4) (4.14.0)\n"
     ]
    }
   ],
   "source": [
    "!pip install beautifulsoup4"
   ]
  },
  {
   "cell_type": "code",
   "execution_count": 3,
   "id": "5396f52c-669e-4c6e-b7e7-dea0e4d13c97",
   "metadata": {},
   "outputs": [
    {
     "name": "stderr",
     "output_type": "stream",
     "text": [
      "[nltk_data] Downloading package stopwords to /home/jovyan/nltk_data...\n",
      "[nltk_data]   Package stopwords is already up-to-date!\n"
     ]
    },
    {
     "name": "stdout",
     "output_type": "stream",
     "text": [
      "=3\n"
     ]
    }
   ],
   "source": [
    "# NLTK에서 불용어 사전 다운로드\n",
    "# 데이터 전처리에 필요한 패키지 다운로드\n",
    "\n",
    "import nltk\n",
    "nltk.download('stopwords')\n",
    "\n",
    "import numpy as np\n",
    "import pandas as pd\n",
    "import os\n",
    "import re\n",
    "import matplotlib.pyplot as plt\n",
    "from nltk.corpus import stopwords\n",
    "from bs4 import BeautifulSoup\n",
    "\n",
    "import torch\n",
    "from collections import Counter\n",
    "\n",
    "import urllib.request\n",
    "import warnings\n",
    "warnings.filterwarnings(\"ignore\", category=UserWarning, module='bs4')\n",
    "\n",
    "print('=3')"
   ]
  },
  {
   "cell_type": "markdown",
   "id": "89c6d88b-8c1a-4095-bcdf-ea2e329e13f9",
   "metadata": {},
   "source": [
    "### 2. 데이터 준비하기\n",
    "- 데이터의 총 샘플 사용 대신 10만 개의 샘플만 사용합니다."
   ]
  },
  {
   "cell_type": "code",
   "execution_count": 4,
   "id": "177feaf4-bc59-4828-85f1-713b20450e24",
   "metadata": {},
   "outputs": [
    {
     "name": "stdout",
     "output_type": "stream",
     "text": [
      "전체 샘플수 : 100000\n"
     ]
    }
   ],
   "source": [
    "data = pd.read_csv(os.getenv(\"HOME\")+\"/work/news_summarization/data/Reviews.csv\", nrows=100000)\n",
    "print('전체 샘플수 :', (len(data)))"
   ]
  },
  {
   "cell_type": "code",
   "execution_count": 5,
   "id": "b35590dc-eb5e-4b1c-ae57-5786b7d4e7ca",
   "metadata": {},
   "outputs": [
    {
     "data": {
      "text/html": [
       "<div>\n",
       "<style scoped>\n",
       "    .dataframe tbody tr th:only-of-type {\n",
       "        vertical-align: middle;\n",
       "    }\n",
       "\n",
       "    .dataframe tbody tr th {\n",
       "        vertical-align: top;\n",
       "    }\n",
       "\n",
       "    .dataframe thead th {\n",
       "        text-align: right;\n",
       "    }\n",
       "</style>\n",
       "<table border=\"1\" class=\"dataframe\">\n",
       "  <thead>\n",
       "    <tr style=\"text-align: right;\">\n",
       "      <th></th>\n",
       "      <th>Id</th>\n",
       "      <th>ProductId</th>\n",
       "      <th>UserId</th>\n",
       "      <th>ProfileName</th>\n",
       "      <th>HelpfulnessNumerator</th>\n",
       "      <th>HelpfulnessDenominator</th>\n",
       "      <th>Score</th>\n",
       "      <th>Time</th>\n",
       "      <th>Summary</th>\n",
       "      <th>Text</th>\n",
       "    </tr>\n",
       "  </thead>\n",
       "  <tbody>\n",
       "    <tr>\n",
       "      <th>0</th>\n",
       "      <td>1</td>\n",
       "      <td>B001E4KFG0</td>\n",
       "      <td>A3SGXH7AUHU8GW</td>\n",
       "      <td>delmartian</td>\n",
       "      <td>1</td>\n",
       "      <td>1</td>\n",
       "      <td>5</td>\n",
       "      <td>1303862400</td>\n",
       "      <td>Good Quality Dog Food</td>\n",
       "      <td>I have bought several of the Vitality canned d...</td>\n",
       "    </tr>\n",
       "    <tr>\n",
       "      <th>1</th>\n",
       "      <td>2</td>\n",
       "      <td>B00813GRG4</td>\n",
       "      <td>A1D87F6ZCVE5NK</td>\n",
       "      <td>dll pa</td>\n",
       "      <td>0</td>\n",
       "      <td>0</td>\n",
       "      <td>1</td>\n",
       "      <td>1346976000</td>\n",
       "      <td>Not as Advertised</td>\n",
       "      <td>Product arrived labeled as Jumbo Salted Peanut...</td>\n",
       "    </tr>\n",
       "    <tr>\n",
       "      <th>2</th>\n",
       "      <td>3</td>\n",
       "      <td>B000LQOCH0</td>\n",
       "      <td>ABXLMWJIXXAIN</td>\n",
       "      <td>Natalia Corres \"Natalia Corres\"</td>\n",
       "      <td>1</td>\n",
       "      <td>1</td>\n",
       "      <td>4</td>\n",
       "      <td>1219017600</td>\n",
       "      <td>\"Delight\" says it all</td>\n",
       "      <td>This is a confection that has been around a fe...</td>\n",
       "    </tr>\n",
       "    <tr>\n",
       "      <th>3</th>\n",
       "      <td>4</td>\n",
       "      <td>B000UA0QIQ</td>\n",
       "      <td>A395BORC6FGVXV</td>\n",
       "      <td>Karl</td>\n",
       "      <td>3</td>\n",
       "      <td>3</td>\n",
       "      <td>2</td>\n",
       "      <td>1307923200</td>\n",
       "      <td>Cough Medicine</td>\n",
       "      <td>If you are looking for the secret ingredient i...</td>\n",
       "    </tr>\n",
       "    <tr>\n",
       "      <th>4</th>\n",
       "      <td>5</td>\n",
       "      <td>B006K2ZZ7K</td>\n",
       "      <td>A1UQRSCLF8GW1T</td>\n",
       "      <td>Michael D. Bigham \"M. Wassir\"</td>\n",
       "      <td>0</td>\n",
       "      <td>0</td>\n",
       "      <td>5</td>\n",
       "      <td>1350777600</td>\n",
       "      <td>Great taffy</td>\n",
       "      <td>Great taffy at a great price.  There was a wid...</td>\n",
       "    </tr>\n",
       "  </tbody>\n",
       "</table>\n",
       "</div>"
      ],
      "text/plain": [
       "   Id   ProductId          UserId                      ProfileName  \\\n",
       "0   1  B001E4KFG0  A3SGXH7AUHU8GW                       delmartian   \n",
       "1   2  B00813GRG4  A1D87F6ZCVE5NK                           dll pa   \n",
       "2   3  B000LQOCH0   ABXLMWJIXXAIN  Natalia Corres \"Natalia Corres\"   \n",
       "3   4  B000UA0QIQ  A395BORC6FGVXV                             Karl   \n",
       "4   5  B006K2ZZ7K  A1UQRSCLF8GW1T    Michael D. Bigham \"M. Wassir\"   \n",
       "\n",
       "   HelpfulnessNumerator  HelpfulnessDenominator  Score        Time  \\\n",
       "0                     1                       1      5  1303862400   \n",
       "1                     0                       0      1  1346976000   \n",
       "2                     1                       1      4  1219017600   \n",
       "3                     3                       3      2  1307923200   \n",
       "4                     0                       0      5  1350777600   \n",
       "\n",
       "                 Summary                                               Text  \n",
       "0  Good Quality Dog Food  I have bought several of the Vitality canned d...  \n",
       "1      Not as Advertised  Product arrived labeled as Jumbo Salted Peanut...  \n",
       "2  \"Delight\" says it all  This is a confection that has been around a fe...  \n",
       "3         Cough Medicine  If you are looking for the secret ingredient i...  \n",
       "4            Great taffy  Great taffy at a great price.  There was a wid...  "
      ]
     },
     "execution_count": 5,
     "metadata": {},
     "output_type": "execute_result"
    }
   ],
   "source": [
    "data.head()"
   ]
  },
  {
   "cell_type": "markdown",
   "id": "b55392ac-226e-4a84-8633-226207a661c4",
   "metadata": {},
   "source": [
    "- 데이터 열 중에서 Summary와 Text 열만 별도로 저장해서 사용합니다.\n",
    "- 참고로 Text 열의 내용을 요약한 것이 Summary 열입니다.\n",
    "- Text 시퀀스를 입력 받으면 Summary 시퀀스를 예측할 수 있도록 훈련합니다."
   ]
  },
  {
   "cell_type": "code",
   "execution_count": 6,
   "id": "218749d5-4204-41fe-be16-df0fe3b6a5c3",
   "metadata": {},
   "outputs": [
    {
     "data": {
      "text/html": [
       "<div>\n",
       "<style scoped>\n",
       "    .dataframe tbody tr th:only-of-type {\n",
       "        vertical-align: middle;\n",
       "    }\n",
       "\n",
       "    .dataframe tbody tr th {\n",
       "        vertical-align: top;\n",
       "    }\n",
       "\n",
       "    .dataframe thead th {\n",
       "        text-align: right;\n",
       "    }\n",
       "</style>\n",
       "<table border=\"1\" class=\"dataframe\">\n",
       "  <thead>\n",
       "    <tr style=\"text-align: right;\">\n",
       "      <th></th>\n",
       "      <th>Text</th>\n",
       "      <th>Summary</th>\n",
       "    </tr>\n",
       "  </thead>\n",
       "  <tbody>\n",
       "    <tr>\n",
       "      <th>25025</th>\n",
       "      <td>The idea of creme brulee coffee sounded so del...</td>\n",
       "      <td>Incredibly disappointing</td>\n",
       "    </tr>\n",
       "    <tr>\n",
       "      <th>95745</th>\n",
       "      <td>I love thses chips.  I buy them by the case fr...</td>\n",
       "      <td>Gourmet Olive Oil Chips</td>\n",
       "    </tr>\n",
       "    <tr>\n",
       "      <th>20395</th>\n",
       "      <td>This cat food looks and smells a lot like the ...</td>\n",
       "      <td>Reminds Me of Garden Medley</td>\n",
       "    </tr>\n",
       "    <tr>\n",
       "      <th>42356</th>\n",
       "      <td>I find these really good and economical in coo...</td>\n",
       "      <td>Concentrated citrus combo</td>\n",
       "    </tr>\n",
       "    <tr>\n",
       "      <th>91128</th>\n",
       "      <td>My wife loves dark chocolate.  She formerly at...</td>\n",
       "      <td>Best of the best</td>\n",
       "    </tr>\n",
       "    <tr>\n",
       "      <th>30328</th>\n",
       "      <td>I never eat bars but I do a lot of weight loss...</td>\n",
       "      <td>Great Bar</td>\n",
       "    </tr>\n",
       "    <tr>\n",
       "      <th>68336</th>\n",
       "      <td>This product is fantastic.  Instead of popcorn...</td>\n",
       "      <td>Lowreys pork rinds</td>\n",
       "    </tr>\n",
       "    <tr>\n",
       "      <th>2994</th>\n",
       "      <td>The cookies were kind of stail but other than ...</td>\n",
       "      <td>Fortune Cookies</td>\n",
       "    </tr>\n",
       "    <tr>\n",
       "      <th>36305</th>\n",
       "      <td>I never drink this tea alone. I always steep i...</td>\n",
       "      <td>Basically a laxative...</td>\n",
       "    </tr>\n",
       "    <tr>\n",
       "      <th>85709</th>\n",
       "      <td>I see a lot of reviews complaining of the size...</td>\n",
       "      <td>Good size. Fair price.</td>\n",
       "    </tr>\n",
       "    <tr>\n",
       "      <th>62048</th>\n",
       "      <td>I am an Earl Grey fan, and I am currently enjo...</td>\n",
       "      <td>Good, but mostly for Earl Grey fans</td>\n",
       "    </tr>\n",
       "    <tr>\n",
       "      <th>47572</th>\n",
       "      <td>There have been studies on cherry juice and at...</td>\n",
       "      <td>Just a bit too sweet</td>\n",
       "    </tr>\n",
       "    <tr>\n",
       "      <th>52760</th>\n",
       "      <td>If you have not tried Steak Out you are really...</td>\n",
       "      <td>My Favorite!</td>\n",
       "    </tr>\n",
       "    <tr>\n",
       "      <th>92200</th>\n",
       "      <td>This is a great product, but at a price that i...</td>\n",
       "      <td>Price on this product is ridiculously expensive!</td>\n",
       "    </tr>\n",
       "    <tr>\n",
       "      <th>87797</th>\n",
       "      <td>I consider the Alessi Savoiadi lady fingers to...</td>\n",
       "      <td>Lady fingers</td>\n",
       "    </tr>\n",
       "  </tbody>\n",
       "</table>\n",
       "</div>"
      ],
      "text/plain": [
       "                                                    Text  \\\n",
       "25025  The idea of creme brulee coffee sounded so del...   \n",
       "95745  I love thses chips.  I buy them by the case fr...   \n",
       "20395  This cat food looks and smells a lot like the ...   \n",
       "42356  I find these really good and economical in coo...   \n",
       "91128  My wife loves dark chocolate.  She formerly at...   \n",
       "30328  I never eat bars but I do a lot of weight loss...   \n",
       "68336  This product is fantastic.  Instead of popcorn...   \n",
       "2994   The cookies were kind of stail but other than ...   \n",
       "36305  I never drink this tea alone. I always steep i...   \n",
       "85709  I see a lot of reviews complaining of the size...   \n",
       "62048  I am an Earl Grey fan, and I am currently enjo...   \n",
       "47572  There have been studies on cherry juice and at...   \n",
       "52760  If you have not tried Steak Out you are really...   \n",
       "92200  This is a great product, but at a price that i...   \n",
       "87797  I consider the Alessi Savoiadi lady fingers to...   \n",
       "\n",
       "                                                Summary  \n",
       "25025                          Incredibly disappointing  \n",
       "95745                           Gourmet Olive Oil Chips  \n",
       "20395                       Reminds Me of Garden Medley  \n",
       "42356                         Concentrated citrus combo  \n",
       "91128                                  Best of the best  \n",
       "30328                                         Great Bar  \n",
       "68336                                Lowreys pork rinds  \n",
       "2994                                    Fortune Cookies  \n",
       "36305                           Basically a laxative...  \n",
       "85709                            Good size. Fair price.  \n",
       "62048               Good, but mostly for Earl Grey fans  \n",
       "47572                              Just a bit too sweet  \n",
       "52760                                      My Favorite!  \n",
       "92200  Price on this product is ridiculously expensive!  \n",
       "87797                                      Lady fingers  "
      ]
     },
     "execution_count": 6,
     "metadata": {},
     "output_type": "execute_result"
    }
   ],
   "source": [
    "data = data[['Text', 'Summary']]\n",
    "data.head()\n",
    "\n",
    "#랜덤한 15개 샘플 출력\n",
    "data.sample(15)"
   ]
  },
  {
   "cell_type": "markdown",
   "id": "fefcc4cd-9e69-4686-9ec1-13647127e179",
   "metadata": {},
   "source": [
    "### 3. 데이터 정리하기"
   ]
  },
  {
   "cell_type": "markdown",
   "id": "93bd67fc-035b-40f5-b98b-8873a08788ad",
   "metadata": {},
   "source": [
    "- 중복 샘플과 NULL 값이 존재하는 샘플을 제거합니다.\n",
    "- Summary는 요약한 것이기 때문에 동일할 수 있으나, Text 자체가 중복이면 중복 샘플로 봅니다.\n",
    "- ```drop_duplicates()```를 사용해서 중복 샘플을 제거합니다."
   ]
  },
  {
   "cell_type": "code",
   "execution_count": 7,
   "id": "1ad0dbca-0866-4374-a9dd-946c02450f57",
   "metadata": {},
   "outputs": [
    {
     "name": "stdout",
     "output_type": "stream",
     "text": [
      "Text 열에서 중복을 배제한 유일한 샘플의 수 : 88426\n",
      "Summary 열에서 중복을 배제한 유일한 샘플의 수 : 72348\n"
     ]
    }
   ],
   "source": [
    "print('Text 열에서 중복을 배제한 유일한 샘플의 수 :', data['Text'].nunique())\n",
    "print('Summary 열에서 중복을 배제한 유일한 샘플의 수 :', data['Summary'].nunique())"
   ]
  },
  {
   "cell_type": "code",
   "execution_count": 8,
   "id": "4103f226-f75f-4ef3-9e0a-82e2a23622f5",
   "metadata": {},
   "outputs": [
    {
     "name": "stdout",
     "output_type": "stream",
     "text": [
      "전체 샘플수 : 88426\n"
     ]
    }
   ],
   "source": [
    "# inplace=True 를 설정하면 DataFrame 타입 값을 return 하지 않고 data 내부를 직접적으로 바꿉니다.\n",
    "data.drop_duplicates(subset = ['Text'], inplace=True)\n",
    "print('전체 샘플수 :', (len(data)))"
   ]
  },
  {
   "cell_type": "markdown",
   "id": "fd412b37-deae-4558-95dd-e2c1101a681a",
   "metadata": {},
   "source": [
    "- Null 값 한 개가 남아있을 수 있으므로 ```.isnull().sum()```을 통해 Null 값이 있는지 확인하고 제거합니다."
   ]
  },
  {
   "cell_type": "code",
   "execution_count": 9,
   "id": "278b3973-f1ad-4c7d-9a9c-3ad5fe49c8db",
   "metadata": {},
   "outputs": [
    {
     "name": "stdout",
     "output_type": "stream",
     "text": [
      "Text       0\n",
      "Summary    1\n",
      "dtype: int64\n"
     ]
    }
   ],
   "source": [
    "print(data.isnull().sum())"
   ]
  },
  {
   "cell_type": "code",
   "execution_count": 10,
   "id": "77c1ffc7-3c9f-4916-90df-55ca17f878a0",
   "metadata": {},
   "outputs": [
    {
     "name": "stdout",
     "output_type": "stream",
     "text": [
      "전체 샘플수 : 88425\n"
     ]
    }
   ],
   "source": [
    "data.dropna(axis=0, inplace=True)\n",
    "print('전체 샘플수 :', (len(data)))"
   ]
  },
  {
   "cell_type": "markdown",
   "id": "531ddc62-8bae-428a-bd86-a782b9ac914e",
   "metadata": {},
   "source": [
    "- 텍스트 정규화 : it'll = it will, must'n = must not 등 이러한 표현을 같은 표현으로 통일을 시켜 기계의 연산량을 줄이는 방법입니다.\n",
    "- 텍스트 정규화를 위해 사전을 구성했습니다."
   ]
  },
  {
   "cell_type": "code",
   "execution_count": 11,
   "id": "c2cf216d-155b-431e-b065-e1502621fff1",
   "metadata": {},
   "outputs": [
    {
     "name": "stdout",
     "output_type": "stream",
     "text": [
      "정규화 사전의 수:  120\n"
     ]
    }
   ],
   "source": [
    "contractions = {\"ain't\": \"is not\", \"aren't\": \"are not\",\"can't\": \"cannot\", \"'cause\": \"because\", \"could've\": \"could have\", \"couldn't\": \"could not\",\n",
    "                           \"didn't\": \"did not\",  \"doesn't\": \"does not\", \"don't\": \"do not\", \"hadn't\": \"had not\", \"hasn't\": \"has not\", \"haven't\": \"have not\",\n",
    "                           \"he'd\": \"he would\",\"he'll\": \"he will\", \"he's\": \"he is\", \"how'd\": \"how did\", \"how'd'y\": \"how do you\", \"how'll\": \"how will\", \"how's\": \"how is\",\n",
    "                           \"I'd\": \"I would\", \"I'd've\": \"I would have\", \"I'll\": \"I will\", \"I'll've\": \"I will have\",\"I'm\": \"I am\", \"I've\": \"I have\", \"i'd\": \"i would\",\n",
    "                           \"i'd've\": \"i would have\", \"i'll\": \"i will\",  \"i'll've\": \"i will have\",\"i'm\": \"i am\", \"i've\": \"i have\", \"isn't\": \"is not\", \"it'd\": \"it would\",\n",
    "                           \"it'd've\": \"it would have\", \"it'll\": \"it will\", \"it'll've\": \"it will have\",\"it's\": \"it is\", \"let's\": \"let us\", \"ma'am\": \"madam\",\n",
    "                           \"mayn't\": \"may not\", \"might've\": \"might have\",\"mightn't\": \"might not\",\"mightn't've\": \"might not have\", \"must've\": \"must have\",\n",
    "                           \"mustn't\": \"must not\", \"mustn't've\": \"must not have\", \"needn't\": \"need not\", \"needn't've\": \"need not have\",\"o'clock\": \"of the clock\",\n",
    "                           \"oughtn't\": \"ought not\", \"oughtn't've\": \"ought not have\", \"shan't\": \"shall not\", \"sha'n't\": \"shall not\", \"shan't've\": \"shall not have\",\n",
    "                           \"she'd\": \"she would\", \"she'd've\": \"she would have\", \"she'll\": \"she will\", \"she'll've\": \"she will have\", \"she's\": \"she is\",\n",
    "                           \"should've\": \"should have\", \"shouldn't\": \"should not\", \"shouldn't've\": \"should not have\", \"so've\": \"so have\",\"so's\": \"so as\",\n",
    "                           \"this's\": \"this is\",\"that'd\": \"that would\", \"that'd've\": \"that would have\", \"that's\": \"that is\", \"there'd\": \"there would\",\n",
    "                           \"there'd've\": \"there would have\", \"there's\": \"there is\", \"here's\": \"here is\",\"they'd\": \"they would\", \"they'd've\": \"they would have\",\n",
    "                           \"they'll\": \"they will\", \"they'll've\": \"they will have\", \"they're\": \"they are\", \"they've\": \"they have\", \"to've\": \"to have\",\n",
    "                           \"wasn't\": \"was not\", \"we'd\": \"we would\", \"we'd've\": \"we would have\", \"we'll\": \"we will\", \"we'll've\": \"we will have\", \"we're\": \"we are\",\n",
    "                           \"we've\": \"we have\", \"weren't\": \"were not\", \"what'll\": \"what will\", \"what'll've\": \"what will have\", \"what're\": \"what are\",\n",
    "                           \"what's\": \"what is\", \"what've\": \"what have\", \"when's\": \"when is\", \"when've\": \"when have\", \"where'd\": \"where did\", \"where's\": \"where is\",\n",
    "                           \"where've\": \"where have\", \"who'll\": \"who will\", \"who'll've\": \"who will have\", \"who's\": \"who is\", \"who've\": \"who have\",\n",
    "                           \"why's\": \"why is\", \"why've\": \"why have\", \"will've\": \"will have\", \"won't\": \"will not\", \"won't've\": \"will not have\",\n",
    "                           \"would've\": \"would have\", \"wouldn't\": \"would not\", \"wouldn't've\": \"would not have\", \"y'all\": \"you all\",\n",
    "                           \"y'all'd\": \"you all would\",\"y'all'd've\": \"you all would have\",\"y'all're\": \"you all are\",\"y'all've\": \"you all have\",\n",
    "                           \"you'd\": \"you would\", \"you'd've\": \"you would have\", \"you'll\": \"you will\", \"you'll've\": \"you will have\",\n",
    "                           \"you're\": \"you are\", \"you've\": \"you have\"}\n",
    "\n",
    "print(\"정규화 사전의 수: \", len(contractions))"
   ]
  },
  {
   "cell_type": "markdown",
   "id": "e578e363-b079-446d-8cb7-c8d6df63d5b7",
   "metadata": {},
   "source": [
    "- NLTK에서 제공하는 불용어 리스트를 참조해서, 샘플의 불용어를 제거합니다."
   ]
  },
  {
   "cell_type": "code",
   "execution_count": 12,
   "id": "d7a57c8c-0cf0-4c7a-839f-1c8055559bc2",
   "metadata": {},
   "outputs": [
    {
     "name": "stdout",
     "output_type": "stream",
     "text": [
      "불용어 개수 : 198\n",
      "['a', 'about', 'above', 'after', 'again', 'against', 'ain', 'all', 'am', 'an', 'and', 'any', 'are', 'aren', \"aren't\", 'as', 'at', 'be', 'because', 'been', 'before', 'being', 'below', 'between', 'both', 'but', 'by', 'can', 'couldn', \"couldn't\", 'd', 'did', 'didn', \"didn't\", 'do', 'does', 'doesn', \"doesn't\", 'doing', 'don', \"don't\", 'down', 'during', 'each', 'few', 'for', 'from', 'further', 'had', 'hadn', \"hadn't\", 'has', 'hasn', \"hasn't\", 'have', 'haven', \"haven't\", 'having', 'he', \"he'd\", \"he'll\", 'her', 'here', 'hers', 'herself', \"he's\", 'him', 'himself', 'his', 'how', 'i', \"i'd\", 'if', \"i'll\", \"i'm\", 'in', 'into', 'is', 'isn', \"isn't\", 'it', \"it'd\", \"it'll\", \"it's\", 'its', 'itself', \"i've\", 'just', 'll', 'm', 'ma', 'me', 'mightn', \"mightn't\", 'more', 'most', 'mustn', \"mustn't\", 'my', 'myself', 'needn', \"needn't\", 'no', 'nor', 'not', 'now', 'o', 'of', 'off', 'on', 'once', 'only', 'or', 'other', 'our', 'ours', 'ourselves', 'out', 'over', 'own', 're', 's', 'same', 'shan', \"shan't\", 'she', \"she'd\", \"she'll\", \"she's\", 'should', 'shouldn', \"shouldn't\", \"should've\", 'so', 'some', 'such', 't', 'than', 'that', \"that'll\", 'the', 'their', 'theirs', 'them', 'themselves', 'then', 'there', 'these', 'they', \"they'd\", \"they'll\", \"they're\", \"they've\", 'this', 'those', 'through', 'to', 'too', 'under', 'until', 'up', 've', 'very', 'was', 'wasn', \"wasn't\", 'we', \"we'd\", \"we'll\", \"we're\", 'were', 'weren', \"weren't\", \"we've\", 'what', 'when', 'where', 'which', 'while', 'who', 'whom', 'why', 'will', 'with', 'won', \"won't\", 'wouldn', \"wouldn't\", 'y', 'you', \"you'd\", \"you'll\", 'your', \"you're\", 'yours', 'yourself', 'yourselves', \"you've\"]\n"
     ]
    }
   ],
   "source": [
    "print('불용어 개수 :', len(stopwords.words('english') ))\n",
    "print(stopwords.words('english'))"
   ]
  },
  {
   "cell_type": "markdown",
   "id": "4302f33e-c429-4f53-aad6-fa226ed4d209",
   "metadata": {},
   "source": [
    "- 불용어 제거 + 모든 영어 문자 소문자화 + HTML 태그 제거 + 특수 문자 제거를 목표로 합니다.\n",
    "- 다만 Text 전처리 시에만 호출하고 Summary는 자연스러운 문장 요약 결과를 위해불용어를 삭제하지 않습니다. "
   ]
  },
  {
   "cell_type": "code",
   "execution_count": 13,
   "id": "a8258d5e-8db1-4bad-bc95-52033c0ee101",
   "metadata": {},
   "outputs": [],
   "source": [
    "# 데이터 전처리 함수\n",
    "def preprocess_sentence(sentence, remove_stopwords=True):\n",
    "    sentence = sentence.lower() # 텍스트 소문자화\n",
    "    sentence = BeautifulSoup(sentence, \"lxml\").text # <br />, <a href = ...> 등의 html 태그 제거\n",
    "    sentence = re.sub(r'\\([^)]*\\)', '', sentence) # 괄호로 닫힌 문자열 (...) 제거 Ex) my husband (and myself!) for => my husband for\n",
    "    sentence = re.sub('\"','', sentence) # 쌍따옴표 \" 제거\n",
    "    sentence = ' '.join([contractions[t] if t in contractions else t for t in sentence.split(\" \")]) # 약어 정규화\n",
    "    sentence = re.sub(r\"'s\\b\",\"\", sentence) # 소유격 제거. Ex) roland's -> roland\n",
    "    sentence = re.sub(\"[^a-zA-Z]\", \" \", sentence) # 영어 외 문자(숫자, 특수문자 등) 공백으로 변환\n",
    "    sentence = re.sub('[m]{2,}', 'mm', sentence) # m이 3개 이상이면 2개로 변경. Ex) ummmmmmm yeah -> umm yeah\n",
    "\n",
    "    # 불용어 제거 (Text)\n",
    "    if remove_stopwords:\n",
    "        tokens = ' '.join(word for word in sentence.split() if not word in stopwords.words('english') if len(word) > 1)\n",
    "    # 불용어 미제거 (Summary)\n",
    "    else:\n",
    "        tokens = ' '.join(word for word in sentence.split() if len(word) > 1)\n",
    "    return tokens"
   ]
  },
  {
   "cell_type": "markdown",
   "id": "c3b3735d-b82e-4399-ba93-28372aeb80d1",
   "metadata": {},
   "source": [
    "- lxml 설치 후에 꼭 커널만 Restart 해야 오류가 나지 않습니다."
   ]
  },
  {
   "cell_type": "code",
   "execution_count": 14,
   "id": "9e37f5bd-4d28-428e-859b-74103ebbd303",
   "metadata": {},
   "outputs": [
    {
     "name": "stdout",
     "output_type": "stream",
     "text": [
      "Requirement already satisfied: lxml in /opt/conda/lib/python3.12/site-packages (6.0.0)\n"
     ]
    }
   ],
   "source": [
    "!pip install lxml"
   ]
  },
  {
   "cell_type": "code",
   "execution_count": 15,
   "id": "4d3ec347-7878-43a6-92a7-1d4c4be09eff",
   "metadata": {},
   "outputs": [
    {
     "name": "stdout",
     "output_type": "stream",
     "text": [
      "text:  everything bought great infact ordered twice third ordered wasfor mother father\n",
      "summary: great way to start the day\n"
     ]
    }
   ],
   "source": [
    "temp_text = 'Everything I bought was great, infact I ordered twice and the third ordered was<br />for my mother and father.'\n",
    "temp_summary = 'Great way to start (or finish) the day!!!'\n",
    "\n",
    "print(\"text: \", preprocess_sentence(temp_text))\n",
    "print(\"summary:\", preprocess_sentence(temp_summary, False))  # 불용어를 제거하지 않습니다."
   ]
  },
  {
   "cell_type": "markdown",
   "id": "e61ee12a-7337-4670-b236-185704136ade",
   "metadata": {},
   "source": [
    "- 전체 Text 데이터에 대한 전처리를 진행합니다."
   ]
  },
  {
   "cell_type": "code",
   "execution_count": 16,
   "id": "9b8f4dcd-44cd-4aac-aa92-d0c614c57bc8",
   "metadata": {},
   "outputs": [
    {
     "name": "stdout",
     "output_type": "stream",
     "text": [
      "Text 전처리 후 결과:  ['bought several vitality canned dog food products found good quality product looks like stew processed meat smells better labrador finicky appreciates product better', 'product arrived labeled jumbo salted peanuts peanuts actually small sized unsalted sure error vendor intended represent product jumbo', 'confection around centuries light pillowy citrus gelatin nuts case filberts cut tiny squares liberally coated powdered sugar tiny mouthful heaven chewy flavorful highly recommend yummy treat familiar story lewis lion witch wardrobe treat seduces edmund selling brother sisters witch', 'looking secret ingredient robitussin believe found got addition root beer extract ordered made cherry soda flavor medicinal', 'great taffy great price wide assortment yummy taffy delivery quick taffy lover deal']\n"
     ]
    }
   ],
   "source": [
    "# 전체 Text 데이터에 대한 전처리 : 10분 이상 시간이 걸릴 수 있습니다.\n",
    "clean_text = []\n",
    "\n",
    "for sentence in data['Text']:\n",
    "    clean_text.append(preprocess_sentence(sentence))\n",
    "\n",
    "# 전처리 후 출력\n",
    "print(\"Text 전처리 후 결과: \", clean_text[:5])"
   ]
  },
  {
   "cell_type": "code",
   "execution_count": 17,
   "id": "9fe1b094-3d65-4c23-ae95-503e0c719547",
   "metadata": {},
   "outputs": [
    {
     "name": "stderr",
     "output_type": "stream",
     "text": [
      "/tmp/ipykernel_1259/3736899429.py:4: MarkupResemblesLocatorWarning: The input passed in on this line looks more like a URL than HTML or XML.\n",
      "\n",
      "If you meant to use Beautiful Soup to parse the web page found at a certain URL, then something has gone wrong. You should use an Python package like 'requests' to fetch the content behind the URL. Once you have the content as a string, you can feed that string into Beautiful Soup.\n",
      "\n",
      "However, if you want to parse some data that happens to look like a URL, then nothing has gone wrong: you are using Beautiful Soup correctly, and this warning is spurious and can be filtered. To make this warning go away, run this code before calling the BeautifulSoup constructor:\n",
      "\n",
      "    from bs4 import MarkupResemblesLocatorWarning\n",
      "    import warnings\n",
      "\n",
      "    warnings.filterwarnings(\"ignore\", category=MarkupResemblesLocatorWarning)\n",
      "    \n",
      "  sentence = BeautifulSoup(sentence, \"lxml\").text # <br />, <a href = ...> 등의 html 태그 제거\n"
     ]
    },
    {
     "name": "stdout",
     "output_type": "stream",
     "text": [
      "Summary 전처리 후 결과:  ['good quality dog food', 'not as advertised', 'delight says it all', 'cough medicine', 'great taffy']\n"
     ]
    }
   ],
   "source": [
    "# 전체 Summary 데이터에 대한 전처리 : 5분 이상 시간이 걸릴 수 있습니다.\n",
    "clean_summary = []\n",
    "\n",
    "for sentence in data['Summary']:\n",
    "    clean_summary.append(preprocess_sentence(sentence, remove_stopwords=False))\n",
    "\n",
    "print(\"Summary 전처리 후 결과: \", clean_summary[:5])"
   ]
  },
  {
   "cell_type": "code",
   "execution_count": 18,
   "id": "bd435d2f-c40b-4974-9533-3194ee82eb23",
   "metadata": {},
   "outputs": [],
   "source": [
    "data['Text'] = clean_text\n",
    "data['Summary'] = clean_summary\n",
    "\n",
    "# 빈 값을 Null 값으로 변환\n",
    "data.replace('', np.nan, inplace=True)"
   ]
  },
  {
   "cell_type": "code",
   "execution_count": 19,
   "id": "b15ab40f-afc8-402c-b91b-fa041222faff",
   "metadata": {},
   "outputs": [
    {
     "data": {
      "text/plain": [
       "Text        0\n",
       "Summary    70\n",
       "dtype: int64"
      ]
     },
     "execution_count": 19,
     "metadata": {},
     "output_type": "execute_result"
    }
   ],
   "source": [
    "data.isnull().sum()"
   ]
  },
  {
   "cell_type": "code",
   "execution_count": 20,
   "id": "be3f5bdb-71a0-4aeb-bc13-b77ad9c8c567",
   "metadata": {},
   "outputs": [
    {
     "name": "stdout",
     "output_type": "stream",
     "text": [
      "전체 샘플수 : 88355\n"
     ]
    }
   ],
   "source": [
    "data.dropna(axis=0, inplace=True)\n",
    "print('전체 샘플수 :', (len(data)))"
   ]
  },
  {
   "cell_type": "markdown",
   "id": "ae0d9d32-ee36-441e-a9b3-25b201078536",
   "metadata": {},
   "source": [
    "### 4. 훈련데이터와 테스트 데이터 나누기"
   ]
  },
  {
   "cell_type": "markdown",
   "id": "cd6050ec-d260-43f5-9ce6-b9edb3f8dcb6",
   "metadata": {},
   "source": [
    "- Text와 Summary의 최소, 최대, 평균 길이를 구하고 길이 분포를 시각화해서 본 다음, 샘플의 최대 길이를 정하기로 합니다."
   ]
  },
  {
   "cell_type": "code",
   "execution_count": 21,
   "id": "3b82be66-4926-4141-bc54-8ed227017526",
   "metadata": {},
   "outputs": [
    {
     "name": "stdout",
     "output_type": "stream",
     "text": [
      "텍스트의 최소 길이 : 2\n",
      "텍스트의 최대 길이 : 1235\n",
      "텍스트의 평균 길이 : 38.792428272310566\n",
      "요약의 최소 길이 : 1\n",
      "요약의 최대 길이 : 28\n",
      "요약의 평균 길이 : 4.010729443721352\n"
     ]
    },
    {
     "data": {
      "image/png": "[encoded data removed]",
      "text/plain": [
       "<Figure size 640x480 with 2 Axes>"
      ]
     },
     "metadata": {},
     "output_type": "display_data"
    },
    {
     "data": {
      "image/png": "[encoded data removed]",
      "text/plain": [
       "<Figure size 640x480 with 1 Axes>"
      ]
     },
     "metadata": {},
     "output_type": "display_data"
    },
    {
     "data": {
      "image/png": "[encoded data removed]",
      "text/plain": [
       "<Figure size 640x480 with 1 Axes>"
      ]
     },
     "metadata": {},
     "output_type": "display_data"
    }
   ],
   "source": [
    "# 길이 분포 출력\n",
    "import matplotlib.pyplot as plt\n",
    "\n",
    "text_len = [len(s.split()) for s in data['Text']]\n",
    "summary_len = [len(s.split()) for s in data['Summary']]\n",
    "\n",
    "print('텍스트의 최소 길이 : {}'.format(np.min(text_len)))\n",
    "print('텍스트의 최대 길이 : {}'.format(np.max(text_len)))\n",
    "print('텍스트의 평균 길이 : {}'.format(np.mean(text_len)))\n",
    "print('요약의 최소 길이 : {}'.format(np.min(summary_len)))\n",
    "print('요약의 최대 길이 : {}'.format(np.max(summary_len)))\n",
    "print('요약의 평균 길이 : {}'.format(np.mean(summary_len)))\n",
    "\n",
    "plt.subplot(1,2,1)\n",
    "plt.boxplot(text_len)\n",
    "plt.title('Text')\n",
    "plt.subplot(1,2,2)\n",
    "plt.boxplot(summary_len)\n",
    "plt.title('Summary')\n",
    "plt.tight_layout()\n",
    "plt.show()\n",
    "\n",
    "plt.title('Text')\n",
    "plt.hist(text_len, bins = 40)\n",
    "plt.xlabel('length of samples')\n",
    "plt.ylabel('number of samples')\n",
    "plt.show()\n",
    "\n",
    "plt.title('Summary')\n",
    "plt.hist(summary_len, bins = 40)\n",
    "plt.xlabel('length of samples')\n",
    "plt.ylabel('number of samples')\n",
    "plt.show()"
   ]
  },
  {
   "cell_type": "code",
   "execution_count": 22,
   "id": "14d9354e-573b-450f-90d0-3a30a4663ba8",
   "metadata": {},
   "outputs": [],
   "source": [
    "text_max_len = 50\n",
    "summary_max_len = 8"
   ]
  },
  {
   "cell_type": "code",
   "execution_count": 23,
   "id": "ee5542b5-b750-41d5-b24c-f72d93e84dee",
   "metadata": {},
   "outputs": [],
   "source": [
    "def below_threshold_len(max_len, nested_list):\n",
    "  cnt = 0\n",
    "  for s in nested_list:\n",
    "    if(len(s.split()) <= max_len):\n",
    "        cnt = cnt + 1\n",
    "  print('전체 샘플 중 길이가 %s 이하인 샘플의 비율: %s'%(max_len, (cnt / len(nested_list))))"
   ]
  },
  {
   "cell_type": "code",
   "execution_count": 24,
   "id": "d64ca237-3087-46ff-a526-c7140b774e8e",
   "metadata": {},
   "outputs": [
    {
     "name": "stdout",
     "output_type": "stream",
     "text": [
      "전체 샘플 중 길이가 50 이하인 샘플의 비율: 0.7745119121724859\n",
      "전체 샘플 중 길이가 8 이하인 샘플의 비율: 0.9424593967517402\n"
     ]
    }
   ],
   "source": [
    "below_threshold_len(text_max_len, data['Text'])\n",
    "below_threshold_len(summary_max_len, data['Summary'])"
   ]
  },
  {
   "cell_type": "code",
   "execution_count": 25,
   "id": "414ec01f-29e8-447f-93aa-3db445801d56",
   "metadata": {},
   "outputs": [
    {
     "name": "stdout",
     "output_type": "stream",
     "text": [
      "전체 샘플수 : 65818\n"
     ]
    }
   ],
   "source": [
    "data = data[data['Text'].apply(lambda x: len(x.split()) <= text_max_len)]\n",
    "data = data[data['Summary'].apply(lambda x: len(x.split()) <= summary_max_len)]\n",
    "\n",
    "print('전체 샘플수 :', (len(data)))"
   ]
  },
  {
   "cell_type": "code",
   "execution_count": 26,
   "id": "01134c9e-fc46-409f-8027-0280f66a7f85",
   "metadata": {},
   "outputs": [
    {
     "data": {
      "text/html": [
       "<div>\n",
       "<style scoped>\n",
       "    .dataframe tbody tr th:only-of-type {\n",
       "        vertical-align: middle;\n",
       "    }\n",
       "\n",
       "    .dataframe tbody tr th {\n",
       "        vertical-align: top;\n",
       "    }\n",
       "\n",
       "    .dataframe thead th {\n",
       "        text-align: right;\n",
       "    }\n",
       "</style>\n",
       "<table border=\"1\" class=\"dataframe\">\n",
       "  <thead>\n",
       "    <tr style=\"text-align: right;\">\n",
       "      <th></th>\n",
       "      <th>Text</th>\n",
       "      <th>Summary</th>\n",
       "      <th>decoder_input</th>\n",
       "      <th>decoder_target</th>\n",
       "    </tr>\n",
       "  </thead>\n",
       "  <tbody>\n",
       "    <tr>\n",
       "      <th>0</th>\n",
       "      <td>bought several vitality canned dog food produc...</td>\n",
       "      <td>good quality dog food</td>\n",
       "      <td>sostoken good quality dog food</td>\n",
       "      <td>good quality dog food eostoken</td>\n",
       "    </tr>\n",
       "    <tr>\n",
       "      <th>1</th>\n",
       "      <td>product arrived labeled jumbo salted peanuts p...</td>\n",
       "      <td>not as advertised</td>\n",
       "      <td>sostoken not as advertised</td>\n",
       "      <td>not as advertised eostoken</td>\n",
       "    </tr>\n",
       "    <tr>\n",
       "      <th>2</th>\n",
       "      <td>confection around centuries light pillowy citr...</td>\n",
       "      <td>delight says it all</td>\n",
       "      <td>sostoken delight says it all</td>\n",
       "      <td>delight says it all eostoken</td>\n",
       "    </tr>\n",
       "    <tr>\n",
       "      <th>3</th>\n",
       "      <td>looking secret ingredient robitussin believe f...</td>\n",
       "      <td>cough medicine</td>\n",
       "      <td>sostoken cough medicine</td>\n",
       "      <td>cough medicine eostoken</td>\n",
       "    </tr>\n",
       "    <tr>\n",
       "      <th>4</th>\n",
       "      <td>great taffy great price wide assortment yummy ...</td>\n",
       "      <td>great taffy</td>\n",
       "      <td>sostoken great taffy</td>\n",
       "      <td>great taffy eostoken</td>\n",
       "    </tr>\n",
       "  </tbody>\n",
       "</table>\n",
       "</div>"
      ],
      "text/plain": [
       "                                                Text                Summary  \\\n",
       "0  bought several vitality canned dog food produc...  good quality dog food   \n",
       "1  product arrived labeled jumbo salted peanuts p...      not as advertised   \n",
       "2  confection around centuries light pillowy citr...    delight says it all   \n",
       "3  looking secret ingredient robitussin believe f...         cough medicine   \n",
       "4  great taffy great price wide assortment yummy ...            great taffy   \n",
       "\n",
       "                    decoder_input                  decoder_target  \n",
       "0  sostoken good quality dog food  good quality dog food eostoken  \n",
       "1      sostoken not as advertised      not as advertised eostoken  \n",
       "2    sostoken delight says it all    delight says it all eostoken  \n",
       "3         sostoken cough medicine         cough medicine eostoken  \n",
       "4            sostoken great taffy            great taffy eostoken  "
      ]
     },
     "execution_count": 26,
     "metadata": {},
     "output_type": "execute_result"
    }
   ],
   "source": [
    "# 요약 데이터에는 시작 토큰과 종료 토큰을 추가한다.\n",
    "data['decoder_input'] = data['Summary'].apply(lambda x : 'sostoken '+ x)\n",
    "data['decoder_target'] = data['Summary'].apply(lambda x : x + ' eostoken')\n",
    "data.head()"
   ]
  },
  {
   "cell_type": "code",
   "execution_count": 27,
   "id": "3865e93f-e5e3-4cb2-8066-d005c431ab3e",
   "metadata": {},
   "outputs": [],
   "source": [
    "encoder_input = np.array(data['Text']) # 인코더의 입력\n",
    "decoder_input = np.array(data['decoder_input']) # 디코더의 입력\n",
    "decoder_target = np.array(data['decoder_target']) # 디코더의 레이블"
   ]
  },
  {
   "cell_type": "code",
   "execution_count": 28,
   "id": "27f2336d-634b-4ce5-b110-a8ef92ddb17d",
   "metadata": {},
   "outputs": [
    {
     "name": "stdout",
     "output_type": "stream",
     "text": [
      "[32792 20512 65551 ... 52096 29608 19132]\n"
     ]
    }
   ],
   "source": [
    "indices = np.arange(encoder_input.shape[0])\n",
    "np.random.shuffle(indices)\n",
    "print(indices)"
   ]
  },
  {
   "cell_type": "code",
   "execution_count": 29,
   "id": "a993d0ad-e4fc-49ee-83b4-c529915d9a29",
   "metadata": {},
   "outputs": [],
   "source": [
    "encoder_input = encoder_input[indices]\n",
    "decoder_input = decoder_input[indices]\n",
    "decoder_target = decoder_target[indices]"
   ]
  },
  {
   "cell_type": "code",
   "execution_count": 30,
   "id": "b6b9273f-9521-4c8a-a593-aa555ddb16fc",
   "metadata": {},
   "outputs": [
    {
     "name": "stdout",
     "output_type": "stream",
     "text": [
      "테스트 데이터의 수 : 13163\n"
     ]
    }
   ],
   "source": [
    "n_of_val = int(len(encoder_input)*0.2)\n",
    "print('테스트 데이터의 수 :', n_of_val)"
   ]
  },
  {
   "cell_type": "code",
   "execution_count": 31,
   "id": "9ca248f6-225e-41b0-83d3-5edfd051b163",
   "metadata": {},
   "outputs": [
    {
     "name": "stdout",
     "output_type": "stream",
     "text": [
      "훈련 데이터의 개수 : 52655\n",
      "훈련 레이블의 개수 : 52655\n",
      "테스트 데이터의 개수 : 13163\n",
      "테스트 레이블의 개수 : 13163\n"
     ]
    }
   ],
   "source": [
    "encoder_input_train = encoder_input[:-n_of_val]\n",
    "decoder_input_train = decoder_input[:-n_of_val]\n",
    "decoder_target_train = decoder_target[:-n_of_val]\n",
    "\n",
    "encoder_input_test = encoder_input[-n_of_val:]\n",
    "decoder_input_test = decoder_input[-n_of_val:]\n",
    "decoder_target_test = decoder_target[-n_of_val:]\n",
    "\n",
    "print('훈련 데이터의 개수 :', len(encoder_input_train))\n",
    "print('훈련 레이블의 개수 :', len(decoder_input_train))\n",
    "print('테스트 데이터의 개수 :', len(encoder_input_test))\n",
    "print('테스트 레이블의 개수 :', len(decoder_input_test))"
   ]
  },
  {
   "cell_type": "markdown",
   "id": "916001f7-5af6-4abf-b6ba-de7419b1f51b",
   "metadata": {},
   "source": [
    "### 5. 정수 인코딩하기\n",
    "- 단어 집합(Vocabulary) : 기계가 텍스트를 숫자로 처리할 수 있도록 훈련 데이터와 테스트 데이터의 단어들을 모두 정수로 바꿔야 하는데, 이 때 각 단어에 고유한 정수를 맵핑하는 것을 말한다."
   ]
  },
  {
   "cell_type": "code",
   "execution_count": 32,
   "id": "471cbcb9-6f9a-4402-b90b-f80b6c66d331",
   "metadata": {},
   "outputs": [],
   "source": [
    "def src_tokenizer(text): # 토크나이저 정의\n",
    "    text = text.lower()  # 소문자로 변환\n",
    "    text = re.sub(r\"[^a-zA-Z0-9]+\", \" \", text)  # 특수문자 제거\n",
    "    return text.split()  # 공백 기준 토큰화\n",
    "\n",
    "def build_vocab(texts):\n",
    "    vocab = {\"<PAD>\": 0, \"<UNK>\": 1}  # 패딩과 UNK 토큰 추가\n",
    "    word_counter = Counter()\n",
    "\n",
    "    for text in texts:\n",
    "        word_counter.update(src_tokenizer(text))  # 단어 빈도수 계산\n",
    "\n",
    "    # 단어 집합 생성 (빈도가 높은 순서대로)\n",
    "    for word, _ in word_counter.most_common():\n",
    "        if word not in vocab:\n",
    "            vocab[word] = len(vocab)\n",
    "\n",
    "    return vocab\n",
    "\n",
    "src_vocab = build_vocab(encoder_input_train) # 입력된 데이터로부터 단어 집합 생성"
   ]
  },
  {
   "cell_type": "code",
   "execution_count": 33,
   "id": "25f3b808-c4af-4253-a35c-8c65f0944b6e",
   "metadata": {},
   "outputs": [
    {
     "name": "stdout",
     "output_type": "stream",
     "text": [
      "단어 집합(vocabulary)의 크기 : 35610\n",
      "등장 빈도가 6번 이하인 희귀 단어의 수: 26409\n",
      "단어 집합에서 희귀 단어를 제외시킬 경우의 단어 집합의 크기 9201\n",
      "단어 집합에서 희귀 단어의 비율: 74.16175231676495\n",
      "전체 등장 빈도에서 희귀 단어 등장 빈도 비율: 2.988036889250968\n"
     ]
    }
   ],
   "source": [
    "# 등장 빈도 수가 7회 미만인 단어들이 이 데이터에서 얼만큼의 비중을 차지하는지 확인합니다.\n",
    "\n",
    "threshold = 7\n",
    "\n",
    "# 전처리된 데이터 사용\n",
    "text_data = data['Text'].tolist()\n",
    "summary_data = data['Summary'].tolist()\n",
    "# 단어 빈도수 계산\n",
    "word_counter = Counter()\n",
    "for text in text_data:\n",
    "    word_counter.update(text.split())\n",
    "\n",
    "total_cnt = len(word_counter)  # 전체 단어 개수\n",
    "total_freq = sum(word_counter.values())  # 전체 단어 등장 횟수\n",
    "rare_cnt = sum(1 for count in word_counter.values() if count < threshold)  # 희귀 단어 개수\n",
    "rare_freq = sum(count for count in word_counter.values() if count < threshold)  # 희귀 단어 등장 횟수\n",
    "\n",
    "# 희귀 단어를 제외한 단어 사전 구축\n",
    "vocab = {\"<PAD>\": 0, \"<UNK>\": 1}  # 패딩 및 미등록 단어 추가\n",
    "word_index = {word: idx + 2 for idx, (word, count) in enumerate(word_counter.items()) if count >= threshold}\n",
    "\n",
    "print('단어 집합(vocabulary)의 크기 :', total_cnt)\n",
    "print('등장 빈도가 %s번 이하인 희귀 단어의 수: %s'%(threshold - 1, rare_cnt))\n",
    "print('단어 집합에서 희귀 단어를 제외시킬 경우의 단어 집합의 크기 %s'%(total_cnt - rare_cnt))\n",
    "print(\"단어 집합에서 희귀 단어의 비율:\", (rare_cnt / total_cnt)*100)\n",
    "print(\"전체 등장 빈도에서 희귀 단어 등장 빈도 비율:\", (rare_freq / total_freq)*100)"
   ]
  },
  {
   "cell_type": "markdown",
   "id": "23ca8f8a-1209-46ba-a119-1dd3449a6532",
   "metadata": {},
   "source": [
    "- 데이터에 고유 단어 수는 많지만, 그중 대부분(74%)은 등장 횟수가 매우 적은 희귀 단어입니다.\n",
    "- 하지만 이 희귀 단어들이 전체 말뭉치에서 차지하는 비중(빈도)은 매우 낮습니다. (약 3%)\n",
    "- 모델 학습 시 이 희귀 단어를 제거하면 vocabulary 크기를 크게 줄여 메모리/연산 효율을 높일 수 있습니다."
   ]
  },
  {
   "cell_type": "code",
   "execution_count": 34,
   "id": "5c58c6c8-309d-49ae-976d-cd5c807ba19e",
   "metadata": {},
   "outputs": [],
   "source": [
    "src_vocab_size = 8000\n",
    "\n",
    "def build_limited_vocab(texts, vocab_size):\n",
    "    vocab = {\"<PAD>\": 0, \"<UNK>\": 1}  # 패딩과 UNK 토큰 추가\n",
    "    word_counter = Counter()\n",
    "\n",
    "    for text in texts:\n",
    "        word_counter.update(src_tokenizer(text))  # 단어 빈도수 계산\n",
    "\n",
    "    # 빈도가 높은 상위 vocab_size - 2개 단어만 선택 (PAD, UNK 포함)\n",
    "    for word, _ in word_counter.most_common(vocab_size - 2):\n",
    "        vocab[word] = len(vocab)\n",
    "\n",
    "    return vocab\n",
    "\n",
    "src_vocab = build_limited_vocab(encoder_input_train, src_vocab_size)"
   ]
  },
  {
   "cell_type": "code",
   "execution_count": 35,
   "id": "4cb247c6-c155-4225-83ed-f9211d102863",
   "metadata": {},
   "outputs": [
    {
     "name": "stdout",
     "output_type": "stream",
     "text": [
      "[[186, 313, 2, 8, 6191, 261, 305, 200, 3488, 29, 5, 2, 1125, 200, 7, 7, 420, 784, 1170, 371, 64, 1408, 37, 5270, 10, 83, 255, 890, 1080, 192, 2, 6, 189, 13, 4, 105, 2258, 2300, 666, 10, 305, 896, 43, 127, 1361, 245], [317, 1264, 20, 1, 785, 410, 225, 533, 57, 618, 398, 751, 239, 57, 631, 149, 123, 1551, 2488, 1264, 911], [69, 709, 1688, 226, 32, 20, 102, 4521, 637, 267, 1357, 19, 102, 61, 1761, 1910, 147, 5923, 121, 75, 22, 61, 179, 2235, 2186, 408, 33, 29, 1282, 130, 2186, 31, 27, 182, 3, 459, 3, 88, 32, 20, 99, 89, 108, 6]]\n",
      "[[35, 1578, 36, 102, 90, 63, 850, 292, 173, 1866, 223, 318, 1411, 105], [261, 5, 4, 17, 15, 1, 1, 559, 738, 150], [568, 208, 44, 9, 2, 101, 9, 667, 48, 2, 9, 115, 2131, 2106, 5583, 2, 9, 200, 405, 1787, 405, 1062, 3, 128, 44, 161, 761, 181, 1403, 303, 338]]\n"
     ]
    }
   ],
   "source": [
    "def text_to_sequence(texts, vocab):\n",
    "    sequences = []\n",
    "    for text in texts:\n",
    "        sequence = [vocab.get(word, vocab[\"<UNK>\"]) for word in src_tokenizer(text)]\n",
    "        sequences.append(sequence)\n",
    "    return sequences\n",
    "\n",
    "# 텍스트 데이터 정수 시퀀스로 변환\n",
    "encoder_input_train_seq = text_to_sequence(encoder_input_train, src_vocab)\n",
    "encoder_input_test_seq = text_to_sequence(encoder_input_test, src_vocab)\n",
    "\n",
    "# 잘 진행되었는지 샘플 출력\n",
    "print(encoder_input_train_seq[:3])\n",
    "print(encoder_input_test_seq[:3])"
   ]
  },
  {
   "cell_type": "code",
   "execution_count": 36,
   "id": "bb9e0913-3811-4744-a694-0a8030d1852c",
   "metadata": {},
   "outputs": [],
   "source": [
    "def tar_tokenizer(text):\n",
    "    text = text.lower()  # 소문자로 변환\n",
    "    text = re.sub(r\"[^a-zA-Z0-9]+\", \" \", text)  # 특수문자 제거\n",
    "    return text.split()  # 공백 기준 토큰화\n",
    "\n",
    "tar_vocab = build_vocab(decoder_input_train)"
   ]
  },
  {
   "cell_type": "code",
   "execution_count": 37,
   "id": "2b40774c-75aa-42aa-bf06-13412df9cf4c",
   "metadata": {},
   "outputs": [
    {
     "name": "stdout",
     "output_type": "stream",
     "text": [
      "단어 집합(vocabulary)의 크기 : 10541\n",
      "등장 빈도가 5번 이하인 희귀 단어의 수: 8166\n",
      "단어 집합에서 희귀 단어를 제외시킬 경우의 단어 집합의 크기 2375\n",
      "단어 집합에서 희귀 단어의 비율: 77.46893084147614\n",
      "전체 등장 빈도에서 희귀 단어 등장 빈도 비율: 5.9292843180311205\n"
     ]
    }
   ],
   "source": [
    "threshold = 6\n",
    "\n",
    "word_counter = Counter()\n",
    "for text in decoder_input_train:\n",
    "    word_counter.update(tar_tokenizer(text))  # 각 문장의 단어 빈도 계산\n",
    "\n",
    "# 전체 단어 개수 및 등장 빈도 계산\n",
    "total_cnt = len(word_counter)  # 전체 단어 개수\n",
    "total_freq = sum(word_counter.values())  # 전체 단어 등장 횟수\n",
    "rare_cnt = sum(1 for count in word_counter.values() if count < threshold)  # 희귀 단어 개수\n",
    "rare_freq = sum(count for count in word_counter.values() if count < threshold)  # 희귀 단어 등장 횟수\n",
    "\n",
    "print('단어 집합(vocabulary)의 크기 :', total_cnt)\n",
    "print('등장 빈도가 %s번 이하인 희귀 단어의 수: %s'%(threshold - 1, rare_cnt))\n",
    "print('단어 집합에서 희귀 단어를 제외시킬 경우의 단어 집합의 크기 %s'%(total_cnt - rare_cnt))\n",
    "print(\"단어 집합에서 희귀 단어의 비율:\", (rare_cnt / total_cnt)*100)\n",
    "print(\"전체 등장 빈도에서 희귀 단어 등장 빈도 비율:\", (rare_freq / total_freq)*100)"
   ]
  },
  {
   "cell_type": "code",
   "execution_count": 38,
   "id": "949b1b0a-dd6b-443f-baae-737fc00ec351",
   "metadata": {},
   "outputs": [
    {
     "name": "stdout",
     "output_type": "stream",
     "text": [
      "input\n",
      "input  [[2, 11, 16, 109, 601, 16], [2, 36], [2, 9, 33, 6, 18, 87, 741], [2, 1, 1], [2, 13, 470, 30, 20]]\n",
      "target\n",
      "decoder  [[11, 16, 109, 601, 16, 3], [36, 3], [9, 33, 6, 18, 87, 741, 3], [1, 1, 3], [13, 470, 30, 20, 3]]\n"
     ]
    }
   ],
   "source": [
    "tar_vocab_size = 2000\n",
    "tar_vocab = build_limited_vocab(decoder_input_train + decoder_target_train, tar_vocab_size)\n",
    "\n",
    "# 텍스트 시퀀스를 정수 시퀀스로 변환\n",
    "decoder_input_train_seq = text_to_sequence(decoder_input_train, tar_vocab)\n",
    "decoder_target_train_seq = text_to_sequence(decoder_target_train, tar_vocab)\n",
    "decoder_input_test_seq = text_to_sequence(decoder_input_test, tar_vocab)\n",
    "decoder_target_test_seq = text_to_sequence(decoder_target_test, tar_vocab)\n",
    "\n",
    "# 잘 변환되었는지 확인\n",
    "print('input')\n",
    "print('input ',decoder_input_train_seq[:5])\n",
    "print('target')\n",
    "print('decoder ',decoder_target_train_seq[:5])"
   ]
  },
  {
   "cell_type": "code",
   "execution_count": 39,
   "id": "80d3ef1b-a76e-4c4b-b063-047285cacacd",
   "metadata": {},
   "outputs": [
    {
     "name": "stdout",
     "output_type": "stream",
     "text": [
      "input\n",
      "input  [[2, 11, 16, 109, 601, 16], [2, 36], [2, 9, 33, 6, 18, 87, 741], [2, 1, 1], [2, 13, 470, 30, 20]]\n",
      "target\n",
      "decoder  [[11, 16, 109, 601, 16, 3], [36, 3], [9, 33, 6, 18, 87, 741, 3], [1, 1, 3], [13, 470, 30, 20, 3]]\n"
     ]
    }
   ],
   "source": [
    "tar_vocab_size = 2000\n",
    "tar_vocab = build_limited_vocab(decoder_input_train + decoder_target_train, tar_vocab_size)\n",
    "\n",
    "# 텍스트 시퀀스를 정수 시퀀스로 변환\n",
    "decoder_input_train_seq = text_to_sequence(decoder_input_train, tar_vocab)\n",
    "decoder_target_train_seq = text_to_sequence(decoder_target_train, tar_vocab)\n",
    "decoder_input_test_seq = text_to_sequence(decoder_input_test, tar_vocab)\n",
    "decoder_target_test_seq = text_to_sequence(decoder_target_test, tar_vocab)\n",
    "\n",
    "# 잘 변환되었는지 확인\n",
    "print('input')\n",
    "print('input ',decoder_input_train_seq[:5])\n",
    "print('target')\n",
    "print('decoder ',decoder_target_train_seq[:5])"
   ]
  },
  {
   "cell_type": "code",
   "execution_count": 40,
   "id": "a1ed9fc7-20cc-489a-a293-1ebdc29383f9",
   "metadata": {},
   "outputs": [
    {
     "name": "stdout",
     "output_type": "stream",
     "text": [
      "삭제할 훈련 데이터의 개수 : 0\n",
      "삭제할 테스트 데이터의 개수 : 0\n",
      "훈련 데이터의 개수 : 52655\n",
      "훈련 레이블의 개수 : 52655\n",
      "테스트 데이터의 개수 : 13163\n",
      "테스트 레이블의 개수 : 13163\n"
     ]
    }
   ],
   "source": [
    "drop_train = [index for index, sentence in enumerate(decoder_input_train) if len(sentence) == 1]\n",
    "drop_test = [index for index, sentence in enumerate(decoder_input_test) if len(sentence) == 1]\n",
    "\n",
    "print('삭제할 훈련 데이터의 개수 :', len(drop_train))\n",
    "print('삭제할 테스트 데이터의 개수 :', len(drop_test))\n",
    "\n",
    "encoder_input_train = [sentence for index, sentence in enumerate(encoder_input_train) if index not in drop_train]\n",
    "decoder_input_train = [sentence for index, sentence in enumerate(decoder_input_train) if index not in drop_train]\n",
    "decoder_target_train = [sentence for index, sentence in enumerate(decoder_target_train) if index not in drop_train]\n",
    "\n",
    "encoder_input_test = [sentence for index, sentence in enumerate(encoder_input_test) if index not in drop_test]\n",
    "decoder_input_test = [sentence for index, sentence in enumerate(decoder_input_test) if index not in drop_test]\n",
    "decoder_target_test = [sentence for index, sentence in enumerate(decoder_target_test) if index not in drop_test]\n",
    "\n",
    "print('훈련 데이터의 개수 :', len(encoder_input_train))\n",
    "print('훈련 레이블의 개수 :', len(decoder_input_train))\n",
    "print('테스트 데이터의 개수 :', len(encoder_input_test))\n",
    "print('테스트 레이블의 개수 :', len(decoder_input_test))"
   ]
  },
  {
   "cell_type": "markdown",
   "id": "3fa7dfe1-92c9-4dbd-a570-f8ac745d6a47",
   "metadata": {},
   "source": [
    "- 텍스트 시퀀스를 정수 시퀀스로 변환했으므로, 이제 서로 다른 길이의 샘플들을 병렬 처리하기 위해 같은 길이로 맞춰주기 위해 패딩 작업을 해야 합니다."
   ]
  },
  {
   "cell_type": "code",
   "execution_count": 41,
   "id": "fb4e2b80-3563-409b-b0d6-ec0bfb188b3c",
   "metadata": {},
   "outputs": [],
   "source": [
    "from torch.nn.utils.rnn import pad_sequence\n",
    "\n",
    "# 텐서 변환 함수 (리스트 → PyTorch 텐서)\n",
    "def convert_to_tensor(sequences):\n",
    "    return [torch.tensor(seq, dtype=torch.long) for seq in sequences]\n",
    "\n",
    "# 패딩 적용 함수 (PyTorch `pad_sequence()` 활용)\n",
    "def pad_sequences_pytorch(sequences, maxlen, padding_value=0):\n",
    "    sequences = convert_to_tensor(sequences)  # 리스트를 텐서로 변환\n",
    "    padded_seqs = pad_sequence(sequences, batch_first=True, padding_value=padding_value)  # 패딩 적용\n",
    "    return padded_seqs[:, :maxlen]  # maxlen 길이로 자르기 (최대 길이 초과 방지)\n",
    "\n",
    "# 패딩 적용\n",
    "encoder_input_train = pad_sequences_pytorch(encoder_input_train_seq, maxlen=text_max_len)\n",
    "encoder_input_test = pad_sequences_pytorch(encoder_input_test_seq, maxlen=text_max_len)\n",
    "decoder_input_train = pad_sequences_pytorch(decoder_input_train_seq, maxlen=summary_max_len)\n",
    "decoder_target_train = pad_sequences_pytorch(decoder_target_train_seq, maxlen=summary_max_len)\n",
    "decoder_input_test = pad_sequences_pytorch(decoder_input_test_seq, maxlen=summary_max_len)\n",
    "decoder_target_test = pad_sequences_pytorch(decoder_target_test_seq, maxlen=summary_max_len)"
   ]
  },
  {
   "cell_type": "markdown",
   "id": "b5052dd2-a522-4747-bcb1-e0b569190426",
   "metadata": {},
   "source": [
    "### 6. 모델 설계하기"
   ]
  },
  {
   "cell_type": "markdown",
   "id": "0a1708dc-d891-4788-8308-ff1545830986",
   "metadata": {},
   "source": [
    "- 인코더 : 입력 문장을 임베딩하고 LSTM을 거쳐 문맥 정보(hidden state, cell state)로 압축합니다. (Output : 각 시점별 LSTM 출력 / Hidden : 마지막 시점의 Hidden state (디코더 초기 상태로 사용) / Cell : 마지막 시점의 Cell state (디코더 초기 상태로 사용)\n",
    "\n",
    "- 디코더 : 이전 시점의 단어 또는 SOS 토큰을 입력 받아 LSTM으로 다음 단어를 예측할 준비를 합니다. 인코더의 Hidden, Cell을 초기 상태로 받아서 문장 생성을 시작합니다.\n",
    "\n",
    "- 시퀀스 투 시퀀스 : 인코더로 입력 시퀀스를 인코딩하고, 디코더로 출력 시퀀스를 한 시점식 디코딩합니다. 디코더의 각 시점 출력을 Linear Layer에 통과시켜 단어 분류 확률 벡터를 생성합니다.\n",
    "\n",
    "```\n",
    "[입력 문장] → Encoder → (hidden, cell) ─┐\n",
    "                                        ↓\n",
    "                              Decoder (반복) → Linear Layer → 단어 확률\n",
    "```"
   ]
  },
  {
   "cell_type": "code",
   "execution_count": 42,
   "id": "1342810e-75f2-4a78-a7ca-7328f67300b3",
   "metadata": {},
   "outputs": [],
   "source": [
    "import torch.nn as nn\n",
    "import torch.nn.functional as F\n",
    "\n",
    "# 인코더 설계 시작\n",
    "embedding_dim = 128\n",
    "hidden_size = 256 # LSTM에서 얼만큼의 수용력(Capacity)을 가질지 정하는 파라미터\n",
    "src_vocab_size = len(src_vocab)  # 단어 집합 크기\n",
    "\n",
    "# 인코더\n",
    "class Encoder(nn.Module):\n",
    "    def __init__(self, vocab_size, embedding_dim, hidden_size, num_layers=3, dropout=0.4):\n",
    "        super(Encoder, self).__init__()\n",
    "        self.embedding = nn.Embedding(vocab_size, embedding_dim)\n",
    "        self.lstm = nn.LSTM(\n",
    "            embedding_dim, hidden_size, num_layers=num_layers,\n",
    "            dropout=dropout, batch_first=True\n",
    "        )\n",
    "\n",
    "    def forward(self, x): # 인코더의 임베딩 층\n",
    "        embedded = self.embedding(x)\n",
    "        output, (hidden, cell) = self.lstm(embedded)  # LSTM 실행\n",
    "        return output, hidden, cell\n",
    "\n",
    "# 인코더 모델 생성\n",
    "encoder = Encoder(src_vocab_size, embedding_dim, hidden_size, num_layers=3, dropout=0.4)"
   ]
  },
  {
   "cell_type": "code",
   "execution_count": 43,
   "id": "8f1f12ef-eb6f-4379-a8d6-970ce3b82b73",
   "metadata": {},
   "outputs": [],
   "source": [
    "# 디코더 설계\n",
    "class Decoder(nn.Module):\n",
    "    def __init__(self, vocab_size, embedding_dim, hidden_size, dropout=0.4, num_layers=3):\n",
    "        super(Decoder, self).__init__()\n",
    "        self.embedding = nn.Embedding(vocab_size, embedding_dim)\n",
    "        self.lstm = nn.LSTM(\n",
    "            embedding_dim, hidden_size, num_layers=num_layers, dropout=dropout,\n",
    "            batch_first=True\n",
    "        )\n",
    "\n",
    "    def forward(self, x, hidden, cell): # 디코더의 임베딩 층\n",
    "        embedded = self.embedding(x)\n",
    "        output, (hidden, cell) = self.lstm(embedded, (hidden, cell))  # 초기 상태를 인코더에서 전달받음\n",
    "        return output, hidden, cell\n",
    "\n",
    "# 디코더 모델 생성\n",
    "decoder = Decoder(tar_vocab_size, embedding_dim, hidden_size, num_layers=3, dropout=0.4)"
   ]
  },
  {
   "cell_type": "code",
   "execution_count": 44,
   "id": "262a9d46-ddf5-4502-8c1d-1e813eccb05f",
   "metadata": {},
   "outputs": [
    {
     "name": "stdout",
     "output_type": "stream",
     "text": [
      "Seq2Seq(\n",
      "  (encoder): Encoder(\n",
      "    (embedding): Embedding(8000, 128)\n",
      "    (lstm): LSTM(128, 256, num_layers=3, batch_first=True, dropout=0.4)\n",
      "  )\n",
      "  (decoder): Decoder(\n",
      "    (embedding): Embedding(2000, 128)\n",
      "    (lstm): LSTM(128, 256, num_layers=3, batch_first=True, dropout=0.4)\n",
      "  )\n",
      "  (softmax_layer): Linear(in_features=256, out_features=2000, bias=True)\n",
      ")\n"
     ]
    }
   ],
   "source": [
    "# 디코더의 출력층\n",
    "class Seq2Seq(nn.Module):\n",
    "    def __init__(self, encoder, decoder, vocab_size):\n",
    "        super(Seq2Seq, self).__init__()\n",
    "        self.encoder = encoder\n",
    "        self.decoder = decoder\n",
    "        self.softmax_layer = nn.Linear(hidden_size, vocab_size)  # 출력층 정의\n",
    "\n",
    "    def forward(self, encoder_input, decoder_input):\n",
    "        # 인코더 실행\n",
    "        encoder_output, hidden, cell = self.encoder(encoder_input)\n",
    "\n",
    "        # 디코더 실행\n",
    "        decoder_output, _, _ = self.decoder(decoder_input, hidden, cell)\n",
    "\n",
    "        # 출력층 적용 (Softmax는 Loss 내부에서 적용되므로 생략 가능)\n",
    "        output = self.softmax_layer(decoder_output)\n",
    "        return output\n",
    "\n",
    "# 모델 정의\n",
    "model = Seq2Seq(encoder, decoder, tar_vocab_size)\n",
    "print(model)"
   ]
  },
  {
   "cell_type": "markdown",
   "id": "f72b8cda-f449-4a66-bd32-4ef0d7c8958b",
   "metadata": {},
   "source": [
    "- 아래는 기존 구조에 어텐션 메커니즘을 적용합니다.\n",
    "- 아래 코드는 인코더의 hidden state들과 디코더의 hidden state들을 어텐셥 함수의 입력으로 사용하고, 어텐션 함수가 리턴한 값을 디코더의 hidden state와 함께 활용하는 형태로 작동합니다."
   ]
  },
  {
   "cell_type": "code",
   "execution_count": 45,
   "id": "97f8df50-ab47-4b2b-8c09-9b2ec1173c32",
   "metadata": {},
   "outputs": [
    {
     "name": "stdout",
     "output_type": "stream",
     "text": [
      "Seq2SeqWithAttention(\n",
      "  (encoder): Encoder(\n",
      "    (embedding): Embedding(8000, 128)\n",
      "    (lstm): LSTM(128, 256, num_layers=3, batch_first=True, dropout=0.4)\n",
      "  )\n",
      "  (decoder): Decoder(\n",
      "    (embedding): Embedding(2000, 128)\n",
      "    (lstm): LSTM(128, 256, num_layers=3, batch_first=True, dropout=0.4)\n",
      "  )\n",
      "  (attention): Attention_dot(\n",
      "    (attn): Linear(in_features=256, out_features=256, bias=True)\n",
      "    (v): Linear(in_features=256, out_features=1, bias=False)\n",
      "  )\n",
      "  (concat): Linear(in_features=512, out_features=256, bias=True)\n",
      "  (output_layer): Linear(in_features=256, out_features=2000, bias=True)\n",
      ")\n"
     ]
    }
   ],
   "source": [
    "class Attention_dot(nn.Module):\n",
    "    def __init__(self, hidden_size):\n",
    "        super(Attention_dot, self).__init__()\n",
    "        self.attn = nn.Linear(hidden_size, hidden_size)  # 어텐션 가중치\n",
    "        self.v = nn.Linear(hidden_size, 1, bias=False)  # 어텐션 가중치 벡터\n",
    "\n",
    "    def forward(self, decoder_output, encoder_outputs):\n",
    "        attn_weights = torch.bmm(decoder_output, encoder_outputs.transpose(1, 2))\n",
    "        attn_weights = F.softmax(attn_weights, dim=-1)  # 어텐션 가중치 정규화\n",
    "        attn_out = torch.bmm(attn_weights, encoder_outputs)\n",
    "\n",
    "        return attn_out\n",
    "\n",
    "class Seq2SeqWithAttention(nn.Module):\n",
    "    def __init__(self, encoder, decoder, vocab_size, hidden_size):\n",
    "        super(Seq2SeqWithAttention, self).__init__()\n",
    "        self.encoder = encoder\n",
    "        self.decoder = decoder\n",
    "        self.attention = Attention_dot(hidden_size)\n",
    "        self.concat = nn.Linear(hidden_size * 2, hidden_size)  # 어텐션 결합\n",
    "        self.output_layer = nn.Linear(hidden_size, vocab_size)  # 최종 출력층\n",
    "\n",
    "    def forward(self, encoder_input, decoder_input):\n",
    "        encoder_outputs, hidden, cell = self.encoder(encoder_input)\n",
    "        decoder_outputs, _, _ = self.decoder(decoder_input, hidden, cell)\n",
    "\n",
    "        # 어텐션 적용\n",
    "        attn_out = self.attention(decoder_outputs, encoder_outputs)\n",
    "\n",
    "        # 어텐션 결과와 디코더 출력 연결\n",
    "        decoder_concat_output = torch.cat((decoder_outputs, attn_out), dim=-1)\n",
    "\n",
    "        # 어텐션 결합 후 최종 출력\n",
    "        decoder_concat_output = torch.tanh(self.concat(decoder_concat_output))\n",
    "        output = self.output_layer(decoder_concat_output)\n",
    "\n",
    "        return output\n",
    "\n",
    "# 모델 생성\n",
    "model = Seq2SeqWithAttention(encoder, decoder, tar_vocab_size, hidden_size)\n",
    "print(model)"
   ]
  },
  {
   "cell_type": "markdown",
   "id": "8474fadb-d736-4732-9034-3b7a9b08b0bd",
   "metadata": {},
   "source": [
    "### 7. 모델 훈련하기"
   ]
  },
  {
   "cell_type": "code",
   "execution_count": 46,
   "id": "08694a62-6674-4913-98d3-d4f7372d9bce",
   "metadata": {},
   "outputs": [
    {
     "name": "stdout",
     "output_type": "stream",
     "text": [
      "Using device: cuda\n"
     ]
    }
   ],
   "source": [
    "import torch.optim as optim\n",
    "from torch.utils.data import DataLoader, TensorDataset\n",
    "\n",
    "device = torch.device(\"cuda\" if torch.cuda.is_available() else \"cpu\")\n",
    "print(f\"Using device: {device}\")\n",
    "model.to(device)\n",
    "\n",
    "# Hyperparameters\n",
    "batch_size = 256\n",
    "epochs = 50\n",
    "learning_rate = 0.001\n",
    "patience = 2\n",
    "\n",
    "# 손실 함수 & 옵티마이저\n",
    "criterion = nn.CrossEntropyLoss(ignore_index=0)  # 패딩 토큰 무시\n",
    "optimizer = optim.AdamW(model.parameters(), lr=learning_rate)\n",
    "\n",
    "# PyTorch DataLoader 설정\n",
    "train_dataset = TensorDataset(encoder_input_train, decoder_input_train, decoder_target_train)\n",
    "test_dataset = TensorDataset(encoder_input_test, decoder_input_test, decoder_target_test)\n",
    "\n",
    "train_loader = DataLoader(train_dataset, batch_size=batch_size, shuffle=True)\n",
    "test_loader = DataLoader(test_dataset, batch_size=batch_size, shuffle=False)"
   ]
  },
  {
   "cell_type": "code",
   "execution_count": 47,
   "id": "4ea8c0fe-b7a7-4df8-82f8-85ad4ca428da",
   "metadata": {},
   "outputs": [
    {
     "name": "stdout",
     "output_type": "stream",
     "text": [
      "Using device: cuda\n"
     ]
    }
   ],
   "source": [
    "import torch.optim as optim\n",
    "from torch.utils.data import DataLoader, TensorDataset\n",
    "\n",
    "device = torch.device(\"cuda\" if torch.cuda.is_available() else \"cpu\")\n",
    "print(f\"Using device: {device}\")\n",
    "model.to(device)\n",
    "\n",
    "# Hyperparameters\n",
    "batch_size = 256\n",
    "epochs = 50\n",
    "learning_rate = 0.001\n",
    "patience = 2\n",
    "\n",
    "# 손실 함수 & 옵티마이저\n",
    "criterion = nn.CrossEntropyLoss(ignore_index=0)  # 패딩 토큰 무시\n",
    "optimizer = optim.AdamW(model.parameters(), lr=learning_rate)\n",
    "\n",
    "# PyTorch DataLoader 설정\n",
    "train_dataset = TensorDataset(encoder_input_train, decoder_input_train, decoder_target_train)\n",
    "test_dataset = TensorDataset(encoder_input_test, decoder_input_test, decoder_target_test)\n",
    "\n",
    "train_loader = DataLoader(train_dataset, batch_size=batch_size, shuffle=True)\n",
    "test_loader = DataLoader(test_dataset, batch_size=batch_size, shuffle=False)"
   ]
  },
  {
   "cell_type": "code",
   "execution_count": 48,
   "id": "c26e279a-5256-435e-b29a-357286213b2f",
   "metadata": {},
   "outputs": [],
   "source": [
    "train_losses = []\n",
    "val_losses = []\n",
    "\n",
    "# 학습 함수\n",
    "def train_model(model, train_loader, test_loader, criterion, optimizer, epochs, patience):\n",
    "    model.train()\n",
    "    best_val_loss = float('inf')\n",
    "    early_stop_counter = 0\n",
    "\n",
    "    for epoch in range(epochs):\n",
    "        total_loss = 0\n",
    "\n",
    "        for encoder_input, decoder_input, target in train_loader:\n",
    "            optimizer.zero_grad()\n",
    "\n",
    "            # 정수형 변환\n",
    "            encoder_input = encoder_input.to(device).long()\n",
    "            decoder_input = decoder_input.to(device).long()\n",
    "            target = target.to(device).long()\n",
    "\n",
    "            # 모델 실행\n",
    "            output = model(encoder_input, decoder_input)\n",
    "            output = output.view(-1, output.shape[-1])\n",
    "            target = target.view(-1)\n",
    "\n",
    "            loss = criterion(output, target)\n",
    "            loss.backward()\n",
    "            optimizer.step()\n",
    "            total_loss += loss.item()\n",
    "\n",
    "        avg_loss = total_loss / len(train_loader)\n",
    "        train_losses.append(avg_loss)\n",
    "\n",
    "        # Validation loss 계산\n",
    "        model.eval()\n",
    "        val_loss = 0\n",
    "        with torch.no_grad():\n",
    "            for encoder_input, decoder_input, target in test_loader:\n",
    "                encoder_input = encoder_input.to(device).long()\n",
    "                decoder_input = decoder_input.to(device).long()\n",
    "                target = target.to(device).long()\n",
    "\n",
    "                output = model(encoder_input, decoder_input)\n",
    "                output = output.view(-1, output.shape[-1])\n",
    "                target = target.view(-1)\n",
    "                loss = criterion(output, target)\n",
    "\n",
    "                val_loss += loss.item()\n",
    "\n",
    "        val_loss /= len(test_loader)\n",
    "        val_losses.append(val_loss)\n",
    "        print(f\"Epoch {epoch+1}/{epochs} | Train Loss: {avg_loss:.4f} | Val Loss: {val_loss:.4f}\")\n",
    "\n",
    "        # Early Stopping 조건\n",
    "        if val_loss < best_val_loss:\n",
    "            best_val_loss = val_loss\n",
    "            early_stop_counter = 0\n",
    "        else:\n",
    "            early_stop_counter += 1\n",
    "\n",
    "        if early_stop_counter >= patience:\n",
    "            print(f\"Early stopping triggered at epoch {epoch+1}\")\n",
    "            break\n",
    "\n",
    "        model.train()"
   ]
  },
  {
   "cell_type": "code",
   "execution_count": 49,
   "id": "e8450db9-bad6-4039-bc50-32f149e5d126",
   "metadata": {},
   "outputs": [
    {
     "name": "stdout",
     "output_type": "stream",
     "text": [
      "Epoch 1/50 | Train Loss: 4.8365 | Val Loss: 4.5351\n",
      "Epoch 2/50 | Train Loss: 4.5057 | Val Loss: 4.3868\n",
      "Epoch 3/50 | Train Loss: 4.3685 | Val Loss: 4.2528\n",
      "Epoch 4/50 | Train Loss: 4.1967 | Val Loss: 4.0561\n",
      "Epoch 5/50 | Train Loss: 4.0018 | Val Loss: 3.8857\n",
      "Epoch 6/50 | Train Loss: 3.8368 | Val Loss: 3.7723\n",
      "Epoch 7/50 | Train Loss: 3.7106 | Val Loss: 3.6816\n",
      "Epoch 8/50 | Train Loss: 3.5987 | Val Loss: 3.6118\n",
      "Epoch 9/50 | Train Loss: 3.5001 | Val Loss: 3.5734\n",
      "Epoch 10/50 | Train Loss: 3.4096 | Val Loss: 3.5374\n",
      "Epoch 11/50 | Train Loss: 3.3232 | Val Loss: 3.5222\n",
      "Epoch 12/50 | Train Loss: 3.2397 | Val Loss: 3.5184\n",
      "Epoch 13/50 | Train Loss: 3.1583 | Val Loss: 3.5166\n",
      "Epoch 14/50 | Train Loss: 3.0803 | Val Loss: 3.5273\n",
      "Epoch 15/50 | Train Loss: 3.0016 | Val Loss: 3.5433\n",
      "Early stopping triggered at epoch 15\n",
      "CPU times: user 3min 13s, sys: 424 ms, total: 3min 13s\n",
      "Wall time: 3min 13s\n"
     ]
    }
   ],
   "source": [
    "%%time\n",
    "# 30분 이상 시간이 걸릴 수 있습니다. GPU 환경에서 학습하는 것을 권장합니다.\n",
    "# 학습 실행\n",
    "train_model(model, train_loader, test_loader, criterion, optimizer, epochs=epochs, patience=patience)"
   ]
  },
  {
   "cell_type": "code",
   "execution_count": 50,
   "id": "cd2c410a-4a8b-4d7d-a3fc-c9ad155f6731",
   "metadata": {},
   "outputs": [
    {
     "data": {
      "image/png": "[encoded data removed]",
      "text/plain": [
       "<Figure size 640x480 with 1 Axes>"
      ]
     },
     "metadata": {},
     "output_type": "display_data"
    }
   ],
   "source": [
    "plt.plot(range(len(train_losses)), train_losses, label='Train Loss')\n",
    "plt.plot(range(len(val_losses)), val_losses, label='Validation Loss')\n",
    "plt.legend()\n",
    "plt.xlabel(\"Epochs\")\n",
    "plt.ylabel(\"Loss\")\n",
    "plt.title(\"Training and Validation Loss\")\n",
    "plt.show()"
   ]
  },
  {
   "cell_type": "markdown",
   "id": "24896527-69aa-4bc2-a225-e48a4573e86b",
   "metadata": {},
   "source": [
    "### 8. 인퍼런스 모델 구현하기\n",
    "- 인퍼런스 모델 : 이미 학습이 끝난 모델을 이용해 새로운 입력에 대한 예측을 수행하는 모델을 말합니다.\n",
    "- 시퀀스 투 시퀀스는 훈련할 때와 실제 동작할 때의 방식이 달라서 그에 맞게 모델 설계를 따로 해줘야 한다고 합니다.\n",
    "- 훈련 때는 인코더가 입력 문장을 인코딩하고 디코더가 정답 시퀀스의 이전 단어를 받아서 다음 단어를 예측합니다.\n",
    "- 하지만 실제 상황에서는 정답이 없어서 디코더가 직전에 자신이 예측한 단어를 다시 입력으로 넣습니다."
   ]
  },
  {
   "cell_type": "code",
   "execution_count": 51,
   "id": "e871868d-4136-4a5d-8fa4-0cb091cab8fd",
   "metadata": {},
   "outputs": [],
   "source": [
    "src_index_to_word = {idx: word for word, idx in src_vocab.items()} # 원문 단어 집합에서 정수 -> 단어를 얻음\n",
    "tar_word_to_index = tar_vocab # 요약 단어 집합에서 단어 -> 정수를 얻음\n",
    "tar_index_to_word = {idx: word for word, idx in tar_vocab.items()} # 요약 단어 집합에서 정수 -> 단어를 얻음"
   ]
  },
  {
   "cell_type": "code",
   "execution_count": 52,
   "id": "ddb44d5d-1b3f-4922-a0d1-0211f81c169e",
   "metadata": {},
   "outputs": [],
   "source": [
    "device = torch.device(\"cuda\" if torch.cuda.is_available() else \"cpu\")\n",
    "decoder.to(device)\n",
    "\n",
    "# 인코더 설계\n",
    "def encode_input(encoder, input_seq):\n",
    "    encoder_outputs, hidden, cell = encoder(input_seq)\n",
    "    return encoder_outputs, hidden, cell\n",
    "\n",
    "# 이전 시점의 상태들을 저장하는 텐서\n",
    "num_layers = 3  # 디코더 LSTM 레이어 개수 (설정에 맞춰 조정)\n",
    "batch_size = 1\n",
    "\n",
    "decoder_state_input_h = torch.zeros((num_layers, batch_size, hidden_size), dtype=torch.float, device=device)\n",
    "decoder_state_input_c = torch.zeros((num_layers, batch_size, hidden_size), dtype=torch.float, device=device)\n",
    "decoder_input = torch.zeros((batch_size, 1), dtype=torch.long, device=device)\n",
    "\n",
    "dec_emb2 = decoder.embedding(decoder_input)\n",
    "\n",
    "# 문장의 다음 단어를 예측하기 위해서 초기 상태(initial_state)를 이전 시점의 상태로 사용. 이는 뒤의 함수 decode_sequence()에 구현\n",
    "# 훈련 과정에서와 달리 LSTM의 리턴하는 은닉 상태와 셀 상태인 state_h와 state_c를 버리지 않음.\n",
    "decoder_outputs2, state_h2, state_c2 = decoder(decoder_input, decoder_state_input_h, decoder_state_input_c)"
   ]
  },
  {
   "cell_type": "code",
   "execution_count": 53,
   "id": "10a2cc5d-53e0-45f5-891d-67d04e4c4cc6",
   "metadata": {},
   "outputs": [],
   "source": [
    "class DecoderWithAttention(nn.Module):\n",
    "    def __init__(self, decoder, attention, hidden_size, vocab_size):\n",
    "        super(DecoderWithAttention, self).__init__()\n",
    "        self.decoder = decoder  # 기존 디코더\n",
    "        self.attention = attention  # 어텐션 레이어\n",
    "        self.concat = nn.Linear(hidden_size * 2, hidden_size)  # 어텐션 결합 레이어\n",
    "        self.output_layer = nn.Linear(hidden_size, vocab_size)  # 최종 출력층\n",
    "        self.softmax = nn.Softmax(dim=-1)  # 소프트맥스\n",
    "\n",
    "    def forward(self, decoder_inputs, decoder_hidden_state, decoder_state_h, decoder_state_c):\n",
    "        # 디코더 실행\n",
    "        decoder_outputs, state_h, state_c = self.decoder(decoder_inputs, decoder_state_h, decoder_state_c)\n",
    "\n",
    "        # 어텐션 적용\n",
    "        attn_out = self.attention(decoder_outputs, decoder_hidden_state)\n",
    "\n",
    "        # 어텐션과 디코더 출력 결합\n",
    "        decoder_concat_output = torch.cat((decoder_outputs, attn_out), dim=-1)\n",
    "        decoder_concat_output = torch.tanh(self.concat(decoder_concat_output))\n",
    "\n",
    "        # 최종 출력층 적용\n",
    "        decoder_outputs2 = self.softmax(self.output_layer(decoder_concat_output))\n",
    "\n",
    "        return decoder_outputs2, state_h, state_c\n",
    "\n",
    "# 기존 Attention 클래스 사용\n",
    "attention_layer = Attention_dot(hidden_size)\n",
    "\n",
    "# 디코더 모델 생성\n",
    "decoder_model = DecoderWithAttention(decoder, attention_layer, hidden_size, tar_vocab_size)"
   ]
  },
  {
   "cell_type": "code",
   "execution_count": 54,
   "id": "4a82388b-baaf-4c7a-ae78-1df7cac707b5",
   "metadata": {},
   "outputs": [],
   "source": [
    "def decode_sequence(input_seq, encoder, decoder, tar_word_to_index, tar_index_to_word, text_max_len, summary_max_len, device):\n",
    "    # 입력을 PyTorch Tensor로 변환\n",
    "    input_seq = torch.tensor(input_seq, dtype=torch.long, device=device)\n",
    "\n",
    "    # 인코더 실행하여 초기 상태(hidden, cell) 얻기\n",
    "    with torch.no_grad():\n",
    "        e_out, e_h, e_c = encoder(input_seq)\n",
    "\n",
    "    e_out = e_out.repeat(1, text_max_len, 1)  # 차원 조정 (np.tile 대신 repeat 사용)\n",
    "\n",
    "    # <SOS>에 해당하는 토큰 생성\n",
    "    target_seq = torch.zeros((1, 1), dtype=torch.long, device=device)\n",
    "    target_seq[0, 0] = tar_word_to_index['sostoken']\n",
    "\n",
    "    stop_condition = False\n",
    "    decoded_sentence = ''\n",
    "\n",
    "    while not stop_condition:\n",
    "        # 디코더 실행\n",
    "        with torch.no_grad():\n",
    "            output_tokens, h, c = decoder(target_seq, e_h, e_c)\n",
    "\n",
    "        # 가장 높은 확률을 가진 단어 선택\n",
    "        sampled_token_index = torch.argmax(output_tokens[0, -1, :]).item()\n",
    "        sampled_token = tar_index_to_word[sampled_token_index]\n",
    "\n",
    "        if sampled_token != 'eostoken':\n",
    "            decoded_sentence += ' ' + sampled_token\n",
    "\n",
    "        # 종료 조건: <eos>에 도달하거나 최대 길이를 초과하면 중단\n",
    "        if sampled_token == 'eostoken' or len(decoded_sentence.split()) >= (summary_max_len - 1):\n",
    "            stop_condition = True\n",
    "\n",
    "        # 길이가 1인 타겟 시퀀스를 업데이트\n",
    "        target_seq = torch.zeros((1, 1), dtype=torch.long, device=device)\n",
    "        target_seq[0, 0] = sampled_token_index\n",
    "\n",
    "        # 상태 업데이트\n",
    "        e_h, e_c = h, c\n",
    "\n",
    "    return decoded_sentence"
   ]
  },
  {
   "cell_type": "markdown",
   "id": "6e13ff04-26c2-4014-8750-af4581b72809",
   "metadata": {},
   "source": [
    "### 9. 모델 테스트하기"
   ]
  },
  {
   "cell_type": "code",
   "execution_count": 55,
   "id": "86dd5adc-c6e2-4911-b352-dc4ff9d10fd5",
   "metadata": {},
   "outputs": [],
   "source": [
    "# 원문의 정수 시퀀스를 텍스트 시퀀스로 변환\n",
    "def seq2text(input_seq):\n",
    "    temp = ''\n",
    "    for i in input_seq:\n",
    "        key = int(i.item())  # PyTorch Tensor → int 변환\n",
    "        if key != 0:  # 패딩(0) 제외\n",
    "            temp = temp + src_index_to_word.get(key, \"<UNK>\") + ' '  # 안전한 조회\n",
    "    return temp.strip()\n",
    "\n",
    "# 요약문의 정수 시퀀스를 텍스트 시퀀스로 변환\n",
    "def seq2summary(input_seq):\n",
    "    temp = ''\n",
    "    for i in input_seq:\n",
    "        key = int(i.item())  # PyTorch Tensor → int 변환\n",
    "        if key != 0 and key != tar_word_to_index['sostoken'] and key != tar_word_to_index['eostoken']:\n",
    "            temp = temp + tar_index_to_word.get(key, \"<UNK>\") + ' '  # 안전한 조회\n",
    "    return temp.strip()  # 양쪽 공백 제거"
   ]
  },
  {
   "cell_type": "code",
   "execution_count": 56,
   "id": "1efce7dd-4b20-47c0-935d-98187e11a5ab",
   "metadata": {
    "scrolled": true
   },
   "outputs": [
    {
     "name": "stdout",
     "output_type": "stream",
     "text": [
      "원문 : happy family pouches convenient healthy easy little ones use like <UNK> mornings super crazy perfect use go car banana kiwi one favorites love products organic gmo free also thought price reasonable would definitely order try mixing bit happy family organic oatmeal new twist breakfast kids happy family must house\n",
      "실제 요약 : perfect for the busy mom\n",
      "예측 요약 :  white white real real get get or\n",
      "\n",
      "\n",
      "원문 : longer giving dog caused dog diarrhea vomit research online many many <UNK> treats caused dogs similar even much severe health issues dog loves treats giving year two every would diarrhea start vomiting yellow foamy substance cases finally <UNK> treats research buy product however would recommend\n",
      "실제 요약 : <UNK> <UNK> and <UNK> do not buy\n",
      "예측 요약 :  flavored white greatgreat real get for for\n",
      "\n",
      "\n",
      "원문 : thrilled pick tiny bits <UNK> flax seeds fine top quality <UNK> bits would get stars\n",
      "실제 요약 : good seeds but <UNK> bits\n",
      "예측 요약 :  salty only real value peanut roast will\n",
      "\n",
      "\n",
      "원문 : smart fries tasty varieties tasty favorite flavor honey mustard overly salty hit spot looking crunchy low fat snack\n",
      "실제 요약 : excellent <UNK> snack\n",
      "예측 요약 :  salty white real real get get get\n",
      "\n",
      "\n",
      "원문 : one goldens time toy male loves tug jug work hour kibble <UNK> actually see <UNK> turning <UNK> <UNK> done great body brain caveat use toy carpet really <UNK> bare floor\n",
      "실제 요약 : paws up for this toy\n",
      "예측 요약 :  quality greatgreat most has these has has\n",
      "\n",
      "\n",
      "원문 : flavor used market <UNK> flavor fine runs switching back know maybe fresh ground supposed taste like <UNK>\n",
      "실제 요약 : not the same flavor\n",
      "예측 요약 :  salty peanut mix peanut roast coconut like\n",
      "\n",
      "\n",
      "원문 : truly great soup lots good ingredients always something dinner soup hearty satisfying\n",
      "실제 요약 : super soup\n",
      "예측 요약 :  salty greatgreat greatgreat has has has has\n",
      "\n",
      "\n",
      "원문 : always wanted make stuffed pancakes batter works great light delicious even use waffles works great\n",
      "실제 요약 : excellent <UNK>\n",
      "예측 요약 :  salty only real value peanut roast will\n",
      "\n",
      "\n",
      "원문 : wow received bulbs today suddenly rooms old <UNK> seem <UNK> really like bulbs cheaper buying special sad therapy light boxes\n",
      "실제 요약 : wow\n",
      "예측 요약 :  they has has has has has has\n",
      "\n",
      "\n",
      "원문 : lab loves sam <UNK> giving years last long rawhide chew much healthy break two make package last bit longer\n",
      "실제 요약 : my lab loves these\n",
      "예측 요약 :  salty only real value peanut roast will\n",
      "\n",
      "\n",
      "원문 : tried flavors good addition like product would buy make makes <UNK> great taste\n",
      "실제 요약 : sparkling ice\n",
      "예측 요약 :  salty peanut roast peanut roast coconut like\n",
      "\n",
      "\n",
      "원문 : love hazelnut smell coffee figure also great cup hot chocolate unfortunately product give strong hazelnut feeling little well still good one\n",
      "실제 요약 : hazelnut\n",
      "예측 요약 :  salty peanut mix peanut roast coconut like\n",
      "\n",
      "\n",
      "원문 : love flavor beautiful <UNK> colored sea salt another <UNK> finishing salt adds color light sea flavor dish\n",
      "실제 요약 : <UNK> hawaiian sea salt\n",
      "예측 요약 :  salty only real value peanut roast will\n",
      "\n",
      "\n",
      "원문 : got office morning coffee gang job nothing exotic special balanced relatively mild coffee goes well donuts <UNK> price got cant beat used peet various coffee people prefer starbucks whether actually tastes better hype dont know\n",
      "실제 요약 : decent morning coffee for the office\n",
      "예측 요약 :  salty peanut mix peanut roast coconut like\n",
      "\n",
      "\n",
      "원문 : purchasing several coffees favorite one kona blend coming nd place love buttery taste toffee\n",
      "실제 요약 : best coffee ever\n",
      "예측 요약 :  salty only real value peanut roast will\n",
      "\n",
      "\n",
      "원문 : okay drink harsh oddly synthetic taste juice drinks yet anything super nice alternative regular soda see buying often high carbonation makes less healthy touted bad stomach bad make less carbonated perhaps non carbonated version\n",
      "실제 요약 : nice alternative to regular soda\n",
      "예측 요약 :  hard no greatgreat has has has has\n",
      "\n",
      "\n",
      "원문 : got <UNK> <UNK> tassimo machine made one glass got pretty <UNK> effect delicious drink smooth wonderful coffee flavor may buy <UNK> espresso make iced coffee\n",
      "실제 요약 : really good\n",
      "예측 요약 :  salty only real value peanut roast will\n",
      "\n",
      "\n",
      "원문 : cincinnati native cannot live without chili year would fly chili home cincinnati pack suitcase full chili get whenever want cincinnati chili dip one staples thanks amazon\n",
      "실제 요약 : cannot live without it\n",
      "예측 요약 :  salty peanut mix peanut roast coconut like\n",
      "\n",
      "\n",
      "원문 : difficulty finding blend local stores trying many different flavors past months find enjoyable blend yet followed closely kona blend thanks amazon carrying blend affordable price\n",
      "실제 요약 : extremely enjoyable\n",
      "예측 요약 :  salty only real value peanut roast will\n",
      "\n",
      "\n",
      "원문 : great first cup morning type coffee strong weak perfect wake\n",
      "실제 요약 : awesome coffee\n",
      "예측 요약 :  salty only real value peanut roast will\n",
      "\n",
      "\n",
      "원문 : love tea live middle east beloved friend sent via post love barley tea great service arrived intact\n",
      "실제 요약 : deliciousness\n",
      "예측 요약 :  salty greatgreat real coconut coconut will the\n",
      "\n",
      "\n",
      "원문 : using <UNK> le <UNK> super dieters tea years <UNK> many women family use well keeps moving better anything else suffer chronic constipation would recommend anyone could use gentle natural <UNK> never felt like taking harsh <UNK> makes feel go like normal hate poop talk worth sharing lol\n",
      "실제 요약 : cannot live without it\n",
      "예측 요약 :  hard white real pricegreat for the nice\n",
      "\n",
      "\n",
      "원문 : claim name package plain <UNK> currants amazon provide full <UNK> description\n",
      "실제 요약 : do not believe the name\n",
      "예측 요약 :  coconut white real that that has has\n",
      "\n",
      "\n",
      "원문 : family dog loves say smells pleasant enough humans handle feed <UNK> loved ones little bit <UNK> sometimes something helps breath goes long way also getting little older think helps digestion\n",
      "실제 요약 : family dog loves them\n",
      "예측 요약 :  me white greatgreat real some you house\n",
      "\n",
      "\n",
      "원문 : born argentina top line dulce de leche eat <UNK> add cakes note noticed dulce de leche acquired taste unless grew eating may consider dulce de leche little sweet\n",
      "실제 요약 : yummy milk spread\n",
      "예측 요약 :  salty peanut mix peanut roast coconut like\n",
      "\n",
      "\n",
      "원문 : great hydrating product natural find cheaper <UNK> free fyi\n",
      "실제 요약 : great natural coconut water taste great\n",
      "예측 요약 :  salty only real value peanut roast will\n",
      "\n",
      "\n",
      "원문 : concerned would pasty tasting really good mixes well great camping kids like\n",
      "실제 요약 : tastes good\n",
      "예측 요약 :  salty only real value peanut roast will\n",
      "\n",
      "\n",
      "원문 : real treat coffee lovers little pricey worth\n",
      "실제 요약 : illy espresso\n",
      "예측 요약 :  salty peanut mix peanut roast coconut like\n",
      "\n",
      "\n",
      "원문 : yummy step regular hamburger helper types honestly felt like eating cheeseburger loved one continue use great salad bread importantly quick yummy\n",
      "실제 요약 : delicious\n",
      "예측 요약 :  salty only real value peanut roast coconut\n",
      "\n",
      "\n",
      "원문 : strawberry preserves best flavor ever experienced texture great toast bisquits taste fantastic product spreading consistancy also plus glad bought several jars strawberry well wonderful raspberry offered certainly order\n",
      "실제 요약 : strawberry <UNK>\n",
      "예측 요약 :  salty greatgreat real value peanut roast will\n",
      "\n",
      "\n",
      "원문 : shipped grandson germany shipment fast <UNK> chips great order\n",
      "실제 요약 : chips\n",
      "예측 요약 :  salty only real value peanut roast will\n",
      "\n",
      "\n",
      "원문 : great mix torani flavors great price thing would change instead regular chocolate would prefer white chocolate good variety coffee house home\n",
      "실제 요약 : great <UNK>\n",
      "예측 요약 :  salty only real value peanut roast will\n",
      "\n",
      "\n",
      "원문 : good testing honey description claims <UNK> true great product price\n",
      "실제 요약 : good honey\n",
      "예측 요약 :  salty only real value peanut roast will\n",
      "\n",
      "\n",
      "원문 : bars preservatives junk many brands taste great grab whenever crave chocolate run highly recommend especially watching sugar carb intake\n",
      "실제 요약 : these bars are awesome\n",
      "예측 요약 :  salty only real value peanut roast will\n",
      "\n",
      "\n",
      "원문 : bonsai packed well looked great box shed lot leaves week arriving giving us scare new leaves sprouting place healthy growing\n",
      "실제 요약 : nice plant\n",
      "예측 요약 :  salty peanut roast peanut roast coconut like\n",
      "\n",
      "\n",
      "원문 : tastes like jerky strips big small absurd amount pepper whole pound twelve dollars <UNK> priced right unlike ck <UNK> like simple tasty beef jerky\n",
      "실제 요약 : delicious nutritious and cheap\n",
      "예측 요약 :  protein white real real get get get\n",
      "\n",
      "\n",
      "원문 : price like grocery store eligible subscribe save would perfect would surprised price double soon must say really good good price\n",
      "실제 요약 : awesome\n",
      "예측 요약 :  coconut white real that that has has\n",
      "\n",
      "\n",
      "원문 : <UNK> honey <UNK> reorder bottle came <UNK> plastic hoping would leak stuff purchased opened box <UNK> surprised\n",
      "실제 요약 : delicious\n",
      "예측 요약 :  they has has has has has has\n",
      "\n",
      "\n",
      "원문 : got works great good shipping good price love burned last one lol <UNK>\n",
      "실제 요약 : give it\n",
      "예측 요약 :  salty peanut mix peanut roast coconut like\n",
      "\n",
      "\n",
      "원문 : although enjoy flavor ordered tiny bit chocolate walnuts one still enjoyable flavor wonderful service ms <UNK> including hand signed coupon discount future orders along samples couple caramel flavors would order chocolate walnut flavor sure along <UNK> food gourmet salt\n",
      "실제 요약 : great <UNK>\n",
      "예측 요약 :  salty white only real value peanut roast\n",
      "\n",
      "\n",
      "원문 : real fan donut house coffees decaf tastes like regular brewed coffee tried\n",
      "실제 요약 : love donut house coffees\n",
      "예측 요약 :  salty peanut roast peanut roast coconut like\n",
      "\n",
      "\n",
      "원문 : enjoy popcorn saw amazon thought would give try wow really good solve need something crunchy urge getting often highly recommend getting share\n",
      "실제 요약 : these are wonderful\n",
      "예측 요약 :  salty only real value peanut roast will\n",
      "\n",
      "\n",
      "원문 : favorite <UNK> flavor shame seem fresh fact kind stale still good\n",
      "실제 요약 : umm umm good\n",
      "예측 요약 :  salty peanut mix peanut roast coconut like\n",
      "\n",
      "\n",
      "원문 : prime shipping made great last minute gift seems little pricey amount fish quality good end think better fruit basket something similar\n",
      "실제 요약 : makes good gift\n"
     ]
    },
    {
     "name": "stderr",
     "output_type": "stream",
     "text": [
      "<timed exec>:4: UserWarning: To copy construct from a tensor, it is recommended to use sourceTensor.detach().clone() or sourceTensor.detach().clone().requires_grad_(True), rather than torch.tensor(sourceTensor).\n",
      "/tmp/ipykernel_1259/3400655303.py:3: UserWarning: To copy construct from a tensor, it is recommended to use sourceTensor.detach().clone() or sourceTensor.detach().clone().requires_grad_(True), rather than torch.tensor(sourceTensor).\n",
      "  input_seq = torch.tensor(input_seq, dtype=torch.long, device=device)\n"
     ]
    },
    {
     "name": "stdout",
     "output_type": "stream",
     "text": [
      "예측 요약 :  salty only real value peanut roast will\n",
      "\n",
      "\n",
      "원문 : made excellent pie crust <UNK> sweet rice flour recommended recipe crust tender moist flaky tender broke easily able manage rolling plastic wrap taste die\n",
      "실제 요약 : pie making with sweet rice flour\n",
      "예측 요약 :  protein white real real that that that\n",
      "\n",
      "\n",
      "원문 : purchased bottles stuff keep squirrels corn garden sprayed around garden well directly onto ears <UNK> squirrels destroyed garden matter days applied product\n",
      "실제 요약 : dont waste your money\n",
      "예측 요약 :  quality greatgreat most has these has has\n",
      "\n",
      "\n",
      "원문 : special chocolatey delight cereal ounce boxes ordered granddaughter healthy breakfast one <UNK> lets eat\n",
      "실제 요약 : <UNK> favorite\n",
      "예측 요약 :  salty peanut mix peanut roast coconut like\n",
      "\n",
      "\n",
      "원문 : great treats dog older extra pounds decided buy loves also keeps occupied time eating\n",
      "실제 요약 : low calorie dental sticks\n",
      "예측 요약 :  salty only real value peanut roast will\n",
      "\n",
      "\n",
      "원문 : best crackers ever eaten unique taste habit forming\n",
      "실제 요약 : yummy\n",
      "예측 요약 :  salty greatgreat real value peanut roast will\n",
      "\n",
      "\n",
      "원문 : product fabulous delicious coffee great price packaging uses fraction plastic used traditional kcups\n",
      "실제 요약 : <UNK> <UNK>\n",
      "예측 요약 :  salty only real value peanut roast will\n",
      "\n",
      "\n",
      "CPU times: user 228 ms, sys: 7.03 ms, total: 235 ms\n",
      "Wall time: 233 ms\n"
     ]
    }
   ],
   "source": [
    "%%time\n",
    "for i in range(50, 100):\n",
    "    print(\"원문 :\", seq2text(encoder_input_test[i]))\n",
    "    print(\"실제 요약 :\", seq2summary(decoder_input_test[i]))\n",
    "    input_seq = torch.tensor(encoder_input_test[i], dtype=torch.long, device=device).unsqueeze(0)\n",
    "    print(\"예측 요약 :\", decode_sequence(input_seq, encoder, decoder, tar_word_to_index, tar_index_to_word, text_max_len, summary_max_len, device))\n",
    "    print(\"\\n\")"
   ]
  },
  {
   "cell_type": "markdown",
   "id": "46f160be-bf5f-46aa-9059-f4b95fe0d481",
   "metadata": {},
   "source": [
    "### 10. 추출적 요약 해보기"
   ]
  },
  {
   "cell_type": "code",
   "execution_count": 57,
   "id": "39797ecb-a1a9-4561-9564-dda3369794f8",
   "metadata": {},
   "outputs": [
    {
     "name": "stdout",
     "output_type": "stream",
     "text": [
      "Requirement already satisfied: summa in /opt/conda/lib/python3.12/site-packages (1.2.0)\n",
      "Requirement already satisfied: scipy>=0.19 in /opt/conda/lib/python3.12/site-packages (from summa) (1.15.2)\n",
      "Requirement already satisfied: numpy<2.5,>=1.23.5 in /opt/conda/lib/python3.12/site-packages (from scipy>=0.19->summa) (2.2.6)\n"
     ]
    }
   ],
   "source": [
    "!pip install summa"
   ]
  },
  {
   "cell_type": "code",
   "execution_count": 58,
   "id": "d80176fc-8b7f-4b90-b455-2d8a1d2dd868",
   "metadata": {},
   "outputs": [],
   "source": [
    "# 데이터 다운로드\n",
    "import requests\n",
    "from summa.summarizer import summarize"
   ]
  },
  {
   "cell_type": "code",
   "execution_count": 59,
   "id": "3ce6ba2f-809a-475d-a3e9-a7ee9bf69a6c",
   "metadata": {},
   "outputs": [],
   "source": [
    "# 매트릭스 시놉시스 다운로드\n",
    "\n",
    "url = \"https://raw.githubusercontent.com/modulabs/Aiffel_Resources/main/matrix_synopsis.txt\"\n",
    "text = requests.get(url, timeout=10).text"
   ]
  },
  {
   "cell_type": "code",
   "execution_count": 60,
   "id": "930c0f8c-0aed-488a-b901-8bfb4bff490e",
   "metadata": {},
   "outputs": [
    {
     "name": "stdout",
     "output_type": "stream",
     "text": [
      "In 1999, in an unnamed city, Computer programmer Thomas Anderson (Keanu Reeves) is secretly a hacker known as \"Neo\". He is restless, eager and driven to learn the meaning of cryptic references to the \"Matrix\" appearing on his computer. A woman named Trinity is observing Neo, and she does so knowing that Morpheus believes that Neo is \"the One\".\n",
      "\n",
      "During one of her forays, Trinity is tracked down by the local police to her hotel room. Outside the hotel a car drives up and three agents appear in neatly pressed black suits. They are Agent Smith (Hugo Weaving), Agent Brown (Paul Goddard), and Agent Jones (Robert Taylor). Trinity calls Morpheus and says that her line was tracked and Morpheus orders her to find another exit. Trinity easily defeats the six policemen sent to apprehend her, using fighting and evasion techniques that seem to defy gravity.\n",
      "\n",
      "A fierce rooftop chase ensues with Trinity and an Agent leaping impossibly from one building to the next, astonishing the policemen left behind. Trinity makes a daring leap across an alley and through a small window. Trinity makes it to a public phone booth on the street level. The phone begins to ring. As she approaches it a garbage truck, driven by Agent Smith, careens towards the phone booth. Trinity makes a desperate dash to the phone, picking it up just moments before the truck smashes the booth into a brick wall. The three Agents find no body in the wreckage. \"She got out,\" one says. The other says, \"The informant is real.\" \"\n"
     ]
    }
   ],
   "source": [
    "# 일부만 출력해보기\n",
    "\n",
    "print(text[:1500])"
   ]
  },
  {
   "cell_type": "markdown",
   "id": "a7c62f79-397c-468e-922d-25ad6506a677",
   "metadata": {},
   "source": [
    "#### Summa - summarize()\n",
    "\n",
    "- ```text (str)``` : 요약할 테스트.\n",
    "- ```ratio (float, optional)``` : 요약문에서 원본에서 선택되는 문장 비율. (0~1 사이 값)\n",
    "- ```words (int or None, optional)``` : 출력에 포함할 단어 수. 만약, ratio와 함께 두 파라미터가 모두 제공되는 경우 ratio는 무시합니다.\n",
    "- ```split (bool, optional)``` : True면 문장 list / False는 조인(join)된 문자열을 반환합니다.\n",
    "\n",
    "- Summa의 summarize는 문장 토큰화를 별도로 하지 않더라도 내부적으로 문장 토큰화를 수행합니다. (원문을 입력으로 넣을 수 있음)"
   ]
  },
  {
   "cell_type": "code",
   "execution_count": 61,
   "id": "25bacee9-1d81-412c-ab50-2b9d56495e18",
   "metadata": {},
   "outputs": [
    {
     "name": "stdout",
     "output_type": "stream",
     "text": [
      "Summary:\n",
      "Morpheus and Trinity use a telephone to exit the Matrix, but Neo is ambushed by Agent Smith.\n"
     ]
    }
   ],
   "source": [
    "print('Summary:')\n",
    "print(summarize(text, ratio=0.01))"
   ]
  },
  {
   "cell_type": "code",
   "execution_count": 64,
   "id": "3dd46393-c251-4169-81d2-8bc3dd878713",
   "metadata": {},
   "outputs": [
    {
     "name": "stdout",
     "output_type": "stream",
     "text": [
      "Summary:\n",
      "The Agents interrogate Neo about Morpheus, but he refuses to cooperate.\n",
      "Trinity and her allies bring Neo to Morpheus, their leader.\n",
      "\"This,\" he says, showing an image of a modern city, \"is the world that you know.\" A thing that really exists \"only as part of a neural, interactive simulation that we call the Matrix.\" Morpheus then shows Neo the world as it truly exists today, a scarred, desolate emptiness with charred, abandoned buildings, black earth, and a shrouded sky.\n",
      "Morpheus liberated Neo because he believes him to be \"the One\", a prophesied figure destined to dismantle the Matrix and liberate humanity by ending the war with the machines.\n",
      "Morpheus and Neo are walking down a standard city street in what appears to be the Matrix.\n",
      "Morpheus and Trinity use a telephone to exit the Matrix, but Neo is ambushed by Agent Smith.\n",
      "Neo revives with new power to perceive and control the Matrix, and effortlessly destroys Agent Smith, before returning to the real world in time for the ship's EMP weapon to destroy the attacking sentinels.\n"
     ]
    }
   ],
   "source": [
    "print('Summary:')\n",
    "print(summarize(text, ratio=0.05))"
   ]
  },
  {
   "cell_type": "code",
   "execution_count": 65,
   "id": "68ed1b58-8bb2-4054-9ff4-6faa6ed74038",
   "metadata": {},
   "outputs": [
    {
     "name": "stdout",
     "output_type": "stream",
     "text": [
      "Summary:\n",
      "['Morpheus and Trinity use a telephone to exit the Matrix, but Neo is ambushed by Agent Smith.']\n"
     ]
    }
   ],
   "source": [
    "print('Summary:')\n",
    "print(summarize(text, ratio=0.01, split=True))"
   ]
  },
  {
   "cell_type": "code",
   "execution_count": 66,
   "id": "8beb7fbd-0194-4af8-a365-a5461b43baf9",
   "metadata": {},
   "outputs": [
    {
     "name": "stdout",
     "output_type": "stream",
     "text": [
      "Summary:\n",
      "Morpheus and Neo are walking down a standard city street in what appears to be the Matrix.\n",
      "Morpheus and Trinity use a telephone to exit the Matrix, but Neo is ambushed by Agent Smith.\n"
     ]
    }
   ],
   "source": [
    "# 단어 수를 설정하여 요약문의 크기 조절 가능\n",
    "\n",
    "print('Summary:')\n",
    "print(summarize(text, words=50))"
   ]
  },
  {
   "cell_type": "code",
   "execution_count": null,
   "id": "2a4922ef-94ec-4969-9d70-4fcda8b799af",
   "metadata": {},
   "outputs": [],
   "source": []
  }
 ],
 "metadata": {
  "kernelspec": {
   "display_name": "Python 3",
   "language": "python",
   "name": "python3"
  },
  "language_info": {
   "codemirror_mode": {
    "name": "ipython",
    "version": 3
   },
   "file_extension": ".py",
   "mimetype": "text/x-python",
   "name": "python",
   "nbconvert_exporter": "python",
   "pygments_lexer": "ipython3",
   "version": "3.10.11"
  }
 },
 "nbformat": 4,
 "nbformat_minor": 5
}
