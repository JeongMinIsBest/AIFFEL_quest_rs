{
 "cells": [
  {
   "cell_type": "markdown",
   "id": "5610a48b-e92e-4da6-a364-87f2505dc60d",
   "metadata": {},
   "source": [
    "# 프로젝트 : mini BERT 만들기\n",
    "- vocab size: 8000\n",
    "- 전체 파라미터 : 1M\n",
    "- epoch : 10"
   ]
  },
  {
   "cell_type": "code",
   "execution_count": 1,
   "id": "3c15f321-8027-40ea-be78-66b49154dc33",
   "metadata": {},
   "outputs": [],
   "source": [
    "from __future__ import absolute_import, division, print_function, unicode_literals\n",
    "\n",
    "import torch\n",
    "import torch.nn as nn\n",
    "import torch.nn.functional as F\n",
    "import torch.optim as optim\n",
    "from torch.utils.data import DataLoader, TensorDataset\n",
    "\n",
    "import os\n",
    "import numpy as np\n",
    "import random\n",
    "import collections\n",
    "import json\n",
    "import math\n",
    "\n",
    "import matplotlib.pyplot as plt\n",
    "import seaborn as sns\n",
    "import sentencepiece as spm\n",
    "from tqdm.notebook import tqdm"
   ]
  },
  {
   "cell_type": "code",
   "execution_count": 2,
   "id": "a596f8e2-ba17-4fff-b0bb-c09d88b1bf3c",
   "metadata": {},
   "outputs": [
    {
     "name": "stdout",
     "output_type": "stream",
     "text": [
      "사용 장치: cuda\n"
     ]
    }
   ],
   "source": [
    "# 재현성을 위한 Random seed 설정\n",
    "random_seed = 1234\n",
    "random.seed(random_seed)\n",
    "np.random.seed(random_seed)\n",
    "torch.manual_seed(random_seed)\n",
    "if torch.cuda.is_available():\n",
    "    torch.cuda.manual_seed_all(random_seed)\n",
    "\n",
    "# 장치 설정\n",
    "device = torch.device(\"cuda\" if torch.cuda.is_available() else \"cpu\")\n",
    "print(f\"사용 장치: {device}\")"
   ]
  },
  {
   "cell_type": "markdown",
   "id": "615a1ad5-0abd-45da-a2a5-dc1b0b7ee842",
   "metadata": {},
   "source": [
    "## 1. 토크나이저(Tokenizer) 준비\n",
    "- SentencePiece 모델을 이용해 BERT의 MLM 학습용 데이터를 만듭니다.\n",
    "- 한글 나무 위키 코퍼스(`kowiki.txt`)로부터 8000의 vocab_size를 갖는 sentencepiece 모델을 만듭니다.\n",
    "- BERT에 사용되는 주요 특수문자가 vocab에 포함되도록 합니다: `[PAD], [UNK], [BOS], [EOS], [SEP], [CLS], [MASK]`"
   ]
  },
  {
   "cell_type": "code",
   "execution_count": 3,
   "id": "26a6591f-6a6e-4cbe-8021-a32dd8f874d1",
   "metadata": {},
   "outputs": [
    {
     "data": {
      "text/plain": [
       "'/home/jovyan/work/bert_pretrain'"
      ]
     },
     "execution_count": 3,
     "metadata": {},
     "output_type": "execute_result"
    }
   ],
   "source": [
    "pwd"
   ]
  },
  {
   "cell_type": "code",
   "execution_count": 4,
   "id": "0a0106af-4797-455a-a0be-ac40bee05b4c",
   "metadata": {
    "scrolled": true
   },
   "outputs": [
    {
     "name": "stdout",
     "output_type": "stream",
     "text": [
      "SentencePiece 모델 훈련을 시작합니다...\n",
      "모델 훈련이 완료되었습니다.\n",
      "랜덤 마스킹을 위한 어휘 목록 생성 완료 (8000개 토큰)\n"
     ]
    },
    {
     "name": "stderr",
     "output_type": "stream",
     "text": [
      "sentencepiece_trainer.cc(178) LOG(INFO) Running command: --input=data/kowiki.txt --model_prefix=ko_8000 --vocab_size=8007 --model_type=bpe --max_sentence_length=999999 --pad_id=0 --pad_piece=[PAD] --unk_id=1 --unk_piece=[UNK] --bos_id=2 --bos_piece=[BOS] --eos_id=3 --eos_piece=[EOS] --user_defined_symbols=[SEP],[CLS],[MASK]\n",
      "sentencepiece_trainer.cc(78) LOG(INFO) Starts training with : \n",
      "trainer_spec {\n",
      "  input: data/kowiki.txt\n",
      "  input_format: \n",
      "  model_prefix: ko_8000\n",
      "  model_type: BPE\n",
      "  vocab_size: 8007\n",
      "  self_test_sample_size: 0\n",
      "  character_coverage: 0.9995\n",
      "  input_sentence_size: 0\n",
      "  shuffle_input_sentence: 1\n",
      "  seed_sentencepiece_size: 1000000\n",
      "  shrinking_factor: 0.75\n",
      "  max_sentence_length: 999999\n",
      "  num_threads: 16\n",
      "  num_sub_iterations: 2\n",
      "  max_sentencepiece_length: 16\n",
      "  split_by_unicode_script: 1\n",
      "  split_by_number: 1\n",
      "  split_by_whitespace: 1\n",
      "  split_digits: 0\n",
      "  pretokenization_delimiter: \n",
      "  treat_whitespace_as_suffix: 0\n",
      "  allow_whitespace_only_pieces: 0\n",
      "  user_defined_symbols: [SEP]\n",
      "  user_defined_symbols: [CLS]\n",
      "  user_defined_symbols: [MASK]\n",
      "  required_chars: \n",
      "  byte_fallback: 0\n",
      "  vocabulary_output_piece_score: 1\n",
      "  train_extremely_large_corpus: 0\n",
      "  seed_sentencepieces_file: \n",
      "  hard_vocab_limit: 1\n",
      "  use_all_vocab: 0\n",
      "  unk_id: 1\n",
      "  bos_id: 2\n",
      "  eos_id: 3\n",
      "  pad_id: 0\n",
      "  unk_piece: [UNK]\n",
      "  bos_piece: [BOS]\n",
      "  eos_piece: [EOS]\n",
      "  pad_piece: [PAD]\n",
      "  unk_surface:  ⁇ \n",
      "  enable_differential_privacy: 0\n",
      "  differential_privacy_noise_level: 0\n",
      "  differential_privacy_clipping_threshold: 0\n",
      "}\n",
      "normalizer_spec {\n",
      "  name: nmt_nfkc\n",
      "  add_dummy_prefix: 1\n",
      "  remove_extra_whitespaces: 1\n",
      "  escape_whitespaces: 1\n",
      "  normalization_rule_tsv: \n",
      "}\n",
      "denormalizer_spec {}\n",
      "trainer_interface.cc(355) LOG(INFO) SentenceIterator is not specified. Using MultiFileSentenceIterator.\n",
      "trainer_interface.cc(186) LOG(INFO) Loading corpus: data/kowiki.txt\n",
      "trainer_interface.cc(148) LOG(INFO) Loaded 1000000 lines\n",
      "trainer_interface.cc(148) LOG(INFO) Loaded 2000000 lines\n",
      "trainer_interface.cc(125) LOG(WARNING) Too many sentences are loaded! (2451287), which may slow down training.\n",
      "trainer_interface.cc(127) LOG(WARNING) Consider using --input_sentence_size=<size> and --shuffle_input_sentence=true.\n",
      "trainer_interface.cc(130) LOG(WARNING) They allow to randomly sample <size> sentences from the entire corpus.\n",
      "trainer_interface.cc(411) LOG(INFO) Loaded all 2451287 sentences\n",
      "trainer_interface.cc(427) LOG(INFO) Adding meta_piece: [PAD]\n",
      "trainer_interface.cc(427) LOG(INFO) Adding meta_piece: [UNK]\n",
      "trainer_interface.cc(427) LOG(INFO) Adding meta_piece: [BOS]\n",
      "trainer_interface.cc(427) LOG(INFO) Adding meta_piece: [EOS]\n",
      "trainer_interface.cc(427) LOG(INFO) Adding meta_piece: [SEP]\n",
      "trainer_interface.cc(427) LOG(INFO) Adding meta_piece: [CLS]\n",
      "trainer_interface.cc(427) LOG(INFO) Adding meta_piece: [MASK]\n",
      "trainer_interface.cc(432) LOG(INFO) Normalizing sentences...\n",
      "trainer_interface.cc(541) LOG(INFO) all chars count=287452241\n",
      "trainer_interface.cc(552) LOG(INFO) Done: 99.95% characters are covered.\n",
      "trainer_interface.cc(562) LOG(INFO) Alphabet size=4411\n",
      "trainer_interface.cc(563) LOG(INFO) Final character coverage=0.9995\n",
      "trainer_interface.cc(594) LOG(INFO) Done! preprocessed 2450254 sentences.\n",
      "trainer_interface.cc(600) LOG(INFO) Tokenizing input sentences with whitespace: 2450254\n",
      "trainer_interface.cc(611) LOG(INFO) Done! 7050692\n",
      "bpe_model_trainer.cc(159) LOG(INFO) Updating active symbols. max_freq=1781571 min_freq=424\n",
      "bpe_model_trainer.cc(268) LOG(INFO) Added: freq=576838 size=20 all=582126 active=38592 piece=▁아\n",
      "bpe_model_trainer.cc(268) LOG(INFO) Added: freq=390836 size=40 all=591644 active=48110 piece=▁유\n",
      "bpe_model_trainer.cc(268) LOG(INFO) Added: freq=297873 size=60 all=601577 active=58043 piece=에는\n",
      "bpe_model_trainer.cc(268) LOG(INFO) Added: freq=244712 size=80 all=610173 active=66639 piece=▁성\n",
      "bpe_model_trainer.cc(268) LOG(INFO) Added: freq=196327 size=100 all=616231 active=72697 piece=▁바\n",
      "bpe_model_trainer.cc(159) LOG(INFO) Updating active symbols. max_freq=194372 min_freq=463\n",
      "bpe_model_trainer.cc(268) LOG(INFO) Added: freq=177154 size=120 all=625561 active=39640 piece=▁6\n",
      "bpe_model_trainer.cc(268) LOG(INFO) Added: freq=154294 size=140 all=632541 active=46620 piece=▁파\n",
      "bpe_model_trainer.cc(268) LOG(INFO) Added: freq=141052 size=160 all=639958 active=54037 piece=▁이후\n",
      "bpe_model_trainer.cc(268) LOG(INFO) Added: freq=125983 size=180 all=645684 active=59763 piece=▁요\n",
      "bpe_model_trainer.cc(268) LOG(INFO) Added: freq=114855 size=200 all=650043 active=64122 piece=리아\n",
      "bpe_model_trainer.cc(159) LOG(INFO) Updating active symbols. max_freq=114086 min_freq=457\n",
      "bpe_model_trainer.cc(268) LOG(INFO) Added: freq=106760 size=220 all=657544 active=39328 piece=▁같은\n",
      "bpe_model_trainer.cc(268) LOG(INFO) Added: freq=100770 size=240 all=662770 active=44554 piece=▁왕\n",
      "bpe_model_trainer.cc(268) LOG(INFO) Added: freq=96037 size=260 all=670744 active=52528 piece=▁목\n",
      "bpe_model_trainer.cc(268) LOG(INFO) Added: freq=88392 size=280 all=675649 active=57433 piece=▁f\n",
      "bpe_model_trainer.cc(268) LOG(INFO) Added: freq=81678 size=300 all=681909 active=63693 piece=▁선수\n",
      "bpe_model_trainer.cc(159) LOG(INFO) Updating active symbols. max_freq=80870 min_freq=446\n",
      "bpe_model_trainer.cc(268) LOG(INFO) Added: freq=77144 size=320 all=687140 active=39175 piece=▁때문에\n",
      "bpe_model_trainer.cc(268) LOG(INFO) Added: freq=73218 size=340 all=691210 active=43245 piece=▁조선\n",
      "bpe_model_trainer.cc(268) LOG(INFO) Added: freq=68829 size=360 all=695928 active=47963 piece=▁천\n",
      "bpe_model_trainer.cc(268) LOG(INFO) Added: freq=64009 size=380 all=701050 active=53085 piece=▁196\n",
      "bpe_model_trainer.cc(268) LOG(INFO) Added: freq=60953 size=400 all=706887 active=58922 piece=▁돌\n",
      "bpe_model_trainer.cc(159) LOG(INFO) Updating active symbols. max_freq=60762 min_freq=435\n",
      "bpe_model_trainer.cc(268) LOG(INFO) Added: freq=58542 size=420 all=711562 active=39722 piece=▁다시\n",
      "bpe_model_trainer.cc(268) LOG(INFO) Added: freq=55779 size=440 all=715589 active=43749 piece=▁K\n",
      "bpe_model_trainer.cc(268) LOG(INFO) Added: freq=52528 size=460 all=722052 active=50212 piece=▁모두\n",
      "bpe_model_trainer.cc(268) LOG(INFO) Added: freq=49784 size=480 all=727569 active=55729 piece=▁히\n",
      "bpe_model_trainer.cc(268) LOG(INFO) Added: freq=47637 size=500 all=733251 active=61411 piece=▁전쟁\n",
      "bpe_model_trainer.cc(159) LOG(INFO) Updating active symbols. max_freq=47558 min_freq=423\n",
      "bpe_model_trainer.cc(268) LOG(INFO) Added: freq=45923 size=520 all=738389 active=41602 piece=▁구성\n",
      "bpe_model_trainer.cc(268) LOG(INFO) Added: freq=44255 size=540 all=744183 active=47396 piece=▁것은\n",
      "bpe_model_trainer.cc(268) LOG(INFO) Added: freq=42385 size=560 all=748404 active=51617 piece=▁환\n",
      "bpe_model_trainer.cc(268) LOG(INFO) Added: freq=40922 size=580 all=752328 active=55541 piece=▁H\n",
      "bpe_model_trainer.cc(268) LOG(INFO) Added: freq=39922 size=600 all=755356 active=58569 piece=le\n",
      "bpe_model_trainer.cc(159) LOG(INFO) Updating active symbols. max_freq=39768 min_freq=414\n",
      "bpe_model_trainer.cc(268) LOG(INFO) Added: freq=38924 size=620 all=761418 active=43661 piece=▁검\n",
      "bpe_model_trainer.cc(268) LOG(INFO) Added: freq=37771 size=640 all=767590 active=49833 piece=란드\n",
      "bpe_model_trainer.cc(268) LOG(INFO) Added: freq=36292 size=660 all=773051 active=55294 piece=정을\n",
      "bpe_model_trainer.cc(268) LOG(INFO) Added: freq=35134 size=680 all=778929 active=61172 piece=▁설립\n",
      "bpe_model_trainer.cc(268) LOG(INFO) Added: freq=34016 size=700 all=783934 active=66177 piece=▁역사\n",
      "bpe_model_trainer.cc(159) LOG(INFO) Updating active symbols. max_freq=34003 min_freq=400\n",
      "bpe_model_trainer.cc(268) LOG(INFO) Added: freq=33144 size=720 all=787458 active=42518 piece=▁만들어\n",
      "bpe_model_trainer.cc(268) LOG(INFO) Added: freq=32383 size=740 all=791753 active=46813 piece=▁시간\n",
      "bpe_model_trainer.cc(268) LOG(INFO) Added: freq=31645 size=760 all=795346 active=50406 piece=▁측\n",
      "bpe_model_trainer.cc(268) LOG(INFO) Added: freq=30941 size=780 all=799060 active=54120 piece=과의\n",
      "bpe_model_trainer.cc(268) LOG(INFO) Added: freq=30041 size=800 all=803265 active=58325 piece=도는\n",
      "bpe_model_trainer.cc(159) LOG(INFO) Updating active symbols. max_freq=30023 min_freq=392\n",
      "bpe_model_trainer.cc(268) LOG(INFO) Added: freq=29448 size=820 all=808761 active=45110 piece=▁난\n",
      "bpe_model_trainer.cc(268) LOG(INFO) Added: freq=28836 size=840 all=814110 active=50459 piece=▁21\n",
      "bpe_model_trainer.cc(268) LOG(INFO) Added: freq=28270 size=860 all=818869 active=55218 piece=▁찾\n",
      "bpe_model_trainer.cc(268) LOG(INFO) Added: freq=27295 size=880 all=825187 active=61536 piece=▁운동\n",
      "bpe_model_trainer.cc(268) LOG(INFO) Added: freq=26833 size=900 all=829002 active=65351 piece=운데\n",
      "bpe_model_trainer.cc(159) LOG(INFO) Updating active symbols. max_freq=26636 min_freq=381\n",
      "bpe_model_trainer.cc(268) LOG(INFO) Added: freq=26058 size=920 all=833233 active=45564 piece=▁쿠\n",
      "bpe_model_trainer.cc(268) LOG(INFO) Added: freq=25418 size=940 all=839571 active=51902 piece=▁힘\n",
      "bpe_model_trainer.cc(268) LOG(INFO) Added: freq=24697 size=960 all=843551 active=55882 piece=as\n",
      "bpe_model_trainer.cc(268) LOG(INFO) Added: freq=24067 size=980 all=848606 active=60937 piece=▁거의\n",
      "bpe_model_trainer.cc(268) LOG(INFO) Added: freq=23602 size=1000 all=854020 active=66351 piece=인다\n",
      "bpe_model_trainer.cc(159) LOG(INFO) Updating active symbols. max_freq=23592 min_freq=368\n",
      "bpe_model_trainer.cc(268) LOG(INFO) Added: freq=23176 size=1020 all=859744 active=48270 piece=▁마지\n",
      "bpe_model_trainer.cc(268) LOG(INFO) Added: freq=22849 size=1040 all=863344 active=51870 piece=▁시리즈\n",
      "bpe_model_trainer.cc(268) LOG(INFO) Added: freq=22293 size=1060 all=868893 active=57419 piece=제로\n",
      "bpe_model_trainer.cc(268) LOG(INFO) Added: freq=21851 size=1080 all=873291 active=61817 piece=시의\n",
      "bpe_model_trainer.cc(268) LOG(INFO) Added: freq=21377 size=1100 all=878493 active=67019 piece=해야\n",
      "bpe_model_trainer.cc(159) LOG(INFO) Updating active symbols. max_freq=21369 min_freq=355\n",
      "bpe_model_trainer.cc(268) LOG(INFO) Added: freq=21043 size=1120 all=882219 active=47104 piece=▁��\n",
      "bpe_model_trainer.cc(268) LOG(INFO) Added: freq=20625 size=1140 all=886482 active=51367 piece=▁인구는\n",
      "bpe_model_trainer.cc(268) LOG(INFO) Added: freq=20185 size=1160 all=889598 active=54483 piece=ac\n",
      "bpe_model_trainer.cc(268) LOG(INFO) Added: freq=19766 size=1180 all=895077 active=59962 piece=▁뜻은\n",
      "bpe_model_trainer.cc(268) LOG(INFO) Added: freq=19449 size=1200 all=899420 active=64305 piece=어는\n",
      "bpe_model_trainer.cc(159) LOG(INFO) Updating active symbols. max_freq=19447 min_freq=346\n",
      "bpe_model_trainer.cc(268) LOG(INFO) Added: freq=19166 size=1220 all=903222 active=48313 piece=▁티\n",
      "bpe_model_trainer.cc(268) LOG(INFO) Added: freq=18807 size=1240 all=907756 active=52847 piece=레스\n",
      "bpe_model_trainer.cc(268) LOG(INFO) Added: freq=18399 size=1260 all=913074 active=58165 piece=장의\n",
      "bpe_model_trainer.cc(268) LOG(INFO) Added: freq=18047 size=1280 all=917510 active=62601 piece=▁계약\n",
      "bpe_model_trainer.cc(268) LOG(INFO) Added: freq=17668 size=1300 all=922499 active=67590 piece=▁189\n",
      "bpe_model_trainer.cc(159) LOG(INFO) Updating active symbols. max_freq=17659 min_freq=335\n",
      "bpe_model_trainer.cc(268) LOG(INFO) Added: freq=17411 size=1320 all=926656 active=50263 piece=▁이때\n",
      "bpe_model_trainer.cc(268) LOG(INFO) Added: freq=17101 size=1340 all=929818 active=53425 piece=▁되고\n",
      "bpe_model_trainer.cc(268) LOG(INFO) Added: freq=16937 size=1360 all=934594 active=58201 piece=▁있다고\n",
      "bpe_model_trainer.cc(268) LOG(INFO) Added: freq=16726 size=1380 all=939816 active=63423 piece=시마\n",
      "bpe_model_trainer.cc(268) LOG(INFO) Added: freq=16589 size=1400 all=943555 active=67162 piece=▁벨\n",
      "bpe_model_trainer.cc(159) LOG(INFO) Updating active symbols. max_freq=16586 min_freq=327\n",
      "bpe_model_trainer.cc(268) LOG(INFO) Added: freq=16331 size=1420 all=947825 active=51221 piece=▁태양\n",
      "bpe_model_trainer.cc(268) LOG(INFO) Added: freq=16091 size=1440 all=952139 active=55535 piece=텔레\n",
      "bpe_model_trainer.cc(268) LOG(INFO) Added: freq=15883 size=1460 all=957265 active=60661 piece=화가\n",
      "bpe_model_trainer.cc(268) LOG(INFO) Added: freq=15587 size=1480 all=963004 active=66400 piece=▁2001\n",
      "bpe_model_trainer.cc(268) LOG(INFO) Added: freq=15356 size=1500 all=966598 active=69994 piece=▁획\n",
      "bpe_model_trainer.cc(159) LOG(INFO) Updating active symbols. max_freq=15352 min_freq=318\n",
      "bpe_model_trainer.cc(268) LOG(INFO) Added: freq=15114 size=1520 all=969225 active=50898 piece=▁담당\n",
      "bpe_model_trainer.cc(268) LOG(INFO) Added: freq=14985 size=1540 all=972896 active=54569 piece=▁착\n",
      "bpe_model_trainer.cc(268) LOG(INFO) Added: freq=14761 size=1560 all=977472 active=59145 piece=-2\n",
      "bpe_model_trainer.cc(268) LOG(INFO) Added: freq=14495 size=1580 all=982327 active=64000 piece=▁가족\n",
      "bpe_model_trainer.cc(268) LOG(INFO) Added: freq=14294 size=1600 all=986147 active=67820 piece=종의\n",
      "bpe_model_trainer.cc(159) LOG(INFO) Updating active symbols. max_freq=14294 min_freq=311\n",
      "bpe_model_trainer.cc(268) LOG(INFO) Added: freq=14119 size=1620 all=990197 active=53018 piece=.2\n",
      "bpe_model_trainer.cc(268) LOG(INFO) Added: freq=13998 size=1640 all=993466 active=56287 piece=면에\n",
      "bpe_model_trainer.cc(268) LOG(INFO) Added: freq=13754 size=1660 all=997016 active=59837 piece=적이\n",
      "bpe_model_trainer.cc(268) LOG(INFO) Added: freq=13568 size=1680 all=1001754 active=64575 piece=13\n",
      "bpe_model_trainer.cc(268) LOG(INFO) Added: freq=13433 size=1700 all=1006835 active=69656 piece=▁더욱\n",
      "bpe_model_trainer.cc(159) LOG(INFO) Updating active symbols. max_freq=13420 min_freq=303\n",
      "bpe_model_trainer.cc(268) LOG(INFO) Added: freq=13181 size=1720 all=1011125 active=54621 piece=세를\n",
      "bpe_model_trainer.cc(268) LOG(INFO) Added: freq=12986 size=1740 all=1015589 active=59085 piece=▁정당\n",
      "bpe_model_trainer.cc(268) LOG(INFO) Added: freq=12826 size=1760 all=1019905 active=63401 piece=프로\n",
      "bpe_model_trainer.cc(268) LOG(INFO) Added: freq=12646 size=1780 all=1023427 active=66923 piece=▁점령\n",
      "bpe_model_trainer.cc(268) LOG(INFO) Added: freq=12513 size=1800 all=1028536 active=72032 piece=▁이들은\n",
      "bpe_model_trainer.cc(159) LOG(INFO) Updating active symbols. max_freq=12505 min_freq=295\n",
      "bpe_model_trainer.cc(268) LOG(INFO) Added: freq=12411 size=1820 all=1033157 active=56046 piece=이지만\n",
      "bpe_model_trainer.cc(268) LOG(INFO) Added: freq=12261 size=1840 all=1037481 active=60370 piece=▁국가대표팀\n",
      "bpe_model_trainer.cc(268) LOG(INFO) Added: freq=12092 size=1860 all=1042145 active=65034 piece=▁조약\n",
      "bpe_model_trainer.cc(268) LOG(INFO) Added: freq=11952 size=1880 all=1045742 active=68631 piece=▁면적은\n",
      "bpe_model_trainer.cc(268) LOG(INFO) Added: freq=11814 size=1900 all=1048196 active=71085 piece=▁구분\n",
      "bpe_model_trainer.cc(159) LOG(INFO) Updating active symbols. max_freq=11799 min_freq=288\n",
      "bpe_model_trainer.cc(268) LOG(INFO) Added: freq=11708 size=1920 all=1050468 active=54517 piece=▁우리\n",
      "bpe_model_trainer.cc(268) LOG(INFO) Added: freq=11596 size=1940 all=1054043 active=58092 piece=▁1992\n",
      "bpe_model_trainer.cc(268) LOG(INFO) Added: freq=11496 size=1960 all=1058226 active=62275 piece=▁사이의\n",
      "bpe_model_trainer.cc(268) LOG(INFO) Added: freq=11381 size=1980 all=1063646 active=67695 piece=단이\n",
      "bpe_model_trainer.cc(268) LOG(INFO) Added: freq=11289 size=2000 all=1068113 active=72162 piece=im\n",
      "bpe_model_trainer.cc(159) LOG(INFO) Updating active symbols. max_freq=11277 min_freq=281\n",
      "bpe_model_trainer.cc(268) LOG(INFO) Added: freq=11133 size=2020 all=1072116 active=57178 piece=▁등과\n",
      "bpe_model_trainer.cc(268) LOG(INFO) Added: freq=10994 size=2040 all=1077382 active=62444 piece=법을\n",
      "bpe_model_trainer.cc(268) LOG(INFO) Added: freq=10895 size=2060 all=1081563 active=66625 piece=▁괴\n",
      "bpe_model_trainer.cc(268) LOG(INFO) Added: freq=10776 size=2080 all=1085114 active=70176 piece=러스\n",
      "bpe_model_trainer.cc(268) LOG(INFO) Added: freq=10692 size=2100 all=1089559 active=74621 piece=▁깨\n",
      "bpe_model_trainer.cc(159) LOG(INFO) Updating active symbols. max_freq=10688 min_freq=274\n",
      "bpe_model_trainer.cc(268) LOG(INFO) Added: freq=10597 size=2120 all=1091805 active=56596 piece=릭터\n",
      "bpe_model_trainer.cc(268) LOG(INFO) Added: freq=10496 size=2140 all=1095409 active=60200 piece=▁확장\n",
      "bpe_model_trainer.cc(268) LOG(INFO) Added: freq=10396 size=2160 all=1100739 active=65530 piece=었던\n",
      "bpe_model_trainer.cc(268) LOG(INFO) Added: freq=10271 size=2180 all=1104564 active=69355 piece=▁남부\n",
      "bpe_model_trainer.cc(268) LOG(INFO) Added: freq=10143 size=2200 all=1108858 active=73649 piece=▁스포츠\n",
      "bpe_model_trainer.cc(159) LOG(INFO) Updating active symbols. max_freq=10136 min_freq=268\n",
      "bpe_model_trainer.cc(268) LOG(INFO) Added: freq=10057 size=2220 all=1112078 active=58441 piece=▁이외\n",
      "bpe_model_trainer.cc(268) LOG(INFO) Added: freq=9957 size=2240 all=1115466 active=61829 piece=▁서식\n",
      "bpe_model_trainer.cc(268) LOG(INFO) Added: freq=9848 size=2260 all=1120447 active=66810 piece=▁작용\n",
      "bpe_model_trainer.cc(268) LOG(INFO) Added: freq=9732 size=2280 all=1124674 active=71037 piece=▁이야기\n",
      "bpe_model_trainer.cc(268) LOG(INFO) Added: freq=9655 size=2300 all=1129337 active=75700 piece=▁성립\n",
      "bpe_model_trainer.cc(159) LOG(INFO) Updating active symbols. max_freq=9653 min_freq=261\n",
      "bpe_model_trainer.cc(268) LOG(INFO) Added: freq=9570 size=2320 all=1132295 active=59295 piece=▁떨어진\n",
      "bpe_model_trainer.cc(268) LOG(INFO) Added: freq=9473 size=2340 all=1136114 active=63114 piece=시를\n",
      "bpe_model_trainer.cc(268) LOG(INFO) Added: freq=9352 size=2360 all=1139912 active=66912 piece=▁히로\n",
      "bpe_model_trainer.cc(268) LOG(INFO) Added: freq=9289 size=2380 all=1142868 active=69868 piece=▁부정\n",
      "bpe_model_trainer.cc(268) LOG(INFO) Added: freq=9219 size=2400 all=1147776 active=74776 piece=▁2020\n",
      "bpe_model_trainer.cc(159) LOG(INFO) Updating active symbols. max_freq=9217 min_freq=256\n",
      "bpe_model_trainer.cc(268) LOG(INFO) Added: freq=9137 size=2420 all=1150462 active=60044 piece=▁상징\n",
      "bpe_model_trainer.cc(268) LOG(INFO) Added: freq=9028 size=2440 all=1154122 active=63704 piece=▁1950\n",
      "bpe_model_trainer.cc(268) LOG(INFO) Added: freq=8965 size=2460 all=1157383 active=66965 piece=▁표시\n",
      "bpe_model_trainer.cc(268) LOG(INFO) Added: freq=8889 size=2480 all=1162500 active=72082 piece=▁사용된다\n",
      "bpe_model_trainer.cc(268) LOG(INFO) Added: freq=8826 size=2500 all=1165937 active=75519 piece=사회\n",
      "bpe_model_trainer.cc(159) LOG(INFO) Updating active symbols. max_freq=8826 min_freq=250\n",
      "bpe_model_trainer.cc(268) LOG(INFO) Added: freq=8738 size=2520 all=1169455 active=61166 piece=▁동생\n",
      "bpe_model_trainer.cc(268) LOG(INFO) Added: freq=8694 size=2540 all=1173778 active=65489 piece=ie\n",
      "bpe_model_trainer.cc(268) LOG(INFO) Added: freq=8641 size=2560 all=1177034 active=68745 piece=▁경상북도\n",
      "bpe_model_trainer.cc(268) LOG(INFO) Added: freq=8570 size=2580 all=1181118 active=72829 piece=▁계승\n",
      "bpe_model_trainer.cc(268) LOG(INFO) Added: freq=8489 size=2600 all=1184979 active=76690 piece=▁1985\n",
      "bpe_model_trainer.cc(159) LOG(INFO) Updating active symbols. max_freq=8487 min_freq=246\n",
      "bpe_model_trainer.cc(268) LOG(INFO) Added: freq=8434 size=2620 all=1188425 active=62677 piece=력의\n",
      "bpe_model_trainer.cc(268) LOG(INFO) Added: freq=8345 size=2640 all=1191647 active=65899 piece=인지\n",
      "bpe_model_trainer.cc(268) LOG(INFO) Added: freq=8270 size=2660 all=1197089 active=71341 piece=▁달성\n",
      "bpe_model_trainer.cc(268) LOG(INFO) Added: freq=8223 size=2680 all=1201017 active=75269 piece=學校\n",
      "bpe_model_trainer.cc(268) LOG(INFO) Added: freq=8139 size=2700 all=1203077 active=77329 piece=ak\n",
      "bpe_model_trainer.cc(159) LOG(INFO) Updating active symbols. max_freq=8133 min_freq=241\n",
      "bpe_model_trainer.cc(268) LOG(INFO) Added: freq=8064 size=2720 all=1206262 active=63094 piece=▁억\n",
      "bpe_model_trainer.cc(268) LOG(INFO) Added: freq=8010 size=2740 all=1208421 active=65253 piece=ity\n",
      "bpe_model_trainer.cc(268) LOG(INFO) Added: freq=7956 size=2760 all=1210955 active=67787 piece=▁둘러\n",
      "bpe_model_trainer.cc(268) LOG(INFO) Added: freq=7894 size=2780 all=1214035 active=70867 piece=워드\n",
      "bpe_model_trainer.cc(268) LOG(INFO) Added: freq=7818 size=2800 all=1217399 active=74231 piece=▁구조를\n",
      "bpe_model_trainer.cc(159) LOG(INFO) Updating active symbols. max_freq=7817 min_freq=237\n",
      "bpe_model_trainer.cc(268) LOG(INFO) Added: freq=7754 size=2820 all=1220940 active=64410 piece=▁실제로\n",
      "bpe_model_trainer.cc(268) LOG(INFO) Added: freq=7706 size=2840 all=1224930 active=68400 piece=▁제목\n",
      "bpe_model_trainer.cc(268) LOG(INFO) Added: freq=7656 size=2860 all=1229479 active=72949 piece=▁MBC\n",
      "bpe_model_trainer.cc(268) LOG(INFO) Added: freq=7587 size=2880 all=1233132 active=76602 piece=산의\n",
      "bpe_model_trainer.cc(268) LOG(INFO) Added: freq=7532 size=2900 all=1238881 active=82351 piece=ne\n",
      "bpe_model_trainer.cc(159) LOG(INFO) Updating active symbols. max_freq=7529 min_freq=232\n",
      "bpe_model_trainer.cc(268) LOG(INFO) Added: freq=7477 size=2920 all=1244247 active=67104 piece=▁인한\n",
      "bpe_model_trainer.cc(268) LOG(INFO) Added: freq=7414 size=2940 all=1248020 active=70877 piece=▁공급\n",
      "bpe_model_trainer.cc(268) LOG(INFO) Added: freq=7361 size=2960 all=1253255 active=76112 piece=▁유형\n",
      "bpe_model_trainer.cc(268) LOG(INFO) Added: freq=7312 size=2980 all=1255974 active=78831 piece=가가\n",
      "bpe_model_trainer.cc(268) LOG(INFO) Added: freq=7258 size=3000 all=1259034 active=81891 piece=▁부근\n",
      "bpe_model_trainer.cc(159) LOG(INFO) Updating active symbols. max_freq=7255 min_freq=227\n",
      "bpe_model_trainer.cc(268) LOG(INFO) Added: freq=7200 size=3020 all=1262558 active=66423 piece=▁출발\n",
      "bpe_model_trainer.cc(268) LOG(INFO) Added: freq=7138 size=3040 all=1266458 active=70323 piece=원과\n",
      "bpe_model_trainer.cc(268) LOG(INFO) Added: freq=7087 size=3060 all=1270108 active=73973 piece=27\n",
      "bpe_model_trainer.cc(268) LOG(INFO) Added: freq=7053 size=3080 all=1274267 active=78132 piece=▁교체\n",
      "bpe_model_trainer.cc(268) LOG(INFO) Added: freq=7004 size=3100 all=1278060 active=81925 piece=▁남동\n",
      "bpe_model_trainer.cc(159) LOG(INFO) Updating active symbols. max_freq=7000 min_freq=222\n",
      "bpe_model_trainer.cc(268) LOG(INFO) Added: freq=6945 size=3120 all=1279966 active=65709 piece=▁장기\n",
      "bpe_model_trainer.cc(268) LOG(INFO) Added: freq=6910 size=3140 all=1283319 active=69062 piece=▁탑재\n",
      "bpe_model_trainer.cc(268) LOG(INFO) Added: freq=6854 size=3160 all=1287199 active=72942 piece=▁블랙\n",
      "bpe_model_trainer.cc(268) LOG(INFO) Added: freq=6829 size=3180 all=1290915 active=76658 piece=▁갖춘\n",
      "bpe_model_trainer.cc(268) LOG(INFO) Added: freq=6778 size=3200 all=1294123 active=79866 piece=▁해체\n",
      "bpe_model_trainer.cc(159) LOG(INFO) Updating active symbols. max_freq=6775 min_freq=219\n",
      "bpe_model_trainer.cc(268) LOG(INFO) Added: freq=6707 size=3220 all=1297587 active=68000 piece=일보\n",
      "bpe_model_trainer.cc(268) LOG(INFO) Added: freq=6660 size=3240 all=1301626 active=72039 piece=트에\n",
      "bpe_model_trainer.cc(268) LOG(INFO) Added: freq=6615 size=3260 all=1304606 active=75019 piece=네시아\n",
      "bpe_model_trainer.cc(268) LOG(INFO) Added: freq=6575 size=3280 all=1308612 active=79025 piece=ice\n",
      "bpe_model_trainer.cc(268) LOG(INFO) Added: freq=6549 size=3300 all=1312329 active=82742 piece=▁1976\n",
      "bpe_model_trainer.cc(159) LOG(INFO) Updating active symbols. max_freq=6547 min_freq=214\n",
      "bpe_model_trainer.cc(268) LOG(INFO) Added: freq=6517 size=3320 all=1314587 active=67854 piece=▁방식으로\n",
      "bpe_model_trainer.cc(268) LOG(INFO) Added: freq=6480 size=3340 all=1317973 active=71240 piece=▁설치되어\n",
      "bpe_model_trainer.cc(268) LOG(INFO) Added: freq=6448 size=3360 all=1321630 active=74897 piece=었으나\n",
      "bpe_model_trainer.cc(268) LOG(INFO) Added: freq=6408 size=3380 all=1324096 active=77363 piece=초등학교는\n",
      "bpe_model_trainer.cc(268) LOG(INFO) Added: freq=6380 size=3400 all=1327666 active=80933 piece=▁1968\n",
      "bpe_model_trainer.cc(159) LOG(INFO) Updating active symbols. max_freq=6379 min_freq=211\n",
      "bpe_model_trainer.cc(268) LOG(INFO) Added: freq=6349 size=3420 all=1329782 active=68481 piece=어져\n",
      "bpe_model_trainer.cc(268) LOG(INFO) Added: freq=6314 size=3440 all=1333532 active=72231 piece=료로\n",
      "bpe_model_trainer.cc(268) LOG(INFO) Added: freq=6278 size=3460 all=1336858 active=75557 piece=43\n",
      "bpe_model_trainer.cc(268) LOG(INFO) Added: freq=6229 size=3480 all=1339597 active=78296 piece=▁근대\n",
      "bpe_model_trainer.cc(268) LOG(INFO) Added: freq=6192 size=3500 all=1342136 active=80835 piece=▁원작\n",
      "bpe_model_trainer.cc(159) LOG(INFO) Updating active symbols. max_freq=6191 min_freq=208\n",
      "bpe_model_trainer.cc(268) LOG(INFO) Added: freq=6157 size=3520 all=1345010 active=69893 piece=▁죽음\n",
      "bpe_model_trainer.cc(268) LOG(INFO) Added: freq=6120 size=3540 all=1347491 active=72374 piece=전으로\n",
      "bpe_model_trainer.cc(268) LOG(INFO) Added: freq=6078 size=3560 all=1351388 active=76271 piece=▁숫\n",
      "bpe_model_trainer.cc(268) LOG(INFO) Added: freq=6054 size=3580 all=1355570 active=80453 piece=2,\n",
      "trainer_interface.cc(689) LOG(INFO) Saving model: ko_8000.model\n",
      "trainer_interface.cc(701) LOG(INFO) Saving vocabs: ko_8000.vocab\n"
     ]
    }
   ],
   "source": [
    "corpus_file = 'data/kowiki.txt'\n",
    "prefix = 'ko_8000' \n",
    "vocab_size = 8000\n",
    "\n",
    "# 모델 훈련\n",
    "print(\"SentencePiece 모델 훈련을 시작합니다...\")\n",
    "spm.SentencePieceTrainer.train(\n",
    "    f\"--input={corpus_file} --model_prefix={prefix} --vocab_size={vocab_size + 7}\"\n",
    "    f\" --model_type=bpe --max_sentence_length=999999 --pad_id=0 --pad_piece=[PAD]\"\n",
    "    f\" --unk_id=1 --unk_piece=[UNK] --bos_id=2 --bos_piece=[BOS] --eos_id=3\"\n",
    "    f\" --eos_piece=[EOS] --user_defined_symbols=[SEP],[CLS],[MASK]\"\n",
    ")\n",
    "print(\"모델 훈련이 완료되었습니다.\")\n",
    "\n",
    "\n",
    "# 훈련된 토크나이저 불러오기\n",
    "vocab = spm.SentencePieceProcessor()\n",
    "vocab.load(f\"{prefix}.model\")\n",
    "\n",
    "# 랜덤 단어 대체를 위한 어휘 목록 생성 (특수 토큰 제외)\n",
    "vocab_list = []\n",
    "for i in range(7, len(vocab)):\n",
    "    if not vocab.is_unknown(i):\n",
    "        vocab_list.append(vocab.id_to_piece(i))\n",
    "print(f\"랜덤 마스킹을 위한 어휘 목록 생성 완료 ({len(vocab_list)}개 토큰)\")"
   ]
  },
  {
   "cell_type": "markdown",
   "id": "f8a9193d-4024-44ff-84ba-b863a25c0be2",
   "metadata": {},
   "source": [
    "## 2. 데이터 전처리 (1) MASK 생성\n",
    "- BERT의 MLM(Masked Language Model)에 필요한 빈칸(mask)을 생성하는 함수를 정의합니다.\n",
    "- 학습 데이터 전체 토큰의 15%를 마스킹합니다.\n",
    "- 마스킹 전략: 80%는 `[MASK]` 토큰으로, 10%는 랜덤 토큰으로, 10%는 원래 토큰을 그대로 사용합니다."
   ]
  },
  {
   "cell_type": "code",
   "execution_count": 5,
   "id": "25309edc-1f66-4bc4-b79e-6fe4971f2c07",
   "metadata": {},
   "outputs": [],
   "source": [
    "def create_pretrain_mask(tokens, mask_cnt, vocab_list):\n",
    "    \"\"\"\n",
    "    Pre-training을 위한 마스크를 생성하는 함수\n",
    "    :param tokens: 토큰 리스트\n",
    "    :param mask_cnt: 마스킹할 토큰 개수 (전체의 15%)\n",
    "    :param vocab_list: 랜덤 토큰 대체를 위한 어휘 리스트\n",
    "    :return tokens: 마스크가 적용된 토큰\n",
    "    :return mask_idx: 마스킹된 토큰의 인덱스\n",
    "    :return mask_label: 마스킹된 토큰의 원래 값\n",
    "    \"\"\"\n",
    "    # 1. Whole-word-masking을 위해 토큰을 단어 단위로 분할\n",
    "    cand_idx = []\n",
    "    for (i, token) in enumerate(tokens):\n",
    "        if token in [\"[CLS]\", \"[SEP]\"]:\n",
    "            continue\n",
    "        # u\"\\u2581\"는 단어의 시작을 의미\n",
    "        if token.startswith(u\"\\u2581\"):\n",
    "            cand_idx.append([i])\n",
    "        else:\n",
    "            if cand_idx:\n",
    "                cand_idx[-1].append(i)\n",
    "\n",
    "    # 2. 랜덤 마스킹을 위해 단어 순서를 섞음\n",
    "    random.shuffle(cand_idx)\n",
    "\n",
    "    mask_lms = []\n",
    "    for index_set in cand_idx:\n",
    "        if len(mask_lms) >= mask_cnt:\n",
    "            break\n",
    "        # 현재 단어를 추가하면 mask_cnt를 초과할 경우 건너뜀\n",
    "        if len(mask_lms) + len(index_set) > mask_cnt:\n",
    "            continue\n",
    "        \n",
    "        # 80%는 [MASK], 10%는 랜덤 단어, 10%는 원본 유지\n",
    "        dice = random.random()\n",
    "        for index in index_set:\n",
    "            masked_token = None\n",
    "            if dice < 0.8:\n",
    "                masked_token = \"[MASK]\"\n",
    "            elif dice < 0.9:\n",
    "                masked_token = tokens[index]\n",
    "            else:\n",
    "                masked_token = random.choice(vocab_list)\n",
    "            \n",
    "            mask_lms.append({\"index\": index, \"label\": tokens[index]})\n",
    "            tokens[index] = masked_token\n",
    "\n",
    "    # 3. 인덱스 순으로 정렬 후 mask_idx와 mask_label 추출\n",
    "    mask_lms = sorted(mask_lms, key=lambda x: x[\"index\"])\n",
    "    mask_idx = [p[\"index\"] for p in mask_lms]\n",
    "    mask_label = [p[\"label\"] for p in mask_lms]\n",
    "\n",
    "    return tokens, mask_idx, mask_label"
   ]
  },
  {
   "cell_type": "markdown",
   "id": "f563c609-2659-4a0d-a7e9-715c46c372da",
   "metadata": {},
   "source": [
    "## 3. 데이터 전처리 (2) NSP pair 생성\n",
    "- BERT의 pretrain 과제인 NSP(Next Sentence Prediction)를 위한 데이터 쌍을 생성하는 함수를 정의합니다.\n",
    "- 50%의 확률로 실제 이어지는 문장(is_next=1)과 랜덤으로 추출된 문장(is_next=0)을 쌍으로 만듭니다.\n",
    "- 문장 구분을 위해 세그먼트 임베딩 값(0 또는 1)을 부여합니다."
   ]
  },
  {
   "cell_type": "code",
   "execution_count": 6,
   "id": "c8fbf6fe-acfe-4d00-b642-bec4c5d5b71e",
   "metadata": {},
   "outputs": [],
   "source": [
    "def trim_tokens(tokens_a, tokens_b, max_seq):\n",
    "    \"\"\" 두 시퀀스의 길이가 최대 길이를 넘지 않도록 자르는 함수 \"\"\"\n",
    "    while True:\n",
    "        total_length = len(tokens_a) + len(tokens_b)\n",
    "        if total_length <= max_seq:\n",
    "            break\n",
    "        if len(tokens_a) > len(tokens_b):\n",
    "            tokens_a.pop()\n",
    "        else:\n",
    "            tokens_b.pop()\n",
    "\n",
    "def create_pretrain_instances(vocab, doc, n_seq, mask_prob, vocab_list):\n",
    "    \"\"\" 한 문서(document)에서 pre-training 인스턴스를 생성하는 함수 \"\"\"\n",
    "    # [CLS], [SEP], [SEP] 토큰 3개를 고려하여 최대 길이를 n_seq - 3으로 설정\n",
    "    max_seq = n_seq - 3\n",
    "\n",
    "    instances = []\n",
    "    current_chunk = []\n",
    "    current_length = 0\n",
    "    for i in range(len(doc)):\n",
    "        current_chunk.append(doc[i])\n",
    "        current_length += len(doc[i])\n",
    "        \n",
    "        if i == len(doc) - 1 or current_length >= max_seq:\n",
    "            if current_chunk:\n",
    "                a_end = 1\n",
    "                if len(current_chunk) > 1:\n",
    "                    a_end = random.randrange(1, len(current_chunk))\n",
    "                \n",
    "                tokens_a = []\n",
    "                for j in range(a_end):\n",
    "                    tokens_a.extend(current_chunk[j])\n",
    "                \n",
    "                tokens_b = []\n",
    "                is_next = 1 # 기본값: 실제 이어지는 문장 (IsNext)\n",
    "                if len(current_chunk) > 1 and random.random() < 0.5:\n",
    "                    is_next = 0 # 50% 확률로 이어지지 않는 문장 (NotNext)\n",
    "                    # 이 경우, 다른 문서에서 tokens_b를 가져와야 하지만, \n",
    "                    # 이 코드에서는 간단하게 A와 B를 바꾸는 방식으로 구현\n",
    "                    temp = tokens_a\n",
    "                    tokens_a = tokens_b\n",
    "                    tokens_b = temp\n",
    "                \n",
    "                for j in range(a_end, len(current_chunk)):\n",
    "                    tokens_b.extend(current_chunk[j])\n",
    "                \n",
    "                trim_tokens(tokens_a, tokens_b, max_seq)\n",
    "                if not tokens_a or not tokens_b:\n",
    "                    continue\n",
    "\n",
    "                # 최종 토큰 및 세그먼트 ID 구성\n",
    "                tokens = [\"[CLS]\"] + tokens_a + [\"[SEP]\"] + tokens_b + [\"[SEP]\"]\n",
    "                segment = [0] * (len(tokens_a) + 2) + [1] * (len(tokens_b) + 1)\n",
    "                \n",
    "                # 마스킹 적용\n",
    "                mask_cnt = int((len(tokens) - 3) * mask_prob)\n",
    "                tokens, mask_idx, mask_label = create_pretrain_mask(tokens, mask_cnt, vocab_list)\n",
    "\n",
    "                instance = {\n",
    "                    \"tokens\": tokens,\n",
    "                    \"segment\": segment,\n",
    "                    \"is_next\": is_next,\n",
    "                    \"mask_idx\": mask_idx,\n",
    "                    \"mask_label\": mask_label\n",
    "                }\n",
    "                instances.append(instance)\n",
    "\n",
    "            current_chunk = []\n",
    "            current_length = 0\n",
    "            \n",
    "    return instances"
   ]
  },
  {
   "cell_type": "markdown",
   "id": "33e20202-0651-45ce-86ec-edc468a43952",
   "metadata": {},
   "source": [
    "## 4. 데이터 전처리 (3) 데이터셋 완성\n",
    "- 위에서 정의한 함수들을 사용해 전체 `kowiki.txt` 코퍼스를 BERT pretrain 데이터셋으로 변환합니다.\n",
    "- 생성된 데이터는 json 포맷으로 저장합니다.\n",
    "- 대용량 데이터를 효율적으로 다루기 위해 `np.memmap`을 사용하여 데이터를 로드하는 함수를 정의합니다."
   ]
  },
  {
   "cell_type": "code",
   "execution_count": 7,
   "id": "d7360b87-5e2b-4bc8-a9ce-8e544ca57942",
   "metadata": {},
   "outputs": [],
   "source": [
    "def make_pretrain_data(vocab, in_file, out_file, n_seq, mask_prob=0.15):\n",
    "    \"\"\" Pre-training 데이터를 생성하여 파일로 저장하는 함수 \"\"\"\n",
    "    \n",
    "    vocab_list = [vocab.id_to_piece(i) for i in range(7, len(vocab)) if not vocab.is_unknown(i)]\n",
    "    \n",
    "    line_cnt = 0\n",
    "    with open(in_file, \"r\") as f:\n",
    "        for _ in f:\n",
    "            line_cnt += 1\n",
    "\n",
    "    with open(in_file, \"r\") as in_f, open(out_file, \"w\") as out_f:\n",
    "        doc = []\n",
    "        for line in tqdm(in_f, total=line_cnt, desc=\"데이터 생성 중\"):\n",
    "            line = line.strip()\n",
    "            if not line: # 빈 줄이면 문단(doc) 처리\n",
    "                if doc:\n",
    "                    instances = create_pretrain_instances(vocab, doc, n_seq, mask_prob, vocab_list)\n",
    "                    for instance in instances:\n",
    "                        out_f.write(json.dumps(instance, ensure_ascii=False))\n",
    "                        out_f.write(\"\\n\")\n",
    "                    doc = []\n",
    "            else:\n",
    "                pieces = vocab.encode_as_pieces(line)\n",
    "                if pieces:\n",
    "                    doc.append(pieces)\n",
    "        \n",
    "        if doc: # 파일 끝에 남은 doc 처리\n",
    "            instances = create_pretrain_instances(vocab, doc, n_seq, mask_prob, vocab_list)\n",
    "            for instance in instances:\n",
    "                out_f.write(json.dumps(instance, ensure_ascii=False))\n",
    "                out_f.write(\"\\n\")"
   ]
  },
  {
   "cell_type": "code",
   "execution_count": 8,
   "id": "42ec635a-ba85-49b8-a0ae-7d7c32f0669c",
   "metadata": {},
   "outputs": [
    {
     "name": "stdout",
     "output_type": "stream",
     "text": [
      "Pre-training 데이터가 이미 존재하여 생성을 건너뜁니다.\n"
     ]
    }
   ],
   "source": [
    "pretrain_json_path = 'bert_pre_train.json'\n",
    "n_seq = 128 # 시퀀스 길이\n",
    "\n",
    "if not os.path.exists(pretrain_json_path):\n",
    "    print(\"Pre-training 데이터가 없습니다. 새로 생성합니다...\")\n",
    "    make_pretrain_data(vocab, corpus_file, pretrain_json_path, n_seq)\n",
    "    print(\"데이터 생성이 완료되었습니다.\")\n",
    "else:\n",
    "    print(\"Pre-training 데이터가 이미 존재하여 생성을 건너뜁니다.\")\n",
    "\n",
    "def load_pre_train_data(vocab, filename, n_seq, count=None):\n",
    "    \"\"\"\n",
    "    메모리 매핑(memory-mapped) numpy 배열로 pre-training 데이터를 로드하는 함수\n",
    "    \"\"\"\n",
    "    line_total = 0\n",
    "    with open(filename, \"r\") as f:\n",
    "        for _ in f:\n",
    "            line_total += 1\n",
    "\n",
    "    total = count if count is not None and count < line_total else line_total\n",
    "    \n",
    "    # np.memmap을 사용하여 메모리를 효율적으로 사용\n",
    "    enc_tokens = np.memmap(filename='enc_tokens.memmap', mode='w+', dtype=np.int32, shape=(total, n_seq))\n",
    "    segments = np.memmap(filename='segments.memmap', mode='w+', dtype=np.int32, shape=(total, n_seq))\n",
    "    labels_nsp = np.memmap(filename='labels_nsp.memmap', mode='w+', dtype=np.int32, shape=(total,))\n",
    "    labels_mlm = np.memmap(filename='labels_mlm.memmap', mode='w+', dtype=np.int32, shape=(total, n_seq))\n",
    "\n",
    "    with open(filename, \"r\") as f:\n",
    "        for i, line in enumerate(tqdm(f, total=total, desc=\"데이터 로딩 중\")):\n",
    "            if i >= total:\n",
    "                break\n",
    "            data = json.loads(line)\n",
    "            \n",
    "            # 인코더 입력\n",
    "            enc_token = [vocab.piece_to_id(p) for p in data[\"tokens\"]]\n",
    "            enc_token += [0] * (n_seq - len(enc_token))\n",
    "            \n",
    "            # 세그먼트 입력\n",
    "            segment = data[\"segment\"]\n",
    "            segment += [0] * (n_seq - len(segment))\n",
    "\n",
    "            # NSP 레이블\n",
    "            label_nsp = data[\"is_next\"]\n",
    "\n",
    "            # MLM 레이블\n",
    "            mask_idx = np.array(data[\"mask_idx\"], dtype=np.int32)\n",
    "            mask_label = np.array([vocab.piece_to_id(p) for p in data[\"mask_label\"]], dtype=np.int32)\n",
    "            label_mlm = np.full(n_seq, dtype=np.int32, fill_value=0)\n",
    "            if mask_idx.size > 0:\n",
    "                label_mlm[mask_idx] = mask_label\n",
    "\n",
    "            enc_tokens[i] = enc_token\n",
    "            segments[i] = segment\n",
    "            labels_nsp[i] = label_nsp\n",
    "            labels_mlm[i] = label_mlm\n",
    "\n",
    "    return (enc_tokens, segments), (labels_nsp, labels_mlm)"
   ]
  },
  {
   "cell_type": "code",
   "execution_count": 9,
   "id": "4b62db87-60b2-4222-84a0-ba6b413625aa",
   "metadata": {},
   "outputs": [
    {
     "data": {
      "application/vnd.jupyter.widget-view+json": {
       "model_id": "beea60100b58401e98d36992d33bcb02",
       "version_major": 2,
       "version_minor": 0
      },
      "text/plain": [
       "데이터 로딩 중:   0%|          | 0/128000 [00:00<?, ?it/s]"
      ]
     },
     "metadata": {},
     "output_type": "display_data"
    }
   ],
   "source": [
    "# 훈련에 사용할 데이터 일부 로딩 (128,000개 샘플)\n",
    "pre_train_inputs, pre_train_labels = load_pre_train_data(vocab, pretrain_json_path, n_seq, count=128000)"
   ]
  },
  {
   "cell_type": "code",
   "execution_count": 10,
   "id": "60fe2930-7b20-4927-a0e2-6aa0aa9903ad",
   "metadata": {},
   "outputs": [
    {
     "data": {
      "text/plain": [
       "(memmap([   5,    1,    1, 3324, 1042,  104, 3610, 3686, 3718,    1,    1,\n",
       "          416,    1, 3625,  160, 3662,    7, 3629,  203,  241, 3602,    1,\n",
       "          788,  243,    1,  796,  663, 1648,    1, 3625,    6,    6,    6,\n",
       "            6,    6,    6,    4,    1,  207,    1,    1, 3646,  630, 3714,\n",
       "            1,  429,    1, 3626,    1,    6,    6,    1,    1,    1,    1,\n",
       "         3599,   13,   81,    1, 2247,    1, 3873,    1, 3813, 3873, 4196,\n",
       "         3636,    1,    1, 1233,    1, 3599,    1, 3625,  243, 2780,   14,\n",
       "         1510,    1,  414,  166,    6,    6,    6,    6,    6,  593,   21,\n",
       "         5007,    6,    1,  813,   17, 3599,  307,    1,  104, 4313, 4290,\n",
       "            1, 3718,   99, 3878,    1, 2543,  309,  337,    1, 3616, 3603,\n",
       "            1, 3599,    6,    6,    1,    6,    1, 2378,    1,    1, 3293,\n",
       "           13,    1, 2386, 2163, 3596, 3671,    4], dtype=int32),\n",
       " memmap([   5, 2191, 3599,    1,   81, 3604,  342, 2674, 3625,  294,    1,\n",
       "            6,    1, 2540, 3600,  488,    1, 2524,    1,  171, 3599,  330,\n",
       "         3604,    1,    6,    1, 3682, 3625, 2131,    1,    1,  761, 4254,\n",
       "          658,  171, 3599,   13,    6,    1,    1,  496,    1, 1911, 3633,\n",
       "            1,  664,  925,    1, 1053,    1, 3614, 2419, 2470, 3604,    1,\n",
       "         3602,  838,    1, 3760,  824, 3526,    1,    1, 3599,    4,  371,\n",
       "         3604,   29, 4018, 3793, 1327, 3787,   66,  412,    1,   28, 3599,\n",
       "         1327,    1,    6, 2573,   66, 1600, 3653,  639,    1,  353, 3599,\n",
       "            1,    1, 1327,    1,   19,  402,    6,    6,    6,    6,    6,\n",
       "         2743,   31, 3599,    6,    1,    6,    6,    6,    6,    6,    6,\n",
       "            6,    6,    1, 3616,    9,    1, 1600, 3653,  639,  254,  238,\n",
       "          787, 2654,  784, 3604, 1926,  259,    4], dtype=int32),\n",
       " memmap([0, 0, 0, 0, 0, 0, 0, 0, 0, 0, 0, 0, 0, 0, 0, 0, 0, 0, 0, 0, 0, 0,\n",
       "         0, 0, 0, 0, 0, 0, 0, 0, 0, 0, 0, 0, 0, 0, 0, 1, 1, 1, 1, 1, 1, 1,\n",
       "         1, 1, 1, 1, 1, 1, 1, 1, 1, 1, 1, 1, 1, 1, 1, 1, 1, 1, 1, 1, 1, 1,\n",
       "         1, 1, 1, 1, 1, 1, 1, 1, 1, 1, 1, 1, 1, 1, 1, 1, 1, 1, 1, 1, 1, 1,\n",
       "         1, 1, 1, 1, 1, 1, 1, 1, 1, 1, 1, 1, 1, 1, 1, 1, 1, 1, 1, 1, 1, 1,\n",
       "         1, 1, 1, 1, 1, 1, 1, 1, 1, 1, 1, 1, 1, 1, 1, 1, 1, 1], dtype=int32),\n",
       " memmap([0, 0, 0, 0, 0, 0, 0, 0, 0, 0, 0, 0, 0, 0, 0, 0, 0, 0, 0, 0, 0, 0,\n",
       "         0, 0, 0, 0, 0, 0, 0, 0, 0, 0, 0, 0, 0, 0, 0, 0, 0, 0, 0, 0, 0, 0,\n",
       "         0, 0, 0, 0, 0, 0, 0, 0, 0, 0, 0, 0, 0, 0, 0, 0, 0, 0, 0, 0, 0, 1,\n",
       "         1, 1, 1, 1, 1, 1, 1, 1, 1, 1, 1, 1, 1, 1, 1, 1, 1, 1, 1, 1, 1, 1,\n",
       "         1, 1, 1, 1, 1, 1, 1, 1, 1, 1, 1, 1, 1, 1, 1, 1, 1, 1, 1, 1, 1, 1,\n",
       "         1, 1, 1, 1, 1, 1, 1, 1, 1, 1, 1, 1, 1, 1, 1, 1, 1, 1], dtype=int32),\n",
       " np.int32(1),\n",
       " np.int32(0),\n",
       " memmap([   0,    0,    0,    0,    0,    0,    0,    0,    0,    0,    0,\n",
       "            0,    0,    0,    0,    0,    0,    0,    0,    0,    0,    0,\n",
       "            0,    0,    0,    0,    0,    0,    0,    0,  203, 3009, 3625,\n",
       "         3616,   16, 3599,    0,    0,    0,    0,    0,    0,    0,    0,\n",
       "            0,    0,    0,    0,    0, 1607, 3599,    0,    0,    0,    0,\n",
       "            0,    0,    0,    0,    0,    0,    0,    0,    0,    0,    0,\n",
       "            0,    0,    0,    0,    0,    0,    0,    0,    0,    0,    0,\n",
       "            0,    0,    0,    0, 1697, 4290, 3873, 3703, 3683,    0,    0,\n",
       "            0,  399,    0,    0,    0,    0,    0,    0,    0,    0,    0,\n",
       "            0,    0,    0,    0,    0,    0,    0,    0,    0,    0,    0,\n",
       "            0,    0,    1, 3625,    0,   37,    0, 2378,    0,    0,    0,\n",
       "            0,    0,    0,    0,    0,    0,    0], dtype=int32),\n",
       " memmap([   0,    0,    0,    0,    0,    0,    0,    0,    0,    0,    0,\n",
       "           89,    0,    0,    0,    0,    0,    0,    0,    0,    0,    0,\n",
       "            0,    0,    1,    0,    0,    0,    0,    0,    0,    0,    0,\n",
       "            0,    0,    0,    0,    1,    0,    0,    0,    0,    0,    0,\n",
       "            0,    0,    0,    0,    0,    0,    0,    0,    0,    0,    0,\n",
       "            0,    0,    0,    0,    0,    0,    0,    0,    0,    0,    0,\n",
       "            0,    0,    0,    0,    0,    0,    0,    0,    0,    0,    0,\n",
       "            0,    0,    1,    0,    0,    0,    0,    0,    0,    0,    0,\n",
       "            0,    0,    0,    0,    0,    0,  231,    1,    1, 3607, 2042,\n",
       "            0,    0,    0,    1,    0, 1912, 3604,   68, 3650, 3617, 3067,\n",
       "         4116, 3601,    0,    0,    0,    0,    0,    0,    0,    0,    0,\n",
       "            0,    0,    0,    0,    0,    0,    0], dtype=int32))"
      ]
     },
     "execution_count": 10,
     "metadata": {},
     "output_type": "execute_result"
    }
   ],
   "source": [
    "# 처음과 마지막 확인\n",
    "pre_train_inputs[0][0], pre_train_inputs[0][-1], pre_train_inputs[1][0], pre_train_inputs[1][-1], pre_train_labels[0][0], pre_train_labels[0][-1], pre_train_labels[1][0], pre_train_labels[1][-1]"
   ]
  },
  {
   "cell_type": "markdown",
   "id": "ca3cfc46-cb1d-4c51-b0d1-cf501678a247",
   "metadata": {},
   "source": [
    "## 5. BERT 모델 구현\n",
    "- `pad mask`, `GELU` 활성화 함수 등 BERT 모델에 필요한 구성 요소들을 정의합니다.\n",
    "- `SharedEmbedding`, `MultiHeadAttention`, `PositionWiseFeedForward`, `EncoderLayer` 등 Transformer의 핵심 레이어를 클래스로 구현합니다.\n",
    "- 최종적으로 이들을 조합하여 pretrain을 위한 BERT 모델을 완성합니다."
   ]
  },
  {
   "cell_type": "code",
   "execution_count": 11,
   "id": "26746e8a-d105-424a-b2bd-6917ee3b2d08",
   "metadata": {},
   "outputs": [],
   "source": [
    "# 유틸리티 함수 및 클래스\n",
    "\n",
    "def get_pad_mask(tokens, i_pad=0):\n",
    "    \"\"\" 패딩 마스크 생성 함수 \"\"\"\n",
    "    mask = (tokens == i_pad).float()\n",
    "    return mask.unsqueeze(1).expand(-1, tokens.size(1), -1)\n",
    "\n",
    "class Config(dict):\n",
    "    \"\"\" 딕셔너리 key를 속성(attribute)처럼 접근하게 해주는 클래스 \"\"\"\n",
    "    __getattr__ = dict.__getitem__\n",
    "    __setattr__ = dict.__setitem__\n",
    "\n",
    "class SharedEmbedding(nn.Module):\n",
    "    \"\"\" 입력층과 출력층에서 가중치를 공유하는 임베딩 클래스 \"\"\"\n",
    "    def __init__(self, config):\n",
    "        super().__init__()\n",
    "        self.shared_weights = nn.Parameter(torch.Tensor(config.n_vocab, config.d_model))\n",
    "        nn.init.trunc_normal_(self.shared_weights, std=0.02)\n",
    "\n",
    "    def forward(self, inputs, mode=\"embedding\"):\n",
    "        if mode == \"embedding\":\n",
    "            return F.embedding(inputs, self.shared_weights)\n",
    "        elif mode == \"linear\":\n",
    "            return F.linear(inputs, self.shared_weights)\n",
    "        else:\n",
    "            raise ValueError(f\"Invalid mode: {mode}\")\n",
    "\n",
    "class PositionEmbedding(nn.Module):\n",
    "    \"\"\" 포지션 임베딩 클래스 \"\"\"\n",
    "    def __init__(self, config):\n",
    "        super().__init__()\n",
    "        self.embedding = nn.Embedding(config.n_seq, config.d_model)\n",
    "        nn.init.trunc_normal_(self.embedding.weight, std=0.02)\n",
    "\n",
    "    def forward(self, inputs):\n",
    "        position = torch.arange(inputs.size(1), device=inputs.device).unsqueeze(0)\n",
    "        return self.embedding(position)\n",
    "\n",
    "class MultiHeadAttention(nn.Module):\n",
    "    \"\"\" 멀티 헤드 어텐션 클래스 \"\"\"\n",
    "    def __init__(self, config):\n",
    "        super().__init__()\n",
    "        self.config = config\n",
    "        self.W_Q = nn.Linear(config.d_model, config.n_head * config.d_head)\n",
    "        self.W_K = nn.Linear(config.d_model, config.n_head * config.d_head)\n",
    "        self.W_V = nn.Linear(config.d_model, config.n_head * config.d_head)\n",
    "        self.W_O = nn.Linear(config.n_head * config.d_head, config.d_model)\n",
    "\n",
    "    def forward(self, Q, K, V, attn_mask):\n",
    "        batch_size = Q.size(0)\n",
    "        # (bs, n_head, n_seq, d_head)\n",
    "        q_s = self.W_Q(Q).view(batch_size, -1, self.config.n_head, self.config.d_head).transpose(1, 2)\n",
    "        k_s = self.W_K(K).view(batch_size, -1, self.config.n_head, self.config.d_head).transpose(1, 2)\n",
    "        v_s = self.W_V(V).view(batch_size, -1, self.config.n_head, self.config.d_head).transpose(1, 2)\n",
    "\n",
    "        attn_mask = attn_mask.unsqueeze(1).repeat(1, self.config.n_head, 1, 1)\n",
    "        \n",
    "        # 스케일드 닷-프로덕트 어텐션 (Scaled Dot-Product Attention)\n",
    "        scores = torch.matmul(q_s, k_s.transpose(-1, -2)) / np.sqrt(self.config.d_head)\n",
    "        scores.masked_fill_(attn_mask.bool(), -1e9)\n",
    "        attn_prob = nn.Softmax(dim=-1)(scores)\n",
    "        \n",
    "        context = torch.matmul(attn_prob, v_s)\n",
    "        context = context.transpose(1, 2).contiguous().view(batch_size, -1, self.config.n_head * self.config.d_head)\n",
    "        return self.W_O(context)\n",
    "\n",
    "class PositionWiseFeedForward(nn.Module):\n",
    "    \"\"\" 포지션-와이즈 피드-포워드 신경망 클래스 \"\"\"\n",
    "    def __init__(self, config):\n",
    "        super().__init__()\n",
    "        self.W_1 = nn.Linear(config.d_model, config.d_ff)\n",
    "        self.W_2 = nn.Linear(config.d_ff, config.d_model)\n",
    "        self.activation = nn.GELU()\n",
    "\n",
    "    def forward(self, inputs):\n",
    "        return self.W_2(self.activation(self.W_1(inputs)))\n",
    "\n",
    "class EncoderLayer(nn.Module):\n",
    "    \"\"\" 인코더 레이어 클래스 \"\"\"\n",
    "    def __init__(self, config):\n",
    "        super().__init__()\n",
    "        self.self_attention = MultiHeadAttention(config)\n",
    "        self.norm1 = nn.LayerNorm(config.d_model, eps=config.layernorm_epsilon)\n",
    "        self.ffn = PositionWiseFeedForward(config)\n",
    "        self.norm2 = nn.LayerNorm(config.d_model, eps=config.layernorm_epsilon)\n",
    "        self.dropout = nn.Dropout(config.dropout)\n",
    "\n",
    "    def forward(self, enc_embed, self_mask):\n",
    "        attn_out = self.self_attention(enc_embed, enc_embed, enc_embed, self_mask)\n",
    "        norm1_out = self.norm1(enc_embed + self.dropout(attn_out))\n",
    "        ffn_out = self.ffn(norm1_out)\n",
    "        enc_out = self.norm2(norm1_out + self.dropout(ffn_out))\n",
    "        return enc_out"
   ]
  },
  {
   "cell_type": "code",
   "execution_count": 12,
   "id": "d603e5a7-bd7d-4ac8-9079-f88bf9f014f6",
   "metadata": {},
   "outputs": [],
   "source": [
    "class BERT(nn.Module):\n",
    "    \"\"\" BERT 모델 클래스 \"\"\"\n",
    "    def __init__(self, config):\n",
    "        super().__init__()\n",
    "        self.config = config\n",
    "        self.embedding = SharedEmbedding(config)\n",
    "        self.position = PositionEmbedding(config)\n",
    "        self.segment = nn.Embedding(2, config.d_model)\n",
    "        self.norm = nn.LayerNorm(config.d_model, eps=config.layernorm_epsilon)\n",
    "        self.dropout = nn.Dropout(config.dropout)\n",
    "        self.encoder_layers = nn.ModuleList([EncoderLayer(config) for _ in range(config.n_layer)])\n",
    "\n",
    "    def forward(self, enc_tokens, segments):\n",
    "        enc_self_mask = get_pad_mask(enc_tokens, self.config.i_pad)\n",
    "        \n",
    "        embed = self.embedding(enc_tokens) + self.position(enc_tokens) + self.segment(segments)\n",
    "        embed = self.norm(embed)\n",
    "        enc_out = self.dropout(embed)\n",
    "\n",
    "        for layer in self.encoder_layers:\n",
    "            enc_out = layer(enc_out, enc_self_mask)\n",
    "            \n",
    "        return enc_out\n",
    "\n",
    "class PreTrainModel(nn.Module):\n",
    "    \"\"\" Pre-training을 위한 전체 모델 클래스 (BERT + NSP/MLM 헤드) \"\"\"\n",
    "    def __init__(self, config):\n",
    "        super().__init__()\n",
    "        self.bert = BERT(config)\n",
    "        # NSP를 위한 분류기\n",
    "        self.nsp_classifier = nn.Linear(config.d_model, 2)\n",
    "        # MLM을 위한 출력층은 공유 임베딩을 사용\n",
    "        self.mlm_output = self.bert.embedding\n",
    "        \n",
    "    def forward(self, enc_tokens, segments):\n",
    "        enc_tokens = enc_tokens.long()\n",
    "        segments = segments.long()\n",
    "        \n",
    "        bert_out = self.bert(enc_tokens, segments)\n",
    "        \n",
    "        # [CLS] 토큰의 출력으로 NSP 예측\n",
    "        logits_cls = self.nsp_classifier(bert_out[:, 0, :])\n",
    "        \n",
    "        # 모든 시퀀스 토큰의 출력으로 MLM 예측\n",
    "        logits_lm = self.mlm_output(bert_out, mode=\"linear\")\n",
    "        \n",
    "        return logits_cls, logits_lm"
   ]
  },
  {
   "cell_type": "markdown",
   "id": "bc2d249a-74a6-4613-914e-ee479c542be6",
   "metadata": {},
   "source": [
    "### Mini BERT 모델 하이퍼파라미터 설정\n",
    "- 프로젝트 요구사항에 맞춰 `vocab_size=8000`, 전체 파라미터 약 1M가 되도록 `Config`를 설정합니다.\n",
    "- `d_model=256`, `n_layer=2`, `d_ff=1024` 등으로 설정하여 약 120만 개의 파라미터를 갖는 모델을 구성했습니다."
   ]
  },
  {
   "cell_type": "code",
   "execution_count": 13,
   "id": "711b9f03-9810-4949-b15e-5332a5f96ac6",
   "metadata": {},
   "outputs": [
    {
     "name": "stdout",
     "output_type": "stream",
     "text": [
      "실제 어휘 수: 8007\n"
     ]
    }
   ],
   "source": [
    "# 훈련된 토크나이저의 실제 어휘 수를 가져옵니다.\n",
    "actual_vocab_size = vocab.get_piece_size() \n",
    "print(f\"실제 어휘 수: {actual_vocab_size}\") # 8007이 출력되어야 합니다."
   ]
  },
  {
   "cell_type": "code",
   "execution_count": 15,
   "id": "d4720ac1-5891-4f60-9d4a-4772f4f2c1c6",
   "metadata": {},
   "outputs": [
    {
     "name": "stdout",
     "output_type": "stream",
     "text": [
      "깊고 좁은 모델 파라미터 수: 962,642\n",
      "얕고 넓은 모델 파라미터 수: 1,215,762\n"
     ]
    }
   ],
   "source": [
    "# 실험을 위한 두 가지 모델 Config 정의\n",
    "\n",
    "# \"더 깊고 좁은 모델\"을 위한 설정 (4 layers, d_model=80)\n",
    "config_deep = Config({\n",
    "    \"d_model\": 80,\n",
    "    \"n_layer\": 4,\n",
    "    \"n_head\": 4,\n",
    "    \"d_head\": 20,\n",
    "    \"dropout\": 0.1,\n",
    "    \"d_ff\": 320,\n",
    "    \"layernorm_epsilon\": 1e-12,\n",
    "    \"n_seq\": n_seq,\n",
    "    \"n_vocab\": actual_vocab_size,\n",
    "    \"i_pad\": 0\n",
    "})\n",
    "\n",
    "# \"더 얕고 넓은 모델\"을 위한 설정 (2 layers, d_model=112)\n",
    "config_wide = Config({\n",
    "    \"d_model\": 112,\n",
    "    \"n_layer\": 2,\n",
    "    \"n_head\": 4,\n",
    "    \"d_head\": 28,\n",
    "    \"dropout\": 0.1,\n",
    "    \"d_ff\": 448,\n",
    "    \"layernorm_epsilon\": 1e-12,\n",
    "    \"n_seq\": n_seq,\n",
    "    \"n_vocab\": actual_vocab_size,\n",
    "    \"i_pad\": 0\n",
    "})\n",
    "\n",
    "# 모델 인스턴스 생성 및 파라미터 수 확인\n",
    "model_deep = PreTrainModel(config_deep)\n",
    "model_wide = PreTrainModel(config_wide)\n",
    "\n",
    "def count_parameters(model):\n",
    "    return sum(p.numel() for p in model.parameters() if p.requires_grad)\n",
    "\n",
    "print(f\"깊고 좁은 모델 파라미터 수: {count_parameters(model_deep):,}\")\n",
    "print(f\"얕고 넓은 모델 파라미터 수: {count_parameters(model_wide):,}\")"
   ]
  },
  {
   "cell_type": "markdown",
   "id": "b4fc9cb6-e524-467e-af8c-1f2a91292f9c",
   "metadata": {},
   "source": [
    "## 6. pretrain 진행\n",
    "- 코사인 러닝레이트 스케줄러(`CosineSchedule`)를 구현합니다.\n",
    "- 10 Epoch 동안 모델 학습을 진행하고, 매 에포크마다 NSP와 MLM의 loss 및 accuracy를 기록합니다.\n",
    "- 학습이 완료된 모델은 epoch별로 저장됩니다."
   ]
  },
  {
   "cell_type": "code",
   "execution_count": 18,
   "id": "9d54ab7b-320e-4956-87af-af455fbfa41f",
   "metadata": {},
   "outputs": [],
   "source": [
    "def train_model(config, model, model_name):\n",
    "    print(f\"\\\\n===== {model_name} 모델 학습 시작 ======\")\n",
    "    epochs = 10\n",
    "    batch_size = 64\n",
    "    model.to(device)\n",
    "    \n",
    "    train_dataset = TensorDataset(\n",
    "        torch.from_numpy(pre_train_inputs[0]), torch.from_numpy(pre_train_inputs[1]),\n",
    "        torch.from_numpy(pre_train_labels[0]), torch.from_numpy(pre_train_labels[1]))\n",
    "    train_dataloader = DataLoader(train_dataset, batch_size=batch_size, shuffle=True)\n",
    "\n",
    "    optimizer = optim.Adam(model.parameters(), lr=1e-4)\n",
    "    loss_fn_nsp = nn.CrossEntropyLoss()\n",
    "    loss_fn_mlm = nn.CrossEntropyLoss(ignore_index=config.i_pad)\n",
    "    \n",
    "    class CosineSchedule:\n",
    "        def __init__(self, optimizer, train_steps, warmup_steps, max_lr):\n",
    "            self.optimizer, self.train_steps, self.warmup_steps, self.max_lr = optimizer, train_steps, warmup_steps, max_lr\n",
    "            self.step_num = 0\n",
    "        def get_lr(self):\n",
    "            if self.step_num < self.warmup_steps: return self.max_lr * self.step_num / self.warmup_steps\n",
    "            else: \n",
    "                progress = (self.step_num - self.warmup_steps) / (self.train_steps - self.warmup_steps)\n",
    "                return self.max_lr * 0.5 * (1 + math.cos(math.pi * progress))\n",
    "        def step(self):\n",
    "            self.step_num += 1\n",
    "            lr = self.get_lr()\n",
    "            for param_group in self.optimizer.param_groups: param_group['lr'] = lr\n",
    "    \n",
    "    train_steps = len(train_dataloader) * epochs\n",
    "    warmup_steps = train_steps // 10\n",
    "    scheduler = CosineSchedule(optimizer, train_steps, warmup_steps, max_lr=1e-4)\n",
    "    \n",
    "    history = collections.defaultdict(list)\n",
    "    for epoch in range(epochs):\n",
    "        model.train()\n",
    "        total_loss, total_nsp_loss, total_mlm_loss = 0, 0, 0\n",
    "        total_nsp_correct, total_mlm_correct, total_nsp_count, total_mlm_count = 0, 0, 0, 0\n",
    "        \n",
    "        progress_bar = tqdm(train_dataloader, desc=f\"{model_name} Epoch {epoch+1}/{epochs}\")\n",
    "        for batch in progress_bar:\n",
    "            enc_tokens_b, segments_b, labels_nsp_b, labels_mlm_b = [b.to(device) for b in batch]\n",
    "            optimizer.zero_grad()\n",
    "            scheduler.step()\n",
    "            \n",
    "            logits_nsp, logits_mlm = model(enc_tokens_b, segments_b)\n",
    "            loss_nsp = loss_fn_nsp(logits_nsp, labels_nsp_b.long())\n",
    "            loss_mlm = loss_fn_mlm(logits_mlm.view(-1, config.n_vocab), labels_mlm_b.view(-1).long())\n",
    "            total_loss_batch = loss_nsp + loss_mlm\n",
    "            total_loss_batch.backward()\n",
    "            optimizer.step()\n",
    "            \n",
    "            total_loss += total_loss_batch.item()\n",
    "            total_nsp_loss += loss_nsp.item()  # NSP Loss 누적\n",
    "            total_mlm_loss += loss_mlm.item()  # MLM Loss 누적\n",
    "            \n",
    "            nsp_preds = logits_nsp.argmax(dim=-1)\n",
    "            total_nsp_correct += (nsp_preds == labels_nsp_b).sum().item()\n",
    "            total_nsp_count += labels_nsp_b.size(0)\n",
    "            \n",
    "            mlm_preds = logits_mlm.argmax(dim=-1)\n",
    "            mlm_mask = (labels_mlm_b != config.i_pad)\n",
    "            total_mlm_correct += ((mlm_preds == labels_mlm_b) & mlm_mask).sum().item()\n",
    "            total_mlm_count += mlm_mask.sum().item()\n",
    "\n",
    "            progress_bar.set_postfix({'loss': f'{total_loss / (progress_bar.n + 1):.4f}'})\n",
    "        \n",
    "        # 에포크별 평균 Loss와 Accuracy를 history에 저장\n",
    "        history['total_loss'].append(total_loss / len(train_dataloader))\n",
    "        history['nsp_loss'].append(total_nsp_loss / len(train_dataloader))\n",
    "        history['mlm_loss'].append(total_mlm_loss / len(train_dataloader))\n",
    "        history['nsp_acc'].append(total_nsp_correct / total_nsp_count)\n",
    "        history['mlm_acc'].append(total_mlm_correct / total_mlm_count)\n",
    "        \n",
    "    return history"
   ]
  },
  {
   "cell_type": "code",
   "execution_count": 19,
   "id": "5da9dd53-75c5-4bc0-b189-df3cba303188",
   "metadata": {},
   "outputs": [
    {
     "name": "stdout",
     "output_type": "stream",
     "text": [
      "\\n===== Deep & Narrow 모델 학습 시작 ======\n"
     ]
    },
    {
     "data": {
      "application/vnd.jupyter.widget-view+json": {
       "model_id": "9868ce6a95494b8c8c57a6f89e03a807",
       "version_major": 2,
       "version_minor": 0
      },
      "text/plain": [
       "Deep & Narrow Epoch 1/10:   0%|          | 0/2000 [00:00<?, ?it/s]"
      ]
     },
     "metadata": {},
     "output_type": "display_data"
    },
    {
     "data": {
      "application/vnd.jupyter.widget-view+json": {
       "model_id": "48ed2fa73bf143ab81b52a68ea1dbf1a",
       "version_major": 2,
       "version_minor": 0
      },
      "text/plain": [
       "Deep & Narrow Epoch 2/10:   0%|          | 0/2000 [00:00<?, ?it/s]"
      ]
     },
     "metadata": {},
     "output_type": "display_data"
    },
    {
     "data": {
      "application/vnd.jupyter.widget-view+json": {
       "model_id": "fb649be01cc94adcba214f44ad496396",
       "version_major": 2,
       "version_minor": 0
      },
      "text/plain": [
       "Deep & Narrow Epoch 3/10:   0%|          | 0/2000 [00:00<?, ?it/s]"
      ]
     },
     "metadata": {},
     "output_type": "display_data"
    },
    {
     "data": {
      "application/vnd.jupyter.widget-view+json": {
       "model_id": "466b412aa2b14d25b96a28a9da551db6",
       "version_major": 2,
       "version_minor": 0
      },
      "text/plain": [
       "Deep & Narrow Epoch 4/10:   0%|          | 0/2000 [00:00<?, ?it/s]"
      ]
     },
     "metadata": {},
     "output_type": "display_data"
    },
    {
     "data": {
      "application/vnd.jupyter.widget-view+json": {
       "model_id": "bd5d5bbaebb448dfbf1cacf7a04e0fb4",
       "version_major": 2,
       "version_minor": 0
      },
      "text/plain": [
       "Deep & Narrow Epoch 5/10:   0%|          | 0/2000 [00:00<?, ?it/s]"
      ]
     },
     "metadata": {},
     "output_type": "display_data"
    },
    {
     "data": {
      "application/vnd.jupyter.widget-view+json": {
       "model_id": "5a2a8da0b06540eca22ca2671a781063",
       "version_major": 2,
       "version_minor": 0
      },
      "text/plain": [
       "Deep & Narrow Epoch 6/10:   0%|          | 0/2000 [00:00<?, ?it/s]"
      ]
     },
     "metadata": {},
     "output_type": "display_data"
    },
    {
     "data": {
      "application/vnd.jupyter.widget-view+json": {
       "model_id": "9f60cb70aeb34a12aeaca4a4b9e58364",
       "version_major": 2,
       "version_minor": 0
      },
      "text/plain": [
       "Deep & Narrow Epoch 7/10:   0%|          | 0/2000 [00:00<?, ?it/s]"
      ]
     },
     "metadata": {},
     "output_type": "display_data"
    },
    {
     "data": {
      "application/vnd.jupyter.widget-view+json": {
       "model_id": "70a0b18775d34ea2b5a4fbb67e6abc59",
       "version_major": 2,
       "version_minor": 0
      },
      "text/plain": [
       "Deep & Narrow Epoch 8/10:   0%|          | 0/2000 [00:00<?, ?it/s]"
      ]
     },
     "metadata": {},
     "output_type": "display_data"
    },
    {
     "data": {
      "application/vnd.jupyter.widget-view+json": {
       "model_id": "6204067dd99c415d9abcf488deee581c",
       "version_major": 2,
       "version_minor": 0
      },
      "text/plain": [
       "Deep & Narrow Epoch 9/10:   0%|          | 0/2000 [00:00<?, ?it/s]"
      ]
     },
     "metadata": {},
     "output_type": "display_data"
    },
    {
     "data": {
      "application/vnd.jupyter.widget-view+json": {
       "model_id": "a7a2404f0ed5445d9b6960f1a458708b",
       "version_major": 2,
       "version_minor": 0
      },
      "text/plain": [
       "Deep & Narrow Epoch 10/10:   0%|          | 0/2000 [00:00<?, ?it/s]"
      ]
     },
     "metadata": {},
     "output_type": "display_data"
    },
    {
     "name": "stdout",
     "output_type": "stream",
     "text": [
      "\\n===== Shallow & Wide 모델 학습 시작 ======\n"
     ]
    },
    {
     "data": {
      "application/vnd.jupyter.widget-view+json": {
       "model_id": "d58f54f76b9d49de8ad112479c3d1c8b",
       "version_major": 2,
       "version_minor": 0
      },
      "text/plain": [
       "Shallow & Wide Epoch 1/10:   0%|          | 0/2000 [00:00<?, ?it/s]"
      ]
     },
     "metadata": {},
     "output_type": "display_data"
    },
    {
     "data": {
      "application/vnd.jupyter.widget-view+json": {
       "model_id": "6b3c31d919ac46dd969b8c4dcefd45c2",
       "version_major": 2,
       "version_minor": 0
      },
      "text/plain": [
       "Shallow & Wide Epoch 2/10:   0%|          | 0/2000 [00:00<?, ?it/s]"
      ]
     },
     "metadata": {},
     "output_type": "display_data"
    },
    {
     "data": {
      "application/vnd.jupyter.widget-view+json": {
       "model_id": "384e52743e724974826e6fb3068be898",
       "version_major": 2,
       "version_minor": 0
      },
      "text/plain": [
       "Shallow & Wide Epoch 3/10:   0%|          | 0/2000 [00:00<?, ?it/s]"
      ]
     },
     "metadata": {},
     "output_type": "display_data"
    },
    {
     "data": {
      "application/vnd.jupyter.widget-view+json": {
       "model_id": "a3c50ea2e3d846228be3682859bac290",
       "version_major": 2,
       "version_minor": 0
      },
      "text/plain": [
       "Shallow & Wide Epoch 4/10:   0%|          | 0/2000 [00:00<?, ?it/s]"
      ]
     },
     "metadata": {},
     "output_type": "display_data"
    },
    {
     "data": {
      "application/vnd.jupyter.widget-view+json": {
       "model_id": "1d8798b27ef94ee7bef7a73561e664ac",
       "version_major": 2,
       "version_minor": 0
      },
      "text/plain": [
       "Shallow & Wide Epoch 5/10:   0%|          | 0/2000 [00:00<?, ?it/s]"
      ]
     },
     "metadata": {},
     "output_type": "display_data"
    },
    {
     "data": {
      "application/vnd.jupyter.widget-view+json": {
       "model_id": "e68977aca7c54263a2a8a9a05692f2d9",
       "version_major": 2,
       "version_minor": 0
      },
      "text/plain": [
       "Shallow & Wide Epoch 6/10:   0%|          | 0/2000 [00:00<?, ?it/s]"
      ]
     },
     "metadata": {},
     "output_type": "display_data"
    },
    {
     "data": {
      "application/vnd.jupyter.widget-view+json": {
       "model_id": "d924cbcbfa9645ddbe9df89970f6f07a",
       "version_major": 2,
       "version_minor": 0
      },
      "text/plain": [
       "Shallow & Wide Epoch 7/10:   0%|          | 0/2000 [00:00<?, ?it/s]"
      ]
     },
     "metadata": {},
     "output_type": "display_data"
    },
    {
     "data": {
      "application/vnd.jupyter.widget-view+json": {
       "model_id": "f2c8fc7d009947d78ae143a6e7aeb420",
       "version_major": 2,
       "version_minor": 0
      },
      "text/plain": [
       "Shallow & Wide Epoch 8/10:   0%|          | 0/2000 [00:00<?, ?it/s]"
      ]
     },
     "metadata": {},
     "output_type": "display_data"
    },
    {
     "data": {
      "application/vnd.jupyter.widget-view+json": {
       "model_id": "d07056223a3d4f6e8759abd6037b2e23",
       "version_major": 2,
       "version_minor": 0
      },
      "text/plain": [
       "Shallow & Wide Epoch 9/10:   0%|          | 0/2000 [00:00<?, ?it/s]"
      ]
     },
     "metadata": {},
     "output_type": "display_data"
    },
    {
     "data": {
      "application/vnd.jupyter.widget-view+json": {
       "model_id": "338d472542dd4eafad478d75ca10e5e4",
       "version_major": 2,
       "version_minor": 0
      },
      "text/plain": [
       "Shallow & Wide Epoch 10/10:   0%|          | 0/2000 [00:00<?, ?it/s]"
      ]
     },
     "metadata": {},
     "output_type": "display_data"
    }
   ],
   "source": [
    "# 두 모델 학습 실행\n",
    "history_deep = train_model(config_deep, model_deep, \"Deep & Narrow\")\n",
    "history_wide = train_model(config_wide, model_wide, \"Shallow & Wide\")"
   ]
  },
  {
   "cell_type": "markdown",
   "id": "1dde519f-8903-4f2d-85bd-ea20953c079c",
   "metadata": {},
   "source": [
    "## 7. 프로젝트 결과\n",
    "- 10 Epoch 동안의 학습 결과를 시각화합니다.\n",
    "- NSP(Next Sentence Prediction)와 MLM(Masked Language Modeling) 각각의 Loss와 Accuracy가 어떻게 변화하는지 그래프로 확인합니다.\n",
    "- 모델이 작기 때문에 Loss가 불안정할 수 있지만, 전반적으로 수렴하는 경향을 보이는지 확인합니다."
   ]
  },
  {
   "cell_type": "code",
   "execution_count": 23,
   "id": "464e516b-4ecb-4403-8aaf-85f84cd10efc",
   "metadata": {
    "scrolled": true
   },
   "outputs": [
    {
     "data": {
      "image/png": "[encoded data removed]",
      "text/plain": [
       "<Figure size 1800x1200 with 4 Axes>"
      ]
     },
     "metadata": {},
     "output_type": "display_data"
    }
   ],
   "source": [
    "# 결과 시각화\n",
    "sns.set_style('darkgrid')\n",
    "fig, axes = plt.subplots(2, 2, figsize=(18, 12))\n",
    "fig.suptitle('Deep vs Wide Model', fontsize=16)\n",
    "\n",
    "# Total Loss 비교\n",
    "axes[0, 0].plot(history_deep['total_loss'], marker='o', linestyle='-', label='Deep & Narrow')\n",
    "axes[0, 0].plot(history_wide['total_loss'], marker='s', linestyle='--', label='Shallow & Wide')\n",
    "axes[0, 0].set_title('Total Loss Comparison')\n",
    "axes[0, 0].set_xlabel('Epoch')\n",
    "axes[0, 0].set_ylabel('Total Loss')\n",
    "axes[0, 0].legend()\n",
    "\n",
    "# NSP Loss 비교\n",
    "axes[0, 1].plot(history_deep['nsp_loss'], marker='o', linestyle='-', label='Deep & Narrow')\n",
    "axes[0, 1].plot(history_wide['nsp_loss'], marker='s', linestyle='--', label='Shallow & Wide')\n",
    "axes[0, 1].set_title('NSP Loss Comparison')\n",
    "axes[0, 1].set_xlabel('Epoch')\n",
    "axes[0, 1].set_ylabel('NSP Loss')\n",
    "axes[0, 1].legend()\n",
    "\n",
    "# MLM Loss 비교\n",
    "axes[1, 0].plot(history_deep['mlm_loss'], marker='o', linestyle='-', label='Deep & Narrow')\n",
    "axes[1, 0].plot(history_wide['mlm_loss'], marker='s', linestyle='--', label='Shallow & Wide')\n",
    "axes[1, 0].set_title('MLM Loss Comparison')\n",
    "axes[1, 0].set_xlabel('Epoch')\n",
    "axes[1, 0].set_ylabel('MLM Loss')\n",
    "axes[1, 0].legend()\n",
    "\n",
    "# MLM Accuracy 비교 (주요 성능 지표)\n",
    "axes[1, 1].plot(history_deep['mlm_acc'], marker='o', linestyle='-', label='Deep & Narrow')\n",
    "axes[1, 1].plot(history_wide['mlm_acc'], marker='s', linestyle='--', label='Shallow & Wide')\n",
    "axes[1, 1].set_title('MLM Accuracy Comparison')\n",
    "axes[1, 1].set_xlabel('Epoch')\n",
    "axes[1, 1].set_ylabel('MLM Accuracy')\n",
    "axes[1, 1].legend()\n",
    "\n",
    "# x축 눈금 통일\n",
    "for ax_row in axes:\n",
    "    for ax in ax_row:\n",
    "        ax.set_xticks(range(10))\n",
    "        ax.set_xticklabels(range(1, 11))\n",
    "\n",
    "plt.tight_layout(rect=[0, 0, 1, 0.96])\n",
    "plt.show()"
   ]
  }
 ],
 "metadata": {
  "kernelspec": {
   "display_name": "Python 3 (ipykernel)",
   "language": "python",
   "name": "python3"
  },
  "language_info": {
   "codemirror_mode": {
    "name": "ipython",
    "version": 3
   },
   "file_extension": ".py",
   "mimetype": "text/x-python",
   "name": "python",
   "nbconvert_exporter": "python",
   "pygments_lexer": "ipython3",
   "version": "3.12.11"
  }
 },
 "nbformat": 4,
 "nbformat_minor": 5
}
